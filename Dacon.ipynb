{
 "cells": [
  {
   "cell_type": "code",
   "execution_count": 1,
   "metadata": {},
   "outputs": [
    {
     "data": {
      "text/plain": [
       "True"
      ]
     },
     "execution_count": 1,
     "metadata": {},
     "output_type": "execute_result"
    }
   ],
   "source": [
    "#Library 예시\n",
    "\n",
    "import math\n",
    "import time\n",
    "from itertools import chain\n",
    "import argparse\n",
    "import numpy as np\n",
    "import pandas as pd\n",
    "import torch \n",
    "import torch.nn as nn\n",
    "import torch.nn.functional as F\n",
    "from torch.utils.data import Dataset, DataLoader\n",
    "from tqdm.auto import tqdm\n",
    "from torch.optim import Optimizer\n",
    "from torch.optim.lr_scheduler import LambdaLR\n",
    "# 모델 학습을 위해 CUDA 환경 설정. : 지피유 설정\n",
    "device = torch.device('cuda:0' if torch.cuda.is_available else 'cpu')\n",
    "#device=torch.device('cpu')\n",
    "torch.cuda.is_available()"
   ]
  },
  {
   "cell_type": "code",
   "execution_count": 24,
   "metadata": {},
   "outputs": [
    {
     "name": "stdout",
     "output_type": "stream",
     "text": [
      "(804000, 803)\n",
      "train file saved....\n"
     ]
    }
   ],
   "source": [
    "# 별도의 데이터 Pre-Processing 과정은 없고 모델 훈련시 검증을 위해 train 중 10000개를 validation 용으로 분리.\n",
    "# 새로 만든 train.csv는 train1.csv, validation은 val.csv로 저장.\n",
    "# dataframe.sample(frac=1) 을 통해 셔플.\n",
    "path_train = 'train_same_layer_level.csv'\n",
    "#path_test = 'test.csv'\n",
    "layers = [['layer_1(nm)','level(/1000)'], [str(i) for i in np.arange(0,801).tolist()]]\n",
    "layers = list(chain(*layers))\n",
    "\n",
    "train = pd.read_csv(path_train)\n",
    "print(train.shape)\n",
    "train = train.sample(frac=1)\n",
    "rows, cols = train.shape\n",
    "\n",
    "train1 = train.iloc[:rows - (int(0.1*len(train))),:]\n",
    "train1 = train1.values\n",
    "train1 = pd.DataFrame(data=train1,columns=layers)\n",
    "train1.to_csv('train1_same_layer_level.csv', index_label='id')\n",
    "\n",
    "print(\"train file saved....\")\n",
    "val = train.iloc[rows - (int(0.1*len(train))):,:]\n",
    "val = val.values\n",
    "val = pd.DataFrame(data=val,columns=layers)\n",
    "val.to_csv('val_same_layer_level.csv', index_label='id')"
   ]
  },
  {
   "cell_type": "code",
   "execution_count": 25,
   "metadata": {},
   "outputs": [],
   "source": [
    "# 새로 만든 train/ val 모델 학습 데이터 경로를 설정.\n",
    "train_path = 'train1_same_layer_level.csv'#레이어를 같게 두고 풀때\n",
    "val_path = 'val_same_layer_level.csv'\n",
    "\n",
    "lr = 1e-03\n",
    "adam_epsilon = 1e-06\n",
    "epochs = 100\n",
    "batch_size = 2048\n",
    "warmup_step = 2000\n",
    "#loss_fn = nn.L1Loss()\n",
    "loss_fn = nn.MSELoss()\n",
    "class PandasDataset(Dataset):\n",
    "    def __init__(self, path):\n",
    "        super(PandasDataset, self).__init__()\n",
    "        train = pd.read_csv(path).iloc[:,1:]\n",
    "        self.train_X, self.train_Y = train.iloc[:,2:], train.iloc[:,0:2]\n",
    "        self.tmp_x , self.tmp_y = self.train_X.values, self.train_Y.values\n",
    "    \n",
    "    def __len__(self):\n",
    "        return len(self.train_X)\n",
    "\n",
    "    def __getitem__(self, idx):\n",
    "        return {\n",
    "            'X':torch.from_numpy(self.tmp_x)[idx],\n",
    "            'Y':torch.from_numpy(self.tmp_y)[idx]\n",
    "        }\n",
    "            \n",
    "train_dataset = PandasDataset(train_path)\n",
    "train_loader = DataLoader(train_dataset, batch_size=batch_size,  num_workers=0)#card에 data size/batch size만큼 monunt\n",
    "\n",
    "val_dataset = PandasDataset(val_path)\n",
    "val_loader = DataLoader(val_dataset, batch_size=batch_size,  num_workers=0) "
   ]
  },
  {
   "cell_type": "code",
   "execution_count": 26,
   "metadata": {},
   "outputs": [
    {
     "name": "stdout",
     "output_type": "stream",
     "text": [
      "354\n"
     ]
    }
   ],
   "source": [
    "print(len(train_loader))"
   ]
  },
  {
   "cell_type": "code",
   "execution_count": 27,
   "metadata": {},
   "outputs": [
    {
     "data": {
      "text/plain": [
       "'\\n- Modeling\\n\\nLearning rate : 다양한 learning rate 스케줄링. Warmup 스케줄링이 train, val loss 줄이는데 가장 효과적.\\nActivation function : ReLU, ELU, CeLU, GeLU 사용. 음의 영역에서는 0의 값을 가지는 relu 대신 ELU, CeLU, GeLU등을 사용. relu보다는 효과적.\\nOptimizer : adam, adamW.\\nBatch size : batch size는 10000으로 시작하였으나 10000보다 작은 값에서 효과적.\\nHidden node, layer depth : node 수는 Nh = Ns/(a * (Ni + No))에 따라 초기 모델링에서는 약 2500개 정도로 하였으나 실험적으로 많은\\nnode가 train, val loss 줄이는데 효과적.\\n(Nh : number of hidden , Ni : Number of input, No : Number of output, a : 2 - 10)\\nLoss funciotion : L1 Loss\\nBatchNorm : 모든 layer에 batchNorm 적용\\nMLP Model : 단순한 MLP 모델로는 한계를 느껴 MLP의 복잡성을 증가시키는 방향으로 설계\\n        (1) 노드 수를 증가시켰다 줄이는 방식(UP-block, DOWN-block)\\n        (2) Down-block에서 skip connection과 layer norm 적용\\n'"
      ]
     },
     "execution_count": 27,
     "metadata": {},
     "output_type": "execute_result"
    }
   ],
   "source": [
    "# 4개의 layer_1, layer_2, layer_3, layer_4의 두께를 구하는 방법이라 마지막 Dense unit을 1로\n",
    "# 해서 각각의 두께를 구하는 모델을 구성해보았으나 결과는 좋지 않음.\n",
    "# 특별한 탐색적 자료 분석 없음.\n",
    "\"\"\"\n",
    "- Modeling\n",
    "\n",
    "Learning rate : 다양한 learning rate 스케줄링. Warmup 스케줄링이 train, val loss 줄이는데 가장 효과적.\n",
    "Activation function : ReLU, ELU, CeLU, GeLU 사용. 음의 영역에서는 0의 값을 가지는 relu 대신 ELU, CeLU, GeLU등을 사용. relu보다는 효과적.\n",
    "Optimizer : adam, adamW.\n",
    "Batch size : batch size는 10000으로 시작하였으나 10000보다 작은 값에서 효과적.\n",
    "Hidden node, layer depth : node 수는 Nh = Ns/(a * (Ni + No))에 따라 초기 모델링에서는 약 2500개 정도로 하였으나 실험적으로 많은\n",
    "node가 train, val loss 줄이는데 효과적.\n",
    "(Nh : number of hidden , Ni : Number of input, No : Number of output, a : 2 - 10)\n",
    "Loss funciotion : L1 Loss\n",
    "BatchNorm : 모든 layer에 batchNorm 적용\n",
    "MLP Model : 단순한 MLP 모델로는 한계를 느껴 MLP의 복잡성을 증가시키는 방향으로 설계\n",
    "        (1) 노드 수를 증가시켰다 줄이는 방식(UP-block, DOWN-block)\n",
    "        (2) Down-block에서 skip connection과 layer norm 적용\n",
    "\"\"\""
   ]
  },
  {
   "cell_type": "code",
   "execution_count": 28,
   "metadata": {},
   "outputs": [
    {
     "data": {
      "text/plain": [
       "L1Loss()"
      ]
     },
     "execution_count": 28,
     "metadata": {},
     "output_type": "execute_result"
    }
   ],
   "source": [
    "loss_fn=nn.L1Loss()\n",
    "loss_fn"
   ]
  },
  {
   "cell_type": "code",
   "execution_count": 29,
   "metadata": {},
   "outputs": [],
   "source": [
    "class GELU(nn.Module):\n",
    "    def forward(self, x):\n",
    "        return 0.5 * x * (1 + torch.tanh(math.sqrt(2 / math.pi) * (x + 0.044715 * torch.pow(x, 3))))\n",
    "class LayerNorm(nn.Module):\n",
    "    def __init__(self, hidden_size, eps=1e-5):\n",
    "        \"\"\"Construct a layernorm module in the TF style (epsilon inside the square root).\n",
    "        \"\"\"\n",
    "        super(LayerNorm, self).__init__()\n",
    "        self.weight = nn.Parameter(torch.ones(hidden_size))\n",
    "        self.bias = nn.Parameter(torch.zeros(hidden_size))\n",
    "        self.variance_epsilon = eps\n",
    "\n",
    "        self.init_weights()\n",
    "\n",
    "    def init_weights(self):\n",
    "        self.weight.data.fill_(1.0)\n",
    "        self.bias.data.zero_()\n",
    "\n",
    "    def forward(self, x):\n",
    "        u = x.mean(-1, keepdim=True)\n",
    "        s = (x - u).pow(2).mean(-1, keepdim=True)\n",
    "        x = (x - u) / torch.sqrt(s + self.variance_epsilon)\n",
    "        return self.weight * x + self.bias\n",
    "class skipConnectionModel(nn.Module):\n",
    "    def __init__(self):\n",
    "        super(skipConnectionModel, self).__init__()\n",
    "        \n",
    "        self.ln = LayerNorm(10000)\n",
    "        self.ln1 = LayerNorm(7000)\n",
    "        self.ln2 = LayerNorm(4000)\n",
    "        self.ln3 = LayerNorm(2000)\n",
    "        \n",
    "        self.upblock1 = nn.Sequential(nn.Linear(801, 2000),GELU(),nn.BatchNorm1d(2000))\n",
    "        self.upblock2 = nn.Sequential(nn.Linear(2000,4000),GELU(),nn.BatchNorm1d(4000))\n",
    "        self.upblock3 = nn.Sequential(nn.Linear(4000,7000), GELU(),nn.BatchNorm1d(7000))\n",
    "        self.upblock4 = nn.Sequential(nn.Linear(7000,10000),GELU(),nn.BatchNorm1d(10000))\n",
    "\n",
    "        self.downblock1 = nn.Sequential(nn.Linear(10000, 7000),GELU(),nn.BatchNorm1d(7000))\n",
    "        self.downblock2 = nn.Sequential(nn.Linear(7000, 4000),GELU(),nn.BatchNorm1d(4000))\n",
    "        self.downblock3 = nn.Sequential(nn.Linear(4000, 2000),GELU(),nn.BatchNorm1d(2000))\n",
    "        self.downblock4 = nn.Sequential(nn.Linear(2000, 300),GELU(),nn.BatchNorm1d(300))\n",
    "        \n",
    "        self.fclayer = nn.Sequential(nn.Linear(300,2))\n",
    "        self.dropout = nn.Dropout(0.1)\n",
    "        \n",
    "    def forward(self, x):\n",
    "        upblock1_out = self.upblock1(x)\n",
    "        upblock2_out = self.upblock2(upblock1_out)\n",
    "        upblock3_out = self.upblock3(upblock2_out)\n",
    "        upblock4_out = self.upblock4(upblock3_out)\n",
    "        \n",
    "        downblock1_out = self.downblock1(self.ln(upblock4_out))\n",
    "        skipblock1 = downblock1_out + upblock3_out\n",
    "        downblock2_out = self.downblock2(self.ln1(skipblock1))\n",
    "        skipblock2 = downblock2_out + upblock2_out\n",
    "        downblock3_out = self.downblock3(self.ln2(skipblock2))\n",
    "        skipblock3 = downblock3_out + upblock1_out\n",
    "        downblock4_out = self.downblock4(self.ln3(skipblock3))\n",
    "        \n",
    "        output = self.fclayer(downblock4_out)\n",
    "        \n",
    "        return output\n",
    "    \n",
    "def get_constant_schedule(optimizer, last_epoch=-1):\n",
    "    \"\"\" Create a schedule with a constant learning rate.\n",
    "    \"\"\"\n",
    "    return LambdaLR(optimizer, lambda _: 1, last_epoch=last_epoch)\n",
    "\n",
    "\n",
    "def get_constant_schedule_with_warmup(optimizer, num_warmup_steps, last_epoch=-1):\n",
    "    \"\"\" Create a schedule with a constant learning rate preceded by a warmup\n",
    "    period during which the learning rate increases linearly between 0 and 1.\n",
    "    \"\"\"\n",
    "\n",
    "    def lr_lambda(current_step):\n",
    "        if current_step < num_warmup_steps:\n",
    "            return float(current_step) / float(max(1.0, num_warmup_steps))\n",
    "        return 1.0\n",
    "\n",
    "    return LambdaLR(optimizer, lr_lambda, last_epoch=last_epoch)\n",
    "\n",
    "\n",
    "def get_linear_schedule_with_warmup(optimizer, num_warmup_steps, num_training_steps, last_epoch=-1):\n",
    "    \"\"\" Create a schedule with a learning rate that decreases linearly after\n",
    "    linearly increasing during a warmup period.\n",
    "    \"\"\"\n",
    "\n",
    "    def lr_lambda(current_step):\n",
    "        if current_step < num_warmup_steps:\n",
    "            return float(current_step) / float(max(1, num_warmup_steps))\n",
    "        return max(\n",
    "            0.0, float(num_training_steps - current_step) / float(max(1, num_training_steps - num_warmup_steps))\n",
    "        )\n",
    "\n",
    "    return LambdaLR(optimizer, lr_lambda, last_epoch)\n",
    "\n",
    "\n",
    "def get_cosine_schedule_with_warmup(optimizer, num_warmup_steps, num_training_steps, num_cycles=0.5, last_epoch=-1):\n",
    "    \"\"\" Create a schedule with a learning rate that decreases following the\n",
    "    values of the cosine function between 0 and `pi * cycles` after a warmup\n",
    "    period during which it increases linearly between 0 and 1.\n",
    "    \"\"\"\n",
    "\n",
    "    def lr_lambda(current_step):\n",
    "        if current_step < num_warmup_steps:\n",
    "            return float(current_step) / float(max(1, num_warmup_steps))\n",
    "        progress = float(current_step - num_warmup_steps) / float(max(1, num_training_steps - num_warmup_steps))\n",
    "        return max(0.0, 0.5 * (1.0 + math.cos(math.pi * float(num_cycles) * 2.0 * progress)))\n",
    "\n",
    "    return LambdaLR(optimizer, lr_lambda, last_epoch)\n",
    "\n",
    "\n",
    "def get_cosine_with_hard_restarts_schedule_with_warmup(\n",
    "    optimizer, num_warmup_steps, num_training_steps, num_cycles=1.0, last_epoch=-1\n",
    "):\n",
    "    \"\"\" Create a schedule with a learning rate that decreases following the\n",
    "    values of the cosine function with several hard restarts, after a warmup\n",
    "    period during which it increases linearly between 0 and 1.\n",
    "    \"\"\"\n",
    "\n",
    "    def lr_lambda(current_step):\n",
    "        if current_step < num_warmup_steps:\n",
    "            return float(current_step) / float(max(1, num_warmup_steps))\n",
    "        progress = float(current_step - num_warmup_steps) / float(max(1, num_training_steps - num_warmup_steps))\n",
    "        if progress >= 1.0:\n",
    "            return 0.0\n",
    "        return max(0.0, 0.5 * (1.0 + math.cos(math.pi * ((float(num_cycles) * progress) % 1.0))))\n",
    "\n",
    "    return LambdaLR(optimizer, lr_lambda, last_epoch)\n",
    "class AdamW(Optimizer):\n",
    "    \"\"\" Implements Adam algorithm with weight decay fix.\n",
    "    Parameters:\n",
    "        lr (float): learning rate. Default 1e-3.\n",
    "        betas (tuple of 2 floats): Adams beta parameters (b1, b2). Default: (0.9, 0.999)\n",
    "        eps (float): Adams epsilon. Default: 1e-6\n",
    "        weight_decay (float): Weight decay. Default: 0.0\n",
    "        correct_bias (bool): can be set to False to avoid correcting bias in Adam (e.g. like in Bert TF repository). Default True.\n",
    "    \"\"\"\n",
    "\n",
    "    def __init__(self, params, lr=1e-3, betas=(0.9, 0.999), eps=1e-6, weight_decay=0.0, correct_bias=True):\n",
    "        if lr < 0.0:\n",
    "            raise ValueError(\"Invalid learning rate: {} - should be >= 0.0\".format(lr))\n",
    "        if not 0.0 <= betas[0] < 1.0:\n",
    "            raise ValueError(\"Invalid beta parameter: {} - should be in [0.0, 1.0[\".format(betas[0]))\n",
    "        if not 0.0 <= betas[1] < 1.0:\n",
    "            raise ValueError(\"Invalid beta parameter: {} - should be in [0.0, 1.0[\".format(betas[1]))\n",
    "        if not 0.0 <= eps:\n",
    "            raise ValueError(\"Invalid epsilon value: {} - should be >= 0.0\".format(eps))\n",
    "        defaults = dict(lr=lr, betas=betas, eps=eps, weight_decay=weight_decay, correct_bias=correct_bias)\n",
    "        super().__init__(params, defaults)\n",
    "\n",
    "    def step(self, closure=None):\n",
    "        \"\"\"Performs a single optimization step.\n",
    "        Arguments:\n",
    "            closure (callable, optional): A closure that reevaluates the model\n",
    "                and returns the loss.\n",
    "        \"\"\"\n",
    "        loss = None\n",
    "        if closure is not None:\n",
    "            loss = closure()\n",
    "\n",
    "        for group in self.param_groups:\n",
    "            for p in group[\"params\"]:\n",
    "                if p.grad is None:\n",
    "                    continue\n",
    "                grad = p.grad.data\n",
    "                if grad.is_sparse:\n",
    "                    raise RuntimeError(\"Adam does not support sparse gradients, please consider SparseAdam instead\")\n",
    "\n",
    "                state = self.state[p]\n",
    "\n",
    "                # State initialization\n",
    "                if len(state) == 0:\n",
    "                    state[\"step\"] = 0\n",
    "                    # Exponential moving average of gradient values\n",
    "                    state[\"exp_avg\"] = torch.zeros_like(p.data)\n",
    "                    # Exponential moving average of squared gradient values\n",
    "                    state[\"exp_avg_sq\"] = torch.zeros_like(p.data)\n",
    "\n",
    "                exp_avg, exp_avg_sq = state[\"exp_avg\"], state[\"exp_avg_sq\"]\n",
    "                beta1, beta2 = group[\"betas\"]\n",
    "\n",
    "                state[\"step\"] += 1\n",
    "\n",
    "                # Decay the first and second moment running average coefficient\n",
    "                # In-place operations to update the averages at the same time\n",
    "                exp_avg.mul_(beta1).add_(1.0 - beta1, grad)\n",
    "                exp_avg_sq.mul_(beta2).addcmul_(1.0 - beta2, grad, grad)\n",
    "                denom = exp_avg_sq.sqrt().add_(group[\"eps\"])\n",
    "\n",
    "                step_size = group[\"lr\"]\n",
    "                if group[\"correct_bias\"]:  # No bias correction for Bert\n",
    "                    bias_correction1 = 1.0 - beta1 ** state[\"step\"]\n",
    "                    bias_correction2 = 1.0 - beta2 ** state[\"step\"]\n",
    "                    step_size = step_size * math.sqrt(bias_correction2) / bias_correction1\n",
    "\n",
    "                p.data.addcdiv_(-step_size, exp_avg, denom)\n",
    "\n",
    "                # Just adding the square of the weights to the loss function is *not*\n",
    "                # the correct way of using L2 regularization/weight decay with Adam,\n",
    "                # since that will interact with the m and v parameters in strange ways.\n",
    "                #\n",
    "                # Instead we want to decay the weights in a manner that doesn't interact\n",
    "                # with the m/v parameters. This is equivalent to adding the square\n",
    "                # of the weights to the loss with plain (non-momentum) SGD.\n",
    "                # Add weight decay at the end (fixed version)\n",
    "                if group[\"weight_decay\"] > 0.0:\n",
    "                    p.data.add_(-group[\"lr\"] * group[\"weight_decay\"], p.data)\n",
    "\n",
    "        return loss    "
   ]
  },
  {
   "cell_type": "code",
   "execution_count": 30,
   "metadata": {},
   "outputs": [],
   "source": [
    "model = skipConnectionModel()\n",
    "model = model.to(device) # 모델을 GPU 메모리에 올림."
   ]
  },
  {
   "cell_type": "code",
   "execution_count": 31,
   "metadata": {},
   "outputs": [
    {
     "name": "stdout",
     "output_type": "stream",
     "text": [
      "Total step is....35400\n"
     ]
    },
    {
     "data": {
      "application/vnd.jupyter.widget-view+json": {
       "model_id": "5ad7298cedba4238be071b0d85495cf5",
       "version_major": 2,
       "version_minor": 0
      },
      "text/plain": [
       "HBox(children=(FloatProgress(value=0.0, description='*********Train mode*******', max=354.0, style=ProgressSty…"
      ]
     },
     "metadata": {},
     "output_type": "display_data"
    },
    {
     "name": "stdout",
     "output_type": "stream",
     "text": [
      "\n",
      "Epoch [1/100], Train Loss: 100.1087\n",
      "Train Time:  119.14871072769165\n"
     ]
    },
    {
     "data": {
      "application/vnd.jupyter.widget-view+json": {
       "model_id": "7364170b96734cba903128f9ae0bf49d",
       "version_major": 2,
       "version_minor": 0
      },
      "text/plain": [
       "HBox(children=(FloatProgress(value=0.0, description='*********Evaluation mode*******', max=40.0, style=Progres…"
      ]
     },
     "metadata": {},
     "output_type": "display_data"
    },
    {
     "name": "stdout",
     "output_type": "stream",
     "text": [
      "\n",
      "Epoch [1/100], Eval Loss: 99.5083\n",
      "Best Model saved......\n"
     ]
    },
    {
     "data": {
      "application/vnd.jupyter.widget-view+json": {
       "model_id": "8aaac91b23d741eeb9d8a9097461dd76",
       "version_major": 2,
       "version_minor": 0
      },
      "text/plain": [
       "HBox(children=(FloatProgress(value=0.0, description='*********Train mode*******', max=354.0, style=ProgressSty…"
      ]
     },
     "metadata": {},
     "output_type": "display_data"
    },
    {
     "name": "stdout",
     "output_type": "stream",
     "text": [
      "\n",
      "Epoch [2/100], Train Loss: 9.7983\n",
      "Train Time:  256.80396914482117\n"
     ]
    },
    {
     "data": {
      "application/vnd.jupyter.widget-view+json": {
       "model_id": "3956b074c7984d27a9bd50118bdd317d",
       "version_major": 2,
       "version_minor": 0
      },
      "text/plain": [
       "HBox(children=(FloatProgress(value=0.0, description='*********Evaluation mode*******', max=40.0, style=Progres…"
      ]
     },
     "metadata": {},
     "output_type": "display_data"
    },
    {
     "name": "stdout",
     "output_type": "stream",
     "text": [
      "\n",
      "Epoch [2/100], Eval Loss: 3.1508\n",
      "Best Model saved......\n"
     ]
    },
    {
     "data": {
      "application/vnd.jupyter.widget-view+json": {
       "model_id": "64f14089f4074b93a180072545467776",
       "version_major": 2,
       "version_minor": 0
      },
      "text/plain": [
       "HBox(children=(FloatProgress(value=0.0, description='*********Train mode*******', max=354.0, style=ProgressSty…"
      ]
     },
     "metadata": {},
     "output_type": "display_data"
    },
    {
     "name": "stdout",
     "output_type": "stream",
     "text": [
      "\n",
      "Epoch [3/100], Train Loss: 3.1564\n",
      "Train Time:  396.18630719184875\n"
     ]
    },
    {
     "data": {
      "application/vnd.jupyter.widget-view+json": {
       "model_id": "f34b79a5712a476990a3a5fc1c6e6462",
       "version_major": 2,
       "version_minor": 0
      },
      "text/plain": [
       "HBox(children=(FloatProgress(value=0.0, description='*********Evaluation mode*******', max=40.0, style=Progres…"
      ]
     },
     "metadata": {},
     "output_type": "display_data"
    },
    {
     "name": "stdout",
     "output_type": "stream",
     "text": [
      "\n",
      "Epoch [3/100], Eval Loss: 1.9354\n",
      "Best Model saved......\n"
     ]
    },
    {
     "data": {
      "application/vnd.jupyter.widget-view+json": {
       "model_id": "64369c45a9fe434db0e7ba74163ce45b",
       "version_major": 2,
       "version_minor": 0
      },
      "text/plain": [
       "HBox(children=(FloatProgress(value=0.0, description='*********Train mode*******', max=354.0, style=ProgressSty…"
      ]
     },
     "metadata": {},
     "output_type": "display_data"
    },
    {
     "name": "stdout",
     "output_type": "stream",
     "text": [
      "\n",
      "Epoch [4/100], Train Loss: 3.0485\n",
      "Train Time:  533.3667459487915\n"
     ]
    },
    {
     "data": {
      "application/vnd.jupyter.widget-view+json": {
       "model_id": "30471a0177b24a989b1c70bb071bf038",
       "version_major": 2,
       "version_minor": 0
      },
      "text/plain": [
       "HBox(children=(FloatProgress(value=0.0, description='*********Evaluation mode*******', max=40.0, style=Progres…"
      ]
     },
     "metadata": {},
     "output_type": "display_data"
    },
    {
     "name": "stdout",
     "output_type": "stream",
     "text": [
      "\n",
      "Epoch [4/100], Eval Loss: 3.2773\n"
     ]
    },
    {
     "data": {
      "application/vnd.jupyter.widget-view+json": {
       "model_id": "bb67fdccfde04d0ca5fd35b73eec6ce8",
       "version_major": 2,
       "version_minor": 0
      },
      "text/plain": [
       "HBox(children=(FloatProgress(value=0.0, description='*********Train mode*******', max=354.0, style=ProgressSty…"
      ]
     },
     "metadata": {},
     "output_type": "display_data"
    },
    {
     "name": "stdout",
     "output_type": "stream",
     "text": [
      "\n",
      "Epoch [5/100], Train Loss: 2.8256\n",
      "Train Time:  661.6729280948639\n"
     ]
    },
    {
     "data": {
      "application/vnd.jupyter.widget-view+json": {
       "model_id": "3b125df9352e41dc944f4c0e5807f1da",
       "version_major": 2,
       "version_minor": 0
      },
      "text/plain": [
       "HBox(children=(FloatProgress(value=0.0, description='*********Evaluation mode*******', max=40.0, style=Progres…"
      ]
     },
     "metadata": {},
     "output_type": "display_data"
    },
    {
     "name": "stdout",
     "output_type": "stream",
     "text": [
      "\n",
      "Epoch [5/100], Eval Loss: 3.7145\n"
     ]
    },
    {
     "data": {
      "application/vnd.jupyter.widget-view+json": {
       "model_id": "99f0979a772949bbbf8bfeb198afbfe1",
       "version_major": 2,
       "version_minor": 0
      },
      "text/plain": [
       "HBox(children=(FloatProgress(value=0.0, description='*********Train mode*******', max=354.0, style=ProgressSty…"
      ]
     },
     "metadata": {},
     "output_type": "display_data"
    },
    {
     "name": "stdout",
     "output_type": "stream",
     "text": [
      "\n",
      "Epoch [6/100], Train Loss: 2.8476\n",
      "Train Time:  789.7610502243042\n"
     ]
    },
    {
     "data": {
      "application/vnd.jupyter.widget-view+json": {
       "model_id": "57e6fb3b8d474824bbe8d140c28309c0",
       "version_major": 2,
       "version_minor": 0
      },
      "text/plain": [
       "HBox(children=(FloatProgress(value=0.0, description='*********Evaluation mode*******', max=40.0, style=Progres…"
      ]
     },
     "metadata": {},
     "output_type": "display_data"
    },
    {
     "name": "stdout",
     "output_type": "stream",
     "text": [
      "\n",
      "Epoch [6/100], Eval Loss: 2.2165\n"
     ]
    },
    {
     "data": {
      "application/vnd.jupyter.widget-view+json": {
       "model_id": "46222697a1164531b5f4453870e00139",
       "version_major": 2,
       "version_minor": 0
      },
      "text/plain": [
       "HBox(children=(FloatProgress(value=0.0, description='*********Train mode*******', max=354.0, style=ProgressSty…"
      ]
     },
     "metadata": {},
     "output_type": "display_data"
    },
    {
     "name": "stdout",
     "output_type": "stream",
     "text": [
      "\n",
      "Epoch [7/100], Train Loss: 5.3412\n",
      "Train Time:  917.454735994339\n"
     ]
    },
    {
     "data": {
      "application/vnd.jupyter.widget-view+json": {
       "model_id": "fd650f45485e469d89358eaa62e9e706",
       "version_major": 2,
       "version_minor": 0
      },
      "text/plain": [
       "HBox(children=(FloatProgress(value=0.0, description='*********Evaluation mode*******', max=40.0, style=Progres…"
      ]
     },
     "metadata": {},
     "output_type": "display_data"
    },
    {
     "name": "stdout",
     "output_type": "stream",
     "text": [
      "\n",
      "Epoch [7/100], Eval Loss: 1.6435\n",
      "Best Model saved......\n"
     ]
    },
    {
     "data": {
      "application/vnd.jupyter.widget-view+json": {
       "model_id": "012305eb9a664a15b3935ebdf6b15742",
       "version_major": 2,
       "version_minor": 0
      },
      "text/plain": [
       "HBox(children=(FloatProgress(value=0.0, description='*********Train mode*******', max=354.0, style=ProgressSty…"
      ]
     },
     "metadata": {},
     "output_type": "display_data"
    },
    {
     "name": "stdout",
     "output_type": "stream",
     "text": [
      "\n",
      "Epoch [8/100], Train Loss: 2.5372\n",
      "Train Time:  1054.3541462421417\n"
     ]
    },
    {
     "data": {
      "application/vnd.jupyter.widget-view+json": {
       "model_id": "2797824fd4284538af07861ee2ab5bde",
       "version_major": 2,
       "version_minor": 0
      },
      "text/plain": [
       "HBox(children=(FloatProgress(value=0.0, description='*********Evaluation mode*******', max=40.0, style=Progres…"
      ]
     },
     "metadata": {},
     "output_type": "display_data"
    },
    {
     "name": "stdout",
     "output_type": "stream",
     "text": [
      "\n",
      "Epoch [8/100], Eval Loss: 2.3881\n"
     ]
    },
    {
     "data": {
      "application/vnd.jupyter.widget-view+json": {
       "model_id": "44bec328db9747c19a06657e26323ff6",
       "version_major": 2,
       "version_minor": 0
      },
      "text/plain": [
       "HBox(children=(FloatProgress(value=0.0, description='*********Train mode*******', max=354.0, style=ProgressSty…"
      ]
     },
     "metadata": {},
     "output_type": "display_data"
    },
    {
     "name": "stdout",
     "output_type": "stream",
     "text": [
      "\n",
      "Epoch [9/100], Train Loss: 2.3077\n",
      "Train Time:  1182.669177532196\n"
     ]
    },
    {
     "data": {
      "application/vnd.jupyter.widget-view+json": {
       "model_id": "a707e47befc748299d6eecec840e14fa",
       "version_major": 2,
       "version_minor": 0
      },
      "text/plain": [
       "HBox(children=(FloatProgress(value=0.0, description='*********Evaluation mode*******', max=40.0, style=Progres…"
      ]
     },
     "metadata": {},
     "output_type": "display_data"
    },
    {
     "name": "stdout",
     "output_type": "stream",
     "text": [
      "\n",
      "Epoch [9/100], Eval Loss: 2.6553\n"
     ]
    },
    {
     "data": {
      "application/vnd.jupyter.widget-view+json": {
       "model_id": "2fe1eeec69814473bb94a66acae8c3c2",
       "version_major": 2,
       "version_minor": 0
      },
      "text/plain": [
       "HBox(children=(FloatProgress(value=0.0, description='*********Train mode*******', max=354.0, style=ProgressSty…"
      ]
     },
     "metadata": {},
     "output_type": "display_data"
    },
    {
     "name": "stdout",
     "output_type": "stream",
     "text": [
      "\n",
      "Epoch [10/100], Train Loss: 1.9863\n",
      "Train Time:  1310.5215480327606\n"
     ]
    },
    {
     "data": {
      "application/vnd.jupyter.widget-view+json": {
       "model_id": "194b55a0a85f4b0cbf6837e6f49df89d",
       "version_major": 2,
       "version_minor": 0
      },
      "text/plain": [
       "HBox(children=(FloatProgress(value=0.0, description='*********Evaluation mode*******', max=40.0, style=Progres…"
      ]
     },
     "metadata": {},
     "output_type": "display_data"
    },
    {
     "name": "stdout",
     "output_type": "stream",
     "text": [
      "\n",
      "Epoch [10/100], Eval Loss: 2.2142\n"
     ]
    },
    {
     "data": {
      "application/vnd.jupyter.widget-view+json": {
       "model_id": "34c490f72cb34f5c8a33bec75ffe82a1",
       "version_major": 2,
       "version_minor": 0
      },
      "text/plain": [
       "HBox(children=(FloatProgress(value=0.0, description='*********Train mode*******', max=354.0, style=ProgressSty…"
      ]
     },
     "metadata": {},
     "output_type": "display_data"
    },
    {
     "name": "stdout",
     "output_type": "stream",
     "text": [
      "\n",
      "Epoch [11/100], Train Loss: 2.1296\n",
      "Train Time:  1438.4587655067444\n"
     ]
    },
    {
     "data": {
      "application/vnd.jupyter.widget-view+json": {
       "model_id": "08374d275b7745b4b30cec3af43ca1ff",
       "version_major": 2,
       "version_minor": 0
      },
      "text/plain": [
       "HBox(children=(FloatProgress(value=0.0, description='*********Evaluation mode*******', max=40.0, style=Progres…"
      ]
     },
     "metadata": {},
     "output_type": "display_data"
    },
    {
     "name": "stdout",
     "output_type": "stream",
     "text": [
      "\n",
      "Epoch [11/100], Eval Loss: 2.2922\n"
     ]
    },
    {
     "data": {
      "application/vnd.jupyter.widget-view+json": {
       "model_id": "967eb48941fe4bd58c49b52c5c9969b2",
       "version_major": 2,
       "version_minor": 0
      },
      "text/plain": [
       "HBox(children=(FloatProgress(value=0.0, description='*********Train mode*******', max=354.0, style=ProgressSty…"
      ]
     },
     "metadata": {},
     "output_type": "display_data"
    },
    {
     "name": "stdout",
     "output_type": "stream",
     "text": [
      "\n",
      "Epoch [12/100], Train Loss: 1.8781\n",
      "Train Time:  1566.568279504776\n"
     ]
    },
    {
     "data": {
      "application/vnd.jupyter.widget-view+json": {
       "model_id": "7e9aa8403ede40b5af00bb57de4e235c",
       "version_major": 2,
       "version_minor": 0
      },
      "text/plain": [
       "HBox(children=(FloatProgress(value=0.0, description='*********Evaluation mode*******', max=40.0, style=Progres…"
      ]
     },
     "metadata": {},
     "output_type": "display_data"
    },
    {
     "name": "stdout",
     "output_type": "stream",
     "text": [
      "\n",
      "Epoch [12/100], Eval Loss: 1.5360\n",
      "Best Model saved......\n"
     ]
    },
    {
     "data": {
      "application/vnd.jupyter.widget-view+json": {
       "model_id": "0378447dba164e30a3fa56cd34c7ae5c",
       "version_major": 2,
       "version_minor": 0
      },
      "text/plain": [
       "HBox(children=(FloatProgress(value=0.0, description='*********Train mode*******', max=354.0, style=ProgressSty…"
      ]
     },
     "metadata": {},
     "output_type": "display_data"
    },
    {
     "name": "stdout",
     "output_type": "stream",
     "text": [
      "\n",
      "Epoch [13/100], Train Loss: 1.8340\n",
      "Train Time:  1700.9757573604584\n"
     ]
    },
    {
     "data": {
      "application/vnd.jupyter.widget-view+json": {
       "model_id": "84011d7a282d40c9b0608e2872e762cc",
       "version_major": 2,
       "version_minor": 0
      },
      "text/plain": [
       "HBox(children=(FloatProgress(value=0.0, description='*********Evaluation mode*******', max=40.0, style=Progres…"
      ]
     },
     "metadata": {},
     "output_type": "display_data"
    },
    {
     "name": "stdout",
     "output_type": "stream",
     "text": [
      "\n",
      "Epoch [13/100], Eval Loss: 2.4953\n"
     ]
    },
    {
     "data": {
      "application/vnd.jupyter.widget-view+json": {
       "model_id": "8e3038182e5c4cc5b3dc6df64fe45898",
       "version_major": 2,
       "version_minor": 0
      },
      "text/plain": [
       "HBox(children=(FloatProgress(value=0.0, description='*********Train mode*******', max=354.0, style=ProgressSty…"
      ]
     },
     "metadata": {},
     "output_type": "display_data"
    },
    {
     "name": "stdout",
     "output_type": "stream",
     "text": [
      "\n",
      "Epoch [14/100], Train Loss: 1.8767\n",
      "Train Time:  1828.9178795814514\n"
     ]
    },
    {
     "data": {
      "application/vnd.jupyter.widget-view+json": {
       "model_id": "d96d9528dc68485c9b4951919a9f988e",
       "version_major": 2,
       "version_minor": 0
      },
      "text/plain": [
       "HBox(children=(FloatProgress(value=0.0, description='*********Evaluation mode*******', max=40.0, style=Progres…"
      ]
     },
     "metadata": {},
     "output_type": "display_data"
    },
    {
     "name": "stdout",
     "output_type": "stream",
     "text": [
      "\n",
      "Epoch [14/100], Eval Loss: 1.4102\n",
      "Best Model saved......\n"
     ]
    },
    {
     "data": {
      "application/vnd.jupyter.widget-view+json": {
       "model_id": "0cd1c1f458794e02a7b94aea9eb82050",
       "version_major": 2,
       "version_minor": 0
      },
      "text/plain": [
       "HBox(children=(FloatProgress(value=0.0, description='*********Train mode*******', max=354.0, style=ProgressSty…"
      ]
     },
     "metadata": {},
     "output_type": "display_data"
    },
    {
     "name": "stdout",
     "output_type": "stream",
     "text": [
      "\n",
      "Epoch [15/100], Train Loss: 1.7622\n",
      "Train Time:  1963.3247821331024\n"
     ]
    },
    {
     "data": {
      "application/vnd.jupyter.widget-view+json": {
       "model_id": "963b409cee444c8d98b7909134ac9fd0",
       "version_major": 2,
       "version_minor": 0
      },
      "text/plain": [
       "HBox(children=(FloatProgress(value=0.0, description='*********Evaluation mode*******', max=40.0, style=Progres…"
      ]
     },
     "metadata": {},
     "output_type": "display_data"
    },
    {
     "name": "stdout",
     "output_type": "stream",
     "text": [
      "\n",
      "Epoch [15/100], Eval Loss: 0.7407\n",
      "Best Model saved......\n"
     ]
    },
    {
     "data": {
      "application/vnd.jupyter.widget-view+json": {
       "model_id": "892570ff19194c0495cd2323743a3aa6",
       "version_major": 2,
       "version_minor": 0
      },
      "text/plain": [
       "HBox(children=(FloatProgress(value=0.0, description='*********Train mode*******', max=354.0, style=ProgressSty…"
      ]
     },
     "metadata": {},
     "output_type": "display_data"
    },
    {
     "name": "stdout",
     "output_type": "stream",
     "text": [
      "\n",
      "Epoch [16/100], Train Loss: 1.6766\n",
      "Train Time:  2097.237014770508\n"
     ]
    },
    {
     "data": {
      "application/vnd.jupyter.widget-view+json": {
       "model_id": "5d64ab9a8da1460ab4595abd635c0059",
       "version_major": 2,
       "version_minor": 0
      },
      "text/plain": [
       "HBox(children=(FloatProgress(value=0.0, description='*********Evaluation mode*******', max=40.0, style=Progres…"
      ]
     },
     "metadata": {},
     "output_type": "display_data"
    },
    {
     "name": "stdout",
     "output_type": "stream",
     "text": [
      "\n",
      "Epoch [16/100], Eval Loss: 2.1629\n"
     ]
    },
    {
     "data": {
      "application/vnd.jupyter.widget-view+json": {
       "model_id": "2c514a3f28674b80b42a020f68b6fc65",
       "version_major": 2,
       "version_minor": 0
      },
      "text/plain": [
       "HBox(children=(FloatProgress(value=0.0, description='*********Train mode*******', max=354.0, style=ProgressSty…"
      ]
     },
     "metadata": {},
     "output_type": "display_data"
    },
    {
     "name": "stdout",
     "output_type": "stream",
     "text": [
      "\n",
      "Epoch [17/100], Train Loss: 1.4800\n",
      "Train Time:  2225.16841673851\n"
     ]
    },
    {
     "data": {
      "application/vnd.jupyter.widget-view+json": {
       "model_id": "75370b244f174a55b141efa4668f8c1c",
       "version_major": 2,
       "version_minor": 0
      },
      "text/plain": [
       "HBox(children=(FloatProgress(value=0.0, description='*********Evaluation mode*******', max=40.0, style=Progres…"
      ]
     },
     "metadata": {},
     "output_type": "display_data"
    },
    {
     "name": "stdout",
     "output_type": "stream",
     "text": [
      "\n",
      "Epoch [17/100], Eval Loss: 1.4287\n"
     ]
    },
    {
     "data": {
      "application/vnd.jupyter.widget-view+json": {
       "model_id": "2c5f4081796842429d45d538f9cdc3e1",
       "version_major": 2,
       "version_minor": 0
      },
      "text/plain": [
       "HBox(children=(FloatProgress(value=0.0, description='*********Train mode*******', max=354.0, style=ProgressSty…"
      ]
     },
     "metadata": {},
     "output_type": "display_data"
    },
    {
     "name": "stdout",
     "output_type": "stream",
     "text": [
      "\n",
      "Epoch [18/100], Train Loss: 1.5187\n",
      "Train Time:  2353.5235409736633\n"
     ]
    },
    {
     "data": {
      "application/vnd.jupyter.widget-view+json": {
       "model_id": "2f75e1ffdb9d4ae49126a13e1ef1a805",
       "version_major": 2,
       "version_minor": 0
      },
      "text/plain": [
       "HBox(children=(FloatProgress(value=0.0, description='*********Evaluation mode*******', max=40.0, style=Progres…"
      ]
     },
     "metadata": {},
     "output_type": "display_data"
    },
    {
     "name": "stdout",
     "output_type": "stream",
     "text": [
      "\n",
      "Epoch [18/100], Eval Loss: 2.5185\n"
     ]
    },
    {
     "data": {
      "application/vnd.jupyter.widget-view+json": {
       "model_id": "4378827295f2473a9ea9eeec91af463c",
       "version_major": 2,
       "version_minor": 0
      },
      "text/plain": [
       "HBox(children=(FloatProgress(value=0.0, description='*********Train mode*******', max=354.0, style=ProgressSty…"
      ]
     },
     "metadata": {},
     "output_type": "display_data"
    },
    {
     "name": "stdout",
     "output_type": "stream",
     "text": [
      "\n",
      "Epoch [19/100], Train Loss: 1.5353\n",
      "Train Time:  2481.7750861644745\n"
     ]
    },
    {
     "data": {
      "application/vnd.jupyter.widget-view+json": {
       "model_id": "1a4f7c72a7254a979146de67ba6cee47",
       "version_major": 2,
       "version_minor": 0
      },
      "text/plain": [
       "HBox(children=(FloatProgress(value=0.0, description='*********Evaluation mode*******', max=40.0, style=Progres…"
      ]
     },
     "metadata": {},
     "output_type": "display_data"
    },
    {
     "name": "stdout",
     "output_type": "stream",
     "text": [
      "\n",
      "Epoch [19/100], Eval Loss: 1.3802\n"
     ]
    },
    {
     "data": {
      "application/vnd.jupyter.widget-view+json": {
       "model_id": "bdf81c4e6c7342b68708cfc4ef34bbf4",
       "version_major": 2,
       "version_minor": 0
      },
      "text/plain": [
       "HBox(children=(FloatProgress(value=0.0, description='*********Train mode*******', max=354.0, style=ProgressSty…"
      ]
     },
     "metadata": {},
     "output_type": "display_data"
    },
    {
     "name": "stdout",
     "output_type": "stream",
     "text": [
      "\n",
      "Epoch [20/100], Train Loss: 1.3477\n",
      "Train Time:  2609.7055377960205\n"
     ]
    },
    {
     "data": {
      "application/vnd.jupyter.widget-view+json": {
       "model_id": "af0369672a074f38a161bd4cee814bf8",
       "version_major": 2,
       "version_minor": 0
      },
      "text/plain": [
       "HBox(children=(FloatProgress(value=0.0, description='*********Evaluation mode*******', max=40.0, style=Progres…"
      ]
     },
     "metadata": {},
     "output_type": "display_data"
    },
    {
     "name": "stdout",
     "output_type": "stream",
     "text": [
      "\n",
      "Epoch [20/100], Eval Loss: 1.7552\n"
     ]
    },
    {
     "data": {
      "application/vnd.jupyter.widget-view+json": {
       "model_id": "2409eaceddf14b86839237838a3c159d",
       "version_major": 2,
       "version_minor": 0
      },
      "text/plain": [
       "HBox(children=(FloatProgress(value=0.0, description='*********Train mode*******', max=354.0, style=ProgressSty…"
      ]
     },
     "metadata": {},
     "output_type": "display_data"
    },
    {
     "name": "stdout",
     "output_type": "stream",
     "text": [
      "\n",
      "Epoch [21/100], Train Loss: 1.4719\n",
      "Train Time:  2737.634660720825\n"
     ]
    },
    {
     "data": {
      "application/vnd.jupyter.widget-view+json": {
       "model_id": "7677f0a9a08c426981156a28041274e2",
       "version_major": 2,
       "version_minor": 0
      },
      "text/plain": [
       "HBox(children=(FloatProgress(value=0.0, description='*********Evaluation mode*******', max=40.0, style=Progres…"
      ]
     },
     "metadata": {},
     "output_type": "display_data"
    },
    {
     "name": "stdout",
     "output_type": "stream",
     "text": [
      "\n",
      "Epoch [21/100], Eval Loss: 1.3275\n"
     ]
    },
    {
     "data": {
      "application/vnd.jupyter.widget-view+json": {
       "model_id": "0af5d85f9dfc4aef8fe1af118a2f09ac",
       "version_major": 2,
       "version_minor": 0
      },
      "text/plain": [
       "HBox(children=(FloatProgress(value=0.0, description='*********Train mode*******', max=354.0, style=ProgressSty…"
      ]
     },
     "metadata": {},
     "output_type": "display_data"
    },
    {
     "name": "stdout",
     "output_type": "stream",
     "text": [
      "\n",
      "Epoch [22/100], Train Loss: 1.3554\n",
      "Train Time:  2865.478914499283\n"
     ]
    },
    {
     "data": {
      "application/vnd.jupyter.widget-view+json": {
       "model_id": "17da0da18e4f4f4eaf8a8da929c14114",
       "version_major": 2,
       "version_minor": 0
      },
      "text/plain": [
       "HBox(children=(FloatProgress(value=0.0, description='*********Evaluation mode*******', max=40.0, style=Progres…"
      ]
     },
     "metadata": {},
     "output_type": "display_data"
    },
    {
     "name": "stdout",
     "output_type": "stream",
     "text": [
      "\n",
      "Epoch [22/100], Eval Loss: 1.7977\n"
     ]
    },
    {
     "data": {
      "application/vnd.jupyter.widget-view+json": {
       "model_id": "7280b42c6c5642b890c7305d8aae7943",
       "version_major": 2,
       "version_minor": 0
      },
      "text/plain": [
       "HBox(children=(FloatProgress(value=0.0, description='*********Train mode*******', max=354.0, style=ProgressSty…"
      ]
     },
     "metadata": {},
     "output_type": "display_data"
    },
    {
     "name": "stdout",
     "output_type": "stream",
     "text": [
      "\n",
      "Epoch [23/100], Train Loss: 1.3442\n",
      "Train Time:  2993.464718580246\n"
     ]
    },
    {
     "data": {
      "application/vnd.jupyter.widget-view+json": {
       "model_id": "04118616da944ae097a74627a450dd04",
       "version_major": 2,
       "version_minor": 0
      },
      "text/plain": [
       "HBox(children=(FloatProgress(value=0.0, description='*********Evaluation mode*******', max=40.0, style=Progres…"
      ]
     },
     "metadata": {},
     "output_type": "display_data"
    },
    {
     "name": "stdout",
     "output_type": "stream",
     "text": [
      "\n",
      "Epoch [23/100], Eval Loss: 0.5948\n",
      "Best Model saved......\n"
     ]
    },
    {
     "data": {
      "application/vnd.jupyter.widget-view+json": {
       "model_id": "b98e8bcddd5d4487be76a41b7119a375",
       "version_major": 2,
       "version_minor": 0
      },
      "text/plain": [
       "HBox(children=(FloatProgress(value=0.0, description='*********Train mode*******', max=354.0, style=ProgressSty…"
      ]
     },
     "metadata": {},
     "output_type": "display_data"
    },
    {
     "name": "stdout",
     "output_type": "stream",
     "text": [
      "\n",
      "Epoch [24/100], Train Loss: 1.4138\n",
      "Train Time:  3127.7666833400726\n"
     ]
    },
    {
     "data": {
      "application/vnd.jupyter.widget-view+json": {
       "model_id": "cde0982d3e8e461782c382f83621b7a8",
       "version_major": 2,
       "version_minor": 0
      },
      "text/plain": [
       "HBox(children=(FloatProgress(value=0.0, description='*********Evaluation mode*******', max=40.0, style=Progres…"
      ]
     },
     "metadata": {},
     "output_type": "display_data"
    },
    {
     "name": "stdout",
     "output_type": "stream",
     "text": [
      "\n",
      "Epoch [24/100], Eval Loss: 1.7985\n"
     ]
    },
    {
     "data": {
      "application/vnd.jupyter.widget-view+json": {
       "model_id": "ab31f66827bf4980904bacd8600b72f1",
       "version_major": 2,
       "version_minor": 0
      },
      "text/plain": [
       "HBox(children=(FloatProgress(value=0.0, description='*********Train mode*******', max=354.0, style=ProgressSty…"
      ]
     },
     "metadata": {},
     "output_type": "display_data"
    },
    {
     "name": "stdout",
     "output_type": "stream",
     "text": [
      "\n",
      "Epoch [25/100], Train Loss: 1.4160\n",
      "Train Time:  3255.468232154846\n"
     ]
    },
    {
     "data": {
      "application/vnd.jupyter.widget-view+json": {
       "model_id": "2d38948c69434e9cbd727200f89f5ef5",
       "version_major": 2,
       "version_minor": 0
      },
      "text/plain": [
       "HBox(children=(FloatProgress(value=0.0, description='*********Evaluation mode*******', max=40.0, style=Progres…"
      ]
     },
     "metadata": {},
     "output_type": "display_data"
    },
    {
     "name": "stdout",
     "output_type": "stream",
     "text": [
      "\n",
      "Epoch [25/100], Eval Loss: 1.3826\n"
     ]
    },
    {
     "data": {
      "application/vnd.jupyter.widget-view+json": {
       "model_id": "8692d7da73d74581beaf533941f732af",
       "version_major": 2,
       "version_minor": 0
      },
      "text/plain": [
       "HBox(children=(FloatProgress(value=0.0, description='*********Train mode*******', max=354.0, style=ProgressSty…"
      ]
     },
     "metadata": {},
     "output_type": "display_data"
    },
    {
     "name": "stdout",
     "output_type": "stream",
     "text": [
      "\n",
      "Epoch [26/100], Train Loss: 1.3952\n",
      "Train Time:  3383.6199889183044\n"
     ]
    },
    {
     "data": {
      "application/vnd.jupyter.widget-view+json": {
       "model_id": "fd6d2842ed4f44bda42f75b8cc365b21",
       "version_major": 2,
       "version_minor": 0
      },
      "text/plain": [
       "HBox(children=(FloatProgress(value=0.0, description='*********Evaluation mode*******', max=40.0, style=Progres…"
      ]
     },
     "metadata": {},
     "output_type": "display_data"
    },
    {
     "name": "stdout",
     "output_type": "stream",
     "text": [
      "\n",
      "Epoch [26/100], Eval Loss: 1.1641\n"
     ]
    },
    {
     "data": {
      "application/vnd.jupyter.widget-view+json": {
       "model_id": "73468fd717954bf5a858ffefdceaf394",
       "version_major": 2,
       "version_minor": 0
      },
      "text/plain": [
       "HBox(children=(FloatProgress(value=0.0, description='*********Train mode*******', max=354.0, style=ProgressSty…"
      ]
     },
     "metadata": {},
     "output_type": "display_data"
    },
    {
     "name": "stdout",
     "output_type": "stream",
     "text": [
      "\n",
      "Epoch [27/100], Train Loss: 1.1415\n",
      "Train Time:  3511.6426327228546\n"
     ]
    },
    {
     "data": {
      "application/vnd.jupyter.widget-view+json": {
       "model_id": "d1c5a5d16a9b40ba873374982ed10a28",
       "version_major": 2,
       "version_minor": 0
      },
      "text/plain": [
       "HBox(children=(FloatProgress(value=0.0, description='*********Evaluation mode*******', max=40.0, style=Progres…"
      ]
     },
     "metadata": {},
     "output_type": "display_data"
    },
    {
     "name": "stdout",
     "output_type": "stream",
     "text": [
      "\n",
      "Epoch [27/100], Eval Loss: 1.5111\n"
     ]
    },
    {
     "data": {
      "application/vnd.jupyter.widget-view+json": {
       "model_id": "78814415f55f44a5aedc086ee3c9e943",
       "version_major": 2,
       "version_minor": 0
      },
      "text/plain": [
       "HBox(children=(FloatProgress(value=0.0, description='*********Train mode*******', max=354.0, style=ProgressSty…"
      ]
     },
     "metadata": {},
     "output_type": "display_data"
    },
    {
     "name": "stdout",
     "output_type": "stream",
     "text": [
      "\n",
      "Epoch [28/100], Train Loss: 1.1329\n",
      "Train Time:  3640.4278054237366\n"
     ]
    },
    {
     "data": {
      "application/vnd.jupyter.widget-view+json": {
       "model_id": "0966c1e606b7468eaab4bb32540dbd49",
       "version_major": 2,
       "version_minor": 0
      },
      "text/plain": [
       "HBox(children=(FloatProgress(value=0.0, description='*********Evaluation mode*******', max=40.0, style=Progres…"
      ]
     },
     "metadata": {},
     "output_type": "display_data"
    },
    {
     "name": "stdout",
     "output_type": "stream",
     "text": [
      "\n",
      "Epoch [28/100], Eval Loss: 2.0896\n"
     ]
    },
    {
     "data": {
      "application/vnd.jupyter.widget-view+json": {
       "model_id": "fadc1a1b322d4031be511bed819398de",
       "version_major": 2,
       "version_minor": 0
      },
      "text/plain": [
       "HBox(children=(FloatProgress(value=0.0, description='*********Train mode*******', max=354.0, style=ProgressSty…"
      ]
     },
     "metadata": {},
     "output_type": "display_data"
    },
    {
     "name": "stdout",
     "output_type": "stream",
     "text": [
      "\n",
      "Epoch [29/100], Train Loss: 1.2382\n",
      "Train Time:  3768.1822452545166\n"
     ]
    },
    {
     "data": {
      "application/vnd.jupyter.widget-view+json": {
       "model_id": "fa67b22f9cd843619915394381acd8b7",
       "version_major": 2,
       "version_minor": 0
      },
      "text/plain": [
       "HBox(children=(FloatProgress(value=0.0, description='*********Evaluation mode*******', max=40.0, style=Progres…"
      ]
     },
     "metadata": {},
     "output_type": "display_data"
    },
    {
     "name": "stdout",
     "output_type": "stream",
     "text": [
      "\n",
      "Epoch [29/100], Eval Loss: 0.7836\n"
     ]
    },
    {
     "data": {
      "application/vnd.jupyter.widget-view+json": {
       "model_id": "7d216230e203426b83cf7b571a1ae99a",
       "version_major": 2,
       "version_minor": 0
      },
      "text/plain": [
       "HBox(children=(FloatProgress(value=0.0, description='*********Train mode*******', max=354.0, style=ProgressSty…"
      ]
     },
     "metadata": {},
     "output_type": "display_data"
    },
    {
     "name": "stdout",
     "output_type": "stream",
     "text": [
      "\n",
      "Epoch [30/100], Train Loss: 1.1264\n",
      "Train Time:  3895.888108253479\n"
     ]
    },
    {
     "data": {
      "application/vnd.jupyter.widget-view+json": {
       "model_id": "c797f22802874a928ef05069c44af526",
       "version_major": 2,
       "version_minor": 0
      },
      "text/plain": [
       "HBox(children=(FloatProgress(value=0.0, description='*********Evaluation mode*******', max=40.0, style=Progres…"
      ]
     },
     "metadata": {},
     "output_type": "display_data"
    },
    {
     "name": "stdout",
     "output_type": "stream",
     "text": [
      "\n",
      "Epoch [30/100], Eval Loss: 0.6239\n"
     ]
    },
    {
     "data": {
      "application/vnd.jupyter.widget-view+json": {
       "model_id": "8762fd14b2e44fd0a16b3d4a2e53a320",
       "version_major": 2,
       "version_minor": 0
      },
      "text/plain": [
       "HBox(children=(FloatProgress(value=0.0, description='*********Train mode*******', max=354.0, style=ProgressSty…"
      ]
     },
     "metadata": {},
     "output_type": "display_data"
    },
    {
     "name": "stdout",
     "output_type": "stream",
     "text": [
      "\n",
      "Epoch [31/100], Train Loss: 1.1286\n",
      "Train Time:  4023.722952604294\n"
     ]
    },
    {
     "data": {
      "application/vnd.jupyter.widget-view+json": {
       "model_id": "f86dbb651eea47ca814374c40ed55099",
       "version_major": 2,
       "version_minor": 0
      },
      "text/plain": [
       "HBox(children=(FloatProgress(value=0.0, description='*********Evaluation mode*******', max=40.0, style=Progres…"
      ]
     },
     "metadata": {},
     "output_type": "display_data"
    },
    {
     "name": "stdout",
     "output_type": "stream",
     "text": [
      "\n",
      "Epoch [31/100], Eval Loss: 0.9106\n"
     ]
    },
    {
     "data": {
      "application/vnd.jupyter.widget-view+json": {
       "model_id": "e6addc75b0ab40888c70a19e387bf90a",
       "version_major": 2,
       "version_minor": 0
      },
      "text/plain": [
       "HBox(children=(FloatProgress(value=0.0, description='*********Train mode*******', max=354.0, style=ProgressSty…"
      ]
     },
     "metadata": {},
     "output_type": "display_data"
    },
    {
     "name": "stdout",
     "output_type": "stream",
     "text": [
      "\n",
      "Epoch [32/100], Train Loss: 1.0575\n",
      "Train Time:  4151.749828577042\n"
     ]
    },
    {
     "data": {
      "application/vnd.jupyter.widget-view+json": {
       "model_id": "664a39116c264585a00a56c95c2049f5",
       "version_major": 2,
       "version_minor": 0
      },
      "text/plain": [
       "HBox(children=(FloatProgress(value=0.0, description='*********Evaluation mode*******', max=40.0, style=Progres…"
      ]
     },
     "metadata": {},
     "output_type": "display_data"
    },
    {
     "name": "stdout",
     "output_type": "stream",
     "text": [
      "\n",
      "Epoch [32/100], Eval Loss: 1.2810\n"
     ]
    },
    {
     "data": {
      "application/vnd.jupyter.widget-view+json": {
       "model_id": "9a9967b9532c4466ba7bae86eabd499a",
       "version_major": 2,
       "version_minor": 0
      },
      "text/plain": [
       "HBox(children=(FloatProgress(value=0.0, description='*********Train mode*******', max=354.0, style=ProgressSty…"
      ]
     },
     "metadata": {},
     "output_type": "display_data"
    },
    {
     "name": "stdout",
     "output_type": "stream",
     "text": [
      "\n",
      "Epoch [33/100], Train Loss: 1.1473\n",
      "Train Time:  4280.12640953064\n"
     ]
    },
    {
     "data": {
      "application/vnd.jupyter.widget-view+json": {
       "model_id": "975a4186319044a7b7345daff46d344e",
       "version_major": 2,
       "version_minor": 0
      },
      "text/plain": [
       "HBox(children=(FloatProgress(value=0.0, description='*********Evaluation mode*******', max=40.0, style=Progres…"
      ]
     },
     "metadata": {},
     "output_type": "display_data"
    },
    {
     "name": "stdout",
     "output_type": "stream",
     "text": [
      "\n",
      "Epoch [33/100], Eval Loss: 2.0714\n"
     ]
    },
    {
     "data": {
      "application/vnd.jupyter.widget-view+json": {
       "model_id": "4248ae54558a46aea79dfe451350dd8f",
       "version_major": 2,
       "version_minor": 0
      },
      "text/plain": [
       "HBox(children=(FloatProgress(value=0.0, description='*********Train mode*******', max=354.0, style=ProgressSty…"
      ]
     },
     "metadata": {},
     "output_type": "display_data"
    },
    {
     "name": "stdout",
     "output_type": "stream",
     "text": [
      "\n",
      "Epoch [34/100], Train Loss: 1.1500\n",
      "Train Time:  4408.266269445419\n"
     ]
    },
    {
     "data": {
      "application/vnd.jupyter.widget-view+json": {
       "model_id": "de0b216445d4423d886290714ed8f3ff",
       "version_major": 2,
       "version_minor": 0
      },
      "text/plain": [
       "HBox(children=(FloatProgress(value=0.0, description='*********Evaluation mode*******', max=40.0, style=Progres…"
      ]
     },
     "metadata": {},
     "output_type": "display_data"
    },
    {
     "name": "stdout",
     "output_type": "stream",
     "text": [
      "\n",
      "Epoch [34/100], Eval Loss: 0.9940\n"
     ]
    },
    {
     "data": {
      "application/vnd.jupyter.widget-view+json": {
       "model_id": "37a77b5ce5674980b66fe10b608859a8",
       "version_major": 2,
       "version_minor": 0
      },
      "text/plain": [
       "HBox(children=(FloatProgress(value=0.0, description='*********Train mode*******', max=354.0, style=ProgressSty…"
      ]
     },
     "metadata": {},
     "output_type": "display_data"
    },
    {
     "name": "stdout",
     "output_type": "stream",
     "text": [
      "\n",
      "Epoch [35/100], Train Loss: 1.0440\n",
      "Train Time:  4536.271067857742\n"
     ]
    },
    {
     "data": {
      "application/vnd.jupyter.widget-view+json": {
       "model_id": "8e2c9defc4b24022886e7532838766d6",
       "version_major": 2,
       "version_minor": 0
      },
      "text/plain": [
       "HBox(children=(FloatProgress(value=0.0, description='*********Evaluation mode*******', max=40.0, style=Progres…"
      ]
     },
     "metadata": {},
     "output_type": "display_data"
    },
    {
     "name": "stdout",
     "output_type": "stream",
     "text": [
      "\n",
      "Epoch [35/100], Eval Loss: 0.9847\n"
     ]
    },
    {
     "data": {
      "application/vnd.jupyter.widget-view+json": {
       "model_id": "c735aaf81a824ea08ad2a193220bd0e9",
       "version_major": 2,
       "version_minor": 0
      },
      "text/plain": [
       "HBox(children=(FloatProgress(value=0.0, description='*********Train mode*******', max=354.0, style=ProgressSty…"
      ]
     },
     "metadata": {},
     "output_type": "display_data"
    },
    {
     "name": "stdout",
     "output_type": "stream",
     "text": [
      "\n",
      "Epoch [36/100], Train Loss: 1.0079\n",
      "Train Time:  4664.239333629608\n"
     ]
    },
    {
     "data": {
      "application/vnd.jupyter.widget-view+json": {
       "model_id": "f90b7ce30ccf4f41a3c882d606fa4150",
       "version_major": 2,
       "version_minor": 0
      },
      "text/plain": [
       "HBox(children=(FloatProgress(value=0.0, description='*********Evaluation mode*******', max=40.0, style=Progres…"
      ]
     },
     "metadata": {},
     "output_type": "display_data"
    },
    {
     "name": "stdout",
     "output_type": "stream",
     "text": [
      "\n",
      "Epoch [36/100], Eval Loss: 1.3655\n"
     ]
    },
    {
     "data": {
      "application/vnd.jupyter.widget-view+json": {
       "model_id": "cfe6d937c31847bf9f99ac841b7db562",
       "version_major": 2,
       "version_minor": 0
      },
      "text/plain": [
       "HBox(children=(FloatProgress(value=0.0, description='*********Train mode*******', max=354.0, style=ProgressSty…"
      ]
     },
     "metadata": {},
     "output_type": "display_data"
    },
    {
     "name": "stdout",
     "output_type": "stream",
     "text": [
      "\n",
      "Epoch [37/100], Train Loss: 0.9801\n",
      "Train Time:  4792.3748433589935\n"
     ]
    },
    {
     "data": {
      "application/vnd.jupyter.widget-view+json": {
       "model_id": "01ad0dfc82584f18ab112209c6d731dc",
       "version_major": 2,
       "version_minor": 0
      },
      "text/plain": [
       "HBox(children=(FloatProgress(value=0.0, description='*********Evaluation mode*******', max=40.0, style=Progres…"
      ]
     },
     "metadata": {},
     "output_type": "display_data"
    },
    {
     "name": "stdout",
     "output_type": "stream",
     "text": [
      "\n",
      "Epoch [37/100], Eval Loss: 0.8557\n"
     ]
    },
    {
     "data": {
      "application/vnd.jupyter.widget-view+json": {
       "model_id": "ad293487a39349678a45285b2cfd9485",
       "version_major": 2,
       "version_minor": 0
      },
      "text/plain": [
       "HBox(children=(FloatProgress(value=0.0, description='*********Train mode*******', max=354.0, style=ProgressSty…"
      ]
     },
     "metadata": {},
     "output_type": "display_data"
    },
    {
     "name": "stdout",
     "output_type": "stream",
     "text": [
      "\n",
      "Epoch [38/100], Train Loss: 0.9841\n",
      "Train Time:  4920.399108171463\n"
     ]
    },
    {
     "data": {
      "application/vnd.jupyter.widget-view+json": {
       "model_id": "c204a2041f1b4c9e97ff711737d3c832",
       "version_major": 2,
       "version_minor": 0
      },
      "text/plain": [
       "HBox(children=(FloatProgress(value=0.0, description='*********Evaluation mode*******', max=40.0, style=Progres…"
      ]
     },
     "metadata": {},
     "output_type": "display_data"
    },
    {
     "name": "stdout",
     "output_type": "stream",
     "text": [
      "\n",
      "Epoch [38/100], Eval Loss: 0.7566\n"
     ]
    },
    {
     "data": {
      "application/vnd.jupyter.widget-view+json": {
       "model_id": "f07060961b404a7eadf158e8397c982b",
       "version_major": 2,
       "version_minor": 0
      },
      "text/plain": [
       "HBox(children=(FloatProgress(value=0.0, description='*********Train mode*******', max=354.0, style=ProgressSty…"
      ]
     },
     "metadata": {},
     "output_type": "display_data"
    },
    {
     "name": "stdout",
     "output_type": "stream",
     "text": [
      "\n",
      "Epoch [39/100], Train Loss: 0.8968\n",
      "Train Time:  5048.133234024048\n"
     ]
    },
    {
     "data": {
      "application/vnd.jupyter.widget-view+json": {
       "model_id": "c7f4a189563445b08d05d95112cc273c",
       "version_major": 2,
       "version_minor": 0
      },
      "text/plain": [
       "HBox(children=(FloatProgress(value=0.0, description='*********Evaluation mode*******', max=40.0, style=Progres…"
      ]
     },
     "metadata": {},
     "output_type": "display_data"
    },
    {
     "name": "stdout",
     "output_type": "stream",
     "text": [
      "\n",
      "Epoch [39/100], Eval Loss: 0.6619\n"
     ]
    },
    {
     "data": {
      "application/vnd.jupyter.widget-view+json": {
       "model_id": "36d84fc35a744b89b030492bf944e948",
       "version_major": 2,
       "version_minor": 0
      },
      "text/plain": [
       "HBox(children=(FloatProgress(value=0.0, description='*********Train mode*******', max=354.0, style=ProgressSty…"
      ]
     },
     "metadata": {},
     "output_type": "display_data"
    },
    {
     "name": "stdout",
     "output_type": "stream",
     "text": [
      "\n",
      "Epoch [40/100], Train Loss: 0.8579\n",
      "Train Time:  5175.995128631592\n"
     ]
    },
    {
     "data": {
      "application/vnd.jupyter.widget-view+json": {
       "model_id": "7ceca6ff89474ff3a8951c1286db3c92",
       "version_major": 2,
       "version_minor": 0
      },
      "text/plain": [
       "HBox(children=(FloatProgress(value=0.0, description='*********Evaluation mode*******', max=40.0, style=Progres…"
      ]
     },
     "metadata": {},
     "output_type": "display_data"
    },
    {
     "name": "stdout",
     "output_type": "stream",
     "text": [
      "\n",
      "Epoch [40/100], Eval Loss: 0.8896\n"
     ]
    },
    {
     "data": {
      "application/vnd.jupyter.widget-view+json": {
       "model_id": "1d0e17f2d8e74c439bd55340d91cfee3",
       "version_major": 2,
       "version_minor": 0
      },
      "text/plain": [
       "HBox(children=(FloatProgress(value=0.0, description='*********Train mode*******', max=354.0, style=ProgressSty…"
      ]
     },
     "metadata": {},
     "output_type": "display_data"
    },
    {
     "name": "stdout",
     "output_type": "stream",
     "text": [
      "\n",
      "Epoch [41/100], Train Loss: 0.9107\n",
      "Train Time:  5303.882857322693\n"
     ]
    },
    {
     "data": {
      "application/vnd.jupyter.widget-view+json": {
       "model_id": "f908af879130405384a693c19e44135f",
       "version_major": 2,
       "version_minor": 0
      },
      "text/plain": [
       "HBox(children=(FloatProgress(value=0.0, description='*********Evaluation mode*******', max=40.0, style=Progres…"
      ]
     },
     "metadata": {},
     "output_type": "display_data"
    },
    {
     "name": "stdout",
     "output_type": "stream",
     "text": [
      "\n",
      "Epoch [41/100], Eval Loss: 0.8905\n"
     ]
    },
    {
     "data": {
      "application/vnd.jupyter.widget-view+json": {
       "model_id": "5e374aeb1b6b4d1baca0078534d28959",
       "version_major": 2,
       "version_minor": 0
      },
      "text/plain": [
       "HBox(children=(FloatProgress(value=0.0, description='*********Train mode*******', max=354.0, style=ProgressSty…"
      ]
     },
     "metadata": {},
     "output_type": "display_data"
    },
    {
     "name": "stdout",
     "output_type": "stream",
     "text": [
      "\n",
      "Epoch [42/100], Train Loss: 0.8753\n",
      "Train Time:  5431.929202079773\n"
     ]
    },
    {
     "data": {
      "application/vnd.jupyter.widget-view+json": {
       "model_id": "bb5e1080ec1a4a948698f0e9457f53ba",
       "version_major": 2,
       "version_minor": 0
      },
      "text/plain": [
       "HBox(children=(FloatProgress(value=0.0, description='*********Evaluation mode*******', max=40.0, style=Progres…"
      ]
     },
     "metadata": {},
     "output_type": "display_data"
    },
    {
     "name": "stdout",
     "output_type": "stream",
     "text": [
      "\n",
      "Epoch [42/100], Eval Loss: 0.6401\n"
     ]
    },
    {
     "data": {
      "application/vnd.jupyter.widget-view+json": {
       "model_id": "666c39955c0748888325871b5bb322c9",
       "version_major": 2,
       "version_minor": 0
      },
      "text/plain": [
       "HBox(children=(FloatProgress(value=0.0, description='*********Train mode*******', max=354.0, style=ProgressSty…"
      ]
     },
     "metadata": {},
     "output_type": "display_data"
    },
    {
     "name": "stdout",
     "output_type": "stream",
     "text": [
      "\n",
      "Epoch [43/100], Train Loss: 0.8198\n",
      "Train Time:  5559.990993499756\n"
     ]
    },
    {
     "data": {
      "application/vnd.jupyter.widget-view+json": {
       "model_id": "e8e82f2e2f0248758198a60a3230e2a9",
       "version_major": 2,
       "version_minor": 0
      },
      "text/plain": [
       "HBox(children=(FloatProgress(value=0.0, description='*********Evaluation mode*******', max=40.0, style=Progres…"
      ]
     },
     "metadata": {},
     "output_type": "display_data"
    },
    {
     "name": "stdout",
     "output_type": "stream",
     "text": [
      "\n",
      "Epoch [43/100], Eval Loss: 0.7037\n"
     ]
    },
    {
     "data": {
      "application/vnd.jupyter.widget-view+json": {
       "model_id": "9dd3d226d29b4ecdada5dee2592ceab9",
       "version_major": 2,
       "version_minor": 0
      },
      "text/plain": [
       "HBox(children=(FloatProgress(value=0.0, description='*********Train mode*******', max=354.0, style=ProgressSty…"
      ]
     },
     "metadata": {},
     "output_type": "display_data"
    },
    {
     "name": "stdout",
     "output_type": "stream",
     "text": [
      "\n",
      "Epoch [44/100], Train Loss: 0.7779\n",
      "Train Time:  5687.019861459732\n"
     ]
    },
    {
     "data": {
      "application/vnd.jupyter.widget-view+json": {
       "model_id": "7a232842b8824e4ab8aaa16149d99c2b",
       "version_major": 2,
       "version_minor": 0
      },
      "text/plain": [
       "HBox(children=(FloatProgress(value=0.0, description='*********Evaluation mode*******', max=40.0, style=Progres…"
      ]
     },
     "metadata": {},
     "output_type": "display_data"
    },
    {
     "name": "stdout",
     "output_type": "stream",
     "text": [
      "\n",
      "Epoch [44/100], Eval Loss: 0.6437\n"
     ]
    },
    {
     "data": {
      "application/vnd.jupyter.widget-view+json": {
       "model_id": "1e67c9af91b24abea928f85de8878e6e",
       "version_major": 2,
       "version_minor": 0
      },
      "text/plain": [
       "HBox(children=(FloatProgress(value=0.0, description='*********Train mode*******', max=354.0, style=ProgressSty…"
      ]
     },
     "metadata": {},
     "output_type": "display_data"
    },
    {
     "name": "stdout",
     "output_type": "stream",
     "text": [
      "\n",
      "Epoch [45/100], Train Loss: 0.8055\n",
      "Train Time:  5816.174019098282\n"
     ]
    },
    {
     "data": {
      "application/vnd.jupyter.widget-view+json": {
       "model_id": "09b900c8024a48c4a86ecf64f85e356d",
       "version_major": 2,
       "version_minor": 0
      },
      "text/plain": [
       "HBox(children=(FloatProgress(value=0.0, description='*********Evaluation mode*******', max=40.0, style=Progres…"
      ]
     },
     "metadata": {},
     "output_type": "display_data"
    },
    {
     "name": "stdout",
     "output_type": "stream",
     "text": [
      "\n",
      "Epoch [45/100], Eval Loss: 0.7429\n"
     ]
    },
    {
     "data": {
      "application/vnd.jupyter.widget-view+json": {
       "model_id": "a800349c116d41e783c2b2c864684a1e",
       "version_major": 2,
       "version_minor": 0
      },
      "text/plain": [
       "HBox(children=(FloatProgress(value=0.0, description='*********Train mode*******', max=354.0, style=ProgressSty…"
      ]
     },
     "metadata": {},
     "output_type": "display_data"
    },
    {
     "name": "stdout",
     "output_type": "stream",
     "text": [
      "\n",
      "Epoch [46/100], Train Loss: 0.7989\n",
      "Train Time:  5944.834717750549\n"
     ]
    },
    {
     "data": {
      "application/vnd.jupyter.widget-view+json": {
       "model_id": "e92f1e52bff14a6c81224f6a97505682",
       "version_major": 2,
       "version_minor": 0
      },
      "text/plain": [
       "HBox(children=(FloatProgress(value=0.0, description='*********Evaluation mode*******', max=40.0, style=Progres…"
      ]
     },
     "metadata": {},
     "output_type": "display_data"
    },
    {
     "name": "stdout",
     "output_type": "stream",
     "text": [
      "\n",
      "Epoch [46/100], Eval Loss: 0.7435\n"
     ]
    },
    {
     "data": {
      "application/vnd.jupyter.widget-view+json": {
       "model_id": "a1fc8c037b6d41d9b0f822a19577ee61",
       "version_major": 2,
       "version_minor": 0
      },
      "text/plain": [
       "HBox(children=(FloatProgress(value=0.0, description='*********Train mode*******', max=354.0, style=ProgressSty…"
      ]
     },
     "metadata": {},
     "output_type": "display_data"
    },
    {
     "name": "stdout",
     "output_type": "stream",
     "text": [
      "\n",
      "Epoch [47/100], Train Loss: 0.7238\n",
      "Train Time:  6073.578894615173\n"
     ]
    },
    {
     "data": {
      "application/vnd.jupyter.widget-view+json": {
       "model_id": "5dab7099f988404ea506d74b446bb23a",
       "version_major": 2,
       "version_minor": 0
      },
      "text/plain": [
       "HBox(children=(FloatProgress(value=0.0, description='*********Evaluation mode*******', max=40.0, style=Progres…"
      ]
     },
     "metadata": {},
     "output_type": "display_data"
    },
    {
     "name": "stdout",
     "output_type": "stream",
     "text": [
      "\n",
      "Epoch [47/100], Eval Loss: 0.2880\n",
      "Best Model saved......\n"
     ]
    },
    {
     "data": {
      "application/vnd.jupyter.widget-view+json": {
       "model_id": "ce47424e0173471d8d3228a927cf77cc",
       "version_major": 2,
       "version_minor": 0
      },
      "text/plain": [
       "HBox(children=(FloatProgress(value=0.0, description='*********Train mode*******', max=354.0, style=ProgressSty…"
      ]
     },
     "metadata": {},
     "output_type": "display_data"
    },
    {
     "name": "stdout",
     "output_type": "stream",
     "text": [
      "\n",
      "Epoch [48/100], Train Loss: 0.6622\n",
      "Train Time:  6208.24475479126\n"
     ]
    },
    {
     "data": {
      "application/vnd.jupyter.widget-view+json": {
       "model_id": "ff1a38af802c4f1cb0c3ed16ebfefd94",
       "version_major": 2,
       "version_minor": 0
      },
      "text/plain": [
       "HBox(children=(FloatProgress(value=0.0, description='*********Evaluation mode*******', max=40.0, style=Progres…"
      ]
     },
     "metadata": {},
     "output_type": "display_data"
    },
    {
     "name": "stdout",
     "output_type": "stream",
     "text": [
      "\n",
      "Epoch [48/100], Eval Loss: 0.5706\n"
     ]
    },
    {
     "data": {
      "application/vnd.jupyter.widget-view+json": {
       "model_id": "cdb34d0aa27f421e8ea32b4aee13f3f0",
       "version_major": 2,
       "version_minor": 0
      },
      "text/plain": [
       "HBox(children=(FloatProgress(value=0.0, description='*********Train mode*******', max=354.0, style=ProgressSty…"
      ]
     },
     "metadata": {},
     "output_type": "display_data"
    },
    {
     "name": "stdout",
     "output_type": "stream",
     "text": [
      "\n",
      "Epoch [49/100], Train Loss: 0.6968\n",
      "Train Time:  6336.260340213776\n"
     ]
    },
    {
     "data": {
      "application/vnd.jupyter.widget-view+json": {
       "model_id": "0e923f12de1c41dd9b06da53792607e8",
       "version_major": 2,
       "version_minor": 0
      },
      "text/plain": [
       "HBox(children=(FloatProgress(value=0.0, description='*********Evaluation mode*******', max=40.0, style=Progres…"
      ]
     },
     "metadata": {},
     "output_type": "display_data"
    },
    {
     "name": "stdout",
     "output_type": "stream",
     "text": [
      "\n",
      "Epoch [49/100], Eval Loss: 0.4847\n"
     ]
    },
    {
     "data": {
      "application/vnd.jupyter.widget-view+json": {
       "model_id": "283a988d80f34b088bdd7fa32c9973c0",
       "version_major": 2,
       "version_minor": 0
      },
      "text/plain": [
       "HBox(children=(FloatProgress(value=0.0, description='*********Train mode*******', max=354.0, style=ProgressSty…"
      ]
     },
     "metadata": {},
     "output_type": "display_data"
    },
    {
     "name": "stdout",
     "output_type": "stream",
     "text": [
      "\n",
      "Epoch [50/100], Train Loss: 0.6413\n",
      "Train Time:  6464.446977138519\n"
     ]
    },
    {
     "data": {
      "application/vnd.jupyter.widget-view+json": {
       "model_id": "5d1241b2ea694efbb434dba20e5e95f3",
       "version_major": 2,
       "version_minor": 0
      },
      "text/plain": [
       "HBox(children=(FloatProgress(value=0.0, description='*********Evaluation mode*******', max=40.0, style=Progres…"
      ]
     },
     "metadata": {},
     "output_type": "display_data"
    },
    {
     "name": "stdout",
     "output_type": "stream",
     "text": [
      "\n",
      "Epoch [50/100], Eval Loss: 0.7502\n"
     ]
    },
    {
     "data": {
      "application/vnd.jupyter.widget-view+json": {
       "model_id": "3dc1b500bb664ff381c5e93fcd53a2d5",
       "version_major": 2,
       "version_minor": 0
      },
      "text/plain": [
       "HBox(children=(FloatProgress(value=0.0, description='*********Train mode*******', max=354.0, style=ProgressSty…"
      ]
     },
     "metadata": {},
     "output_type": "display_data"
    },
    {
     "name": "stdout",
     "output_type": "stream",
     "text": [
      "\n",
      "Epoch [51/100], Train Loss: 0.7030\n",
      "Train Time:  6592.55486869812\n"
     ]
    },
    {
     "data": {
      "application/vnd.jupyter.widget-view+json": {
       "model_id": "562b2a2ca58943ed8cc219112ba53972",
       "version_major": 2,
       "version_minor": 0
      },
      "text/plain": [
       "HBox(children=(FloatProgress(value=0.0, description='*********Evaluation mode*******', max=40.0, style=Progres…"
      ]
     },
     "metadata": {},
     "output_type": "display_data"
    },
    {
     "name": "stdout",
     "output_type": "stream",
     "text": [
      "\n",
      "Epoch [51/100], Eval Loss: 0.4736\n"
     ]
    },
    {
     "data": {
      "application/vnd.jupyter.widget-view+json": {
       "model_id": "fe75618d20f8437ead20b6a802a64b77",
       "version_major": 2,
       "version_minor": 0
      },
      "text/plain": [
       "HBox(children=(FloatProgress(value=0.0, description='*********Train mode*******', max=354.0, style=ProgressSty…"
      ]
     },
     "metadata": {},
     "output_type": "display_data"
    },
    {
     "name": "stdout",
     "output_type": "stream",
     "text": [
      "\n",
      "Epoch [52/100], Train Loss: 0.6474\n",
      "Train Time:  6720.599913597107\n"
     ]
    },
    {
     "data": {
      "application/vnd.jupyter.widget-view+json": {
       "model_id": "c924562277844dafab081d0f1e98218b",
       "version_major": 2,
       "version_minor": 0
      },
      "text/plain": [
       "HBox(children=(FloatProgress(value=0.0, description='*********Evaluation mode*******', max=40.0, style=Progres…"
      ]
     },
     "metadata": {},
     "output_type": "display_data"
    },
    {
     "name": "stdout",
     "output_type": "stream",
     "text": [
      "\n",
      "Epoch [52/100], Eval Loss: 0.7160\n"
     ]
    },
    {
     "data": {
      "application/vnd.jupyter.widget-view+json": {
       "model_id": "2c2d333ac2d1423a8f3ef1bfc776814b",
       "version_major": 2,
       "version_minor": 0
      },
      "text/plain": [
       "HBox(children=(FloatProgress(value=0.0, description='*********Train mode*******', max=354.0, style=ProgressSty…"
      ]
     },
     "metadata": {},
     "output_type": "display_data"
    },
    {
     "name": "stdout",
     "output_type": "stream",
     "text": [
      "\n",
      "Epoch [53/100], Train Loss: 0.5846\n",
      "Train Time:  6848.605802536011\n"
     ]
    },
    {
     "data": {
      "application/vnd.jupyter.widget-view+json": {
       "model_id": "6fb2f21dc24f431489baf1bbf86b01bd",
       "version_major": 2,
       "version_minor": 0
      },
      "text/plain": [
       "HBox(children=(FloatProgress(value=0.0, description='*********Evaluation mode*******', max=40.0, style=Progres…"
      ]
     },
     "metadata": {},
     "output_type": "display_data"
    },
    {
     "name": "stdout",
     "output_type": "stream",
     "text": [
      "\n",
      "Epoch [53/100], Eval Loss: 0.7733\n"
     ]
    },
    {
     "data": {
      "application/vnd.jupyter.widget-view+json": {
       "model_id": "a6910bf8538447f6937edc7c01f85335",
       "version_major": 2,
       "version_minor": 0
      },
      "text/plain": [
       "HBox(children=(FloatProgress(value=0.0, description='*********Train mode*******', max=354.0, style=ProgressSty…"
      ]
     },
     "metadata": {},
     "output_type": "display_data"
    },
    {
     "name": "stdout",
     "output_type": "stream",
     "text": [
      "\n",
      "Epoch [54/100], Train Loss: 0.5896\n",
      "Train Time:  6976.454473733902\n"
     ]
    },
    {
     "data": {
      "application/vnd.jupyter.widget-view+json": {
       "model_id": "a0706aae6089472faa95de385413973c",
       "version_major": 2,
       "version_minor": 0
      },
      "text/plain": [
       "HBox(children=(FloatProgress(value=0.0, description='*********Evaluation mode*******', max=40.0, style=Progres…"
      ]
     },
     "metadata": {},
     "output_type": "display_data"
    },
    {
     "name": "stdout",
     "output_type": "stream",
     "text": [
      "\n",
      "Epoch [54/100], Eval Loss: 0.4163\n"
     ]
    },
    {
     "data": {
      "application/vnd.jupyter.widget-view+json": {
       "model_id": "d3cbc487be2f4ae09297f21ecccfc45e",
       "version_major": 2,
       "version_minor": 0
      },
      "text/plain": [
       "HBox(children=(FloatProgress(value=0.0, description='*********Train mode*******', max=354.0, style=ProgressSty…"
      ]
     },
     "metadata": {},
     "output_type": "display_data"
    },
    {
     "name": "stdout",
     "output_type": "stream",
     "text": [
      "\n",
      "Epoch [55/100], Train Loss: 0.6522\n",
      "Train Time:  7104.825932741165\n"
     ]
    },
    {
     "data": {
      "application/vnd.jupyter.widget-view+json": {
       "model_id": "55f0867b517c4f2c9c362ba468b0488b",
       "version_major": 2,
       "version_minor": 0
      },
      "text/plain": [
       "HBox(children=(FloatProgress(value=0.0, description='*********Evaluation mode*******', max=40.0, style=Progres…"
      ]
     },
     "metadata": {},
     "output_type": "display_data"
    },
    {
     "name": "stdout",
     "output_type": "stream",
     "text": [
      "\n",
      "Epoch [55/100], Eval Loss: 0.5002\n"
     ]
    },
    {
     "data": {
      "application/vnd.jupyter.widget-view+json": {
       "model_id": "ded1e12bea104f71b7576fd475f19117",
       "version_major": 2,
       "version_minor": 0
      },
      "text/plain": [
       "HBox(children=(FloatProgress(value=0.0, description='*********Train mode*******', max=354.0, style=ProgressSty…"
      ]
     },
     "metadata": {},
     "output_type": "display_data"
    },
    {
     "name": "stdout",
     "output_type": "stream",
     "text": [
      "\n",
      "Epoch [56/100], Train Loss: 0.5307\n",
      "Train Time:  7233.121237754822\n"
     ]
    },
    {
     "data": {
      "application/vnd.jupyter.widget-view+json": {
       "model_id": "82df8004edd7411ca8f30a0367108b52",
       "version_major": 2,
       "version_minor": 0
      },
      "text/plain": [
       "HBox(children=(FloatProgress(value=0.0, description='*********Evaluation mode*******', max=40.0, style=Progres…"
      ]
     },
     "metadata": {},
     "output_type": "display_data"
    },
    {
     "name": "stdout",
     "output_type": "stream",
     "text": [
      "\n",
      "Epoch [56/100], Eval Loss: 0.7705\n"
     ]
    },
    {
     "data": {
      "application/vnd.jupyter.widget-view+json": {
       "model_id": "dbe11324371e42ce8275a759ec4c4b0e",
       "version_major": 2,
       "version_minor": 0
      },
      "text/plain": [
       "HBox(children=(FloatProgress(value=0.0, description='*********Train mode*******', max=354.0, style=ProgressSty…"
      ]
     },
     "metadata": {},
     "output_type": "display_data"
    },
    {
     "name": "stdout",
     "output_type": "stream",
     "text": [
      "\n",
      "Epoch [57/100], Train Loss: 0.5065\n",
      "Train Time:  7361.086730480194\n"
     ]
    },
    {
     "data": {
      "application/vnd.jupyter.widget-view+json": {
       "model_id": "0c87669e841c41d5ab6eb6ff832065ae",
       "version_major": 2,
       "version_minor": 0
      },
      "text/plain": [
       "HBox(children=(FloatProgress(value=0.0, description='*********Evaluation mode*******', max=40.0, style=Progres…"
      ]
     },
     "metadata": {},
     "output_type": "display_data"
    },
    {
     "name": "stdout",
     "output_type": "stream",
     "text": [
      "\n",
      "Epoch [57/100], Eval Loss: 0.5229\n"
     ]
    },
    {
     "data": {
      "application/vnd.jupyter.widget-view+json": {
       "model_id": "b3606f656acb44f4b78d25ca3da488d7",
       "version_major": 2,
       "version_minor": 0
      },
      "text/plain": [
       "HBox(children=(FloatProgress(value=0.0, description='*********Train mode*******', max=354.0, style=ProgressSty…"
      ]
     },
     "metadata": {},
     "output_type": "display_data"
    },
    {
     "name": "stdout",
     "output_type": "stream",
     "text": [
      "\n",
      "Epoch [58/100], Train Loss: 0.4652\n",
      "Train Time:  7488.119188785553\n"
     ]
    },
    {
     "data": {
      "application/vnd.jupyter.widget-view+json": {
       "model_id": "25bd955a2fe9421eb2e1d92ded892f29",
       "version_major": 2,
       "version_minor": 0
      },
      "text/plain": [
       "HBox(children=(FloatProgress(value=0.0, description='*********Evaluation mode*******', max=40.0, style=Progres…"
      ]
     },
     "metadata": {},
     "output_type": "display_data"
    },
    {
     "name": "stdout",
     "output_type": "stream",
     "text": [
      "\n",
      "Epoch [58/100], Eval Loss: 0.4783\n"
     ]
    },
    {
     "data": {
      "application/vnd.jupyter.widget-view+json": {
       "model_id": "690a8f67bd7741009bc827e3f0bacd4f",
       "version_major": 2,
       "version_minor": 0
      },
      "text/plain": [
       "HBox(children=(FloatProgress(value=0.0, description='*********Train mode*******', max=354.0, style=ProgressSty…"
      ]
     },
     "metadata": {},
     "output_type": "display_data"
    },
    {
     "name": "stdout",
     "output_type": "stream",
     "text": [
      "\n",
      "Epoch [59/100], Train Loss: 0.4776\n",
      "Train Time:  7617.219643354416\n"
     ]
    },
    {
     "data": {
      "application/vnd.jupyter.widget-view+json": {
       "model_id": "6bbd2efe567b4fc99c5b16440c687126",
       "version_major": 2,
       "version_minor": 0
      },
      "text/plain": [
       "HBox(children=(FloatProgress(value=0.0, description='*********Evaluation mode*******', max=40.0, style=Progres…"
      ]
     },
     "metadata": {},
     "output_type": "display_data"
    },
    {
     "name": "stdout",
     "output_type": "stream",
     "text": [
      "\n",
      "Epoch [59/100], Eval Loss: 0.3724\n"
     ]
    },
    {
     "data": {
      "application/vnd.jupyter.widget-view+json": {
       "model_id": "1cd8194efeaf4fd78e8300ce45c20762",
       "version_major": 2,
       "version_minor": 0
      },
      "text/plain": [
       "HBox(children=(FloatProgress(value=0.0, description='*********Train mode*******', max=354.0, style=ProgressSty…"
      ]
     },
     "metadata": {},
     "output_type": "display_data"
    },
    {
     "name": "stdout",
     "output_type": "stream",
     "text": [
      "\n",
      "Epoch [60/100], Train Loss: 0.4583\n",
      "Train Time:  7745.843422174454\n"
     ]
    },
    {
     "data": {
      "application/vnd.jupyter.widget-view+json": {
       "model_id": "39d3fba55f2f432a95c2680d76aaa112",
       "version_major": 2,
       "version_minor": 0
      },
      "text/plain": [
       "HBox(children=(FloatProgress(value=0.0, description='*********Evaluation mode*******', max=40.0, style=Progres…"
      ]
     },
     "metadata": {},
     "output_type": "display_data"
    },
    {
     "name": "stdout",
     "output_type": "stream",
     "text": [
      "\n",
      "Epoch [60/100], Eval Loss: 0.3850\n"
     ]
    },
    {
     "data": {
      "application/vnd.jupyter.widget-view+json": {
       "model_id": "879aed6dd43f4bb7bcf960a9e033df8c",
       "version_major": 2,
       "version_minor": 0
      },
      "text/plain": [
       "HBox(children=(FloatProgress(value=0.0, description='*********Train mode*******', max=354.0, style=ProgressSty…"
      ]
     },
     "metadata": {},
     "output_type": "display_data"
    },
    {
     "name": "stdout",
     "output_type": "stream",
     "text": [
      "\n",
      "Epoch [61/100], Train Loss: 0.4378\n",
      "Train Time:  7874.311075687408\n"
     ]
    },
    {
     "data": {
      "application/vnd.jupyter.widget-view+json": {
       "model_id": "590142fe2f774140a4cce8bcf72f384a",
       "version_major": 2,
       "version_minor": 0
      },
      "text/plain": [
       "HBox(children=(FloatProgress(value=0.0, description='*********Evaluation mode*******', max=40.0, style=Progres…"
      ]
     },
     "metadata": {},
     "output_type": "display_data"
    },
    {
     "name": "stdout",
     "output_type": "stream",
     "text": [
      "\n",
      "Epoch [61/100], Eval Loss: 0.5086\n"
     ]
    },
    {
     "data": {
      "application/vnd.jupyter.widget-view+json": {
       "model_id": "0d8dfe113209402b922424cce04f65f1",
       "version_major": 2,
       "version_minor": 0
      },
      "text/plain": [
       "HBox(children=(FloatProgress(value=0.0, description='*********Train mode*******', max=354.0, style=ProgressSty…"
      ]
     },
     "metadata": {},
     "output_type": "display_data"
    },
    {
     "name": "stdout",
     "output_type": "stream",
     "text": [
      "\n",
      "Epoch [62/100], Train Loss: 0.4237\n",
      "Train Time:  8002.761548280716\n"
     ]
    },
    {
     "data": {
      "application/vnd.jupyter.widget-view+json": {
       "model_id": "534d56a50ff847e3ade0434026903ad8",
       "version_major": 2,
       "version_minor": 0
      },
      "text/plain": [
       "HBox(children=(FloatProgress(value=0.0, description='*********Evaluation mode*******', max=40.0, style=Progres…"
      ]
     },
     "metadata": {},
     "output_type": "display_data"
    },
    {
     "name": "stdout",
     "output_type": "stream",
     "text": [
      "\n",
      "Epoch [62/100], Eval Loss: 0.3802\n"
     ]
    },
    {
     "data": {
      "application/vnd.jupyter.widget-view+json": {
       "model_id": "bf6fe41c1a494a0cbd8023963ba54b24",
       "version_major": 2,
       "version_minor": 0
      },
      "text/plain": [
       "HBox(children=(FloatProgress(value=0.0, description='*********Train mode*******', max=354.0, style=ProgressSty…"
      ]
     },
     "metadata": {},
     "output_type": "display_data"
    },
    {
     "name": "stdout",
     "output_type": "stream",
     "text": [
      "\n",
      "Epoch [63/100], Train Loss: 0.4405\n",
      "Train Time:  8130.833926439285\n"
     ]
    },
    {
     "data": {
      "application/vnd.jupyter.widget-view+json": {
       "model_id": "d4a00df32276403f8a62b39e9178cffe",
       "version_major": 2,
       "version_minor": 0
      },
      "text/plain": [
       "HBox(children=(FloatProgress(value=0.0, description='*********Evaluation mode*******', max=40.0, style=Progres…"
      ]
     },
     "metadata": {},
     "output_type": "display_data"
    },
    {
     "name": "stdout",
     "output_type": "stream",
     "text": [
      "\n",
      "Epoch [63/100], Eval Loss: 0.4333\n"
     ]
    },
    {
     "data": {
      "application/vnd.jupyter.widget-view+json": {
       "model_id": "fe802c3579e34b8ca3a952730e185dbe",
       "version_major": 2,
       "version_minor": 0
      },
      "text/plain": [
       "HBox(children=(FloatProgress(value=0.0, description='*********Train mode*******', max=354.0, style=ProgressSty…"
      ]
     },
     "metadata": {},
     "output_type": "display_data"
    },
    {
     "name": "stdout",
     "output_type": "stream",
     "text": [
      "\n",
      "Epoch [64/100], Train Loss: 0.4063\n",
      "Train Time:  8258.942025661469\n"
     ]
    },
    {
     "data": {
      "application/vnd.jupyter.widget-view+json": {
       "model_id": "2f79562f507d4c7c92701eb35a31b239",
       "version_major": 2,
       "version_minor": 0
      },
      "text/plain": [
       "HBox(children=(FloatProgress(value=0.0, description='*********Evaluation mode*******', max=40.0, style=Progres…"
      ]
     },
     "metadata": {},
     "output_type": "display_data"
    },
    {
     "name": "stdout",
     "output_type": "stream",
     "text": [
      "\n",
      "Epoch [64/100], Eval Loss: 0.4879\n"
     ]
    },
    {
     "data": {
      "application/vnd.jupyter.widget-view+json": {
       "model_id": "67a62dd343984664b41b8a9bbc5deded",
       "version_major": 2,
       "version_minor": 0
      },
      "text/plain": [
       "HBox(children=(FloatProgress(value=0.0, description='*********Train mode*******', max=354.0, style=ProgressSty…"
      ]
     },
     "metadata": {},
     "output_type": "display_data"
    },
    {
     "name": "stdout",
     "output_type": "stream",
     "text": [
      "\n",
      "Epoch [65/100], Train Loss: 0.3495\n",
      "Train Time:  8386.947779655457\n"
     ]
    },
    {
     "data": {
      "application/vnd.jupyter.widget-view+json": {
       "model_id": "530aca90f7044d35b057fa5586eb73ff",
       "version_major": 2,
       "version_minor": 0
      },
      "text/plain": [
       "HBox(children=(FloatProgress(value=0.0, description='*********Evaluation mode*******', max=40.0, style=Progres…"
      ]
     },
     "metadata": {},
     "output_type": "display_data"
    },
    {
     "name": "stdout",
     "output_type": "stream",
     "text": [
      "\n",
      "Epoch [65/100], Eval Loss: 0.3355\n"
     ]
    },
    {
     "data": {
      "application/vnd.jupyter.widget-view+json": {
       "model_id": "89ee15d19cc84d86b33ebfe0896f1552",
       "version_major": 2,
       "version_minor": 0
      },
      "text/plain": [
       "HBox(children=(FloatProgress(value=0.0, description='*********Train mode*******', max=354.0, style=ProgressSty…"
      ]
     },
     "metadata": {},
     "output_type": "display_data"
    },
    {
     "name": "stdout",
     "output_type": "stream",
     "text": [
      "\n",
      "Epoch [66/100], Train Loss: 0.3603\n",
      "Train Time:  8514.979775190353\n"
     ]
    },
    {
     "data": {
      "application/vnd.jupyter.widget-view+json": {
       "model_id": "21c99101957f40e9a5d2e8585e825bbd",
       "version_major": 2,
       "version_minor": 0
      },
      "text/plain": [
       "HBox(children=(FloatProgress(value=0.0, description='*********Evaluation mode*******', max=40.0, style=Progres…"
      ]
     },
     "metadata": {},
     "output_type": "display_data"
    },
    {
     "name": "stdout",
     "output_type": "stream",
     "text": [
      "\n",
      "Epoch [66/100], Eval Loss: 0.5890\n"
     ]
    },
    {
     "data": {
      "application/vnd.jupyter.widget-view+json": {
       "model_id": "189b231c4bd1475b9dc6aa4a5eb10df8",
       "version_major": 2,
       "version_minor": 0
      },
      "text/plain": [
       "HBox(children=(FloatProgress(value=0.0, description='*********Train mode*******', max=354.0, style=ProgressSty…"
      ]
     },
     "metadata": {},
     "output_type": "display_data"
    },
    {
     "name": "stdout",
     "output_type": "stream",
     "text": [
      "\n",
      "Epoch [67/100], Train Loss: 0.3727\n",
      "Train Time:  8643.036550045013\n"
     ]
    },
    {
     "data": {
      "application/vnd.jupyter.widget-view+json": {
       "model_id": "7107dcc3092943b88307377b1dc519fd",
       "version_major": 2,
       "version_minor": 0
      },
      "text/plain": [
       "HBox(children=(FloatProgress(value=0.0, description='*********Evaluation mode*******', max=40.0, style=Progres…"
      ]
     },
     "metadata": {},
     "output_type": "display_data"
    },
    {
     "name": "stdout",
     "output_type": "stream",
     "text": [
      "\n",
      "Epoch [67/100], Eval Loss: 0.4306\n"
     ]
    },
    {
     "data": {
      "application/vnd.jupyter.widget-view+json": {
       "model_id": "af7223180bd54ef2a918c3707c0e6f35",
       "version_major": 2,
       "version_minor": 0
      },
      "text/plain": [
       "HBox(children=(FloatProgress(value=0.0, description='*********Train mode*******', max=354.0, style=ProgressSty…"
      ]
     },
     "metadata": {},
     "output_type": "display_data"
    },
    {
     "name": "stdout",
     "output_type": "stream",
     "text": [
      "\n",
      "Epoch [68/100], Train Loss: 0.3449\n",
      "Train Time:  8771.388930797577\n"
     ]
    },
    {
     "data": {
      "application/vnd.jupyter.widget-view+json": {
       "model_id": "5bebd4fd8b9842cd833e29d86f6a6d92",
       "version_major": 2,
       "version_minor": 0
      },
      "text/plain": [
       "HBox(children=(FloatProgress(value=0.0, description='*********Evaluation mode*******', max=40.0, style=Progres…"
      ]
     },
     "metadata": {},
     "output_type": "display_data"
    },
    {
     "name": "stdout",
     "output_type": "stream",
     "text": [
      "\n",
      "Epoch [68/100], Eval Loss: 0.3159\n"
     ]
    },
    {
     "data": {
      "application/vnd.jupyter.widget-view+json": {
       "model_id": "eceaff66f49c4e5d828ec647969dd125",
       "version_major": 2,
       "version_minor": 0
      },
      "text/plain": [
       "HBox(children=(FloatProgress(value=0.0, description='*********Train mode*******', max=354.0, style=ProgressSty…"
      ]
     },
     "metadata": {},
     "output_type": "display_data"
    },
    {
     "name": "stdout",
     "output_type": "stream",
     "text": [
      "\n",
      "Epoch [69/100], Train Loss: 0.3294\n",
      "Train Time:  8899.552489757538\n"
     ]
    },
    {
     "data": {
      "application/vnd.jupyter.widget-view+json": {
       "model_id": "7a4a49914053477c851662ad4c3b686e",
       "version_major": 2,
       "version_minor": 0
      },
      "text/plain": [
       "HBox(children=(FloatProgress(value=0.0, description='*********Evaluation mode*******', max=40.0, style=Progres…"
      ]
     },
     "metadata": {},
     "output_type": "display_data"
    },
    {
     "name": "stdout",
     "output_type": "stream",
     "text": [
      "\n",
      "Epoch [69/100], Eval Loss: 0.7744\n"
     ]
    },
    {
     "data": {
      "application/vnd.jupyter.widget-view+json": {
       "model_id": "f88e7c1a82a1428c9ca7c6005a23d598",
       "version_major": 2,
       "version_minor": 0
      },
      "text/plain": [
       "HBox(children=(FloatProgress(value=0.0, description='*********Train mode*******', max=354.0, style=ProgressSty…"
      ]
     },
     "metadata": {},
     "output_type": "display_data"
    },
    {
     "name": "stdout",
     "output_type": "stream",
     "text": [
      "\n",
      "Epoch [70/100], Train Loss: 0.3375\n",
      "Train Time:  9027.625270843506\n"
     ]
    },
    {
     "data": {
      "application/vnd.jupyter.widget-view+json": {
       "model_id": "65736c286af443779ae8f3fcd3443feb",
       "version_major": 2,
       "version_minor": 0
      },
      "text/plain": [
       "HBox(children=(FloatProgress(value=0.0, description='*********Evaluation mode*******', max=40.0, style=Progres…"
      ]
     },
     "metadata": {},
     "output_type": "display_data"
    },
    {
     "name": "stdout",
     "output_type": "stream",
     "text": [
      "\n",
      "Epoch [70/100], Eval Loss: 0.3168\n"
     ]
    },
    {
     "data": {
      "application/vnd.jupyter.widget-view+json": {
       "model_id": "872ef1c855e24e67a72f01c5729de94a",
       "version_major": 2,
       "version_minor": 0
      },
      "text/plain": [
       "HBox(children=(FloatProgress(value=0.0, description='*********Train mode*******', max=354.0, style=ProgressSty…"
      ]
     },
     "metadata": {},
     "output_type": "display_data"
    },
    {
     "name": "stdout",
     "output_type": "stream",
     "text": [
      "\n",
      "Epoch [71/100], Train Loss: 0.2867\n",
      "Train Time:  9155.875145435333\n"
     ]
    },
    {
     "data": {
      "application/vnd.jupyter.widget-view+json": {
       "model_id": "e90c054d56b34b3dbf966d657e119c4a",
       "version_major": 2,
       "version_minor": 0
      },
      "text/plain": [
       "HBox(children=(FloatProgress(value=0.0, description='*********Evaluation mode*******', max=40.0, style=Progres…"
      ]
     },
     "metadata": {},
     "output_type": "display_data"
    },
    {
     "name": "stdout",
     "output_type": "stream",
     "text": [
      "\n",
      "Epoch [71/100], Eval Loss: 0.1892\n",
      "Best Model saved......\n"
     ]
    },
    {
     "data": {
      "application/vnd.jupyter.widget-view+json": {
       "model_id": "93966e0f430f407a9f5d37edb7677a9a",
       "version_major": 2,
       "version_minor": 0
      },
      "text/plain": [
       "HBox(children=(FloatProgress(value=0.0, description='*********Train mode*******', max=354.0, style=ProgressSty…"
      ]
     },
     "metadata": {},
     "output_type": "display_data"
    },
    {
     "name": "stdout",
     "output_type": "stream",
     "text": [
      "\n",
      "Epoch [72/100], Train Loss: 0.2548\n",
      "Train Time:  9287.683264017105\n"
     ]
    },
    {
     "data": {
      "application/vnd.jupyter.widget-view+json": {
       "model_id": "cb37eaa0ef0f4577a2488506341465ee",
       "version_major": 2,
       "version_minor": 0
      },
      "text/plain": [
       "HBox(children=(FloatProgress(value=0.0, description='*********Evaluation mode*******', max=40.0, style=Progres…"
      ]
     },
     "metadata": {},
     "output_type": "display_data"
    },
    {
     "name": "stdout",
     "output_type": "stream",
     "text": [
      "\n",
      "Epoch [72/100], Eval Loss: 0.1713\n",
      "Best Model saved......\n"
     ]
    },
    {
     "data": {
      "application/vnd.jupyter.widget-view+json": {
       "model_id": "d4515cf3b7614a8d9d9009909ab84753",
       "version_major": 2,
       "version_minor": 0
      },
      "text/plain": [
       "HBox(children=(FloatProgress(value=0.0, description='*********Train mode*******', max=354.0, style=ProgressSty…"
      ]
     },
     "metadata": {},
     "output_type": "display_data"
    },
    {
     "name": "stdout",
     "output_type": "stream",
     "text": [
      "\n",
      "Epoch [73/100], Train Loss: 0.2331\n",
      "Train Time:  9425.086566209793\n"
     ]
    },
    {
     "data": {
      "application/vnd.jupyter.widget-view+json": {
       "model_id": "5d30686cb51f42368d65f7665c03378a",
       "version_major": 2,
       "version_minor": 0
      },
      "text/plain": [
       "HBox(children=(FloatProgress(value=0.0, description='*********Evaluation mode*******', max=40.0, style=Progres…"
      ]
     },
     "metadata": {},
     "output_type": "display_data"
    },
    {
     "name": "stdout",
     "output_type": "stream",
     "text": [
      "\n",
      "Epoch [73/100], Eval Loss: 0.2101\n"
     ]
    },
    {
     "data": {
      "application/vnd.jupyter.widget-view+json": {
       "model_id": "04428123edf941f899196396a43ba376",
       "version_major": 2,
       "version_minor": 0
      },
      "text/plain": [
       "HBox(children=(FloatProgress(value=0.0, description='*********Train mode*******', max=354.0, style=ProgressSty…"
      ]
     },
     "metadata": {},
     "output_type": "display_data"
    },
    {
     "name": "stdout",
     "output_type": "stream",
     "text": [
      "\n",
      "Epoch [74/100], Train Loss: 0.2283\n",
      "Train Time:  9553.224426031113\n"
     ]
    },
    {
     "data": {
      "application/vnd.jupyter.widget-view+json": {
       "model_id": "9c6832f04c2c479a88a194aabda62066",
       "version_major": 2,
       "version_minor": 0
      },
      "text/plain": [
       "HBox(children=(FloatProgress(value=0.0, description='*********Evaluation mode*******', max=40.0, style=Progres…"
      ]
     },
     "metadata": {},
     "output_type": "display_data"
    },
    {
     "name": "stdout",
     "output_type": "stream",
     "text": [
      "\n",
      "Epoch [74/100], Eval Loss: 0.1055\n",
      "Best Model saved......\n"
     ]
    },
    {
     "data": {
      "application/vnd.jupyter.widget-view+json": {
       "model_id": "16fb2a735e874bb5a008dcfa662c9ef5",
       "version_major": 2,
       "version_minor": 0
      },
      "text/plain": [
       "HBox(children=(FloatProgress(value=0.0, description='*********Train mode*******', max=354.0, style=ProgressSty…"
      ]
     },
     "metadata": {},
     "output_type": "display_data"
    },
    {
     "name": "stdout",
     "output_type": "stream",
     "text": [
      "\n",
      "Epoch [75/100], Train Loss: 0.2107\n",
      "Train Time:  9687.664631605148\n"
     ]
    },
    {
     "data": {
      "application/vnd.jupyter.widget-view+json": {
       "model_id": "db2c4295ed0848668b01a4b1daa75d81",
       "version_major": 2,
       "version_minor": 0
      },
      "text/plain": [
       "HBox(children=(FloatProgress(value=0.0, description='*********Evaluation mode*******', max=40.0, style=Progres…"
      ]
     },
     "metadata": {},
     "output_type": "display_data"
    },
    {
     "name": "stdout",
     "output_type": "stream",
     "text": [
      "\n",
      "Epoch [75/100], Eval Loss: 0.2468\n"
     ]
    },
    {
     "data": {
      "application/vnd.jupyter.widget-view+json": {
       "model_id": "a1bdafda627146729f98847d53b97694",
       "version_major": 2,
       "version_minor": 0
      },
      "text/plain": [
       "HBox(children=(FloatProgress(value=0.0, description='*********Train mode*******', max=354.0, style=ProgressSty…"
      ]
     },
     "metadata": {},
     "output_type": "display_data"
    },
    {
     "name": "stdout",
     "output_type": "stream",
     "text": [
      "\n",
      "Epoch [76/100], Train Loss: 0.1885\n",
      "Train Time:  9815.793080329895\n"
     ]
    },
    {
     "data": {
      "application/vnd.jupyter.widget-view+json": {
       "model_id": "c231967fa6c947108b68792c3504b654",
       "version_major": 2,
       "version_minor": 0
      },
      "text/plain": [
       "HBox(children=(FloatProgress(value=0.0, description='*********Evaluation mode*******', max=40.0, style=Progres…"
      ]
     },
     "metadata": {},
     "output_type": "display_data"
    },
    {
     "name": "stdout",
     "output_type": "stream",
     "text": [
      "\n",
      "Epoch [76/100], Eval Loss: 0.2332\n"
     ]
    },
    {
     "data": {
      "application/vnd.jupyter.widget-view+json": {
       "model_id": "e75080d0cd2f4002ae627ab6da23245d",
       "version_major": 2,
       "version_minor": 0
      },
      "text/plain": [
       "HBox(children=(FloatProgress(value=0.0, description='*********Train mode*******', max=354.0, style=ProgressSty…"
      ]
     },
     "metadata": {},
     "output_type": "display_data"
    },
    {
     "name": "stdout",
     "output_type": "stream",
     "text": [
      "\n",
      "Epoch [77/100], Train Loss: 0.1699\n",
      "Train Time:  9943.675224542618\n"
     ]
    },
    {
     "data": {
      "application/vnd.jupyter.widget-view+json": {
       "model_id": "f1230e688822458398252d5af569b86e",
       "version_major": 2,
       "version_minor": 0
      },
      "text/plain": [
       "HBox(children=(FloatProgress(value=0.0, description='*********Evaluation mode*******', max=40.0, style=Progres…"
      ]
     },
     "metadata": {},
     "output_type": "display_data"
    },
    {
     "name": "stdout",
     "output_type": "stream",
     "text": [
      "\n",
      "Epoch [77/100], Eval Loss: 0.2516\n"
     ]
    },
    {
     "data": {
      "application/vnd.jupyter.widget-view+json": {
       "model_id": "f36c28cac00e43ec90fc1f645da4a75d",
       "version_major": 2,
       "version_minor": 0
      },
      "text/plain": [
       "HBox(children=(FloatProgress(value=0.0, description='*********Train mode*******', max=354.0, style=ProgressSty…"
      ]
     },
     "metadata": {},
     "output_type": "display_data"
    },
    {
     "name": "stdout",
     "output_type": "stream",
     "text": [
      "\n",
      "Epoch [78/100], Train Loss: 0.1751\n",
      "Train Time:  10071.526967287064\n"
     ]
    },
    {
     "data": {
      "application/vnd.jupyter.widget-view+json": {
       "model_id": "b5e4bb42800a4ab1858d31087f39f355",
       "version_major": 2,
       "version_minor": 0
      },
      "text/plain": [
       "HBox(children=(FloatProgress(value=0.0, description='*********Evaluation mode*******', max=40.0, style=Progres…"
      ]
     },
     "metadata": {},
     "output_type": "display_data"
    },
    {
     "name": "stdout",
     "output_type": "stream",
     "text": [
      "\n",
      "Epoch [78/100], Eval Loss: 0.1484\n"
     ]
    },
    {
     "data": {
      "application/vnd.jupyter.widget-view+json": {
       "model_id": "2fe7f8e9152e4759ac87332844a12a3b",
       "version_major": 2,
       "version_minor": 0
      },
      "text/plain": [
       "HBox(children=(FloatProgress(value=0.0, description='*********Train mode*******', max=354.0, style=ProgressSty…"
      ]
     },
     "metadata": {},
     "output_type": "display_data"
    },
    {
     "name": "stdout",
     "output_type": "stream",
     "text": [
      "\n",
      "Epoch [79/100], Train Loss: 0.1639\n",
      "Train Time:  10199.683714389801\n"
     ]
    },
    {
     "data": {
      "application/vnd.jupyter.widget-view+json": {
       "model_id": "759ddd5ee52d4f23b65f6268800b42e8",
       "version_major": 2,
       "version_minor": 0
      },
      "text/plain": [
       "HBox(children=(FloatProgress(value=0.0, description='*********Evaluation mode*******', max=40.0, style=Progres…"
      ]
     },
     "metadata": {},
     "output_type": "display_data"
    },
    {
     "name": "stdout",
     "output_type": "stream",
     "text": [
      "\n",
      "Epoch [79/100], Eval Loss: 0.1704\n"
     ]
    },
    {
     "data": {
      "application/vnd.jupyter.widget-view+json": {
       "model_id": "9be7dbaadd11402598acea1472648c0a",
       "version_major": 2,
       "version_minor": 0
      },
      "text/plain": [
       "HBox(children=(FloatProgress(value=0.0, description='*********Train mode*******', max=354.0, style=ProgressSty…"
      ]
     },
     "metadata": {},
     "output_type": "display_data"
    },
    {
     "name": "stdout",
     "output_type": "stream",
     "text": [
      "\n",
      "Epoch [80/100], Train Loss: 0.1392\n",
      "Train Time:  10327.703274011612\n"
     ]
    },
    {
     "data": {
      "application/vnd.jupyter.widget-view+json": {
       "model_id": "1ff3a5cb375f44b497027fcc813e4f80",
       "version_major": 2,
       "version_minor": 0
      },
      "text/plain": [
       "HBox(children=(FloatProgress(value=0.0, description='*********Evaluation mode*******', max=40.0, style=Progres…"
      ]
     },
     "metadata": {},
     "output_type": "display_data"
    },
    {
     "name": "stdout",
     "output_type": "stream",
     "text": [
      "\n",
      "Epoch [80/100], Eval Loss: 0.1219\n"
     ]
    },
    {
     "data": {
      "application/vnd.jupyter.widget-view+json": {
       "model_id": "6eb95164f707492581543ba978340818",
       "version_major": 2,
       "version_minor": 0
      },
      "text/plain": [
       "HBox(children=(FloatProgress(value=0.0, description='*********Train mode*******', max=354.0, style=ProgressSty…"
      ]
     },
     "metadata": {},
     "output_type": "display_data"
    },
    {
     "name": "stdout",
     "output_type": "stream",
     "text": [
      "\n",
      "Epoch [81/100], Train Loss: 0.1357\n",
      "Train Time:  10455.954205989838\n"
     ]
    },
    {
     "data": {
      "application/vnd.jupyter.widget-view+json": {
       "model_id": "2a47f5be10cb40b28082a4bcc54c839c",
       "version_major": 2,
       "version_minor": 0
      },
      "text/plain": [
       "HBox(children=(FloatProgress(value=0.0, description='*********Evaluation mode*******', max=40.0, style=Progres…"
      ]
     },
     "metadata": {},
     "output_type": "display_data"
    },
    {
     "name": "stdout",
     "output_type": "stream",
     "text": [
      "\n",
      "Epoch [81/100], Eval Loss: 0.1019\n",
      "Best Model saved......\n"
     ]
    },
    {
     "data": {
      "application/vnd.jupyter.widget-view+json": {
       "model_id": "371b3d61d8944732b8a698e8d4562351",
       "version_major": 2,
       "version_minor": 0
      },
      "text/plain": [
       "HBox(children=(FloatProgress(value=0.0, description='*********Train mode*******', max=354.0, style=ProgressSty…"
      ]
     },
     "metadata": {},
     "output_type": "display_data"
    },
    {
     "name": "stdout",
     "output_type": "stream",
     "text": [
      "\n",
      "Epoch [82/100], Train Loss: 0.1278\n",
      "Train Time:  10590.1057035923\n"
     ]
    },
    {
     "data": {
      "application/vnd.jupyter.widget-view+json": {
       "model_id": "b70b868b66ff4d06a357ce295a9fdc1c",
       "version_major": 2,
       "version_minor": 0
      },
      "text/plain": [
       "HBox(children=(FloatProgress(value=0.0, description='*********Evaluation mode*******', max=40.0, style=Progres…"
      ]
     },
     "metadata": {},
     "output_type": "display_data"
    },
    {
     "name": "stdout",
     "output_type": "stream",
     "text": [
      "\n",
      "Epoch [82/100], Eval Loss: 0.0574\n",
      "Best Model saved......\n"
     ]
    },
    {
     "data": {
      "application/vnd.jupyter.widget-view+json": {
       "model_id": "7e66c6a2693b49ceaf7eec1ce2713de9",
       "version_major": 2,
       "version_minor": 0
      },
      "text/plain": [
       "HBox(children=(FloatProgress(value=0.0, description='*********Train mode*******', max=354.0, style=ProgressSty…"
      ]
     },
     "metadata": {},
     "output_type": "display_data"
    },
    {
     "name": "stdout",
     "output_type": "stream",
     "text": [
      "\n",
      "Epoch [83/100], Train Loss: 0.1029\n",
      "Train Time:  10724.45643544197\n"
     ]
    },
    {
     "data": {
      "application/vnd.jupyter.widget-view+json": {
       "model_id": "9558eb7b468b4319bb1b6d0aab6be4e5",
       "version_major": 2,
       "version_minor": 0
      },
      "text/plain": [
       "HBox(children=(FloatProgress(value=0.0, description='*********Evaluation mode*******', max=40.0, style=Progres…"
      ]
     },
     "metadata": {},
     "output_type": "display_data"
    },
    {
     "name": "stdout",
     "output_type": "stream",
     "text": [
      "\n",
      "Epoch [83/100], Eval Loss: 0.0904\n"
     ]
    },
    {
     "data": {
      "application/vnd.jupyter.widget-view+json": {
       "model_id": "7102ed25a93141d4baa5d0f55efcbabe",
       "version_major": 2,
       "version_minor": 0
      },
      "text/plain": [
       "HBox(children=(FloatProgress(value=0.0, description='*********Train mode*******', max=354.0, style=ProgressSty…"
      ]
     },
     "metadata": {},
     "output_type": "display_data"
    },
    {
     "name": "stdout",
     "output_type": "stream",
     "text": [
      "\n",
      "Epoch [84/100], Train Loss: 0.0842\n",
      "Train Time:  10852.37207865715\n"
     ]
    },
    {
     "data": {
      "application/vnd.jupyter.widget-view+json": {
       "model_id": "9b2e6d6e384f49858d82dfd829767df7",
       "version_major": 2,
       "version_minor": 0
      },
      "text/plain": [
       "HBox(children=(FloatProgress(value=0.0, description='*********Evaluation mode*******', max=40.0, style=Progres…"
      ]
     },
     "metadata": {},
     "output_type": "display_data"
    },
    {
     "name": "stdout",
     "output_type": "stream",
     "text": [
      "\n",
      "Epoch [84/100], Eval Loss: 0.0396\n",
      "Best Model saved......\n"
     ]
    },
    {
     "data": {
      "application/vnd.jupyter.widget-view+json": {
       "model_id": "b347c746f2c8471da82d596f7027dec5",
       "version_major": 2,
       "version_minor": 0
      },
      "text/plain": [
       "HBox(children=(FloatProgress(value=0.0, description='*********Train mode*******', max=354.0, style=ProgressSty…"
      ]
     },
     "metadata": {},
     "output_type": "display_data"
    },
    {
     "name": "stdout",
     "output_type": "stream",
     "text": [
      "\n",
      "Epoch [85/100], Train Loss: 0.0806\n",
      "Train Time:  10987.96836900711\n"
     ]
    },
    {
     "data": {
      "application/vnd.jupyter.widget-view+json": {
       "model_id": "5ec9cfdb76aa46eebd56afeeaa2cac60",
       "version_major": 2,
       "version_minor": 0
      },
      "text/plain": [
       "HBox(children=(FloatProgress(value=0.0, description='*********Evaluation mode*******', max=40.0, style=Progres…"
      ]
     },
     "metadata": {},
     "output_type": "display_data"
    },
    {
     "name": "stdout",
     "output_type": "stream",
     "text": [
      "\n",
      "Epoch [85/100], Eval Loss: 0.1165\n"
     ]
    },
    {
     "data": {
      "application/vnd.jupyter.widget-view+json": {
       "model_id": "a778aaf6c2c54dd5af825224309cca17",
       "version_major": 2,
       "version_minor": 0
      },
      "text/plain": [
       "HBox(children=(FloatProgress(value=0.0, description='*********Train mode*******', max=354.0, style=ProgressSty…"
      ]
     },
     "metadata": {},
     "output_type": "display_data"
    },
    {
     "name": "stdout",
     "output_type": "stream",
     "text": [
      "\n",
      "Epoch [86/100], Train Loss: 0.0776\n",
      "Train Time:  11115.470651388168\n"
     ]
    },
    {
     "data": {
      "application/vnd.jupyter.widget-view+json": {
       "model_id": "f4baf9ba6c9e4bedbb0881f9f44c5640",
       "version_major": 2,
       "version_minor": 0
      },
      "text/plain": [
       "HBox(children=(FloatProgress(value=0.0, description='*********Evaluation mode*******', max=40.0, style=Progres…"
      ]
     },
     "metadata": {},
     "output_type": "display_data"
    },
    {
     "name": "stdout",
     "output_type": "stream",
     "text": [
      "\n",
      "Epoch [86/100], Eval Loss: 0.0436\n"
     ]
    },
    {
     "data": {
      "application/vnd.jupyter.widget-view+json": {
       "model_id": "a8136d21d0df447aafc46aab5acf490a",
       "version_major": 2,
       "version_minor": 0
      },
      "text/plain": [
       "HBox(children=(FloatProgress(value=0.0, description='*********Train mode*******', max=354.0, style=ProgressSty…"
      ]
     },
     "metadata": {},
     "output_type": "display_data"
    },
    {
     "name": "stdout",
     "output_type": "stream",
     "text": [
      "\n",
      "Epoch [87/100], Train Loss: 0.0585\n",
      "Train Time:  11244.313777923584\n"
     ]
    },
    {
     "data": {
      "application/vnd.jupyter.widget-view+json": {
       "model_id": "0e283c5da160427487c66f99360e60bf",
       "version_major": 2,
       "version_minor": 0
      },
      "text/plain": [
       "HBox(children=(FloatProgress(value=0.0, description='*********Evaluation mode*******', max=40.0, style=Progres…"
      ]
     },
     "metadata": {},
     "output_type": "display_data"
    },
    {
     "name": "stdout",
     "output_type": "stream",
     "text": [
      "\n",
      "Epoch [87/100], Eval Loss: 0.0454\n"
     ]
    },
    {
     "data": {
      "application/vnd.jupyter.widget-view+json": {
       "model_id": "578f0964e7404d22b6348d53b93c7912",
       "version_major": 2,
       "version_minor": 0
      },
      "text/plain": [
       "HBox(children=(FloatProgress(value=0.0, description='*********Train mode*******', max=354.0, style=ProgressSty…"
      ]
     },
     "metadata": {},
     "output_type": "display_data"
    },
    {
     "name": "stdout",
     "output_type": "stream",
     "text": [
      "\n",
      "Epoch [88/100], Train Loss: 0.0512\n",
      "Train Time:  11372.823839902878\n"
     ]
    },
    {
     "data": {
      "application/vnd.jupyter.widget-view+json": {
       "model_id": "2c5389dcd4634580ac896106ed6e515d",
       "version_major": 2,
       "version_minor": 0
      },
      "text/plain": [
       "HBox(children=(FloatProgress(value=0.0, description='*********Evaluation mode*******', max=40.0, style=Progres…"
      ]
     },
     "metadata": {},
     "output_type": "display_data"
    },
    {
     "name": "stdout",
     "output_type": "stream",
     "text": [
      "\n",
      "Epoch [88/100], Eval Loss: 0.0318\n",
      "Best Model saved......\n"
     ]
    },
    {
     "data": {
      "application/vnd.jupyter.widget-view+json": {
       "model_id": "ff747ea73e8a44c8928f75f62c3d0027",
       "version_major": 2,
       "version_minor": 0
      },
      "text/plain": [
       "HBox(children=(FloatProgress(value=0.0, description='*********Train mode*******', max=354.0, style=ProgressSty…"
      ]
     },
     "metadata": {},
     "output_type": "display_data"
    },
    {
     "name": "stdout",
     "output_type": "stream",
     "text": [
      "\n",
      "Epoch [89/100], Train Loss: 0.0471\n",
      "Train Time:  11508.968186855316\n"
     ]
    },
    {
     "data": {
      "application/vnd.jupyter.widget-view+json": {
       "model_id": "8a9325622eb143f68930211cecfd01ad",
       "version_major": 2,
       "version_minor": 0
      },
      "text/plain": [
       "HBox(children=(FloatProgress(value=0.0, description='*********Evaluation mode*******', max=40.0, style=Progres…"
      ]
     },
     "metadata": {},
     "output_type": "display_data"
    },
    {
     "name": "stdout",
     "output_type": "stream",
     "text": [
      "\n",
      "Epoch [89/100], Eval Loss: 0.0410\n"
     ]
    },
    {
     "data": {
      "application/vnd.jupyter.widget-view+json": {
       "model_id": "53b607042a344c9d989bb302a1af423b",
       "version_major": 2,
       "version_minor": 0
      },
      "text/plain": [
       "HBox(children=(FloatProgress(value=0.0, description='*********Train mode*******', max=354.0, style=ProgressSty…"
      ]
     },
     "metadata": {},
     "output_type": "display_data"
    },
    {
     "name": "stdout",
     "output_type": "stream",
     "text": [
      "\n",
      "Epoch [90/100], Train Loss: 0.0372\n",
      "Train Time:  11637.13002204895\n"
     ]
    },
    {
     "data": {
      "application/vnd.jupyter.widget-view+json": {
       "model_id": "5da62779422449e9aeaa5c9166aa6ff1",
       "version_major": 2,
       "version_minor": 0
      },
      "text/plain": [
       "HBox(children=(FloatProgress(value=0.0, description='*********Evaluation mode*******', max=40.0, style=Progres…"
      ]
     },
     "metadata": {},
     "output_type": "display_data"
    },
    {
     "name": "stdout",
     "output_type": "stream",
     "text": [
      "\n",
      "Epoch [90/100], Eval Loss: 0.0236\n",
      "Best Model saved......\n"
     ]
    },
    {
     "data": {
      "application/vnd.jupyter.widget-view+json": {
       "model_id": "d5f3e8cc401d4798a709b53b200cc097",
       "version_major": 2,
       "version_minor": 0
      },
      "text/plain": [
       "HBox(children=(FloatProgress(value=0.0, description='*********Train mode*******', max=354.0, style=ProgressSty…"
      ]
     },
     "metadata": {},
     "output_type": "display_data"
    },
    {
     "name": "stdout",
     "output_type": "stream",
     "text": [
      "\n",
      "Epoch [91/100], Train Loss: 0.0302\n",
      "Train Time:  11773.410532951355\n"
     ]
    },
    {
     "data": {
      "application/vnd.jupyter.widget-view+json": {
       "model_id": "2d91d1e2cea243b98edfb8f682823d92",
       "version_major": 2,
       "version_minor": 0
      },
      "text/plain": [
       "HBox(children=(FloatProgress(value=0.0, description='*********Evaluation mode*******', max=40.0, style=Progres…"
      ]
     },
     "metadata": {},
     "output_type": "display_data"
    },
    {
     "name": "stdout",
     "output_type": "stream",
     "text": [
      "\n",
      "Epoch [91/100], Eval Loss: 0.0283\n"
     ]
    },
    {
     "data": {
      "application/vnd.jupyter.widget-view+json": {
       "model_id": "af51d3d647d74b5ba84f51c55abeaca3",
       "version_major": 2,
       "version_minor": 0
      },
      "text/plain": [
       "HBox(children=(FloatProgress(value=0.0, description='*********Train mode*******', max=354.0, style=ProgressSty…"
      ]
     },
     "metadata": {},
     "output_type": "display_data"
    },
    {
     "name": "stdout",
     "output_type": "stream",
     "text": [
      "\n",
      "Epoch [92/100], Train Loss: 0.0246\n",
      "Train Time:  11901.799317836761\n"
     ]
    },
    {
     "data": {
      "application/vnd.jupyter.widget-view+json": {
       "model_id": "2c343fe110c9482897017650860a783f",
       "version_major": 2,
       "version_minor": 0
      },
      "text/plain": [
       "HBox(children=(FloatProgress(value=0.0, description='*********Evaluation mode*******', max=40.0, style=Progres…"
      ]
     },
     "metadata": {},
     "output_type": "display_data"
    },
    {
     "name": "stdout",
     "output_type": "stream",
     "text": [
      "\n",
      "Epoch [92/100], Eval Loss: 0.0221\n",
      "Best Model saved......\n"
     ]
    },
    {
     "data": {
      "application/vnd.jupyter.widget-view+json": {
       "model_id": "f08d0d3477b945178b229a1e2bc93360",
       "version_major": 2,
       "version_minor": 0
      },
      "text/plain": [
       "HBox(children=(FloatProgress(value=0.0, description='*********Train mode*******', max=354.0, style=ProgressSty…"
      ]
     },
     "metadata": {},
     "output_type": "display_data"
    },
    {
     "name": "stdout",
     "output_type": "stream",
     "text": [
      "\n",
      "Epoch [93/100], Train Loss: 0.0220\n",
      "Train Time:  12037.201773643494\n"
     ]
    },
    {
     "data": {
      "application/vnd.jupyter.widget-view+json": {
       "model_id": "6cce0217a3e0477b950c655931fb9ac2",
       "version_major": 2,
       "version_minor": 0
      },
      "text/plain": [
       "HBox(children=(FloatProgress(value=0.0, description='*********Evaluation mode*******', max=40.0, style=Progres…"
      ]
     },
     "metadata": {},
     "output_type": "display_data"
    },
    {
     "name": "stdout",
     "output_type": "stream",
     "text": [
      "\n",
      "Epoch [93/100], Eval Loss: 0.0248\n"
     ]
    },
    {
     "data": {
      "application/vnd.jupyter.widget-view+json": {
       "model_id": "b8ac8b0899be4b239a3ae1902a20ebd0",
       "version_major": 2,
       "version_minor": 0
      },
      "text/plain": [
       "HBox(children=(FloatProgress(value=0.0, description='*********Train mode*******', max=354.0, style=ProgressSty…"
      ]
     },
     "metadata": {},
     "output_type": "display_data"
    },
    {
     "name": "stdout",
     "output_type": "stream",
     "text": [
      "\n",
      "Epoch [94/100], Train Loss: 0.0182\n",
      "Train Time:  12165.322420835495\n"
     ]
    },
    {
     "data": {
      "application/vnd.jupyter.widget-view+json": {
       "model_id": "6608121b26f14d70a9206ad075b2ccf1",
       "version_major": 2,
       "version_minor": 0
      },
      "text/plain": [
       "HBox(children=(FloatProgress(value=0.0, description='*********Evaluation mode*******', max=40.0, style=Progres…"
      ]
     },
     "metadata": {},
     "output_type": "display_data"
    },
    {
     "name": "stdout",
     "output_type": "stream",
     "text": [
      "\n",
      "Epoch [94/100], Eval Loss: 0.0194\n",
      "Best Model saved......\n"
     ]
    },
    {
     "data": {
      "application/vnd.jupyter.widget-view+json": {
       "model_id": "b760141b59d34fa0ae6d06e499a50ddd",
       "version_major": 2,
       "version_minor": 0
      },
      "text/plain": [
       "HBox(children=(FloatProgress(value=0.0, description='*********Train mode*******', max=354.0, style=ProgressSty…"
      ]
     },
     "metadata": {},
     "output_type": "display_data"
    },
    {
     "name": "stdout",
     "output_type": "stream",
     "text": [
      "\n",
      "Epoch [95/100], Train Loss: 0.0167\n",
      "Train Time:  12300.396823883057\n"
     ]
    },
    {
     "data": {
      "application/vnd.jupyter.widget-view+json": {
       "model_id": "ebce1f13462a447293071d563591bbb1",
       "version_major": 2,
       "version_minor": 0
      },
      "text/plain": [
       "HBox(children=(FloatProgress(value=0.0, description='*********Evaluation mode*******', max=40.0, style=Progres…"
      ]
     },
     "metadata": {},
     "output_type": "display_data"
    },
    {
     "name": "stdout",
     "output_type": "stream",
     "text": [
      "\n",
      "Epoch [95/100], Eval Loss: 0.0164\n",
      "Best Model saved......\n"
     ]
    },
    {
     "data": {
      "application/vnd.jupyter.widget-view+json": {
       "model_id": "ae1b973ccd584f8ca26d576191559302",
       "version_major": 2,
       "version_minor": 0
      },
      "text/plain": [
       "HBox(children=(FloatProgress(value=0.0, description='*********Train mode*******', max=354.0, style=ProgressSty…"
      ]
     },
     "metadata": {},
     "output_type": "display_data"
    },
    {
     "name": "stdout",
     "output_type": "stream",
     "text": [
      "\n",
      "Epoch [96/100], Train Loss: 0.0162\n",
      "Train Time:  12435.761318922043\n"
     ]
    },
    {
     "data": {
      "application/vnd.jupyter.widget-view+json": {
       "model_id": "46c42fd7c9be47e8aa479c93f55554a2",
       "version_major": 2,
       "version_minor": 0
      },
      "text/plain": [
       "HBox(children=(FloatProgress(value=0.0, description='*********Evaluation mode*******', max=40.0, style=Progres…"
      ]
     },
     "metadata": {},
     "output_type": "display_data"
    },
    {
     "name": "stdout",
     "output_type": "stream",
     "text": [
      "\n",
      "Epoch [96/100], Eval Loss: 0.0161\n",
      "Best Model saved......\n"
     ]
    },
    {
     "data": {
      "application/vnd.jupyter.widget-view+json": {
       "model_id": "9ba643080efe4e1db694a4d855c611b7",
       "version_major": 2,
       "version_minor": 0
      },
      "text/plain": [
       "HBox(children=(FloatProgress(value=0.0, description='*********Train mode*******', max=354.0, style=ProgressSty…"
      ]
     },
     "metadata": {},
     "output_type": "display_data"
    },
    {
     "name": "stdout",
     "output_type": "stream",
     "text": [
      "\n",
      "Epoch [97/100], Train Loss: 0.0158\n",
      "Train Time:  12570.854737758636\n"
     ]
    },
    {
     "data": {
      "application/vnd.jupyter.widget-view+json": {
       "model_id": "721c81ec53a44537be491fd4c4d3e530",
       "version_major": 2,
       "version_minor": 0
      },
      "text/plain": [
       "HBox(children=(FloatProgress(value=0.0, description='*********Evaluation mode*******', max=40.0, style=Progres…"
      ]
     },
     "metadata": {},
     "output_type": "display_data"
    },
    {
     "name": "stdout",
     "output_type": "stream",
     "text": [
      "\n",
      "Epoch [97/100], Eval Loss: 0.0158\n",
      "Best Model saved......\n"
     ]
    },
    {
     "data": {
      "application/vnd.jupyter.widget-view+json": {
       "model_id": "2a9d1eaea3d84cbd87d85a5fc71e3bf9",
       "version_major": 2,
       "version_minor": 0
      },
      "text/plain": [
       "HBox(children=(FloatProgress(value=0.0, description='*********Train mode*******', max=354.0, style=ProgressSty…"
      ]
     },
     "metadata": {},
     "output_type": "display_data"
    },
    {
     "name": "stdout",
     "output_type": "stream",
     "text": [
      "\n",
      "Epoch [98/100], Train Loss: 0.0156\n",
      "Train Time:  12706.359946727753\n"
     ]
    },
    {
     "data": {
      "application/vnd.jupyter.widget-view+json": {
       "model_id": "821edf563c2148448d36a80798f16e40",
       "version_major": 2,
       "version_minor": 0
      },
      "text/plain": [
       "HBox(children=(FloatProgress(value=0.0, description='*********Evaluation mode*******', max=40.0, style=Progres…"
      ]
     },
     "metadata": {},
     "output_type": "display_data"
    },
    {
     "name": "stdout",
     "output_type": "stream",
     "text": [
      "\n",
      "Epoch [98/100], Eval Loss: 0.0156\n",
      "Best Model saved......\n"
     ]
    },
    {
     "data": {
      "application/vnd.jupyter.widget-view+json": {
       "model_id": "600bc87e43284e10929418cdabbebb49",
       "version_major": 2,
       "version_minor": 0
      },
      "text/plain": [
       "HBox(children=(FloatProgress(value=0.0, description='*********Train mode*******', max=354.0, style=ProgressSty…"
      ]
     },
     "metadata": {},
     "output_type": "display_data"
    },
    {
     "name": "stdout",
     "output_type": "stream",
     "text": [
      "\n",
      "Epoch [99/100], Train Loss: 0.0155\n",
      "Train Time:  12840.934664487839\n"
     ]
    },
    {
     "data": {
      "application/vnd.jupyter.widget-view+json": {
       "model_id": "9fbb43c653fe4868b7c00c338ecca80b",
       "version_major": 2,
       "version_minor": 0
      },
      "text/plain": [
       "HBox(children=(FloatProgress(value=0.0, description='*********Evaluation mode*******', max=40.0, style=Progres…"
      ]
     },
     "metadata": {},
     "output_type": "display_data"
    },
    {
     "name": "stdout",
     "output_type": "stream",
     "text": [
      "\n",
      "Epoch [99/100], Eval Loss: 0.0155\n",
      "Best Model saved......\n"
     ]
    },
    {
     "data": {
      "application/vnd.jupyter.widget-view+json": {
       "model_id": "e07acea8434e483b9e1cbbd60adc82ea",
       "version_major": 2,
       "version_minor": 0
      },
      "text/plain": [
       "HBox(children=(FloatProgress(value=0.0, description='*********Train mode*******', max=354.0, style=ProgressSty…"
      ]
     },
     "metadata": {},
     "output_type": "display_data"
    },
    {
     "name": "stdout",
     "output_type": "stream",
     "text": [
      "\n",
      "Epoch [100/100], Train Loss: 0.0154\n",
      "Train Time:  12973.50871682167\n"
     ]
    },
    {
     "data": {
      "application/vnd.jupyter.widget-view+json": {
       "model_id": "c02bd2d7d0f944ff88c488d47dc29964",
       "version_major": 2,
       "version_minor": 0
      },
      "text/plain": [
       "HBox(children=(FloatProgress(value=0.0, description='*********Evaluation mode*******', max=40.0, style=Progres…"
      ]
     },
     "metadata": {},
     "output_type": "display_data"
    },
    {
     "name": "stdout",
     "output_type": "stream",
     "text": [
      "\n",
      "Epoch [100/100], Eval Loss: 0.0155\n",
      "Best Model saved......\n"
     ]
    }
   ],
   "source": [
    "\"\"\"\n",
    "모델 학습\n",
    "\"\"\"\n",
    "\n",
    "total_step = len(train_loader) * epochs\n",
    "print(f\"Total step is....{total_step}\") # 모델이 학습하는 전체 step 계산.\n",
    "\n",
    "# 옵티마이저와 스케줄러의 파라미터들을 정의.\n",
    "\n",
    "no_decay = [\"bias\", \"LayerNorm.weight\"] # decay하지 않을 영역 지정.\n",
    "optimizer_grouped_parameters = [\n",
    "    {\n",
    "        \"params\": [p for n, p in model.named_parameters() if not any(nd in n for nd in no_decay)],\n",
    "        \"weight_decay\": 0.0,\n",
    "    },\n",
    "    {\"params\": [p for n, p in model.named_parameters() if any(nd in n for nd in no_decay)], \"weight_decay\": 0.0},\n",
    "]\n",
    "optimizer = AdamW(optimizer_grouped_parameters, lr=lr, eps=adam_epsilon)\n",
    "scheduler = get_cosine_with_hard_restarts_schedule_with_warmup(\n",
    "    optimizer, num_warmup_steps=warmup_step, num_training_steps=total_step\n",
    ")\n",
    "\n",
    "# train loss와 val loss, thick_loss 지정.\n",
    "total_loss = 0.0\n",
    "total_val_loss = 0.0\n",
    "total_thick_loss=0.0\n",
    "total_level_loss=0.0\n",
    "# 모델 이름을 위해서 변수 만듦.\n",
    "version = time.localtime()[3:5]\n",
    "curr_lr = lr\n",
    "\n",
    "n_val_loss = 10000000. # 가장 낮은 validation loss를 저장하기 위해서 변수 설정.\n",
    "train_loss_epoch=[]\n",
    "thick_loss_epoch=[]\n",
    "level_loss_epoch=[]\n",
    "val_loss_epoch=[]\n",
    "\n",
    "start = time.time() #학습시간\n",
    "for epoch in range(epochs):\n",
    "    total_loss = 0 \n",
    "    total_val_loss = 0\n",
    "    total_thik_loss=0\n",
    "    total_level_loss=0\n",
    "    for i, data in enumerate(tqdm(train_loader, desc='*********Train mode*******')):  # train 데이터를 부르고 학습.\n",
    "        # forward pass\n",
    "        pred = model(data['X'].float().to(device))\n",
    "        loss = loss_fn(pred, data['Y'].float().to(device))\n",
    "        \n",
    "        # backward pass\n",
    "        optimizer.zero_grad() # optimizer 객체 사용해서 학습 가능한 가중치 변수에 대한 모든 변화도를 0으로 만듦\n",
    "        loss.backward() \n",
    "        optimizer.step() # update optimizer params\n",
    "        scheduler.step() # update scheduler params\n",
    "        \n",
    "        total_loss += loss.item()\n",
    "        \n",
    "    train_loss = total_loss / len(train_loader)\n",
    "    train_loss_epoch.append(train_loss)\n",
    "    print (\"Epoch [{}/{}], Train Loss: {:.4f}\".format(epoch+1, epochs, train_loss))\n",
    "    print('Train Time: ',time.time()-start)\n",
    "\n",
    "    # evaluation\n",
    "    # validation 데이터를 부르고 epoch 마다 학습된 모델을 부르고 평가.\n",
    "    model.eval()\n",
    "    with torch.no_grad():\n",
    "        for i, data in enumerate(tqdm(val_loader, desc='*********Evaluation mode*******')):\n",
    "            pred = model(data['X'].float().to(device))\n",
    "            loss_val = loss_fn(pred, data['Y'].float().to(device))\n",
    "            loss_thick=loss_fn(pred[:,0],data['Y'].float().to(device)[:,0])\n",
    "            loss_level=loss_fn(pred[:,1],data['Y'].float().to(device)[:,1])\n",
    "            #print(pred[:,:])\n",
    "            #print(data['Y'].float().to(device))\n",
    "            total_val_loss += loss_val.item()\n",
    "            total_thick_loss = loss_thick.item()\n",
    "            total_level_loss = loss_level.item()\n",
    "    val_loss = total_val_loss / len(val_loader)\n",
    "    thick_loss = total_thick_loss / len(val_loader)\n",
    "    level_loss = total_level_loss/len(val_loader)\n",
    "    val_loss_epoch.append(val_loss)\n",
    "    thick_loss_epoch.append(thick_loss)\n",
    "    level_loss_epoch.append(level_loss)\n",
    "    print (\"Epoch [{}/{}], Eval Loss: {:.4f}\".format(epoch+1, epochs, val_loss))\n",
    "    \n",
    "    # best model을 저장.\n",
    "    if val_loss < n_val_loss:\n",
    "        n_val_loss = val_loss\n",
    "        torch.save(model.state_dict(), f'test_percent_unit_{version}_{lr}_{epochs}_MAE.pth')\n",
    "        print(\"Best Model saved......\")"
   ]
  },
  {
   "cell_type": "code",
   "execution_count": 32,
   "metadata": {},
   "outputs": [],
   "source": [
    "loss_array=np.array(thick_loss_epoch)\n",
    "loss_array2=np.array(val_loss_epoch)\n",
    "loss_array3=np.array(level_loss_epoch)\n",
    "loss_array4=np.array(train_loss_epoch)\n",
    "thick_loss_data=pd.DataFrame(loss_array)\n",
    "val_loss_data=pd.DataFrame(loss_array2)\n",
    "level_loss_data=pd.DataFrame(loss_array3)\n",
    "train_loss_data=pd.DataFrame(loss_array4)\n",
    "thick_loss_data.to_csv(f'MAE_thick_same_layer_percent_unit_dropout=0.1_loss_lr={lr}_epoch={epochs}_level.csv', index='epochs')#level을 동일하게 놔두면 평균 1nm까지 오차가 줄어든다.\n",
    "val_loss_data.to_csv(f'MAE_val_same_layer_percent_unit_dropout=0.1_loss_lr={lr}_epoch={epochs}_level.csv', index='epochs')\n",
    "level_loss_data.to_csv(f'MAE_level_same_layer_percent_unit_dropout=0.1_loss_lr={lr}_epoch={epochs}_level.csv', index='epochs')\n",
    "train_loss_data.to_csv(f'MAE_train_same_layer_percent_unit_dropout=0.1_loss_lr={lr}_epoch={epochs}_level.csv', index='epochs')"
   ]
  },
  {
   "cell_type": "code",
   "execution_count": 33,
   "metadata": {},
   "outputs": [
    {
     "data": {
      "text/html": [
       "<div>\n",
       "<style scoped>\n",
       "    .dataframe tbody tr th:only-of-type {\n",
       "        vertical-align: middle;\n",
       "    }\n",
       "\n",
       "    .dataframe tbody tr th {\n",
       "        vertical-align: top;\n",
       "    }\n",
       "\n",
       "    .dataframe thead th {\n",
       "        text-align: right;\n",
       "    }\n",
       "</style>\n",
       "<table border=\"1\" class=\"dataframe\">\n",
       "  <thead>\n",
       "    <tr style=\"text-align: right;\">\n",
       "      <th></th>\n",
       "      <th>0</th>\n",
       "    </tr>\n",
       "  </thead>\n",
       "  <tbody>\n",
       "    <tr>\n",
       "      <th>95</th>\n",
       "      <td>0.000645</td>\n",
       "    </tr>\n",
       "    <tr>\n",
       "      <th>96</th>\n",
       "      <td>0.000633</td>\n",
       "    </tr>\n",
       "    <tr>\n",
       "      <th>97</th>\n",
       "      <td>0.000628</td>\n",
       "    </tr>\n",
       "    <tr>\n",
       "      <th>98</th>\n",
       "      <td>0.000626</td>\n",
       "    </tr>\n",
       "    <tr>\n",
       "      <th>99</th>\n",
       "      <td>0.000625</td>\n",
       "    </tr>\n",
       "  </tbody>\n",
       "</table>\n",
       "</div>"
      ],
      "text/plain": [
       "           0\n",
       "95  0.000645\n",
       "96  0.000633\n",
       "97  0.000628\n",
       "98  0.000626\n",
       "99  0.000625"
      ]
     },
     "execution_count": 33,
     "metadata": {},
     "output_type": "execute_result"
    }
   ],
   "source": [
    "thick_loss_data.tail()"
   ]
  },
  {
   "cell_type": "code",
   "execution_count": 13,
   "metadata": {},
   "outputs": [
    {
     "data": {
      "text/html": [
       "<div>\n",
       "<style scoped>\n",
       "    .dataframe tbody tr th:only-of-type {\n",
       "        vertical-align: middle;\n",
       "    }\n",
       "\n",
       "    .dataframe tbody tr th {\n",
       "        vertical-align: top;\n",
       "    }\n",
       "\n",
       "    .dataframe thead th {\n",
       "        text-align: right;\n",
       "    }\n",
       "</style>\n",
       "<table border=\"1\" class=\"dataframe\">\n",
       "  <thead>\n",
       "    <tr style=\"text-align: right;\">\n",
       "      <th></th>\n",
       "      <th>0</th>\n",
       "    </tr>\n",
       "  </thead>\n",
       "  <tbody>\n",
       "    <tr>\n",
       "      <th>95</th>\n",
       "      <td>0.000416</td>\n",
       "    </tr>\n",
       "    <tr>\n",
       "      <th>96</th>\n",
       "      <td>0.000406</td>\n",
       "    </tr>\n",
       "    <tr>\n",
       "      <th>97</th>\n",
       "      <td>0.000394</td>\n",
       "    </tr>\n",
       "    <tr>\n",
       "      <th>98</th>\n",
       "      <td>0.000396</td>\n",
       "    </tr>\n",
       "    <tr>\n",
       "      <th>99</th>\n",
       "      <td>0.000392</td>\n",
       "    </tr>\n",
       "  </tbody>\n",
       "</table>\n",
       "</div>"
      ],
      "text/plain": [
       "           0\n",
       "95  0.000416\n",
       "96  0.000406\n",
       "97  0.000394\n",
       "98  0.000396\n",
       "99  0.000392"
      ]
     },
     "execution_count": 13,
     "metadata": {},
     "output_type": "execute_result"
    }
   ],
   "source": [
    "level_loss_data.tail()"
   ]
  },
  {
   "cell_type": "code",
   "execution_count": 15,
   "metadata": {},
   "outputs": [
    {
     "data": {
      "text/html": [
       "<div>\n",
       "<style scoped>\n",
       "    .dataframe tbody tr th:only-of-type {\n",
       "        vertical-align: middle;\n",
       "    }\n",
       "\n",
       "    .dataframe tbody tr th {\n",
       "        vertical-align: top;\n",
       "    }\n",
       "\n",
       "    .dataframe thead th {\n",
       "        text-align: right;\n",
       "    }\n",
       "</style>\n",
       "<table border=\"1\" class=\"dataframe\">\n",
       "  <thead>\n",
       "    <tr style=\"text-align: right;\">\n",
       "      <th></th>\n",
       "      <th>id</th>\n",
       "      <th>4500</th>\n",
       "      <th>4505</th>\n",
       "      <th>4510</th>\n",
       "      <th>4515</th>\n",
       "      <th>4520</th>\n",
       "      <th>4525</th>\n",
       "      <th>4530</th>\n",
       "      <th>4535</th>\n",
       "      <th>4540</th>\n",
       "      <th>...</th>\n",
       "      <th>8455</th>\n",
       "      <th>8460</th>\n",
       "      <th>8465</th>\n",
       "      <th>8470</th>\n",
       "      <th>8475</th>\n",
       "      <th>8480</th>\n",
       "      <th>8485</th>\n",
       "      <th>8490</th>\n",
       "      <th>8495</th>\n",
       "      <th>8500</th>\n",
       "    </tr>\n",
       "  </thead>\n",
       "  <tbody>\n",
       "    <tr>\n",
       "      <th>0</th>\n",
       "      <td>0</td>\n",
       "      <td>0.12692</td>\n",
       "      <td>0.12651</td>\n",
       "      <td>0.12613</td>\n",
       "      <td>0.12580</td>\n",
       "      <td>0.12548</td>\n",
       "      <td>0.12513</td>\n",
       "      <td>0.12482</td>\n",
       "      <td>0.12450</td>\n",
       "      <td>0.12409</td>\n",
       "      <td>...</td>\n",
       "      <td>0.27051</td>\n",
       "      <td>0.27108</td>\n",
       "      <td>0.27159</td>\n",
       "      <td>0.27195</td>\n",
       "      <td>0.27230</td>\n",
       "      <td>0.27256</td>\n",
       "      <td>0.27297</td>\n",
       "      <td>0.27330</td>\n",
       "      <td>0.27357</td>\n",
       "      <td>0.27394</td>\n",
       "    </tr>\n",
       "    <tr>\n",
       "      <th>1</th>\n",
       "      <td>1</td>\n",
       "      <td>0.12728</td>\n",
       "      <td>0.12690</td>\n",
       "      <td>0.12646</td>\n",
       "      <td>0.12611</td>\n",
       "      <td>0.12567</td>\n",
       "      <td>0.12535</td>\n",
       "      <td>0.12505</td>\n",
       "      <td>0.12477</td>\n",
       "      <td>0.12453</td>\n",
       "      <td>...</td>\n",
       "      <td>0.27191</td>\n",
       "      <td>0.27224</td>\n",
       "      <td>0.27269</td>\n",
       "      <td>0.27320</td>\n",
       "      <td>0.27367</td>\n",
       "      <td>0.27388</td>\n",
       "      <td>0.27435</td>\n",
       "      <td>0.27470</td>\n",
       "      <td>0.27509</td>\n",
       "      <td>0.27531</td>\n",
       "    </tr>\n",
       "    <tr>\n",
       "      <th>2</th>\n",
       "      <td>2</td>\n",
       "      <td>0.12705</td>\n",
       "      <td>0.12678</td>\n",
       "      <td>0.12650</td>\n",
       "      <td>0.12622</td>\n",
       "      <td>0.12593</td>\n",
       "      <td>0.12568</td>\n",
       "      <td>0.12540</td>\n",
       "      <td>0.12510</td>\n",
       "      <td>0.12473</td>\n",
       "      <td>...</td>\n",
       "      <td>0.27250</td>\n",
       "      <td>0.27275</td>\n",
       "      <td>0.27325</td>\n",
       "      <td>0.27354</td>\n",
       "      <td>0.27388</td>\n",
       "      <td>0.27431</td>\n",
       "      <td>0.27480</td>\n",
       "      <td>0.27529</td>\n",
       "      <td>0.27563</td>\n",
       "      <td>0.27599</td>\n",
       "    </tr>\n",
       "    <tr>\n",
       "      <th>3</th>\n",
       "      <td>3</td>\n",
       "      <td>0.12629</td>\n",
       "      <td>0.12587</td>\n",
       "      <td>0.12552</td>\n",
       "      <td>0.12526</td>\n",
       "      <td>0.12509</td>\n",
       "      <td>0.12499</td>\n",
       "      <td>0.12489</td>\n",
       "      <td>0.12479</td>\n",
       "      <td>0.12465</td>\n",
       "      <td>...</td>\n",
       "      <td>0.27305</td>\n",
       "      <td>0.27342</td>\n",
       "      <td>0.27385</td>\n",
       "      <td>0.27400</td>\n",
       "      <td>0.27461</td>\n",
       "      <td>0.27495</td>\n",
       "      <td>0.27530</td>\n",
       "      <td>0.27551</td>\n",
       "      <td>0.27627</td>\n",
       "      <td>0.27644</td>\n",
       "    </tr>\n",
       "    <tr>\n",
       "      <th>4</th>\n",
       "      <td>4</td>\n",
       "      <td>0.12699</td>\n",
       "      <td>0.12671</td>\n",
       "      <td>0.12636</td>\n",
       "      <td>0.12600</td>\n",
       "      <td>0.12560</td>\n",
       "      <td>0.12522</td>\n",
       "      <td>0.12489</td>\n",
       "      <td>0.12456</td>\n",
       "      <td>0.12431</td>\n",
       "      <td>...</td>\n",
       "      <td>0.27405</td>\n",
       "      <td>0.27436</td>\n",
       "      <td>0.27454</td>\n",
       "      <td>0.27500</td>\n",
       "      <td>0.27537</td>\n",
       "      <td>0.27571</td>\n",
       "      <td>0.27615</td>\n",
       "      <td>0.27656</td>\n",
       "      <td>0.27692</td>\n",
       "      <td>0.27729</td>\n",
       "    </tr>\n",
       "    <tr>\n",
       "      <th>5</th>\n",
       "      <td>5</td>\n",
       "      <td>0.12704</td>\n",
       "      <td>0.12667</td>\n",
       "      <td>0.12631</td>\n",
       "      <td>0.12599</td>\n",
       "      <td>0.12568</td>\n",
       "      <td>0.12534</td>\n",
       "      <td>0.12502</td>\n",
       "      <td>0.12461</td>\n",
       "      <td>0.12431</td>\n",
       "      <td>...</td>\n",
       "      <td>0.27485</td>\n",
       "      <td>0.27512</td>\n",
       "      <td>0.27542</td>\n",
       "      <td>0.27584</td>\n",
       "      <td>0.27607</td>\n",
       "      <td>0.27660</td>\n",
       "      <td>0.27693</td>\n",
       "      <td>0.27726</td>\n",
       "      <td>0.27770</td>\n",
       "      <td>0.27821</td>\n",
       "    </tr>\n",
       "    <tr>\n",
       "      <th>6</th>\n",
       "      <td>6</td>\n",
       "      <td>0.12791</td>\n",
       "      <td>0.12756</td>\n",
       "      <td>0.12714</td>\n",
       "      <td>0.12667</td>\n",
       "      <td>0.12620</td>\n",
       "      <td>0.12576</td>\n",
       "      <td>0.12534</td>\n",
       "      <td>0.12498</td>\n",
       "      <td>0.12473</td>\n",
       "      <td>...</td>\n",
       "      <td>0.27577</td>\n",
       "      <td>0.27608</td>\n",
       "      <td>0.27656</td>\n",
       "      <td>0.27693</td>\n",
       "      <td>0.27730</td>\n",
       "      <td>0.27771</td>\n",
       "      <td>0.27820</td>\n",
       "      <td>0.27850</td>\n",
       "      <td>0.27887</td>\n",
       "      <td>0.27935</td>\n",
       "    </tr>\n",
       "    <tr>\n",
       "      <th>7</th>\n",
       "      <td>7</td>\n",
       "      <td>0.12759</td>\n",
       "      <td>0.12720</td>\n",
       "      <td>0.12673</td>\n",
       "      <td>0.12629</td>\n",
       "      <td>0.12587</td>\n",
       "      <td>0.12551</td>\n",
       "      <td>0.12518</td>\n",
       "      <td>0.12487</td>\n",
       "      <td>0.12457</td>\n",
       "      <td>...</td>\n",
       "      <td>0.27689</td>\n",
       "      <td>0.27733</td>\n",
       "      <td>0.27760</td>\n",
       "      <td>0.27784</td>\n",
       "      <td>0.27811</td>\n",
       "      <td>0.27844</td>\n",
       "      <td>0.27887</td>\n",
       "      <td>0.27937</td>\n",
       "      <td>0.27974</td>\n",
       "      <td>0.28022</td>\n",
       "    </tr>\n",
       "    <tr>\n",
       "      <th>8</th>\n",
       "      <td>8</td>\n",
       "      <td>0.12712</td>\n",
       "      <td>0.12669</td>\n",
       "      <td>0.12630</td>\n",
       "      <td>0.12598</td>\n",
       "      <td>0.12581</td>\n",
       "      <td>0.12572</td>\n",
       "      <td>0.12561</td>\n",
       "      <td>0.12547</td>\n",
       "      <td>0.12527</td>\n",
       "      <td>...</td>\n",
       "      <td>0.27737</td>\n",
       "      <td>0.27794</td>\n",
       "      <td>0.27823</td>\n",
       "      <td>0.27859</td>\n",
       "      <td>0.27893</td>\n",
       "      <td>0.27912</td>\n",
       "      <td>0.27971</td>\n",
       "      <td>0.27998</td>\n",
       "      <td>0.28039</td>\n",
       "      <td>0.28077</td>\n",
       "    </tr>\n",
       "    <tr>\n",
       "      <th>9</th>\n",
       "      <td>9</td>\n",
       "      <td>0.12815</td>\n",
       "      <td>0.12776</td>\n",
       "      <td>0.12735</td>\n",
       "      <td>0.12700</td>\n",
       "      <td>0.12666</td>\n",
       "      <td>0.12630</td>\n",
       "      <td>0.12598</td>\n",
       "      <td>0.12569</td>\n",
       "      <td>0.12543</td>\n",
       "      <td>...</td>\n",
       "      <td>0.27798</td>\n",
       "      <td>0.27841</td>\n",
       "      <td>0.27880</td>\n",
       "      <td>0.27920</td>\n",
       "      <td>0.27941</td>\n",
       "      <td>0.27960</td>\n",
       "      <td>0.28023</td>\n",
       "      <td>0.28048</td>\n",
       "      <td>0.28093</td>\n",
       "      <td>0.28149</td>\n",
       "    </tr>\n",
       "    <tr>\n",
       "      <th>10</th>\n",
       "      <td>10</td>\n",
       "      <td>0.12723</td>\n",
       "      <td>0.12672</td>\n",
       "      <td>0.12620</td>\n",
       "      <td>0.12574</td>\n",
       "      <td>0.12539</td>\n",
       "      <td>0.12518</td>\n",
       "      <td>0.12497</td>\n",
       "      <td>0.12480</td>\n",
       "      <td>0.12458</td>\n",
       "      <td>...</td>\n",
       "      <td>0.27916</td>\n",
       "      <td>0.27923</td>\n",
       "      <td>0.27969</td>\n",
       "      <td>0.28007</td>\n",
       "      <td>0.28046</td>\n",
       "      <td>0.28071</td>\n",
       "      <td>0.28122</td>\n",
       "      <td>0.28152</td>\n",
       "      <td>0.28190</td>\n",
       "      <td>0.28229</td>\n",
       "    </tr>\n",
       "    <tr>\n",
       "      <th>11</th>\n",
       "      <td>11</td>\n",
       "      <td>0.12815</td>\n",
       "      <td>0.12786</td>\n",
       "      <td>0.12751</td>\n",
       "      <td>0.12712</td>\n",
       "      <td>0.12665</td>\n",
       "      <td>0.12620</td>\n",
       "      <td>0.12567</td>\n",
       "      <td>0.12523</td>\n",
       "      <td>0.12482</td>\n",
       "      <td>...</td>\n",
       "      <td>0.28038</td>\n",
       "      <td>0.28049</td>\n",
       "      <td>0.28083</td>\n",
       "      <td>0.28132</td>\n",
       "      <td>0.28171</td>\n",
       "      <td>0.28209</td>\n",
       "      <td>0.28237</td>\n",
       "      <td>0.28283</td>\n",
       "      <td>0.28334</td>\n",
       "      <td>0.28366</td>\n",
       "    </tr>\n",
       "    <tr>\n",
       "      <th>12</th>\n",
       "      <td>12</td>\n",
       "      <td>0.12765</td>\n",
       "      <td>0.12746</td>\n",
       "      <td>0.12734</td>\n",
       "      <td>0.12721</td>\n",
       "      <td>0.12701</td>\n",
       "      <td>0.12668</td>\n",
       "      <td>0.12626</td>\n",
       "      <td>0.12579</td>\n",
       "      <td>0.12533</td>\n",
       "      <td>...</td>\n",
       "      <td>0.28134</td>\n",
       "      <td>0.28174</td>\n",
       "      <td>0.28221</td>\n",
       "      <td>0.28255</td>\n",
       "      <td>0.28277</td>\n",
       "      <td>0.28320</td>\n",
       "      <td>0.28374</td>\n",
       "      <td>0.28416</td>\n",
       "      <td>0.28465</td>\n",
       "      <td>0.28500</td>\n",
       "    </tr>\n",
       "    <tr>\n",
       "      <th>13</th>\n",
       "      <td>13</td>\n",
       "      <td>0.12758</td>\n",
       "      <td>0.12744</td>\n",
       "      <td>0.12715</td>\n",
       "      <td>0.12682</td>\n",
       "      <td>0.12639</td>\n",
       "      <td>0.12588</td>\n",
       "      <td>0.12536</td>\n",
       "      <td>0.12490</td>\n",
       "      <td>0.12454</td>\n",
       "      <td>...</td>\n",
       "      <td>0.28215</td>\n",
       "      <td>0.28259</td>\n",
       "      <td>0.28303</td>\n",
       "      <td>0.28345</td>\n",
       "      <td>0.28371</td>\n",
       "      <td>0.28394</td>\n",
       "      <td>0.28450</td>\n",
       "      <td>0.28479</td>\n",
       "      <td>0.28513</td>\n",
       "      <td>0.28564</td>\n",
       "    </tr>\n",
       "    <tr>\n",
       "      <th>14</th>\n",
       "      <td>14</td>\n",
       "      <td>0.12717</td>\n",
       "      <td>0.12685</td>\n",
       "      <td>0.12651</td>\n",
       "      <td>0.12614</td>\n",
       "      <td>0.12581</td>\n",
       "      <td>0.12544</td>\n",
       "      <td>0.12507</td>\n",
       "      <td>0.12477</td>\n",
       "      <td>0.12452</td>\n",
       "      <td>...</td>\n",
       "      <td>0.28237</td>\n",
       "      <td>0.28265</td>\n",
       "      <td>0.28293</td>\n",
       "      <td>0.28337</td>\n",
       "      <td>0.28380</td>\n",
       "      <td>0.28413</td>\n",
       "      <td>0.28454</td>\n",
       "      <td>0.28499</td>\n",
       "      <td>0.28537</td>\n",
       "      <td>0.28582</td>\n",
       "    </tr>\n",
       "    <tr>\n",
       "      <th>15</th>\n",
       "      <td>15</td>\n",
       "      <td>0.12722</td>\n",
       "      <td>0.12683</td>\n",
       "      <td>0.12643</td>\n",
       "      <td>0.12612</td>\n",
       "      <td>0.12581</td>\n",
       "      <td>0.12549</td>\n",
       "      <td>0.12528</td>\n",
       "      <td>0.12502</td>\n",
       "      <td>0.12471</td>\n",
       "      <td>...</td>\n",
       "      <td>0.28294</td>\n",
       "      <td>0.28317</td>\n",
       "      <td>0.28362</td>\n",
       "      <td>0.28402</td>\n",
       "      <td>0.28444</td>\n",
       "      <td>0.28483</td>\n",
       "      <td>0.28509</td>\n",
       "      <td>0.28559</td>\n",
       "      <td>0.28582</td>\n",
       "      <td>0.28610</td>\n",
       "    </tr>\n",
       "    <tr>\n",
       "      <th>16</th>\n",
       "      <td>16</td>\n",
       "      <td>0.12764</td>\n",
       "      <td>0.12733</td>\n",
       "      <td>0.12695</td>\n",
       "      <td>0.12650</td>\n",
       "      <td>0.12608</td>\n",
       "      <td>0.12565</td>\n",
       "      <td>0.12527</td>\n",
       "      <td>0.12490</td>\n",
       "      <td>0.12461</td>\n",
       "      <td>...</td>\n",
       "      <td>0.28420</td>\n",
       "      <td>0.28465</td>\n",
       "      <td>0.28513</td>\n",
       "      <td>0.28543</td>\n",
       "      <td>0.28582</td>\n",
       "      <td>0.28620</td>\n",
       "      <td>0.28644</td>\n",
       "      <td>0.28683</td>\n",
       "      <td>0.28721</td>\n",
       "      <td>0.28760</td>\n",
       "    </tr>\n",
       "    <tr>\n",
       "      <th>17</th>\n",
       "      <td>17</td>\n",
       "      <td>0.12753</td>\n",
       "      <td>0.12719</td>\n",
       "      <td>0.12669</td>\n",
       "      <td>0.12624</td>\n",
       "      <td>0.12580</td>\n",
       "      <td>0.12535</td>\n",
       "      <td>0.12501</td>\n",
       "      <td>0.12466</td>\n",
       "      <td>0.12435</td>\n",
       "      <td>...</td>\n",
       "      <td>0.28529</td>\n",
       "      <td>0.28553</td>\n",
       "      <td>0.28606</td>\n",
       "      <td>0.28639</td>\n",
       "      <td>0.28669</td>\n",
       "      <td>0.28701</td>\n",
       "      <td>0.28765</td>\n",
       "      <td>0.28798</td>\n",
       "      <td>0.28841</td>\n",
       "      <td>0.28879</td>\n",
       "    </tr>\n",
       "    <tr>\n",
       "      <th>18</th>\n",
       "      <td>18</td>\n",
       "      <td>0.12713</td>\n",
       "      <td>0.12669</td>\n",
       "      <td>0.12634</td>\n",
       "      <td>0.12607</td>\n",
       "      <td>0.12581</td>\n",
       "      <td>0.12561</td>\n",
       "      <td>0.12535</td>\n",
       "      <td>0.12501</td>\n",
       "      <td>0.12466</td>\n",
       "      <td>...</td>\n",
       "      <td>0.28691</td>\n",
       "      <td>0.28725</td>\n",
       "      <td>0.28748</td>\n",
       "      <td>0.28792</td>\n",
       "      <td>0.28824</td>\n",
       "      <td>0.28841</td>\n",
       "      <td>0.28882</td>\n",
       "      <td>0.28922</td>\n",
       "      <td>0.28975</td>\n",
       "      <td>0.29004</td>\n",
       "    </tr>\n",
       "    <tr>\n",
       "      <th>19</th>\n",
       "      <td>19</td>\n",
       "      <td>0.12738</td>\n",
       "      <td>0.12684</td>\n",
       "      <td>0.12645</td>\n",
       "      <td>0.12603</td>\n",
       "      <td>0.12569</td>\n",
       "      <td>0.12545</td>\n",
       "      <td>0.12533</td>\n",
       "      <td>0.12516</td>\n",
       "      <td>0.12497</td>\n",
       "      <td>...</td>\n",
       "      <td>0.28782</td>\n",
       "      <td>0.28815</td>\n",
       "      <td>0.28851</td>\n",
       "      <td>0.28907</td>\n",
       "      <td>0.28940</td>\n",
       "      <td>0.28970</td>\n",
       "      <td>0.29006</td>\n",
       "      <td>0.29037</td>\n",
       "      <td>0.29077</td>\n",
       "      <td>0.29121</td>\n",
       "    </tr>\n",
       "    <tr>\n",
       "      <th>20</th>\n",
       "      <td>20</td>\n",
       "      <td>0.12735</td>\n",
       "      <td>0.12706</td>\n",
       "      <td>0.12679</td>\n",
       "      <td>0.12645</td>\n",
       "      <td>0.12612</td>\n",
       "      <td>0.12574</td>\n",
       "      <td>0.12531</td>\n",
       "      <td>0.12488</td>\n",
       "      <td>0.12444</td>\n",
       "      <td>...</td>\n",
       "      <td>0.28841</td>\n",
       "      <td>0.28874</td>\n",
       "      <td>0.28904</td>\n",
       "      <td>0.28943</td>\n",
       "      <td>0.28985</td>\n",
       "      <td>0.28992</td>\n",
       "      <td>0.29058</td>\n",
       "      <td>0.29090</td>\n",
       "      <td>0.29133</td>\n",
       "      <td>0.29170</td>\n",
       "    </tr>\n",
       "    <tr>\n",
       "      <th>21</th>\n",
       "      <td>21</td>\n",
       "      <td>0.12772</td>\n",
       "      <td>0.12720</td>\n",
       "      <td>0.12675</td>\n",
       "      <td>0.12635</td>\n",
       "      <td>0.12606</td>\n",
       "      <td>0.12583</td>\n",
       "      <td>0.12572</td>\n",
       "      <td>0.12559</td>\n",
       "      <td>0.12543</td>\n",
       "      <td>...</td>\n",
       "      <td>0.28900</td>\n",
       "      <td>0.28904</td>\n",
       "      <td>0.28945</td>\n",
       "      <td>0.28989</td>\n",
       "      <td>0.29038</td>\n",
       "      <td>0.29087</td>\n",
       "      <td>0.29120</td>\n",
       "      <td>0.29153</td>\n",
       "      <td>0.29193</td>\n",
       "      <td>0.29224</td>\n",
       "    </tr>\n",
       "    <tr>\n",
       "      <th>22</th>\n",
       "      <td>22</td>\n",
       "      <td>0.12675</td>\n",
       "      <td>0.12655</td>\n",
       "      <td>0.12627</td>\n",
       "      <td>0.12591</td>\n",
       "      <td>0.12547</td>\n",
       "      <td>0.12500</td>\n",
       "      <td>0.12451</td>\n",
       "      <td>0.12411</td>\n",
       "      <td>0.12377</td>\n",
       "      <td>...</td>\n",
       "      <td>0.28974</td>\n",
       "      <td>0.29008</td>\n",
       "      <td>0.29057</td>\n",
       "      <td>0.29088</td>\n",
       "      <td>0.29127</td>\n",
       "      <td>0.29168</td>\n",
       "      <td>0.29201</td>\n",
       "      <td>0.29221</td>\n",
       "      <td>0.29276</td>\n",
       "      <td>0.29316</td>\n",
       "    </tr>\n",
       "    <tr>\n",
       "      <th>23</th>\n",
       "      <td>23</td>\n",
       "      <td>0.12805</td>\n",
       "      <td>0.12773</td>\n",
       "      <td>0.12733</td>\n",
       "      <td>0.12692</td>\n",
       "      <td>0.12646</td>\n",
       "      <td>0.12597</td>\n",
       "      <td>0.12552</td>\n",
       "      <td>0.12514</td>\n",
       "      <td>0.12481</td>\n",
       "      <td>...</td>\n",
       "      <td>0.29141</td>\n",
       "      <td>0.29167</td>\n",
       "      <td>0.29230</td>\n",
       "      <td>0.29251</td>\n",
       "      <td>0.29279</td>\n",
       "      <td>0.29298</td>\n",
       "      <td>0.29349</td>\n",
       "      <td>0.29393</td>\n",
       "      <td>0.29424</td>\n",
       "      <td>0.29470</td>\n",
       "    </tr>\n",
       "    <tr>\n",
       "      <th>24</th>\n",
       "      <td>24</td>\n",
       "      <td>0.12790</td>\n",
       "      <td>0.12755</td>\n",
       "      <td>0.12727</td>\n",
       "      <td>0.12700</td>\n",
       "      <td>0.12669</td>\n",
       "      <td>0.12642</td>\n",
       "      <td>0.12614</td>\n",
       "      <td>0.12586</td>\n",
       "      <td>0.12561</td>\n",
       "      <td>...</td>\n",
       "      <td>0.29236</td>\n",
       "      <td>0.29295</td>\n",
       "      <td>0.29342</td>\n",
       "      <td>0.29371</td>\n",
       "      <td>0.29409</td>\n",
       "      <td>0.29446</td>\n",
       "      <td>0.29484</td>\n",
       "      <td>0.29510</td>\n",
       "      <td>0.29568</td>\n",
       "      <td>0.29611</td>\n",
       "    </tr>\n",
       "    <tr>\n",
       "      <th>25</th>\n",
       "      <td>25</td>\n",
       "      <td>0.12860</td>\n",
       "      <td>0.12828</td>\n",
       "      <td>0.12797</td>\n",
       "      <td>0.12767</td>\n",
       "      <td>0.12733</td>\n",
       "      <td>0.12695</td>\n",
       "      <td>0.12658</td>\n",
       "      <td>0.12628</td>\n",
       "      <td>0.12595</td>\n",
       "      <td>...</td>\n",
       "      <td>0.29352</td>\n",
       "      <td>0.29396</td>\n",
       "      <td>0.29444</td>\n",
       "      <td>0.29480</td>\n",
       "      <td>0.29513</td>\n",
       "      <td>0.29559</td>\n",
       "      <td>0.29601</td>\n",
       "      <td>0.29639</td>\n",
       "      <td>0.29678</td>\n",
       "      <td>0.29716</td>\n",
       "    </tr>\n",
       "    <tr>\n",
       "      <th>26</th>\n",
       "      <td>26</td>\n",
       "      <td>0.12652</td>\n",
       "      <td>0.12618</td>\n",
       "      <td>0.12584</td>\n",
       "      <td>0.12553</td>\n",
       "      <td>0.12520</td>\n",
       "      <td>0.12489</td>\n",
       "      <td>0.12457</td>\n",
       "      <td>0.12425</td>\n",
       "      <td>0.12389</td>\n",
       "      <td>...</td>\n",
       "      <td>0.29341</td>\n",
       "      <td>0.29383</td>\n",
       "      <td>0.29425</td>\n",
       "      <td>0.29448</td>\n",
       "      <td>0.29486</td>\n",
       "      <td>0.29536</td>\n",
       "      <td>0.29577</td>\n",
       "      <td>0.29622</td>\n",
       "      <td>0.29655</td>\n",
       "      <td>0.29688</td>\n",
       "    </tr>\n",
       "    <tr>\n",
       "      <th>27</th>\n",
       "      <td>27</td>\n",
       "      <td>0.12843</td>\n",
       "      <td>0.12835</td>\n",
       "      <td>0.12821</td>\n",
       "      <td>0.12795</td>\n",
       "      <td>0.12754</td>\n",
       "      <td>0.12698</td>\n",
       "      <td>0.12637</td>\n",
       "      <td>0.12575</td>\n",
       "      <td>0.12522</td>\n",
       "      <td>...</td>\n",
       "      <td>0.29425</td>\n",
       "      <td>0.29463</td>\n",
       "      <td>0.29490</td>\n",
       "      <td>0.29537</td>\n",
       "      <td>0.29561</td>\n",
       "      <td>0.29582</td>\n",
       "      <td>0.29633</td>\n",
       "      <td>0.29672</td>\n",
       "      <td>0.29714</td>\n",
       "      <td>0.29759</td>\n",
       "    </tr>\n",
       "    <tr>\n",
       "      <th>28</th>\n",
       "      <td>28</td>\n",
       "      <td>0.12703</td>\n",
       "      <td>0.12679</td>\n",
       "      <td>0.12649</td>\n",
       "      <td>0.12619</td>\n",
       "      <td>0.12590</td>\n",
       "      <td>0.12556</td>\n",
       "      <td>0.12518</td>\n",
       "      <td>0.12480</td>\n",
       "      <td>0.12442</td>\n",
       "      <td>...</td>\n",
       "      <td>0.29513</td>\n",
       "      <td>0.29544</td>\n",
       "      <td>0.29566</td>\n",
       "      <td>0.29582</td>\n",
       "      <td>0.29644</td>\n",
       "      <td>0.29690</td>\n",
       "      <td>0.29735</td>\n",
       "      <td>0.29785</td>\n",
       "      <td>0.29804</td>\n",
       "      <td>0.29862</td>\n",
       "    </tr>\n",
       "    <tr>\n",
       "      <th>29</th>\n",
       "      <td>29</td>\n",
       "      <td>0.12773</td>\n",
       "      <td>0.12731</td>\n",
       "      <td>0.12689</td>\n",
       "      <td>0.12653</td>\n",
       "      <td>0.12620</td>\n",
       "      <td>0.12590</td>\n",
       "      <td>0.12566</td>\n",
       "      <td>0.12545</td>\n",
       "      <td>0.12527</td>\n",
       "      <td>...</td>\n",
       "      <td>0.29633</td>\n",
       "      <td>0.29664</td>\n",
       "      <td>0.29696</td>\n",
       "      <td>0.29727</td>\n",
       "      <td>0.29756</td>\n",
       "      <td>0.29813</td>\n",
       "      <td>0.29847</td>\n",
       "      <td>0.29895</td>\n",
       "      <td>0.29923</td>\n",
       "      <td>0.29955</td>\n",
       "    </tr>\n",
       "  </tbody>\n",
       "</table>\n",
       "<p>30 rows × 802 columns</p>\n",
       "</div>"
      ],
      "text/plain": [
       "    id     4500     4505     4510     4515     4520     4525     4530  \\\n",
       "0    0  0.12692  0.12651  0.12613  0.12580  0.12548  0.12513  0.12482   \n",
       "1    1  0.12728  0.12690  0.12646  0.12611  0.12567  0.12535  0.12505   \n",
       "2    2  0.12705  0.12678  0.12650  0.12622  0.12593  0.12568  0.12540   \n",
       "3    3  0.12629  0.12587  0.12552  0.12526  0.12509  0.12499  0.12489   \n",
       "4    4  0.12699  0.12671  0.12636  0.12600  0.12560  0.12522  0.12489   \n",
       "5    5  0.12704  0.12667  0.12631  0.12599  0.12568  0.12534  0.12502   \n",
       "6    6  0.12791  0.12756  0.12714  0.12667  0.12620  0.12576  0.12534   \n",
       "7    7  0.12759  0.12720  0.12673  0.12629  0.12587  0.12551  0.12518   \n",
       "8    8  0.12712  0.12669  0.12630  0.12598  0.12581  0.12572  0.12561   \n",
       "9    9  0.12815  0.12776  0.12735  0.12700  0.12666  0.12630  0.12598   \n",
       "10  10  0.12723  0.12672  0.12620  0.12574  0.12539  0.12518  0.12497   \n",
       "11  11  0.12815  0.12786  0.12751  0.12712  0.12665  0.12620  0.12567   \n",
       "12  12  0.12765  0.12746  0.12734  0.12721  0.12701  0.12668  0.12626   \n",
       "13  13  0.12758  0.12744  0.12715  0.12682  0.12639  0.12588  0.12536   \n",
       "14  14  0.12717  0.12685  0.12651  0.12614  0.12581  0.12544  0.12507   \n",
       "15  15  0.12722  0.12683  0.12643  0.12612  0.12581  0.12549  0.12528   \n",
       "16  16  0.12764  0.12733  0.12695  0.12650  0.12608  0.12565  0.12527   \n",
       "17  17  0.12753  0.12719  0.12669  0.12624  0.12580  0.12535  0.12501   \n",
       "18  18  0.12713  0.12669  0.12634  0.12607  0.12581  0.12561  0.12535   \n",
       "19  19  0.12738  0.12684  0.12645  0.12603  0.12569  0.12545  0.12533   \n",
       "20  20  0.12735  0.12706  0.12679  0.12645  0.12612  0.12574  0.12531   \n",
       "21  21  0.12772  0.12720  0.12675  0.12635  0.12606  0.12583  0.12572   \n",
       "22  22  0.12675  0.12655  0.12627  0.12591  0.12547  0.12500  0.12451   \n",
       "23  23  0.12805  0.12773  0.12733  0.12692  0.12646  0.12597  0.12552   \n",
       "24  24  0.12790  0.12755  0.12727  0.12700  0.12669  0.12642  0.12614   \n",
       "25  25  0.12860  0.12828  0.12797  0.12767  0.12733  0.12695  0.12658   \n",
       "26  26  0.12652  0.12618  0.12584  0.12553  0.12520  0.12489  0.12457   \n",
       "27  27  0.12843  0.12835  0.12821  0.12795  0.12754  0.12698  0.12637   \n",
       "28  28  0.12703  0.12679  0.12649  0.12619  0.12590  0.12556  0.12518   \n",
       "29  29  0.12773  0.12731  0.12689  0.12653  0.12620  0.12590  0.12566   \n",
       "\n",
       "       4535     4540   ...        8455     8460     8465     8470     8475  \\\n",
       "0   0.12450  0.12409   ...     0.27051  0.27108  0.27159  0.27195  0.27230   \n",
       "1   0.12477  0.12453   ...     0.27191  0.27224  0.27269  0.27320  0.27367   \n",
       "2   0.12510  0.12473   ...     0.27250  0.27275  0.27325  0.27354  0.27388   \n",
       "3   0.12479  0.12465   ...     0.27305  0.27342  0.27385  0.27400  0.27461   \n",
       "4   0.12456  0.12431   ...     0.27405  0.27436  0.27454  0.27500  0.27537   \n",
       "5   0.12461  0.12431   ...     0.27485  0.27512  0.27542  0.27584  0.27607   \n",
       "6   0.12498  0.12473   ...     0.27577  0.27608  0.27656  0.27693  0.27730   \n",
       "7   0.12487  0.12457   ...     0.27689  0.27733  0.27760  0.27784  0.27811   \n",
       "8   0.12547  0.12527   ...     0.27737  0.27794  0.27823  0.27859  0.27893   \n",
       "9   0.12569  0.12543   ...     0.27798  0.27841  0.27880  0.27920  0.27941   \n",
       "10  0.12480  0.12458   ...     0.27916  0.27923  0.27969  0.28007  0.28046   \n",
       "11  0.12523  0.12482   ...     0.28038  0.28049  0.28083  0.28132  0.28171   \n",
       "12  0.12579  0.12533   ...     0.28134  0.28174  0.28221  0.28255  0.28277   \n",
       "13  0.12490  0.12454   ...     0.28215  0.28259  0.28303  0.28345  0.28371   \n",
       "14  0.12477  0.12452   ...     0.28237  0.28265  0.28293  0.28337  0.28380   \n",
       "15  0.12502  0.12471   ...     0.28294  0.28317  0.28362  0.28402  0.28444   \n",
       "16  0.12490  0.12461   ...     0.28420  0.28465  0.28513  0.28543  0.28582   \n",
       "17  0.12466  0.12435   ...     0.28529  0.28553  0.28606  0.28639  0.28669   \n",
       "18  0.12501  0.12466   ...     0.28691  0.28725  0.28748  0.28792  0.28824   \n",
       "19  0.12516  0.12497   ...     0.28782  0.28815  0.28851  0.28907  0.28940   \n",
       "20  0.12488  0.12444   ...     0.28841  0.28874  0.28904  0.28943  0.28985   \n",
       "21  0.12559  0.12543   ...     0.28900  0.28904  0.28945  0.28989  0.29038   \n",
       "22  0.12411  0.12377   ...     0.28974  0.29008  0.29057  0.29088  0.29127   \n",
       "23  0.12514  0.12481   ...     0.29141  0.29167  0.29230  0.29251  0.29279   \n",
       "24  0.12586  0.12561   ...     0.29236  0.29295  0.29342  0.29371  0.29409   \n",
       "25  0.12628  0.12595   ...     0.29352  0.29396  0.29444  0.29480  0.29513   \n",
       "26  0.12425  0.12389   ...     0.29341  0.29383  0.29425  0.29448  0.29486   \n",
       "27  0.12575  0.12522   ...     0.29425  0.29463  0.29490  0.29537  0.29561   \n",
       "28  0.12480  0.12442   ...     0.29513  0.29544  0.29566  0.29582  0.29644   \n",
       "29  0.12545  0.12527   ...     0.29633  0.29664  0.29696  0.29727  0.29756   \n",
       "\n",
       "       8480     8485     8490     8495     8500  \n",
       "0   0.27256  0.27297  0.27330  0.27357  0.27394  \n",
       "1   0.27388  0.27435  0.27470  0.27509  0.27531  \n",
       "2   0.27431  0.27480  0.27529  0.27563  0.27599  \n",
       "3   0.27495  0.27530  0.27551  0.27627  0.27644  \n",
       "4   0.27571  0.27615  0.27656  0.27692  0.27729  \n",
       "5   0.27660  0.27693  0.27726  0.27770  0.27821  \n",
       "6   0.27771  0.27820  0.27850  0.27887  0.27935  \n",
       "7   0.27844  0.27887  0.27937  0.27974  0.28022  \n",
       "8   0.27912  0.27971  0.27998  0.28039  0.28077  \n",
       "9   0.27960  0.28023  0.28048  0.28093  0.28149  \n",
       "10  0.28071  0.28122  0.28152  0.28190  0.28229  \n",
       "11  0.28209  0.28237  0.28283  0.28334  0.28366  \n",
       "12  0.28320  0.28374  0.28416  0.28465  0.28500  \n",
       "13  0.28394  0.28450  0.28479  0.28513  0.28564  \n",
       "14  0.28413  0.28454  0.28499  0.28537  0.28582  \n",
       "15  0.28483  0.28509  0.28559  0.28582  0.28610  \n",
       "16  0.28620  0.28644  0.28683  0.28721  0.28760  \n",
       "17  0.28701  0.28765  0.28798  0.28841  0.28879  \n",
       "18  0.28841  0.28882  0.28922  0.28975  0.29004  \n",
       "19  0.28970  0.29006  0.29037  0.29077  0.29121  \n",
       "20  0.28992  0.29058  0.29090  0.29133  0.29170  \n",
       "21  0.29087  0.29120  0.29153  0.29193  0.29224  \n",
       "22  0.29168  0.29201  0.29221  0.29276  0.29316  \n",
       "23  0.29298  0.29349  0.29393  0.29424  0.29470  \n",
       "24  0.29446  0.29484  0.29510  0.29568  0.29611  \n",
       "25  0.29559  0.29601  0.29639  0.29678  0.29716  \n",
       "26  0.29536  0.29577  0.29622  0.29655  0.29688  \n",
       "27  0.29582  0.29633  0.29672  0.29714  0.29759  \n",
       "28  0.29690  0.29735  0.29785  0.29804  0.29862  \n",
       "29  0.29813  0.29847  0.29895  0.29923  0.29955  \n",
       "\n",
       "[30 rows x 802 columns]"
      ]
     },
     "execution_count": 15,
     "metadata": {},
     "output_type": "execute_result"
    }
   ],
   "source": [
    "testa=pd.read_csv('testset.csv')\n",
    "testa"
   ]
  },
  {
   "cell_type": "code",
   "execution_count": 17,
   "metadata": {},
   "outputs": [],
   "source": [
    "\"\"\"\n",
    "모델 테스트\n",
    "\"\"\"\n",
    "\n",
    "test_model = skipConnectionModel()\n",
    "\n",
    "# test 파일 경로 및 test 데이터 로드\n",
    "path_test = 'testset.csv'\n",
    "class TestDataset(Dataset):\n",
    "    def __init__(self, path_test):\n",
    "        super(TestDataset, self).__init__()\n",
    "        test = pd.read_csv(path_test)\n",
    "        self.test_X = test.iloc[:,1:]\n",
    "        self.tmp_x = self.test_X.values\n",
    "    \n",
    "    def __len__(self):\n",
    "        return len(self.test_X)\n",
    "\n",
    "    def __getitem__(self, idx):\n",
    "        return torch.from_numpy(self.tmp_x)[idx]\n",
    "    \n",
    "test_data = TestDataset(path_test)\n",
    "test_loader = DataLoader(test_data, batch_size=30,  num_workers=0)"
   ]
  },
  {
   "cell_type": "code",
   "execution_count": 18,
   "metadata": {},
   "outputs": [
    {
     "name": "stdout",
     "output_type": "stream",
     "text": [
      "Test Time :  0.0\n"
     ]
    }
   ],
   "source": [
    "# 모델에 학습된 가중치를 업로드.\n",
    "weights = torch.load(f'test_percent_unit_{version}_{lr}_{epochs}_MAE.pth', map_location='cuda:0')\n",
    "test_model.load_state_dict(weights)\n",
    "test_model = test_model.to(device)\n",
    "test_model.eval()\n",
    "test_time=time.time()\n",
    "with torch.no_grad():\n",
    "    for data in test_loader:\n",
    "        data = data.to(device)\n",
    "        outputs = test_model(data.float())\n",
    "    print('Test Time : ',time.time()-test_time)\n",
    "pred_test = outputs"
   ]
  },
  {
   "cell_type": "code",
   "execution_count": 19,
   "metadata": {},
   "outputs": [],
   "source": [
    "sub=pred_test.cpu().numpy()\n",
    "sub=pd.DataFrame(data=sub, columns=['thick(nm)','level'])\n",
    "sub.to_csv('result_same_layer_30pt.csv',index='id')"
   ]
  },
  {
   "cell_type": "code",
   "execution_count": 20,
   "metadata": {},
   "outputs": [
    {
     "data": {
      "text/html": [
       "<div>\n",
       "<style scoped>\n",
       "    .dataframe tbody tr th:only-of-type {\n",
       "        vertical-align: middle;\n",
       "    }\n",
       "\n",
       "    .dataframe tbody tr th {\n",
       "        vertical-align: top;\n",
       "    }\n",
       "\n",
       "    .dataframe thead th {\n",
       "        text-align: right;\n",
       "    }\n",
       "</style>\n",
       "<table border=\"1\" class=\"dataframe\">\n",
       "  <thead>\n",
       "    <tr style=\"text-align: right;\">\n",
       "      <th></th>\n",
       "      <th>thick(nm)</th>\n",
       "      <th>level</th>\n",
       "    </tr>\n",
       "  </thead>\n",
       "  <tbody>\n",
       "    <tr>\n",
       "      <th>0</th>\n",
       "      <td>311.410736</td>\n",
       "      <td>7.115729</td>\n",
       "    </tr>\n",
       "    <tr>\n",
       "      <th>1</th>\n",
       "      <td>311.686951</td>\n",
       "      <td>7.403577</td>\n",
       "    </tr>\n",
       "    <tr>\n",
       "      <th>2</th>\n",
       "      <td>311.945740</td>\n",
       "      <td>7.302319</td>\n",
       "    </tr>\n",
       "    <tr>\n",
       "      <th>3</th>\n",
       "      <td>312.254181</td>\n",
       "      <td>7.215838</td>\n",
       "    </tr>\n",
       "    <tr>\n",
       "      <th>4</th>\n",
       "      <td>312.426849</td>\n",
       "      <td>7.592743</td>\n",
       "    </tr>\n",
       "    <tr>\n",
       "      <th>5</th>\n",
       "      <td>312.680786</td>\n",
       "      <td>7.542150</td>\n",
       "    </tr>\n",
       "    <tr>\n",
       "      <th>6</th>\n",
       "      <td>312.777466</td>\n",
       "      <td>8.309490</td>\n",
       "    </tr>\n",
       "    <tr>\n",
       "      <th>7</th>\n",
       "      <td>313.088501</td>\n",
       "      <td>8.370070</td>\n",
       "    </tr>\n",
       "    <tr>\n",
       "      <th>8</th>\n",
       "      <td>313.330872</td>\n",
       "      <td>8.595861</td>\n",
       "    </tr>\n",
       "    <tr>\n",
       "      <th>9</th>\n",
       "      <td>313.388611</td>\n",
       "      <td>9.028450</td>\n",
       "    </tr>\n",
       "    <tr>\n",
       "      <th>10</th>\n",
       "      <td>313.848969</td>\n",
       "      <td>8.962454</td>\n",
       "    </tr>\n",
       "    <tr>\n",
       "      <th>11</th>\n",
       "      <td>314.057831</td>\n",
       "      <td>9.610362</td>\n",
       "    </tr>\n",
       "    <tr>\n",
       "      <th>12</th>\n",
       "      <td>314.365723</td>\n",
       "      <td>9.806752</td>\n",
       "    </tr>\n",
       "    <tr>\n",
       "      <th>13</th>\n",
       "      <td>314.747284</td>\n",
       "      <td>9.822802</td>\n",
       "    </tr>\n",
       "    <tr>\n",
       "      <th>14</th>\n",
       "      <td>314.904205</td>\n",
       "      <td>9.508261</td>\n",
       "    </tr>\n",
       "    <tr>\n",
       "      <th>15</th>\n",
       "      <td>315.186066</td>\n",
       "      <td>9.560928</td>\n",
       "    </tr>\n",
       "    <tr>\n",
       "      <th>16</th>\n",
       "      <td>315.363678</td>\n",
       "      <td>10.495873</td>\n",
       "    </tr>\n",
       "    <tr>\n",
       "      <th>17</th>\n",
       "      <td>315.930908</td>\n",
       "      <td>9.831646</td>\n",
       "    </tr>\n",
       "    <tr>\n",
       "      <th>18</th>\n",
       "      <td>316.264740</td>\n",
       "      <td>10.589798</td>\n",
       "    </tr>\n",
       "    <tr>\n",
       "      <th>19</th>\n",
       "      <td>316.520355</td>\n",
       "      <td>10.934502</td>\n",
       "    </tr>\n",
       "    <tr>\n",
       "      <th>20</th>\n",
       "      <td>316.805237</td>\n",
       "      <td>10.946033</td>\n",
       "    </tr>\n",
       "    <tr>\n",
       "      <th>21</th>\n",
       "      <td>316.849579</td>\n",
       "      <td>11.587103</td>\n",
       "    </tr>\n",
       "    <tr>\n",
       "      <th>22</th>\n",
       "      <td>317.326569</td>\n",
       "      <td>11.026199</td>\n",
       "    </tr>\n",
       "    <tr>\n",
       "      <th>23</th>\n",
       "      <td>317.534210</td>\n",
       "      <td>12.056903</td>\n",
       "    </tr>\n",
       "    <tr>\n",
       "      <th>24</th>\n",
       "      <td>317.813385</td>\n",
       "      <td>12.589117</td>\n",
       "    </tr>\n",
       "    <tr>\n",
       "      <th>25</th>\n",
       "      <td>318.099152</td>\n",
       "      <td>12.973341</td>\n",
       "    </tr>\n",
       "    <tr>\n",
       "      <th>26</th>\n",
       "      <td>318.689331</td>\n",
       "      <td>11.022635</td>\n",
       "    </tr>\n",
       "    <tr>\n",
       "      <th>27</th>\n",
       "      <td>318.494904</td>\n",
       "      <td>12.787951</td>\n",
       "    </tr>\n",
       "    <tr>\n",
       "      <th>28</th>\n",
       "      <td>319.067902</td>\n",
       "      <td>12.108782</td>\n",
       "    </tr>\n",
       "    <tr>\n",
       "      <th>29</th>\n",
       "      <td>319.211090</td>\n",
       "      <td>12.856185</td>\n",
       "    </tr>\n",
       "  </tbody>\n",
       "</table>\n",
       "</div>"
      ],
      "text/plain": [
       "     thick(nm)      level\n",
       "0   311.410736   7.115729\n",
       "1   311.686951   7.403577\n",
       "2   311.945740   7.302319\n",
       "3   312.254181   7.215838\n",
       "4   312.426849   7.592743\n",
       "5   312.680786   7.542150\n",
       "6   312.777466   8.309490\n",
       "7   313.088501   8.370070\n",
       "8   313.330872   8.595861\n",
       "9   313.388611   9.028450\n",
       "10  313.848969   8.962454\n",
       "11  314.057831   9.610362\n",
       "12  314.365723   9.806752\n",
       "13  314.747284   9.822802\n",
       "14  314.904205   9.508261\n",
       "15  315.186066   9.560928\n",
       "16  315.363678  10.495873\n",
       "17  315.930908   9.831646\n",
       "18  316.264740  10.589798\n",
       "19  316.520355  10.934502\n",
       "20  316.805237  10.946033\n",
       "21  316.849579  11.587103\n",
       "22  317.326569  11.026199\n",
       "23  317.534210  12.056903\n",
       "24  317.813385  12.589117\n",
       "25  318.099152  12.973341\n",
       "26  318.689331  11.022635\n",
       "27  318.494904  12.787951\n",
       "28  319.067902  12.108782\n",
       "29  319.211090  12.856185"
      ]
     },
     "execution_count": 20,
     "metadata": {},
     "output_type": "execute_result"
    }
   ],
   "source": [
    "sub"
   ]
  },
  {
   "cell_type": "code",
   "execution_count": 22,
   "metadata": {},
   "outputs": [],
   "source": [
    "for i in range(len(sub)):\n",
    "    sub.iloc[i,1]=sub.iloc[i,1]/1000\n",
    "sub.to_csv('result_same_layer_30pt.csv',index=None)"
   ]
  },
  {
   "cell_type": "code",
   "execution_count": 23,
   "metadata": {},
   "outputs": [
    {
     "data": {
      "text/html": [
       "<div>\n",
       "<style scoped>\n",
       "    .dataframe tbody tr th:only-of-type {\n",
       "        vertical-align: middle;\n",
       "    }\n",
       "\n",
       "    .dataframe tbody tr th {\n",
       "        vertical-align: top;\n",
       "    }\n",
       "\n",
       "    .dataframe thead th {\n",
       "        text-align: right;\n",
       "    }\n",
       "</style>\n",
       "<table border=\"1\" class=\"dataframe\">\n",
       "  <thead>\n",
       "    <tr style=\"text-align: right;\">\n",
       "      <th></th>\n",
       "      <th>thick(nm)</th>\n",
       "      <th>level</th>\n",
       "    </tr>\n",
       "  </thead>\n",
       "  <tbody>\n",
       "    <tr>\n",
       "      <th>0</th>\n",
       "      <td>311.410736</td>\n",
       "      <td>0.007116</td>\n",
       "    </tr>\n",
       "    <tr>\n",
       "      <th>1</th>\n",
       "      <td>311.686951</td>\n",
       "      <td>0.007404</td>\n",
       "    </tr>\n",
       "    <tr>\n",
       "      <th>2</th>\n",
       "      <td>311.945740</td>\n",
       "      <td>0.007302</td>\n",
       "    </tr>\n",
       "    <tr>\n",
       "      <th>3</th>\n",
       "      <td>312.254181</td>\n",
       "      <td>0.007216</td>\n",
       "    </tr>\n",
       "    <tr>\n",
       "      <th>4</th>\n",
       "      <td>312.426849</td>\n",
       "      <td>0.007593</td>\n",
       "    </tr>\n",
       "    <tr>\n",
       "      <th>5</th>\n",
       "      <td>312.680786</td>\n",
       "      <td>0.007542</td>\n",
       "    </tr>\n",
       "    <tr>\n",
       "      <th>6</th>\n",
       "      <td>312.777466</td>\n",
       "      <td>0.008309</td>\n",
       "    </tr>\n",
       "    <tr>\n",
       "      <th>7</th>\n",
       "      <td>313.088501</td>\n",
       "      <td>0.008370</td>\n",
       "    </tr>\n",
       "    <tr>\n",
       "      <th>8</th>\n",
       "      <td>313.330872</td>\n",
       "      <td>0.008596</td>\n",
       "    </tr>\n",
       "    <tr>\n",
       "      <th>9</th>\n",
       "      <td>313.388611</td>\n",
       "      <td>0.009028</td>\n",
       "    </tr>\n",
       "    <tr>\n",
       "      <th>10</th>\n",
       "      <td>313.848969</td>\n",
       "      <td>0.008962</td>\n",
       "    </tr>\n",
       "    <tr>\n",
       "      <th>11</th>\n",
       "      <td>314.057831</td>\n",
       "      <td>0.009610</td>\n",
       "    </tr>\n",
       "    <tr>\n",
       "      <th>12</th>\n",
       "      <td>314.365723</td>\n",
       "      <td>0.009807</td>\n",
       "    </tr>\n",
       "    <tr>\n",
       "      <th>13</th>\n",
       "      <td>314.747284</td>\n",
       "      <td>0.009823</td>\n",
       "    </tr>\n",
       "    <tr>\n",
       "      <th>14</th>\n",
       "      <td>314.904205</td>\n",
       "      <td>0.009508</td>\n",
       "    </tr>\n",
       "    <tr>\n",
       "      <th>15</th>\n",
       "      <td>315.186066</td>\n",
       "      <td>0.009561</td>\n",
       "    </tr>\n",
       "    <tr>\n",
       "      <th>16</th>\n",
       "      <td>315.363678</td>\n",
       "      <td>0.010496</td>\n",
       "    </tr>\n",
       "    <tr>\n",
       "      <th>17</th>\n",
       "      <td>315.930908</td>\n",
       "      <td>0.009832</td>\n",
       "    </tr>\n",
       "    <tr>\n",
       "      <th>18</th>\n",
       "      <td>316.264740</td>\n",
       "      <td>0.010590</td>\n",
       "    </tr>\n",
       "    <tr>\n",
       "      <th>19</th>\n",
       "      <td>316.520355</td>\n",
       "      <td>0.010935</td>\n",
       "    </tr>\n",
       "    <tr>\n",
       "      <th>20</th>\n",
       "      <td>316.805237</td>\n",
       "      <td>0.010946</td>\n",
       "    </tr>\n",
       "    <tr>\n",
       "      <th>21</th>\n",
       "      <td>316.849579</td>\n",
       "      <td>0.011587</td>\n",
       "    </tr>\n",
       "    <tr>\n",
       "      <th>22</th>\n",
       "      <td>317.326569</td>\n",
       "      <td>0.011026</td>\n",
       "    </tr>\n",
       "    <tr>\n",
       "      <th>23</th>\n",
       "      <td>317.534210</td>\n",
       "      <td>0.012057</td>\n",
       "    </tr>\n",
       "    <tr>\n",
       "      <th>24</th>\n",
       "      <td>317.813385</td>\n",
       "      <td>0.012589</td>\n",
       "    </tr>\n",
       "    <tr>\n",
       "      <th>25</th>\n",
       "      <td>318.099152</td>\n",
       "      <td>0.012973</td>\n",
       "    </tr>\n",
       "    <tr>\n",
       "      <th>26</th>\n",
       "      <td>318.689331</td>\n",
       "      <td>0.011023</td>\n",
       "    </tr>\n",
       "    <tr>\n",
       "      <th>27</th>\n",
       "      <td>318.494904</td>\n",
       "      <td>0.012788</td>\n",
       "    </tr>\n",
       "    <tr>\n",
       "      <th>28</th>\n",
       "      <td>319.067902</td>\n",
       "      <td>0.012109</td>\n",
       "    </tr>\n",
       "    <tr>\n",
       "      <th>29</th>\n",
       "      <td>319.211090</td>\n",
       "      <td>0.012856</td>\n",
       "    </tr>\n",
       "  </tbody>\n",
       "</table>\n",
       "</div>"
      ],
      "text/plain": [
       "     thick(nm)     level\n",
       "0   311.410736  0.007116\n",
       "1   311.686951  0.007404\n",
       "2   311.945740  0.007302\n",
       "3   312.254181  0.007216\n",
       "4   312.426849  0.007593\n",
       "5   312.680786  0.007542\n",
       "6   312.777466  0.008309\n",
       "7   313.088501  0.008370\n",
       "8   313.330872  0.008596\n",
       "9   313.388611  0.009028\n",
       "10  313.848969  0.008962\n",
       "11  314.057831  0.009610\n",
       "12  314.365723  0.009807\n",
       "13  314.747284  0.009823\n",
       "14  314.904205  0.009508\n",
       "15  315.186066  0.009561\n",
       "16  315.363678  0.010496\n",
       "17  315.930908  0.009832\n",
       "18  316.264740  0.010590\n",
       "19  316.520355  0.010935\n",
       "20  316.805237  0.010946\n",
       "21  316.849579  0.011587\n",
       "22  317.326569  0.011026\n",
       "23  317.534210  0.012057\n",
       "24  317.813385  0.012589\n",
       "25  318.099152  0.012973\n",
       "26  318.689331  0.011023\n",
       "27  318.494904  0.012788\n",
       "28  319.067902  0.012109\n",
       "29  319.211090  0.012856"
      ]
     },
     "execution_count": 23,
     "metadata": {},
     "output_type": "execute_result"
    }
   ],
   "source": [
    "sub"
   ]
  },
  {
   "cell_type": "code",
   "execution_count": null,
   "metadata": {},
   "outputs": [],
   "source": [
    "#percent_unit: 최대 0"
   ]
  },
  {
   "cell_type": "code",
   "execution_count": 13,
   "metadata": {},
   "outputs": [],
   "source": [
    "\"\"\"\n",
    "모델 테스트\n",
    "\"\"\"\n",
    "\n",
    "test_model = skipConnectionModel()\n",
    "\n",
    "# test 파일 경로 및 test 데이터 로드\n",
    "path_test = 'test.csv'\n",
    "class TestDataset(Dataset):\n",
    "    def __init__(self, path_test):\n",
    "        super(TestDataset, self).__init__()\n",
    "        test = pd.read_csv(path_test)\n",
    "        self.test_X = test.iloc[:,1:]\n",
    "        self.tmp_x = self.test_X.values\n",
    "    \n",
    "    def __len__(self):\n",
    "        return len(self.test_X)\n",
    "\n",
    "    def __getitem__(self, idx):\n",
    "        return torch.from_numpy(self.tmp_x)[idx]\n",
    "    \n",
    "test_data = TestDataset(path_test)\n",
    "test_loader = DataLoader(test_data, batch_size=10000,  num_workers=0)\n",
    "\n",
    "# 모델에 학습된 가중치를 업로드.\n",
    "weights = torch.load(f'test_{version}_{lr}_{epochs}.pth', map_location='cuda:0')\n",
    "test_model.load_state_dict(weights)\n",
    "test_model = test_model.to(device)\n",
    "test_model.eval()\n",
    "\n",
    "with torch.no_grad():\n",
    "    for data in test_loader:\n",
    "        data = data.to(device)\n",
    "        outputs = test_model(data.float())\n",
    "pred_test = outputs\n",
    "\n",
    "sample_sub = pd.read_csv('sample_submission.csv', index_col=0)\n",
    "layers = ['layer_1','layer_2','layer_3','layer_4']\n",
    "submission = sample_sub.values + pred_test.cpu().numpy()\n",
    "\n",
    "submission = pd.DataFrame(data=submission,columns=layers)\n",
    "submission.to_csv(f'test_{version}_{lr}_{epochs}.csv', index_label='id')"
   ]
  },
  {
   "cell_type": "code",
   "execution_count": 14,
   "metadata": {},
   "outputs": [
    {
     "data": {
      "text/html": [
       "<div>\n",
       "<style scoped>\n",
       "    .dataframe tbody tr th:only-of-type {\n",
       "        vertical-align: middle;\n",
       "    }\n",
       "\n",
       "    .dataframe tbody tr th {\n",
       "        vertical-align: top;\n",
       "    }\n",
       "\n",
       "    .dataframe thead th {\n",
       "        text-align: right;\n",
       "    }\n",
       "</style>\n",
       "<table border=\"1\" class=\"dataframe\">\n",
       "  <thead>\n",
       "    <tr style=\"text-align: right;\">\n",
       "      <th></th>\n",
       "      <th>id</th>\n",
       "      <th>layer_1</th>\n",
       "      <th>layer_2</th>\n",
       "      <th>layer_3</th>\n",
       "      <th>layer_4</th>\n",
       "    </tr>\n",
       "  </thead>\n",
       "  <tbody>\n",
       "    <tr>\n",
       "      <th>0</th>\n",
       "      <td>0</td>\n",
       "      <td>255.066818</td>\n",
       "      <td>229.538574</td>\n",
       "      <td>131.793243</td>\n",
       "      <td>85.331375</td>\n",
       "    </tr>\n",
       "    <tr>\n",
       "      <th>1</th>\n",
       "      <td>1</td>\n",
       "      <td>158.440231</td>\n",
       "      <td>127.189491</td>\n",
       "      <td>235.908920</td>\n",
       "      <td>99.370300</td>\n",
       "    </tr>\n",
       "    <tr>\n",
       "      <th>2</th>\n",
       "      <td>2</td>\n",
       "      <td>148.246796</td>\n",
       "      <td>179.421295</td>\n",
       "      <td>273.704498</td>\n",
       "      <td>156.416672</td>\n",
       "    </tr>\n",
       "    <tr>\n",
       "      <th>3</th>\n",
       "      <td>3</td>\n",
       "      <td>91.224670</td>\n",
       "      <td>229.747925</td>\n",
       "      <td>188.885864</td>\n",
       "      <td>82.969620</td>\n",
       "    </tr>\n",
       "    <tr>\n",
       "      <th>4</th>\n",
       "      <td>4</td>\n",
       "      <td>273.475708</td>\n",
       "      <td>295.184357</td>\n",
       "      <td>244.910355</td>\n",
       "      <td>271.351715</td>\n",
       "    </tr>\n",
       "    <tr>\n",
       "      <th>5</th>\n",
       "      <td>5</td>\n",
       "      <td>99.921021</td>\n",
       "      <td>222.285248</td>\n",
       "      <td>270.671722</td>\n",
       "      <td>207.755157</td>\n",
       "    </tr>\n",
       "    <tr>\n",
       "      <th>6</th>\n",
       "      <td>6</td>\n",
       "      <td>147.663086</td>\n",
       "      <td>39.443428</td>\n",
       "      <td>135.538361</td>\n",
       "      <td>187.207535</td>\n",
       "    </tr>\n",
       "    <tr>\n",
       "      <th>7</th>\n",
       "      <td>7</td>\n",
       "      <td>274.795715</td>\n",
       "      <td>290.746735</td>\n",
       "      <td>148.076370</td>\n",
       "      <td>260.887665</td>\n",
       "    </tr>\n",
       "    <tr>\n",
       "      <th>8</th>\n",
       "      <td>8</td>\n",
       "      <td>85.273628</td>\n",
       "      <td>244.025543</td>\n",
       "      <td>170.481339</td>\n",
       "      <td>12.544601</td>\n",
       "    </tr>\n",
       "    <tr>\n",
       "      <th>9</th>\n",
       "      <td>9</td>\n",
       "      <td>218.571198</td>\n",
       "      <td>125.653633</td>\n",
       "      <td>249.992706</td>\n",
       "      <td>204.116394</td>\n",
       "    </tr>\n",
       "    <tr>\n",
       "      <th>10</th>\n",
       "      <td>10</td>\n",
       "      <td>10.246578</td>\n",
       "      <td>153.258667</td>\n",
       "      <td>261.607635</td>\n",
       "      <td>80.665375</td>\n",
       "    </tr>\n",
       "    <tr>\n",
       "      <th>11</th>\n",
       "      <td>11</td>\n",
       "      <td>104.083427</td>\n",
       "      <td>262.863495</td>\n",
       "      <td>65.085594</td>\n",
       "      <td>174.562363</td>\n",
       "    </tr>\n",
       "    <tr>\n",
       "      <th>12</th>\n",
       "      <td>12</td>\n",
       "      <td>79.548828</td>\n",
       "      <td>290.429077</td>\n",
       "      <td>242.839050</td>\n",
       "      <td>139.936371</td>\n",
       "    </tr>\n",
       "    <tr>\n",
       "      <th>13</th>\n",
       "      <td>13</td>\n",
       "      <td>32.430660</td>\n",
       "      <td>103.871643</td>\n",
       "      <td>156.604340</td>\n",
       "      <td>280.771332</td>\n",
       "    </tr>\n",
       "    <tr>\n",
       "      <th>14</th>\n",
       "      <td>14</td>\n",
       "      <td>40.999794</td>\n",
       "      <td>170.062134</td>\n",
       "      <td>214.620178</td>\n",
       "      <td>169.072250</td>\n",
       "    </tr>\n",
       "    <tr>\n",
       "      <th>15</th>\n",
       "      <td>15</td>\n",
       "      <td>246.054993</td>\n",
       "      <td>167.416840</td>\n",
       "      <td>289.376862</td>\n",
       "      <td>185.248215</td>\n",
       "    </tr>\n",
       "    <tr>\n",
       "      <th>16</th>\n",
       "      <td>16</td>\n",
       "      <td>180.893005</td>\n",
       "      <td>139.327332</td>\n",
       "      <td>183.401566</td>\n",
       "      <td>120.982574</td>\n",
       "    </tr>\n",
       "    <tr>\n",
       "      <th>17</th>\n",
       "      <td>17</td>\n",
       "      <td>177.487106</td>\n",
       "      <td>93.757477</td>\n",
       "      <td>65.489548</td>\n",
       "      <td>63.487495</td>\n",
       "    </tr>\n",
       "    <tr>\n",
       "      <th>18</th>\n",
       "      <td>18</td>\n",
       "      <td>187.488892</td>\n",
       "      <td>200.820801</td>\n",
       "      <td>147.308792</td>\n",
       "      <td>36.889294</td>\n",
       "    </tr>\n",
       "    <tr>\n",
       "      <th>19</th>\n",
       "      <td>19</td>\n",
       "      <td>229.802902</td>\n",
       "      <td>264.507935</td>\n",
       "      <td>277.436798</td>\n",
       "      <td>254.712326</td>\n",
       "    </tr>\n",
       "    <tr>\n",
       "      <th>20</th>\n",
       "      <td>20</td>\n",
       "      <td>270.618744</td>\n",
       "      <td>278.153442</td>\n",
       "      <td>166.864365</td>\n",
       "      <td>122.829941</td>\n",
       "    </tr>\n",
       "    <tr>\n",
       "      <th>21</th>\n",
       "      <td>21</td>\n",
       "      <td>214.370285</td>\n",
       "      <td>90.585663</td>\n",
       "      <td>245.684769</td>\n",
       "      <td>255.963028</td>\n",
       "    </tr>\n",
       "    <tr>\n",
       "      <th>22</th>\n",
       "      <td>22</td>\n",
       "      <td>269.253540</td>\n",
       "      <td>181.084610</td>\n",
       "      <td>285.426910</td>\n",
       "      <td>178.506180</td>\n",
       "    </tr>\n",
       "    <tr>\n",
       "      <th>23</th>\n",
       "      <td>23</td>\n",
       "      <td>140.708084</td>\n",
       "      <td>200.751587</td>\n",
       "      <td>299.875824</td>\n",
       "      <td>275.646332</td>\n",
       "    </tr>\n",
       "    <tr>\n",
       "      <th>24</th>\n",
       "      <td>24</td>\n",
       "      <td>240.112442</td>\n",
       "      <td>33.899727</td>\n",
       "      <td>187.875687</td>\n",
       "      <td>150.961548</td>\n",
       "    </tr>\n",
       "    <tr>\n",
       "      <th>25</th>\n",
       "      <td>25</td>\n",
       "      <td>192.337112</td>\n",
       "      <td>255.673019</td>\n",
       "      <td>80.398651</td>\n",
       "      <td>221.525864</td>\n",
       "    </tr>\n",
       "    <tr>\n",
       "      <th>26</th>\n",
       "      <td>26</td>\n",
       "      <td>44.304611</td>\n",
       "      <td>72.866035</td>\n",
       "      <td>240.726044</td>\n",
       "      <td>106.763809</td>\n",
       "    </tr>\n",
       "    <tr>\n",
       "      <th>27</th>\n",
       "      <td>27</td>\n",
       "      <td>246.752411</td>\n",
       "      <td>39.350563</td>\n",
       "      <td>51.225128</td>\n",
       "      <td>213.464325</td>\n",
       "    </tr>\n",
       "    <tr>\n",
       "      <th>28</th>\n",
       "      <td>28</td>\n",
       "      <td>22.564018</td>\n",
       "      <td>176.791626</td>\n",
       "      <td>274.281219</td>\n",
       "      <td>164.879532</td>\n",
       "    </tr>\n",
       "    <tr>\n",
       "      <th>29</th>\n",
       "      <td>29</td>\n",
       "      <td>207.430130</td>\n",
       "      <td>18.305458</td>\n",
       "      <td>193.187103</td>\n",
       "      <td>186.390610</td>\n",
       "    </tr>\n",
       "    <tr>\n",
       "      <th>...</th>\n",
       "      <td>...</td>\n",
       "      <td>...</td>\n",
       "      <td>...</td>\n",
       "      <td>...</td>\n",
       "      <td>...</td>\n",
       "    </tr>\n",
       "    <tr>\n",
       "      <th>9970</th>\n",
       "      <td>9970</td>\n",
       "      <td>67.453918</td>\n",
       "      <td>296.466980</td>\n",
       "      <td>284.345001</td>\n",
       "      <td>39.606533</td>\n",
       "    </tr>\n",
       "    <tr>\n",
       "      <th>9971</th>\n",
       "      <td>9971</td>\n",
       "      <td>125.173225</td>\n",
       "      <td>28.377304</td>\n",
       "      <td>111.315598</td>\n",
       "      <td>163.385727</td>\n",
       "    </tr>\n",
       "    <tr>\n",
       "      <th>9972</th>\n",
       "      <td>9972</td>\n",
       "      <td>223.064560</td>\n",
       "      <td>165.391907</td>\n",
       "      <td>221.357178</td>\n",
       "      <td>199.288681</td>\n",
       "    </tr>\n",
       "    <tr>\n",
       "      <th>9973</th>\n",
       "      <td>9973</td>\n",
       "      <td>186.648636</td>\n",
       "      <td>289.500397</td>\n",
       "      <td>134.944107</td>\n",
       "      <td>266.802551</td>\n",
       "    </tr>\n",
       "    <tr>\n",
       "      <th>9974</th>\n",
       "      <td>9974</td>\n",
       "      <td>9.829683</td>\n",
       "      <td>11.694461</td>\n",
       "      <td>70.427734</td>\n",
       "      <td>90.381790</td>\n",
       "    </tr>\n",
       "    <tr>\n",
       "      <th>9975</th>\n",
       "      <td>9975</td>\n",
       "      <td>232.889191</td>\n",
       "      <td>234.038025</td>\n",
       "      <td>87.730087</td>\n",
       "      <td>64.168243</td>\n",
       "    </tr>\n",
       "    <tr>\n",
       "      <th>9976</th>\n",
       "      <td>9976</td>\n",
       "      <td>141.375046</td>\n",
       "      <td>31.557547</td>\n",
       "      <td>252.155624</td>\n",
       "      <td>284.982208</td>\n",
       "    </tr>\n",
       "    <tr>\n",
       "      <th>9977</th>\n",
       "      <td>9977</td>\n",
       "      <td>185.009842</td>\n",
       "      <td>78.008026</td>\n",
       "      <td>64.675026</td>\n",
       "      <td>174.979324</td>\n",
       "    </tr>\n",
       "    <tr>\n",
       "      <th>9978</th>\n",
       "      <td>9978</td>\n",
       "      <td>101.951912</td>\n",
       "      <td>40.688492</td>\n",
       "      <td>75.642357</td>\n",
       "      <td>205.939682</td>\n",
       "    </tr>\n",
       "    <tr>\n",
       "      <th>9979</th>\n",
       "      <td>9979</td>\n",
       "      <td>119.242310</td>\n",
       "      <td>242.267059</td>\n",
       "      <td>154.244141</td>\n",
       "      <td>291.605072</td>\n",
       "    </tr>\n",
       "    <tr>\n",
       "      <th>9980</th>\n",
       "      <td>9980</td>\n",
       "      <td>75.515396</td>\n",
       "      <td>73.759483</td>\n",
       "      <td>90.564560</td>\n",
       "      <td>43.013538</td>\n",
       "    </tr>\n",
       "    <tr>\n",
       "      <th>9981</th>\n",
       "      <td>9981</td>\n",
       "      <td>185.761139</td>\n",
       "      <td>175.951630</td>\n",
       "      <td>193.185654</td>\n",
       "      <td>288.866028</td>\n",
       "    </tr>\n",
       "    <tr>\n",
       "      <th>9982</th>\n",
       "      <td>9982</td>\n",
       "      <td>63.141300</td>\n",
       "      <td>286.228302</td>\n",
       "      <td>138.060684</td>\n",
       "      <td>215.225357</td>\n",
       "    </tr>\n",
       "    <tr>\n",
       "      <th>9983</th>\n",
       "      <td>9983</td>\n",
       "      <td>116.315384</td>\n",
       "      <td>141.607529</td>\n",
       "      <td>175.696732</td>\n",
       "      <td>83.611130</td>\n",
       "    </tr>\n",
       "    <tr>\n",
       "      <th>9984</th>\n",
       "      <td>9984</td>\n",
       "      <td>266.706604</td>\n",
       "      <td>182.502045</td>\n",
       "      <td>143.782394</td>\n",
       "      <td>142.785950</td>\n",
       "    </tr>\n",
       "    <tr>\n",
       "      <th>9985</th>\n",
       "      <td>9985</td>\n",
       "      <td>206.600006</td>\n",
       "      <td>49.381989</td>\n",
       "      <td>173.334763</td>\n",
       "      <td>205.175323</td>\n",
       "    </tr>\n",
       "    <tr>\n",
       "      <th>9986</th>\n",
       "      <td>9986</td>\n",
       "      <td>106.482376</td>\n",
       "      <td>227.466858</td>\n",
       "      <td>94.445534</td>\n",
       "      <td>146.461060</td>\n",
       "    </tr>\n",
       "    <tr>\n",
       "      <th>9987</th>\n",
       "      <td>9987</td>\n",
       "      <td>117.620224</td>\n",
       "      <td>117.965103</td>\n",
       "      <td>85.943161</td>\n",
       "      <td>90.636658</td>\n",
       "    </tr>\n",
       "    <tr>\n",
       "      <th>9988</th>\n",
       "      <td>9988</td>\n",
       "      <td>279.876221</td>\n",
       "      <td>234.397202</td>\n",
       "      <td>189.121780</td>\n",
       "      <td>108.049782</td>\n",
       "    </tr>\n",
       "    <tr>\n",
       "      <th>9989</th>\n",
       "      <td>9989</td>\n",
       "      <td>253.083633</td>\n",
       "      <td>116.923203</td>\n",
       "      <td>71.488983</td>\n",
       "      <td>210.499802</td>\n",
       "    </tr>\n",
       "    <tr>\n",
       "      <th>9990</th>\n",
       "      <td>9990</td>\n",
       "      <td>64.481148</td>\n",
       "      <td>146.211700</td>\n",
       "      <td>269.107147</td>\n",
       "      <td>75.567070</td>\n",
       "    </tr>\n",
       "    <tr>\n",
       "      <th>9991</th>\n",
       "      <td>9991</td>\n",
       "      <td>144.709549</td>\n",
       "      <td>184.531631</td>\n",
       "      <td>283.541992</td>\n",
       "      <td>26.302544</td>\n",
       "    </tr>\n",
       "    <tr>\n",
       "      <th>9992</th>\n",
       "      <td>9992</td>\n",
       "      <td>160.727554</td>\n",
       "      <td>96.174744</td>\n",
       "      <td>22.619621</td>\n",
       "      <td>88.579727</td>\n",
       "    </tr>\n",
       "    <tr>\n",
       "      <th>9993</th>\n",
       "      <td>9993</td>\n",
       "      <td>251.438446</td>\n",
       "      <td>290.891052</td>\n",
       "      <td>140.929962</td>\n",
       "      <td>51.534943</td>\n",
       "    </tr>\n",
       "    <tr>\n",
       "      <th>9994</th>\n",
       "      <td>9994</td>\n",
       "      <td>248.767899</td>\n",
       "      <td>73.977173</td>\n",
       "      <td>226.232208</td>\n",
       "      <td>190.626038</td>\n",
       "    </tr>\n",
       "    <tr>\n",
       "      <th>9995</th>\n",
       "      <td>9995</td>\n",
       "      <td>113.204819</td>\n",
       "      <td>95.991005</td>\n",
       "      <td>84.614960</td>\n",
       "      <td>54.369507</td>\n",
       "    </tr>\n",
       "    <tr>\n",
       "      <th>9996</th>\n",
       "      <td>9996</td>\n",
       "      <td>79.555023</td>\n",
       "      <td>259.038177</td>\n",
       "      <td>126.002769</td>\n",
       "      <td>102.222153</td>\n",
       "    </tr>\n",
       "    <tr>\n",
       "      <th>9997</th>\n",
       "      <td>9997</td>\n",
       "      <td>48.615543</td>\n",
       "      <td>255.375122</td>\n",
       "      <td>264.237640</td>\n",
       "      <td>28.985151</td>\n",
       "    </tr>\n",
       "    <tr>\n",
       "      <th>9998</th>\n",
       "      <td>9998</td>\n",
       "      <td>29.994120</td>\n",
       "      <td>22.834362</td>\n",
       "      <td>146.726624</td>\n",
       "      <td>78.332611</td>\n",
       "    </tr>\n",
       "    <tr>\n",
       "      <th>9999</th>\n",
       "      <td>9999</td>\n",
       "      <td>147.663422</td>\n",
       "      <td>18.130106</td>\n",
       "      <td>16.824621</td>\n",
       "      <td>82.148972</td>\n",
       "    </tr>\n",
       "  </tbody>\n",
       "</table>\n",
       "<p>10000 rows × 5 columns</p>\n",
       "</div>"
      ],
      "text/plain": [
       "        id     layer_1     layer_2     layer_3     layer_4\n",
       "0        0  255.066818  229.538574  131.793243   85.331375\n",
       "1        1  158.440231  127.189491  235.908920   99.370300\n",
       "2        2  148.246796  179.421295  273.704498  156.416672\n",
       "3        3   91.224670  229.747925  188.885864   82.969620\n",
       "4        4  273.475708  295.184357  244.910355  271.351715\n",
       "5        5   99.921021  222.285248  270.671722  207.755157\n",
       "6        6  147.663086   39.443428  135.538361  187.207535\n",
       "7        7  274.795715  290.746735  148.076370  260.887665\n",
       "8        8   85.273628  244.025543  170.481339   12.544601\n",
       "9        9  218.571198  125.653633  249.992706  204.116394\n",
       "10      10   10.246578  153.258667  261.607635   80.665375\n",
       "11      11  104.083427  262.863495   65.085594  174.562363\n",
       "12      12   79.548828  290.429077  242.839050  139.936371\n",
       "13      13   32.430660  103.871643  156.604340  280.771332\n",
       "14      14   40.999794  170.062134  214.620178  169.072250\n",
       "15      15  246.054993  167.416840  289.376862  185.248215\n",
       "16      16  180.893005  139.327332  183.401566  120.982574\n",
       "17      17  177.487106   93.757477   65.489548   63.487495\n",
       "18      18  187.488892  200.820801  147.308792   36.889294\n",
       "19      19  229.802902  264.507935  277.436798  254.712326\n",
       "20      20  270.618744  278.153442  166.864365  122.829941\n",
       "21      21  214.370285   90.585663  245.684769  255.963028\n",
       "22      22  269.253540  181.084610  285.426910  178.506180\n",
       "23      23  140.708084  200.751587  299.875824  275.646332\n",
       "24      24  240.112442   33.899727  187.875687  150.961548\n",
       "25      25  192.337112  255.673019   80.398651  221.525864\n",
       "26      26   44.304611   72.866035  240.726044  106.763809\n",
       "27      27  246.752411   39.350563   51.225128  213.464325\n",
       "28      28   22.564018  176.791626  274.281219  164.879532\n",
       "29      29  207.430130   18.305458  193.187103  186.390610\n",
       "...    ...         ...         ...         ...         ...\n",
       "9970  9970   67.453918  296.466980  284.345001   39.606533\n",
       "9971  9971  125.173225   28.377304  111.315598  163.385727\n",
       "9972  9972  223.064560  165.391907  221.357178  199.288681\n",
       "9973  9973  186.648636  289.500397  134.944107  266.802551\n",
       "9974  9974    9.829683   11.694461   70.427734   90.381790\n",
       "9975  9975  232.889191  234.038025   87.730087   64.168243\n",
       "9976  9976  141.375046   31.557547  252.155624  284.982208\n",
       "9977  9977  185.009842   78.008026   64.675026  174.979324\n",
       "9978  9978  101.951912   40.688492   75.642357  205.939682\n",
       "9979  9979  119.242310  242.267059  154.244141  291.605072\n",
       "9980  9980   75.515396   73.759483   90.564560   43.013538\n",
       "9981  9981  185.761139  175.951630  193.185654  288.866028\n",
       "9982  9982   63.141300  286.228302  138.060684  215.225357\n",
       "9983  9983  116.315384  141.607529  175.696732   83.611130\n",
       "9984  9984  266.706604  182.502045  143.782394  142.785950\n",
       "9985  9985  206.600006   49.381989  173.334763  205.175323\n",
       "9986  9986  106.482376  227.466858   94.445534  146.461060\n",
       "9987  9987  117.620224  117.965103   85.943161   90.636658\n",
       "9988  9988  279.876221  234.397202  189.121780  108.049782\n",
       "9989  9989  253.083633  116.923203   71.488983  210.499802\n",
       "9990  9990   64.481148  146.211700  269.107147   75.567070\n",
       "9991  9991  144.709549  184.531631  283.541992   26.302544\n",
       "9992  9992  160.727554   96.174744   22.619621   88.579727\n",
       "9993  9993  251.438446  290.891052  140.929962   51.534943\n",
       "9994  9994  248.767899   73.977173  226.232208  190.626038\n",
       "9995  9995  113.204819   95.991005   84.614960   54.369507\n",
       "9996  9996   79.555023  259.038177  126.002769  102.222153\n",
       "9997  9997   48.615543  255.375122  264.237640   28.985151\n",
       "9998  9998   29.994120   22.834362  146.726624   78.332611\n",
       "9999  9999  147.663422   18.130106   16.824621   82.148972\n",
       "\n",
       "[10000 rows x 5 columns]"
      ]
     },
     "execution_count": 14,
     "metadata": {},
     "output_type": "execute_result"
    }
   ],
   "source": [
    "a=pd.read_csv('test_(4, 43)_0.001_100.csv')S\n",
    "a"
   ]
  },
  {
   "cell_type": "code",
   "execution_count": null,
   "metadata": {},
   "outputs": [],
   "source": []
  }
 ],
 "metadata": {
  "kernelspec": {
   "display_name": "Python 3",
   "language": "python",
   "name": "python3"
  },
  "language_info": {
   "codemirror_mode": {
    "name": "ipython",
    "version": 3
   },
   "file_extension": ".py",
   "mimetype": "text/x-python",
   "name": "python",
   "nbconvert_exporter": "python",
   "pygments_lexer": "ipython3",
   "version": "3.6.5"
  }
 },
 "nbformat": 4,
 "nbformat_minor": 4
}
