{
 "cells": [
  {
   "cell_type": "code",
   "execution_count": 1,
   "metadata": {},
   "outputs": [
    {
     "data": {
      "text/plain": [
       "True"
      ]
     },
     "execution_count": 1,
     "metadata": {},
     "output_type": "execute_result"
    }
   ],
   "source": [
    "#Library 예시\n",
    "\n",
    "import math\n",
    "import time\n",
    "from itertools import chain\n",
    "import argparse\n",
    "import numpy as np\n",
    "import pandas as pd\n",
    "import torch \n",
    "import torch.nn as nn\n",
    "import torch.nn.functional as F\n",
    "from torch.utils.data import Dataset, DataLoader\n",
    "from tqdm import tqdm\n",
    "from torch.optim import Optimizer, Adam\n",
    "from torch.optim.lr_scheduler import LambdaLR\n",
    "# 모델 학습을 위해 CUDA 환경 설정. : 지피유 설정\n",
    "device = torch.device('cuda:0' if torch.cuda.is_available else 'cpu')\n",
    "#device=torch.device('cpu')\n",
    "torch.cuda.is_available()"
   ]
  },
  {
   "cell_type": "code",
   "execution_count": 2,
   "metadata": {},
   "outputs": [],
   "source": [
    "wavenumbers=np.linspace(1000,8000,351)"
   ]
  },
  {
   "cell_type": "code",
   "execution_count": 4,
   "metadata": {},
   "outputs": [
    {
     "name": "stdout",
     "output_type": "stream",
     "text": [
      "(2754000, 360)\n",
      "train file saved....\n"
     ]
    }
   ],
   "source": [
    "# 별도의 데이터 Pre-Processing 과정은 없고 모델 훈련시 검증을 위해 train 중 54000개를 validation 용으로 분리.\n",
    "# 새로 만든 train.csv는 train1.csv, validation은 val.csv로 저장.\n",
    "# dataframe.sample(frac=1) 을 통해 셔플.\n",
    "path_train = 'train_parameter.csv'\n",
    "#path_test = 'test.csv'\n",
    "layers = [['e_inf','w01','wp1','gamma1','w02','wp2','gamma2','thickness(nm)','level'], [str(i) for i in wavenumbers.tolist()]]\n",
    "layers = list(chain(*layers))\n",
    "\n",
    "train = pd.read_csv(path_train)\n",
    "print(train.shape)\n",
    "train = train.sample(frac=1, random_state=2)\n",
    "rows, cols = train.shape\n",
    "\n",
    "train1 = train.iloc[:rows - 54000,:]\n",
    "train1 = train1.values\n",
    "train1 = pd.DataFrame(data=train1,columns=layers)\n",
    "train1.to_csv('train1_parameter.csv', index_label='id')\n",
    "\n",
    "print(\"train file saved....\")\n",
    "val = train.iloc[rows - 54000:,:]\n",
    "val = val.values\n",
    "val = pd.DataFrame(data=val,columns=layers)\n",
    "val.to_csv('val_parameter.csv', index_label='id')"
   ]
  },
  {
   "cell_type": "code",
   "execution_count": 22,
   "metadata": {},
   "outputs": [],
   "source": [
    "class GELU(nn.Module):\n",
    "    def forward(self, x):\n",
    "        return 0.5 * x * (1 + torch.tanh(math.sqrt(2 / math.pi) * (x + 0.044715 * torch.pow(x, 3))))\n",
    "class Unet_1d(nn.Module):\n",
    "    def __init__(self):\n",
    "        super(Unet_1d, self).__init__()\n",
    "        def CBR1d(in_channels, out_channels, kernel_size=3, stride=1, padding=1, bias=True):\n",
    "            layers = []\n",
    "            layers +=[nn.Conv1d(in_channels=in_channels, out_channels=out_channels,\n",
    "                               kernel_size=kernel_size, stride=stride, padding=padding,\n",
    "                               bias=bias)]\n",
    "            nn.init.xavier_uniform_(layers[0].weight)\n",
    "            layers +=[nn.BatchNorm1d(num_features=out_channels)]\n",
    "            layers +=[GELU()]\n",
    "            layers +=[nn.Dropout(p=0.1)]\n",
    "            \n",
    "            cbr = nn.Sequential(*layers)\n",
    "            \n",
    "            return cbr\n",
    "        def thickCN(in_channels, out_channels, kernel_size=3, stride=2, padding=0, bias=True):\n",
    "            layers=[]\n",
    "            layers +=[nn.Conv1d(in_channels=in_channels, out_channels=out_channels, \n",
    "                                kernel_size=kernel_size, stride=stride, padding=padding,\n",
    "                               bias=True)]\n",
    "            layers +=[nn.BatchNorm1d(num_features=out_channels)]\n",
    "            layers +=[GELU()]\n",
    "            \n",
    "            tcn = nn.Sequential(*layers)\n",
    "            \n",
    "            return tcn\n",
    "        #input : batch_size x 351x1\n",
    "        #trans_input: batch_size x 1 x351\n",
    "        '''encoding'''\n",
    "        self.enc1_1= CBR1d(1,64) #1x64x351\n",
    "        self.enc1_2= CBR1d(64, 64) #1x64x351\n",
    "        \n",
    "        self.pool1=nn.MaxPool1d(kernel_size=3)#1x64x117\n",
    "        \n",
    "        self.enc2_1= CBR1d(64,128) #1x128x117\n",
    "        self.enc2_2= CBR1d(128, 128) #1x128x117\n",
    "        \n",
    "        self.pool2=nn.MaxPool1d(kernel_size=3)#1x128x39\n",
    "        \n",
    "        self.enc3_1= CBR1d(128,256) #1x256x39\n",
    "        self.enc3_2= CBR1d(256, 256) #1x256x39\n",
    "        \n",
    "        self.pool3=nn.MaxPool1d(kernel_size=3)#1x256x13\n",
    "        '''decoding'''\n",
    "        #1x256x13\n",
    "        self.dec4_1=CBR1d(256,512)#1x512x13\n",
    "        self.dec4_2=CBR1d(512,256)#1x256x13\n",
    "        \n",
    "        self.unpool3=nn.ConvTranspose1d(256, 256, kernel_size=3, stride=3, bias=True) #1x256x39\n",
    "        \n",
    "        self.dec3_2=CBR1d(512,256) #1x256x39\n",
    "        self.dec3_1=CBR1d(256, 128) #1x128x39\n",
    "        \n",
    "        self.unpool2=nn.ConvTranspose1d(128, 128, kernel_size=3, stride=3, bias=True) #1x128x117\n",
    "        \n",
    "        self.dec2_2=CBR1d(256, 128)#1x128x117\n",
    "        self.dec2_1=CBR1d(128, 64)#1x64x117\n",
    "        \n",
    "        self.unpool1=nn.ConvTranspose1d(64, 64, kernel_size=3, stride=3, bias=True) #1x64x351\n",
    "        \n",
    "        self.dec1_2=CBR1d(128, 64) #1x64x351\n",
    "        self.dec1_1=CBR1d(64, 64) #1x64x351\n",
    "        self.fc0=nn.Sequential(nn.Conv1d(64,2,kernel_size=1,stride=1,bias=True),nn.BatchNorm1d(2), GELU())\n",
    "        #1x2x351\n",
    "        self.fc1=nn.Sequential(nn.Linear(351*2,9))\n",
    "        '''thickness network'''\n",
    "        '''\n",
    "        #1x201\n",
    "        \n",
    "        self.tpool2=nn.MaxPool1d(3,2)\n",
    "        self.tunpool2=nn.ConvTranspose1d(256,128,kernel_size=3, stride=2, bias=True)\n",
    "       \n",
    "        self.fc2=nn.Sequential(nn.Linear(201*2,2))\n",
    "        '''\n",
    "        \n",
    "    def forward(self, x):\n",
    "        y=x[:,150:] #201x1\n",
    "        #print(y.shape)\n",
    "        x=x.view(x.shape[0],1,-1) #1000~3980\n",
    "        y=y.view(y.shape[0],1,-1)#4000~8000\n",
    "        '''nk_parameter_Unet'''\n",
    "        x=self.enc1_1(x)\n",
    "        enc1=self.enc1_2(x)\n",
    "        enc1_pool=self.pool1(enc1)\n",
    "        \n",
    "        enc2=self.enc2_1(enc1_pool)\n",
    "        enc2=self.enc2_2(enc2)\n",
    "        enc2_pool=self.pool2(enc2)\n",
    "        \n",
    "        enc3=self.enc3_1(enc2_pool)\n",
    "        enc3=self.enc3_2(enc3)\n",
    "        enc3_pool=self.pool3(enc3)\n",
    "        \n",
    "        dec4=self.dec4_1(enc3_pool)\n",
    "        dec4=self.dec4_2(dec4)\n",
    "        \n",
    "        dec3=self.unpool3(dec4)\n",
    "        dec3=torch.cat([dec3,enc3], dim=1)\n",
    "        dec3=self.dec3_2(dec3)\n",
    "        dec3=self.dec3_1(dec3)\n",
    "        \n",
    "        dec2=self.unpool2(dec3)\n",
    "        dec2=torch.cat([dec2, enc2], dim=1)\n",
    "        dec2=self.dec2_2(dec2)\n",
    "        dec2=self.dec2_1(dec2)\n",
    "        \n",
    "        dec1=self.unpool1(dec2)\n",
    "        dec1=torch.cat([dec1, enc1], dim=1)\n",
    "        dec1=self.dec1_2(dec1)\n",
    "        dec1=self.dec1_1(dec1)\n",
    "        \n",
    "        out1=self.fc0(dec1)\n",
    "        out1=out1.view(out1.shape[0], out1.size(1)*out1.size(2))\n",
    "        out1=self.fc1(out1) #nk parameter\n",
    "        '''thickness, level_CNN'''\n",
    "        #1x201\n",
    "        '''\n",
    "        tenc1=self.enc1_1(y) \n",
    "        tenc1=self.enc1_2(tenc1) #1x64x201\n",
    "        \n",
    "        tenc2=self.pool1(tenc1) #1x64x67\n",
    "        tenc2=self.enc2_1(tenc2) #1x128x67\n",
    "        tenc2=self.enc2_2(tenc2) #1x128x67\n",
    "        \n",
    "        tenc3=self.tpool2(tenc2) #1x128x33\n",
    "        tenc3=self.enc3_1(tenc3) #1x256x33\n",
    "        tenc3=self.enc3_2(tenc3) #1x256x33\n",
    "        \n",
    "        tdec4=self.dec4_1(tenc3)\n",
    "        tdec4=self.dec4_2(tdec4) #1x256x33\n",
    "        \n",
    "        tdec3=self.tunpool2(tenc3) #1x128x67\n",
    "        tdec2=torch.cat([tdec3,tenc2], dim=1)#1x256x67\n",
    "        tdec2=self.dec2_2(tdec2)#1x128x67\n",
    "        tdec2=self.dec2_1(tdec2)#1x64x67\n",
    "        \n",
    "        tdec2=self.upool1(tdec2)#1x64x201\n",
    "        tdec1=torch.cat([tdec2,tenc1], dim=1) #1x128x201\n",
    "        tdec1=self.dec1_2(tdec1) #1x64x201\n",
    "        tdec1=self.dec1_1(tdec1) #1x64x201\n",
    "        \n",
    "        out2=self.fc0(tdec1) #1x2x201\n",
    "        out2=out2.view(out2.shape[0], out2.size(1)*out2.size(2)) #1x2*201\n",
    "        out2=self.fc2(out2)\n",
    "        '''\n",
    "\n",
    "        return out1\n",
    "\n",
    "def get_cosine_with_hard_restarts_schedule_with_warmup(\n",
    "    optimizer, num_warmup_steps, num_training_steps, num_cycles=1.0, last_epoch=-1\n",
    "):\n",
    "    \"\"\" Create a schedule with a learning rate that decreases following the\n",
    "    values of the cosine function with several hard restarts, after a warmup\n",
    "    period during which it increases linearly between 0 and 1.\n",
    "    \"\"\"\n",
    "\n",
    "    def lr_lambda(current_step):\n",
    "        if current_step < num_warmup_steps:\n",
    "            return float(current_step) / float(max(1, num_warmup_steps))\n",
    "        progress = float(current_step - num_warmup_steps) / float(max(1, num_training_steps - num_warmup_steps))\n",
    "        if progress >= 1.0:\n",
    "            return 0.0\n",
    "        return max(0.0, 0.5 * (1.0 + math.cos(math.pi * ((float(num_cycles) * progress) % 1.0))))\n",
    "\n",
    "    return LambdaLR(optimizer, lr_lambda, last_epoch)"
   ]
  },
  {
   "cell_type": "code",
   "execution_count": 5,
   "metadata": {},
   "outputs": [],
   "source": [
    "# 새로 만든 train/ val 모델 학습 데이터 경로를 설정.\n",
    "train_path = 'train1_parameter.csv'#레이어를 같게 두고 풀때\n",
    "val_path = 'val_parameter.csv'\n",
    "\n",
    "class PandasDataset(Dataset):\n",
    "    def __init__(self, path):\n",
    "        super(PandasDataset, self).__init__()\n",
    "        train = pd.read_csv(path).iloc[:,1:]\n",
    "        self.train_X, self.train_Y = train.iloc[:,9:], train.iloc[:,0:9]\n",
    "        self.tmp_x , self.tmp_y = self.train_X.values, self.train_Y.values\n",
    "    \n",
    "    def __len__(self):\n",
    "        return len(self.train_X)\n",
    "\n",
    "    def __getitem__(self, idx):\n",
    "        return {\n",
    "            'X':torch.from_numpy(self.tmp_x)[idx],\n",
    "            'Y':torch.from_numpy(self.tmp_y)[idx]\n",
    "        }\n",
    "\n",
    "batch_size = 2048\n",
    "            \n",
    "train_dataset = PandasDataset(train_path)\n",
    "train_loader = DataLoader(train_dataset, batch_size=batch_size, pin_memory=True, num_workers=0)#card에 data size/batch size만큼 monunt\n",
    "\n",
    "val_dataset = PandasDataset(val_path)\n",
    "val_loader = DataLoader(val_dataset, batch_size=batch_size, pin_memory=True, num_workers=0) "
   ]
  },
  {
   "cell_type": "markdown",
   "metadata": {},
   "source": [
    "# Model Picture"
   ]
  },
  {
   "cell_type": "code",
   "execution_count": 11,
   "metadata": {},
   "outputs": [],
   "source": [
    "from torchviz import make_dot\n",
    "import torch.onnx"
   ]
  },
  {
   "cell_type": "code",
   "execution_count": 18,
   "metadata": {},
   "outputs": [],
   "source": [
    "model = Unet_1d()\n",
    "dummy_data=torch.empty(1, 351, dtype=torch.float32)\n",
    "torch.onnx.export(model, dummy_data, 'Unet_model.onnx')\n",
    "model = model.to(device) # 모델을 GPU 메모리에 올림."
   ]
  },
  {
   "cell_type": "code",
   "execution_count": 19,
   "metadata": {},
   "outputs": [],
   "source": [
    "lr = 1e-03\n",
    "adam_epsilon = 1e-06\n",
    "epochs = 100\n",
    "warmup_step = 2000\n",
    "loss_fn1 = nn.MSELoss()\n",
    "loss_fn2 = nn.L1Loss()"
   ]
  },
  {
   "cell_type": "code",
   "execution_count": 20,
   "metadata": {},
   "outputs": [
    {
     "name": "stdout",
     "output_type": "stream",
     "text": [
      "1319\n"
     ]
    }
   ],
   "source": [
    "print(len(train_loader))"
   ]
  },
  {
   "cell_type": "code",
   "execution_count": 23,
   "metadata": {},
   "outputs": [
    {
     "name": "stderr",
     "output_type": "stream",
     "text": [
      "\r",
      "*********Train mode*******:   0%|                                                             | 0/1319 [00:00<?, ?it/s]"
     ]
    },
    {
     "name": "stdout",
     "output_type": "stream",
     "text": [
      "Total step is....131900\n"
     ]
    },
    {
     "name": "stderr",
     "output_type": "stream",
     "text": [
      "*********Train mode*******: 100%|██████████████████████████████████████████████████| 1319/1319 [07:36<00:00,  2.89it/s]\n",
      "*********Evaluation mode*******:   4%|█▊                                                | 1/27 [00:00<00:03,  6.54it/s]"
     ]
    },
    {
     "name": "stdout",
     "output_type": "stream",
     "text": [
      "Epoch [1/100], Train Loss: 64398.3026\n",
      "Epoch [1/100], Thick Loss: 197.7059\n"
     ]
    },
    {
     "name": "stderr",
     "output_type": "stream",
     "text": [
      "*********Evaluation mode*******: 100%|█████████████████████████████████████████████████| 27/27 [00:04<00:00,  6.47it/s]\n",
      "*********Train mode*******:   0%|                                                             | 0/1319 [00:00<?, ?it/s]"
     ]
    },
    {
     "name": "stdout",
     "output_type": "stream",
     "text": [
      "Epoch [1/100], Eval Loss: 54036.1499\n",
      "Best Model saved......\n"
     ]
    },
    {
     "name": "stderr",
     "output_type": "stream",
     "text": [
      "*********Train mode*******: 100%|██████████████████████████████████████████████████| 1319/1319 [07:37<00:00,  2.89it/s]\n",
      "*********Evaluation mode*******:   4%|█▊                                                | 1/27 [00:00<00:03,  6.77it/s]"
     ]
    },
    {
     "name": "stdout",
     "output_type": "stream",
     "text": [
      "Epoch [2/100], Train Loss: 39101.9049\n",
      "Epoch [2/100], Thick Loss: 372.4728\n"
     ]
    },
    {
     "name": "stderr",
     "output_type": "stream",
     "text": [
      "*********Evaluation mode*******: 100%|█████████████████████████████████████████████████| 27/27 [00:04<00:00,  6.26it/s]\n",
      "*********Train mode*******:   0%|                                                             | 0/1319 [00:00<?, ?it/s]"
     ]
    },
    {
     "name": "stdout",
     "output_type": "stream",
     "text": [
      "Epoch [2/100], Eval Loss: 29189.7368\n",
      "Best Model saved......\n"
     ]
    },
    {
     "name": "stderr",
     "output_type": "stream",
     "text": [
      "*********Train mode*******: 100%|██████████████████████████████████████████████████| 1319/1319 [07:36<00:00,  2.89it/s]\n",
      "*********Evaluation mode*******:   4%|█▊                                                | 1/27 [00:00<00:03,  7.08it/s]"
     ]
    },
    {
     "name": "stdout",
     "output_type": "stream",
     "text": [
      "Epoch [3/100], Train Loss: 25226.7369\n",
      "Epoch [3/100], Thick Loss: 479.8242\n"
     ]
    },
    {
     "name": "stderr",
     "output_type": "stream",
     "text": [
      "*********Evaluation mode*******: 100%|█████████████████████████████████████████████████| 27/27 [00:03<00:00,  6.76it/s]\n",
      "*********Train mode*******:   0%|                                                             | 0/1319 [00:00<?, ?it/s]"
     ]
    },
    {
     "name": "stdout",
     "output_type": "stream",
     "text": [
      "Epoch [3/100], Eval Loss: 23340.8597\n",
      "Best Model saved......\n"
     ]
    },
    {
     "name": "stderr",
     "output_type": "stream",
     "text": [
      "*********Train mode*******: 100%|██████████████████████████████████████████████████| 1319/1319 [07:35<00:00,  2.90it/s]\n",
      "*********Evaluation mode*******:   4%|█▊                                                | 1/27 [00:00<00:03,  7.06it/s]"
     ]
    },
    {
     "name": "stdout",
     "output_type": "stream",
     "text": [
      "Epoch [4/100], Train Loss: 21789.1328\n",
      "Epoch [4/100], Thick Loss: 563.0010\n"
     ]
    },
    {
     "name": "stderr",
     "output_type": "stream",
     "text": [
      "*********Evaluation mode*******: 100%|█████████████████████████████████████████████████| 27/27 [00:04<00:00,  6.54it/s]\n",
      "*********Train mode*******:   0%|                                                             | 0/1319 [00:00<?, ?it/s]"
     ]
    },
    {
     "name": "stdout",
     "output_type": "stream",
     "text": [
      "Epoch [4/100], Eval Loss: 20954.6125\n",
      "Best Model saved......\n"
     ]
    },
    {
     "name": "stderr",
     "output_type": "stream",
     "text": [
      "*********Train mode*******: 100%|██████████████████████████████████████████████████| 1319/1319 [07:35<00:00,  2.89it/s]\n",
      "*********Evaluation mode*******:   4%|█▊                                                | 1/27 [00:00<00:03,  7.07it/s]"
     ]
    },
    {
     "name": "stdout",
     "output_type": "stream",
     "text": [
      "Epoch [5/100], Train Loss: 19947.2236\n",
      "Epoch [5/100], Thick Loss: 633.4821\n"
     ]
    },
    {
     "name": "stderr",
     "output_type": "stream",
     "text": [
      "*********Evaluation mode*******: 100%|█████████████████████████████████████████████████| 27/27 [00:04<00:00,  5.82it/s]\n",
      "*********Train mode*******:   0%|                                                             | 0/1319 [00:00<?, ?it/s]"
     ]
    },
    {
     "name": "stdout",
     "output_type": "stream",
     "text": [
      "Epoch [5/100], Eval Loss: 19400.8469\n",
      "Best Model saved......\n"
     ]
    },
    {
     "name": "stderr",
     "output_type": "stream",
     "text": [
      "*********Train mode*******: 100%|██████████████████████████████████████████████████| 1319/1319 [07:36<00:00,  2.89it/s]\n",
      "*********Evaluation mode*******:   4%|█▊                                                | 1/27 [00:00<00:03,  7.33it/s]"
     ]
    },
    {
     "name": "stdout",
     "output_type": "stream",
     "text": [
      "Epoch [6/100], Train Loss: 18656.3043\n",
      "Epoch [6/100], Thick Loss: 693.1769\n"
     ]
    },
    {
     "name": "stderr",
     "output_type": "stream",
     "text": [
      "*********Evaluation mode*******: 100%|█████████████████████████████████████████████████| 27/27 [00:03<00:00,  6.86it/s]\n",
      "*********Train mode*******:   0%|                                                             | 0/1319 [00:00<?, ?it/s]"
     ]
    },
    {
     "name": "stdout",
     "output_type": "stream",
     "text": [
      "Epoch [6/100], Eval Loss: 17302.1950\n",
      "Best Model saved......\n"
     ]
    },
    {
     "name": "stderr",
     "output_type": "stream",
     "text": [
      "*********Train mode*******: 100%|██████████████████████████████████████████████████| 1319/1319 [07:34<00:00,  2.90it/s]\n",
      "*********Evaluation mode*******:   4%|█▊                                                | 1/27 [00:00<00:04,  6.31it/s]"
     ]
    },
    {
     "name": "stdout",
     "output_type": "stream",
     "text": [
      "Epoch [7/100], Train Loss: 17634.1975\n",
      "Epoch [7/100], Thick Loss: 745.8962\n"
     ]
    },
    {
     "name": "stderr",
     "output_type": "stream",
     "text": [
      "*********Evaluation mode*******: 100%|█████████████████████████████████████████████████| 27/27 [00:03<00:00,  6.87it/s]\n",
      "*********Train mode*******:   0%|                                                             | 0/1319 [00:00<?, ?it/s]"
     ]
    },
    {
     "name": "stdout",
     "output_type": "stream",
     "text": [
      "Epoch [7/100], Eval Loss: 18267.6072\n"
     ]
    },
    {
     "name": "stderr",
     "output_type": "stream",
     "text": [
      "*********Train mode*******: 100%|██████████████████████████████████████████████████| 1319/1319 [07:36<00:00,  2.89it/s]\n",
      "*********Evaluation mode*******:   4%|█▊                                                | 1/27 [00:00<00:03,  6.96it/s]"
     ]
    },
    {
     "name": "stdout",
     "output_type": "stream",
     "text": [
      "Epoch [8/100], Train Loss: 16685.8099\n",
      "Epoch [8/100], Thick Loss: 795.4130\n"
     ]
    },
    {
     "name": "stderr",
     "output_type": "stream",
     "text": [
      "*********Evaluation mode*******: 100%|█████████████████████████████████████████████████| 27/27 [00:04<00:00,  6.65it/s]\n",
      "*********Train mode*******:   0%|                                                             | 0/1319 [00:00<?, ?it/s]"
     ]
    },
    {
     "name": "stdout",
     "output_type": "stream",
     "text": [
      "Epoch [8/100], Eval Loss: 16949.6244\n",
      "Best Model saved......\n"
     ]
    },
    {
     "name": "stderr",
     "output_type": "stream",
     "text": [
      "*********Train mode*******: 100%|██████████████████████████████████████████████████| 1319/1319 [07:36<00:00,  2.89it/s]\n",
      "*********Evaluation mode*******:   4%|█▊                                                | 1/27 [00:00<00:03,  6.52it/s]"
     ]
    },
    {
     "name": "stdout",
     "output_type": "stream",
     "text": [
      "Epoch [9/100], Train Loss: 16084.2447\n",
      "Epoch [9/100], Thick Loss: 840.7854\n"
     ]
    },
    {
     "name": "stderr",
     "output_type": "stream",
     "text": [
      "*********Evaluation mode*******: 100%|█████████████████████████████████████████████████| 27/27 [00:03<00:00,  6.78it/s]\n",
      "*********Train mode*******:   0%|                                                             | 0/1319 [00:00<?, ?it/s]"
     ]
    },
    {
     "name": "stdout",
     "output_type": "stream",
     "text": [
      "Epoch [9/100], Eval Loss: 17023.0772\n"
     ]
    },
    {
     "name": "stderr",
     "output_type": "stream",
     "text": [
      "*********Train mode*******: 100%|██████████████████████████████████████████████████| 1319/1319 [07:35<00:00,  2.89it/s]\n",
      "*********Evaluation mode*******:   4%|█▊                                                | 1/27 [00:00<00:03,  7.17it/s]"
     ]
    },
    {
     "name": "stdout",
     "output_type": "stream",
     "text": [
      "Epoch [10/100], Train Loss: 15501.7280\n",
      "Epoch [10/100], Thick Loss: 884.6166\n"
     ]
    },
    {
     "name": "stderr",
     "output_type": "stream",
     "text": [
      "*********Evaluation mode*******: 100%|█████████████████████████████████████████████████| 27/27 [00:03<00:00,  6.99it/s]\n",
      "*********Train mode*******:   0%|                                                             | 0/1319 [00:00<?, ?it/s]"
     ]
    },
    {
     "name": "stdout",
     "output_type": "stream",
     "text": [
      "Epoch [10/100], Eval Loss: 14255.6735\n",
      "Best Model saved......\n"
     ]
    },
    {
     "name": "stderr",
     "output_type": "stream",
     "text": [
      "*********Train mode*******: 100%|██████████████████████████████████████████████████| 1319/1319 [07:34<00:00,  2.90it/s]\n",
      "*********Evaluation mode*******:   4%|█▊                                                | 1/27 [00:00<00:03,  6.53it/s]"
     ]
    },
    {
     "name": "stdout",
     "output_type": "stream",
     "text": [
      "Epoch [11/100], Train Loss: 14163.3488\n",
      "Epoch [11/100], Thick Loss: 922.1099\n"
     ]
    },
    {
     "name": "stderr",
     "output_type": "stream",
     "text": [
      "*********Evaluation mode*******: 100%|█████████████████████████████████████████████████| 27/27 [00:03<00:00,  6.90it/s]\n",
      "*********Train mode*******:   0%|                                                             | 0/1319 [00:00<?, ?it/s]"
     ]
    },
    {
     "name": "stdout",
     "output_type": "stream",
     "text": [
      "Epoch [11/100], Eval Loss: 14445.8519\n"
     ]
    },
    {
     "name": "stderr",
     "output_type": "stream",
     "text": [
      "*********Train mode*******: 100%|██████████████████████████████████████████████████| 1319/1319 [07:36<00:00,  2.89it/s]\n",
      "*********Evaluation mode*******:   4%|█▊                                                | 1/27 [00:00<00:03,  7.45it/s]"
     ]
    },
    {
     "name": "stdout",
     "output_type": "stream",
     "text": [
      "Epoch [12/100], Train Loss: 13713.0302\n",
      "Epoch [12/100], Thick Loss: 960.4285\n"
     ]
    },
    {
     "name": "stderr",
     "output_type": "stream",
     "text": [
      "*********Evaluation mode*******: 100%|█████████████████████████████████████████████████| 27/27 [00:04<00:00,  6.60it/s]\n",
      "*********Train mode*******:   0%|                                                             | 0/1319 [00:00<?, ?it/s]"
     ]
    },
    {
     "name": "stdout",
     "output_type": "stream",
     "text": [
      "Epoch [12/100], Eval Loss: 12232.3818\n",
      "Best Model saved......\n"
     ]
    },
    {
     "name": "stderr",
     "output_type": "stream",
     "text": [
      "*********Train mode*******: 100%|██████████████████████████████████████████████████| 1319/1319 [07:35<00:00,  2.89it/s]\n",
      "*********Evaluation mode*******:   4%|█▊                                                | 1/27 [00:00<00:03,  6.81it/s]"
     ]
    },
    {
     "name": "stdout",
     "output_type": "stream",
     "text": [
      "Epoch [13/100], Train Loss: 12850.4076\n",
      "Epoch [13/100], Thick Loss: 991.5155\n"
     ]
    },
    {
     "name": "stderr",
     "output_type": "stream",
     "text": [
      "*********Evaluation mode*******: 100%|█████████████████████████████████████████████████| 27/27 [00:04<00:00,  6.40it/s]\n",
      "*********Train mode*******:   0%|                                                             | 0/1319 [00:00<?, ?it/s]"
     ]
    },
    {
     "name": "stdout",
     "output_type": "stream",
     "text": [
      "Epoch [13/100], Eval Loss: 14148.4660\n"
     ]
    },
    {
     "name": "stderr",
     "output_type": "stream",
     "text": [
      "*********Train mode*******: 100%|██████████████████████████████████████████████████| 1319/1319 [07:34<00:00,  2.90it/s]\n",
      "*********Evaluation mode*******:   4%|█▊                                                | 1/27 [00:00<00:03,  6.68it/s]"
     ]
    },
    {
     "name": "stdout",
     "output_type": "stream",
     "text": [
      "Epoch [14/100], Train Loss: 12377.5097\n",
      "Epoch [14/100], Thick Loss: 1024.2068\n"
     ]
    },
    {
     "name": "stderr",
     "output_type": "stream",
     "text": [
      "*********Evaluation mode*******: 100%|█████████████████████████████████████████████████| 27/27 [00:03<00:00,  6.93it/s]\n",
      "*********Train mode*******:   0%|                                                             | 0/1319 [00:00<?, ?it/s]"
     ]
    },
    {
     "name": "stdout",
     "output_type": "stream",
     "text": [
      "Epoch [14/100], Eval Loss: 12094.5444\n",
      "Best Model saved......\n"
     ]
    },
    {
     "name": "stderr",
     "output_type": "stream",
     "text": [
      "*********Train mode*******: 100%|██████████████████████████████████████████████████| 1319/1319 [07:35<00:00,  2.90it/s]\n",
      "*********Evaluation mode*******:   4%|█▊                                                | 1/27 [00:00<00:03,  6.71it/s]"
     ]
    },
    {
     "name": "stdout",
     "output_type": "stream",
     "text": [
      "Epoch [15/100], Train Loss: 12309.2612\n",
      "Epoch [15/100], Thick Loss: 1058.1292\n"
     ]
    },
    {
     "name": "stderr",
     "output_type": "stream",
     "text": [
      "*********Evaluation mode*******: 100%|█████████████████████████████████████████████████| 27/27 [00:03<00:00,  6.98it/s]\n",
      "*********Train mode*******:   0%|                                                             | 0/1319 [00:00<?, ?it/s]"
     ]
    },
    {
     "name": "stdout",
     "output_type": "stream",
     "text": [
      "Epoch [15/100], Eval Loss: 11949.3493\n",
      "Best Model saved......\n"
     ]
    },
    {
     "name": "stderr",
     "output_type": "stream",
     "text": [
      "*********Train mode*******: 100%|██████████████████████████████████████████████████| 1319/1319 [07:35<00:00,  2.90it/s]\n",
      "*********Evaluation mode*******:   4%|█▊                                                | 1/27 [00:00<00:04,  6.05it/s]"
     ]
    },
    {
     "name": "stdout",
     "output_type": "stream",
     "text": [
      "Epoch [16/100], Train Loss: 11576.8060\n",
      "Epoch [16/100], Thick Loss: 1087.8962\n"
     ]
    },
    {
     "name": "stderr",
     "output_type": "stream",
     "text": [
      "*********Evaluation mode*******: 100%|█████████████████████████████████████████████████| 27/27 [00:03<00:00,  6.99it/s]\n",
      "*********Train mode*******:   0%|                                                             | 0/1319 [00:00<?, ?it/s]"
     ]
    },
    {
     "name": "stdout",
     "output_type": "stream",
     "text": [
      "Epoch [16/100], Eval Loss: 14332.7465\n"
     ]
    },
    {
     "name": "stderr",
     "output_type": "stream",
     "text": [
      "*********Train mode*******: 100%|██████████████████████████████████████████████████| 1319/1319 [07:34<00:00,  2.90it/s]\n",
      "*********Evaluation mode*******:   4%|█▊                                                | 1/27 [00:00<00:03,  6.91it/s]"
     ]
    },
    {
     "name": "stdout",
     "output_type": "stream",
     "text": [
      "Epoch [17/100], Train Loss: 10879.9589\n",
      "Epoch [17/100], Thick Loss: 1113.9464\n"
     ]
    },
    {
     "name": "stderr",
     "output_type": "stream",
     "text": [
      "*********Evaluation mode*******: 100%|█████████████████████████████████████████████████| 27/27 [00:03<00:00,  6.84it/s]\n",
      "*********Train mode*******:   0%|                                                             | 0/1319 [00:00<?, ?it/s]"
     ]
    },
    {
     "name": "stdout",
     "output_type": "stream",
     "text": [
      "Epoch [17/100], Eval Loss: 12420.6276\n"
     ]
    },
    {
     "name": "stderr",
     "output_type": "stream",
     "text": [
      "*********Train mode*******: 100%|██████████████████████████████████████████████████| 1319/1319 [07:35<00:00,  2.90it/s]\n",
      "*********Evaluation mode*******:   4%|█▊                                                | 1/27 [00:00<00:03,  6.61it/s]"
     ]
    },
    {
     "name": "stdout",
     "output_type": "stream",
     "text": [
      "Epoch [18/100], Train Loss: 10416.7620\n",
      "Epoch [18/100], Thick Loss: 1140.1834\n"
     ]
    },
    {
     "name": "stderr",
     "output_type": "stream",
     "text": [
      "*********Evaluation mode*******: 100%|█████████████████████████████████████████████████| 27/27 [00:04<00:00,  6.72it/s]\n",
      "*********Train mode*******:   0%|                                                             | 0/1319 [00:00<?, ?it/s]"
     ]
    },
    {
     "name": "stdout",
     "output_type": "stream",
     "text": [
      "Epoch [18/100], Eval Loss: 9854.2842\n",
      "Best Model saved......\n"
     ]
    },
    {
     "name": "stderr",
     "output_type": "stream",
     "text": [
      "*********Train mode*******: 100%|██████████████████████████████████████████████████| 1319/1319 [07:35<00:00,  2.90it/s]\n",
      "*********Evaluation mode*******:   4%|█▊                                                | 1/27 [00:00<00:03,  7.08it/s]"
     ]
    },
    {
     "name": "stdout",
     "output_type": "stream",
     "text": [
      "Epoch [19/100], Train Loss: 10277.4402\n",
      "Epoch [19/100], Thick Loss: 1166.7785\n"
     ]
    },
    {
     "name": "stderr",
     "output_type": "stream",
     "text": [
      "*********Evaluation mode*******: 100%|█████████████████████████████████████████████████| 27/27 [00:04<00:00,  6.75it/s]\n",
      "*********Train mode*******:   0%|                                                             | 0/1319 [00:00<?, ?it/s]"
     ]
    },
    {
     "name": "stdout",
     "output_type": "stream",
     "text": [
      "Epoch [19/100], Eval Loss: 10257.0020\n"
     ]
    },
    {
     "name": "stderr",
     "output_type": "stream",
     "text": [
      "*********Train mode*******: 100%|██████████████████████████████████████████████████| 1319/1319 [07:35<00:00,  2.89it/s]\n",
      "*********Evaluation mode*******:   4%|█▊                                                | 1/27 [00:00<00:03,  6.64it/s]"
     ]
    },
    {
     "name": "stdout",
     "output_type": "stream",
     "text": [
      "Epoch [20/100], Train Loss: 9865.5250\n",
      "Epoch [20/100], Thick Loss: 1192.1556\n"
     ]
    },
    {
     "name": "stderr",
     "output_type": "stream",
     "text": [
      "*********Evaluation mode*******: 100%|█████████████████████████████████████████████████| 27/27 [00:03<00:00,  6.96it/s]\n",
      "*********Train mode*******:   0%|                                                             | 0/1319 [00:00<?, ?it/s]"
     ]
    },
    {
     "name": "stdout",
     "output_type": "stream",
     "text": [
      "Epoch [20/100], Eval Loss: 8669.8542\n",
      "Best Model saved......\n"
     ]
    },
    {
     "name": "stderr",
     "output_type": "stream",
     "text": [
      "*********Train mode*******: 100%|██████████████████████████████████████████████████| 1319/1319 [07:33<00:00,  2.91it/s]\n",
      "*********Evaluation mode*******:   4%|█▊                                                | 1/27 [00:00<00:03,  6.90it/s]"
     ]
    },
    {
     "name": "stdout",
     "output_type": "stream",
     "text": [
      "Epoch [21/100], Train Loss: 9573.8750\n",
      "Epoch [21/100], Thick Loss: 1216.1886\n"
     ]
    },
    {
     "name": "stderr",
     "output_type": "stream",
     "text": [
      "*********Evaluation mode*******: 100%|█████████████████████████████████████████████████| 27/27 [00:03<00:00,  6.97it/s]\n",
      "*********Train mode*******:   0%|                                                             | 0/1319 [00:00<?, ?it/s]"
     ]
    },
    {
     "name": "stdout",
     "output_type": "stream",
     "text": [
      "Epoch [21/100], Eval Loss: 8478.0856\n",
      "Best Model saved......\n"
     ]
    },
    {
     "name": "stderr",
     "output_type": "stream",
     "text": [
      "*********Train mode*******: 100%|██████████████████████████████████████████████████| 1319/1319 [07:33<00:00,  2.91it/s]\n",
      "*********Evaluation mode*******:   4%|█▊                                                | 1/27 [00:00<00:03,  7.88it/s]"
     ]
    },
    {
     "name": "stdout",
     "output_type": "stream",
     "text": [
      "Epoch [22/100], Train Loss: 9093.5218\n",
      "Epoch [22/100], Thick Loss: 1238.3044\n"
     ]
    },
    {
     "name": "stderr",
     "output_type": "stream",
     "text": [
      "*********Evaluation mode*******: 100%|█████████████████████████████████████████████████| 27/27 [00:03<00:00,  7.05it/s]\n",
      "*********Train mode*******:   0%|                                                             | 0/1319 [00:00<?, ?it/s]"
     ]
    },
    {
     "name": "stdout",
     "output_type": "stream",
     "text": [
      "Epoch [22/100], Eval Loss: 9667.4154\n"
     ]
    },
    {
     "name": "stderr",
     "output_type": "stream",
     "text": [
      "*********Train mode*******: 100%|██████████████████████████████████████████████████| 1319/1319 [07:33<00:00,  2.91it/s]\n",
      "*********Evaluation mode*******:   4%|█▊                                                | 1/27 [00:00<00:03,  7.85it/s]"
     ]
    },
    {
     "name": "stdout",
     "output_type": "stream",
     "text": [
      "Epoch [23/100], Train Loss: 9225.3117\n",
      "Epoch [23/100], Thick Loss: 1266.7264\n"
     ]
    },
    {
     "name": "stderr",
     "output_type": "stream",
     "text": [
      "*********Evaluation mode*******: 100%|█████████████████████████████████████████████████| 27/27 [00:03<00:00,  6.97it/s]\n",
      "*********Train mode*******:   0%|                                                             | 0/1319 [00:00<?, ?it/s]"
     ]
    },
    {
     "name": "stdout",
     "output_type": "stream",
     "text": [
      "Epoch [23/100], Eval Loss: 7544.3045\n",
      "Best Model saved......\n"
     ]
    },
    {
     "name": "stderr",
     "output_type": "stream",
     "text": [
      "*********Train mode*******: 100%|██████████████████████████████████████████████████| 1319/1319 [07:33<00:00,  2.91it/s]\n",
      "*********Evaluation mode*******:   4%|█▊                                                | 1/27 [00:00<00:03,  6.74it/s]"
     ]
    },
    {
     "name": "stdout",
     "output_type": "stream",
     "text": [
      "Epoch [24/100], Train Loss: 8489.6569\n",
      "Epoch [24/100], Thick Loss: 1287.0031\n"
     ]
    },
    {
     "name": "stderr",
     "output_type": "stream",
     "text": [
      "*********Evaluation mode*******: 100%|█████████████████████████████████████████████████| 27/27 [00:03<00:00,  6.96it/s]\n",
      "*********Train mode*******:   0%|                                                             | 0/1319 [00:00<?, ?it/s]"
     ]
    },
    {
     "name": "stdout",
     "output_type": "stream",
     "text": [
      "Epoch [24/100], Eval Loss: 9814.5677\n"
     ]
    },
    {
     "name": "stderr",
     "output_type": "stream",
     "text": [
      "*********Train mode*******: 100%|██████████████████████████████████████████████████| 1319/1319 [07:33<00:00,  2.91it/s]\n",
      "*********Evaluation mode*******:   4%|█▊                                                | 1/27 [00:00<00:03,  6.87it/s]"
     ]
    },
    {
     "name": "stdout",
     "output_type": "stream",
     "text": [
      "Epoch [25/100], Train Loss: 8409.5739\n",
      "Epoch [25/100], Thick Loss: 1310.2365\n"
     ]
    },
    {
     "name": "stderr",
     "output_type": "stream",
     "text": [
      "*********Evaluation mode*******: 100%|█████████████████████████████████████████████████| 27/27 [00:04<00:00,  6.02it/s]\n",
      "*********Train mode*******:   0%|                                                             | 0/1319 [00:00<?, ?it/s]"
     ]
    },
    {
     "name": "stdout",
     "output_type": "stream",
     "text": [
      "Epoch [25/100], Eval Loss: 8010.2907\n"
     ]
    },
    {
     "name": "stderr",
     "output_type": "stream",
     "text": [
      "*********Train mode*******: 100%|██████████████████████████████████████████████████| 1319/1319 [07:34<00:00,  2.90it/s]\n",
      "*********Evaluation mode*******:   4%|█▊                                                | 1/27 [00:00<00:03,  6.67it/s]"
     ]
    },
    {
     "name": "stdout",
     "output_type": "stream",
     "text": [
      "Epoch [26/100], Train Loss: 8319.6805\n",
      "Epoch [26/100], Thick Loss: 1332.1531\n"
     ]
    },
    {
     "name": "stderr",
     "output_type": "stream",
     "text": [
      "*********Evaluation mode*******: 100%|█████████████████████████████████████████████████| 27/27 [00:03<00:00,  6.87it/s]\n",
      "*********Train mode*******:   0%|                                                             | 0/1319 [00:00<?, ?it/s]"
     ]
    },
    {
     "name": "stdout",
     "output_type": "stream",
     "text": [
      "Epoch [26/100], Eval Loss: 7435.4680\n",
      "Best Model saved......\n"
     ]
    },
    {
     "name": "stderr",
     "output_type": "stream",
     "text": [
      "*********Train mode*******: 100%|██████████████████████████████████████████████████| 1319/1319 [07:32<00:00,  2.91it/s]\n",
      "*********Evaluation mode*******:   4%|█▊                                                | 1/27 [00:00<00:03,  6.90it/s]"
     ]
    },
    {
     "name": "stdout",
     "output_type": "stream",
     "text": [
      "Epoch [27/100], Train Loss: 7929.1036\n",
      "Epoch [27/100], Thick Loss: 1351.0015\n"
     ]
    },
    {
     "name": "stderr",
     "output_type": "stream",
     "text": [
      "*********Evaluation mode*******: 100%|█████████████████████████████████████████████████| 27/27 [00:03<00:00,  7.03it/s]\n",
      "*********Train mode*******:   0%|                                                             | 0/1319 [00:00<?, ?it/s]"
     ]
    },
    {
     "name": "stdout",
     "output_type": "stream",
     "text": [
      "Epoch [27/100], Eval Loss: 7479.7148\n"
     ]
    },
    {
     "name": "stderr",
     "output_type": "stream",
     "text": [
      "*********Train mode*******: 100%|██████████████████████████████████████████████████| 1319/1319 [07:33<00:00,  2.91it/s]\n",
      "*********Evaluation mode*******:   4%|█▊                                                | 1/27 [00:00<00:03,  7.29it/s]"
     ]
    },
    {
     "name": "stdout",
     "output_type": "stream",
     "text": [
      "Epoch [28/100], Train Loss: 7812.9845\n",
      "Epoch [28/100], Thick Loss: 1369.2853\n"
     ]
    },
    {
     "name": "stderr",
     "output_type": "stream",
     "text": [
      "*********Evaluation mode*******: 100%|█████████████████████████████████████████████████| 27/27 [00:03<00:00,  7.17it/s]\n",
      "*********Train mode*******:   0%|                                                             | 0/1319 [00:00<?, ?it/s]"
     ]
    },
    {
     "name": "stdout",
     "output_type": "stream",
     "text": [
      "Epoch [28/100], Eval Loss: 8699.5285\n"
     ]
    },
    {
     "name": "stderr",
     "output_type": "stream",
     "text": [
      "*********Train mode*******: 100%|██████████████████████████████████████████████████| 1319/1319 [07:33<00:00,  2.91it/s]\n",
      "*********Evaluation mode*******:   4%|█▊                                                | 1/27 [00:00<00:03,  7.46it/s]"
     ]
    },
    {
     "name": "stdout",
     "output_type": "stream",
     "text": [
      "Epoch [29/100], Train Loss: 7545.8580\n",
      "Epoch [29/100], Thick Loss: 1387.4622\n"
     ]
    },
    {
     "name": "stderr",
     "output_type": "stream",
     "text": [
      "*********Evaluation mode*******: 100%|█████████████████████████████████████████████████| 27/27 [00:03<00:00,  7.03it/s]\n",
      "*********Train mode*******:   0%|                                                             | 0/1319 [00:00<?, ?it/s]"
     ]
    },
    {
     "name": "stdout",
     "output_type": "stream",
     "text": [
      "Epoch [29/100], Eval Loss: 9912.2958\n"
     ]
    },
    {
     "name": "stderr",
     "output_type": "stream",
     "text": [
      "*********Train mode*******: 100%|██████████████████████████████████████████████████| 1319/1319 [07:33<00:00,  2.91it/s]\n",
      "*********Evaluation mode*******:   4%|█▊                                                | 1/27 [00:00<00:03,  7.51it/s]"
     ]
    },
    {
     "name": "stdout",
     "output_type": "stream",
     "text": [
      "Epoch [30/100], Train Loss: 7360.9569\n",
      "Epoch [30/100], Thick Loss: 1404.0420\n"
     ]
    },
    {
     "name": "stderr",
     "output_type": "stream",
     "text": [
      "*********Evaluation mode*******: 100%|█████████████████████████████████████████████████| 27/27 [00:03<00:00,  7.14it/s]\n",
      "*********Train mode*******:   0%|                                                             | 0/1319 [00:00<?, ?it/s]"
     ]
    },
    {
     "name": "stdout",
     "output_type": "stream",
     "text": [
      "Epoch [30/100], Eval Loss: 8701.9140\n"
     ]
    },
    {
     "name": "stderr",
     "output_type": "stream",
     "text": [
      "*********Train mode*******: 100%|██████████████████████████████████████████████████| 1319/1319 [07:33<00:00,  2.91it/s]\n",
      "*********Evaluation mode*******:   4%|█▊                                                | 1/27 [00:00<00:03,  6.70it/s]"
     ]
    },
    {
     "name": "stdout",
     "output_type": "stream",
     "text": [
      "Epoch [31/100], Train Loss: 7076.2659\n",
      "Epoch [31/100], Thick Loss: 1420.7507\n"
     ]
    },
    {
     "name": "stderr",
     "output_type": "stream",
     "text": [
      "*********Evaluation mode*******: 100%|█████████████████████████████████████████████████| 27/27 [00:03<00:00,  7.19it/s]\n",
      "*********Train mode*******:   0%|                                                             | 0/1319 [00:00<?, ?it/s]"
     ]
    },
    {
     "name": "stdout",
     "output_type": "stream",
     "text": [
      "Epoch [31/100], Eval Loss: 6956.9788\n",
      "Best Model saved......\n"
     ]
    },
    {
     "name": "stderr",
     "output_type": "stream",
     "text": [
      "*********Train mode*******: 100%|██████████████████████████████████████████████████| 1319/1319 [07:33<00:00,  2.91it/s]\n",
      "*********Evaluation mode*******:   4%|█▊                                                | 1/27 [00:00<00:03,  6.68it/s]"
     ]
    },
    {
     "name": "stdout",
     "output_type": "stream",
     "text": [
      "Epoch [32/100], Train Loss: 7358.6665\n",
      "Epoch [32/100], Thick Loss: 1439.0738\n"
     ]
    },
    {
     "name": "stderr",
     "output_type": "stream",
     "text": [
      "*********Evaluation mode*******: 100%|█████████████████████████████████████████████████| 27/27 [00:04<00:00,  6.73it/s]\n",
      "*********Train mode*******:   0%|                                                             | 0/1319 [00:00<?, ?it/s]"
     ]
    },
    {
     "name": "stdout",
     "output_type": "stream",
     "text": [
      "Epoch [32/100], Eval Loss: 6994.5905\n"
     ]
    },
    {
     "name": "stderr",
     "output_type": "stream",
     "text": [
      "*********Train mode*******: 100%|██████████████████████████████████████████████████| 1319/1319 [07:33<00:00,  2.91it/s]\n",
      "*********Evaluation mode*******:   4%|█▊                                                | 1/27 [00:00<00:03,  6.75it/s]"
     ]
    },
    {
     "name": "stdout",
     "output_type": "stream",
     "text": [
      "Epoch [33/100], Train Loss: 6680.0062\n",
      "Epoch [33/100], Thick Loss: 1453.9655\n"
     ]
    },
    {
     "name": "stderr",
     "output_type": "stream",
     "text": [
      "*********Evaluation mode*******: 100%|█████████████████████████████████████████████████| 27/27 [00:03<00:00,  7.06it/s]\n",
      "*********Train mode*******:   0%|                                                             | 0/1319 [00:00<?, ?it/s]"
     ]
    },
    {
     "name": "stdout",
     "output_type": "stream",
     "text": [
      "Epoch [33/100], Eval Loss: 7029.4890\n"
     ]
    },
    {
     "name": "stderr",
     "output_type": "stream",
     "text": [
      "*********Train mode*******: 100%|██████████████████████████████████████████████████| 1319/1319 [07:31<00:00,  2.92it/s]\n",
      "*********Evaluation mode*******:   4%|█▊                                                | 1/27 [00:00<00:03,  6.98it/s]"
     ]
    },
    {
     "name": "stdout",
     "output_type": "stream",
     "text": [
      "Epoch [34/100], Train Loss: 6733.8542\n",
      "Epoch [34/100], Thick Loss: 1469.2579\n"
     ]
    },
    {
     "name": "stderr",
     "output_type": "stream",
     "text": [
      "*********Evaluation mode*******: 100%|█████████████████████████████████████████████████| 27/27 [00:03<00:00,  7.10it/s]\n",
      "*********Train mode*******:   0%|                                                             | 0/1319 [00:00<?, ?it/s]"
     ]
    },
    {
     "name": "stdout",
     "output_type": "stream",
     "text": [
      "Epoch [34/100], Eval Loss: 5359.1835\n",
      "Best Model saved......\n"
     ]
    },
    {
     "name": "stderr",
     "output_type": "stream",
     "text": [
      "*********Train mode*******: 100%|██████████████████████████████████████████████████| 1319/1319 [07:31<00:00,  2.92it/s]\n",
      "*********Evaluation mode*******:   4%|█▊                                                | 1/27 [00:00<00:03,  7.49it/s]"
     ]
    },
    {
     "name": "stdout",
     "output_type": "stream",
     "text": [
      "Epoch [35/100], Train Loss: 6598.0981\n",
      "Epoch [35/100], Thick Loss: 1484.0531\n"
     ]
    },
    {
     "name": "stderr",
     "output_type": "stream",
     "text": [
      "*********Evaluation mode*******: 100%|█████████████████████████████████████████████████| 27/27 [00:03<00:00,  7.10it/s]\n",
      "*********Train mode*******:   0%|                                                             | 0/1319 [00:00<?, ?it/s]"
     ]
    },
    {
     "name": "stdout",
     "output_type": "stream",
     "text": [
      "Epoch [35/100], Eval Loss: 5446.8022\n"
     ]
    },
    {
     "name": "stderr",
     "output_type": "stream",
     "text": [
      "*********Train mode*******: 100%|██████████████████████████████████████████████████| 1319/1319 [07:32<00:00,  2.92it/s]\n",
      "*********Evaluation mode*******:   4%|█▊                                                | 1/27 [00:00<00:03,  7.43it/s]"
     ]
    },
    {
     "name": "stdout",
     "output_type": "stream",
     "text": [
      "Epoch [36/100], Train Loss: 6349.3383\n",
      "Epoch [36/100], Thick Loss: 1497.7105\n"
     ]
    },
    {
     "name": "stderr",
     "output_type": "stream",
     "text": [
      "*********Evaluation mode*******: 100%|█████████████████████████████████████████████████| 27/27 [00:03<00:00,  6.80it/s]\n",
      "*********Train mode*******:   0%|                                                             | 0/1319 [00:00<?, ?it/s]"
     ]
    },
    {
     "name": "stdout",
     "output_type": "stream",
     "text": [
      "Epoch [36/100], Eval Loss: 8467.1131\n"
     ]
    },
    {
     "name": "stderr",
     "output_type": "stream",
     "text": [
      "*********Train mode*******: 100%|██████████████████████████████████████████████████| 1319/1319 [07:31<00:00,  2.92it/s]\n",
      "*********Evaluation mode*******:   4%|█▊                                                | 1/27 [00:00<00:03,  6.79it/s]"
     ]
    },
    {
     "name": "stdout",
     "output_type": "stream",
     "text": [
      "Epoch [37/100], Train Loss: 6363.4261\n",
      "Epoch [37/100], Thick Loss: 1511.4280\n"
     ]
    },
    {
     "name": "stderr",
     "output_type": "stream",
     "text": [
      "*********Evaluation mode*******: 100%|█████████████████████████████████████████████████| 27/27 [00:03<00:00,  6.90it/s]\n",
      "*********Train mode*******:   0%|                                                             | 0/1319 [00:00<?, ?it/s]"
     ]
    },
    {
     "name": "stdout",
     "output_type": "stream",
     "text": [
      "Epoch [37/100], Eval Loss: 5812.6436\n"
     ]
    },
    {
     "name": "stderr",
     "output_type": "stream",
     "text": [
      "*********Train mode*******: 100%|██████████████████████████████████████████████████| 1319/1319 [07:31<00:00,  2.92it/s]\n",
      "*********Evaluation mode*******:   4%|█▊                                                | 1/27 [00:00<00:03,  7.02it/s]"
     ]
    },
    {
     "name": "stdout",
     "output_type": "stream",
     "text": [
      "Epoch [38/100], Train Loss: 5935.9734\n",
      "Epoch [38/100], Thick Loss: 1523.1765\n"
     ]
    },
    {
     "name": "stderr",
     "output_type": "stream",
     "text": [
      "*********Evaluation mode*******: 100%|█████████████████████████████████████████████████| 27/27 [00:03<00:00,  7.06it/s]\n",
      "*********Train mode*******:   0%|                                                             | 0/1319 [00:00<?, ?it/s]"
     ]
    },
    {
     "name": "stdout",
     "output_type": "stream",
     "text": [
      "Epoch [38/100], Eval Loss: 8336.7087\n"
     ]
    },
    {
     "name": "stderr",
     "output_type": "stream",
     "text": [
      "*********Train mode*******: 100%|██████████████████████████████████████████████████| 1319/1319 [07:31<00:00,  2.92it/s]\n",
      "*********Evaluation mode*******:   4%|█▊                                                | 1/27 [00:00<00:03,  6.86it/s]"
     ]
    },
    {
     "name": "stdout",
     "output_type": "stream",
     "text": [
      "Epoch [39/100], Train Loss: 6216.6509\n",
      "Epoch [39/100], Thick Loss: 1538.2340\n"
     ]
    },
    {
     "name": "stderr",
     "output_type": "stream",
     "text": [
      "*********Evaluation mode*******: 100%|█████████████████████████████████████████████████| 27/27 [00:03<00:00,  7.01it/s]\n",
      "*********Train mode*******:   0%|                                                             | 0/1319 [00:00<?, ?it/s]"
     ]
    },
    {
     "name": "stdout",
     "output_type": "stream",
     "text": [
      "Epoch [39/100], Eval Loss: 6092.9967\n"
     ]
    },
    {
     "name": "stderr",
     "output_type": "stream",
     "text": [
      "*********Train mode*******: 100%|██████████████████████████████████████████████████| 1319/1319 [07:30<00:00,  2.93it/s]\n",
      "*********Evaluation mode*******:   4%|█▊                                                | 1/27 [00:00<00:03,  7.66it/s]"
     ]
    },
    {
     "name": "stdout",
     "output_type": "stream",
     "text": [
      "Epoch [40/100], Train Loss: 5726.0159\n",
      "Epoch [40/100], Thick Loss: 1549.0685\n"
     ]
    },
    {
     "name": "stderr",
     "output_type": "stream",
     "text": [
      "*********Evaluation mode*******: 100%|█████████████████████████████████████████████████| 27/27 [00:03<00:00,  7.16it/s]\n",
      "*********Train mode*******:   0%|                                                             | 0/1319 [00:00<?, ?it/s]"
     ]
    },
    {
     "name": "stdout",
     "output_type": "stream",
     "text": [
      "Epoch [40/100], Eval Loss: 4790.7822\n",
      "Best Model saved......\n"
     ]
    },
    {
     "name": "stderr",
     "output_type": "stream",
     "text": [
      "*********Train mode*******: 100%|██████████████████████████████████████████████████| 1319/1319 [07:31<00:00,  2.92it/s]\n",
      "*********Evaluation mode*******:   4%|█▊                                                | 1/27 [00:00<00:03,  6.74it/s]"
     ]
    },
    {
     "name": "stdout",
     "output_type": "stream",
     "text": [
      "Epoch [41/100], Train Loss: 5974.5445\n",
      "Epoch [41/100], Thick Loss: 1560.9454\n"
     ]
    },
    {
     "name": "stderr",
     "output_type": "stream",
     "text": [
      "*********Evaluation mode*******: 100%|█████████████████████████████████████████████████| 27/27 [00:03<00:00,  7.33it/s]\n",
      "*********Train mode*******:   0%|                                                             | 0/1319 [00:00<?, ?it/s]"
     ]
    },
    {
     "name": "stdout",
     "output_type": "stream",
     "text": [
      "Epoch [41/100], Eval Loss: 5563.1544\n"
     ]
    },
    {
     "name": "stderr",
     "output_type": "stream",
     "text": [
      "*********Train mode*******: 100%|██████████████████████████████████████████████████| 1319/1319 [07:31<00:00,  2.92it/s]\n",
      "*********Evaluation mode*******:   4%|█▊                                                | 1/27 [00:00<00:03,  7.45it/s]"
     ]
    },
    {
     "name": "stdout",
     "output_type": "stream",
     "text": [
      "Epoch [42/100], Train Loss: 5569.1612\n",
      "Epoch [42/100], Thick Loss: 1572.0585\n"
     ]
    },
    {
     "name": "stderr",
     "output_type": "stream",
     "text": [
      "*********Evaluation mode*******: 100%|█████████████████████████████████████████████████| 27/27 [00:03<00:00,  7.15it/s]\n",
      "*********Train mode*******:   0%|                                                             | 0/1319 [00:00<?, ?it/s]"
     ]
    },
    {
     "name": "stdout",
     "output_type": "stream",
     "text": [
      "Epoch [42/100], Eval Loss: 5521.2032\n"
     ]
    },
    {
     "name": "stderr",
     "output_type": "stream",
     "text": [
      "*********Train mode*******: 100%|██████████████████████████████████████████████████| 1319/1319 [07:31<00:00,  2.92it/s]\n",
      "*********Evaluation mode*******:   4%|█▊                                                | 1/27 [00:00<00:03,  7.53it/s]"
     ]
    },
    {
     "name": "stdout",
     "output_type": "stream",
     "text": [
      "Epoch [43/100], Train Loss: 5494.3590\n",
      "Epoch [43/100], Thick Loss: 1582.6775\n"
     ]
    },
    {
     "name": "stderr",
     "output_type": "stream",
     "text": [
      "*********Evaluation mode*******: 100%|█████████████████████████████████████████████████| 27/27 [00:03<00:00,  7.08it/s]\n",
      "*********Train mode*******:   0%|                                                             | 0/1319 [00:00<?, ?it/s]"
     ]
    },
    {
     "name": "stdout",
     "output_type": "stream",
     "text": [
      "Epoch [43/100], Eval Loss: 5917.3366\n"
     ]
    },
    {
     "name": "stderr",
     "output_type": "stream",
     "text": [
      "*********Train mode*******: 100%|██████████████████████████████████████████████████| 1319/1319 [07:31<00:00,  2.92it/s]\n",
      "*********Evaluation mode*******:   4%|█▊                                                | 1/27 [00:00<00:03,  6.99it/s]"
     ]
    },
    {
     "name": "stdout",
     "output_type": "stream",
     "text": [
      "Epoch [44/100], Train Loss: 5549.3962\n",
      "Epoch [44/100], Thick Loss: 1594.1673\n"
     ]
    },
    {
     "name": "stderr",
     "output_type": "stream",
     "text": [
      "*********Evaluation mode*******: 100%|█████████████████████████████████████████████████| 27/27 [00:03<00:00,  6.88it/s]\n",
      "*********Train mode*******:   0%|                                                             | 0/1319 [00:00<?, ?it/s]"
     ]
    },
    {
     "name": "stdout",
     "output_type": "stream",
     "text": [
      "Epoch [44/100], Eval Loss: 7297.5410\n"
     ]
    },
    {
     "name": "stderr",
     "output_type": "stream",
     "text": [
      "*********Train mode*******: 100%|██████████████████████████████████████████████████| 1319/1319 [07:31<00:00,  2.92it/s]\n",
      "*********Evaluation mode*******:   4%|█▊                                                | 1/27 [00:00<00:03,  7.23it/s]"
     ]
    },
    {
     "name": "stdout",
     "output_type": "stream",
     "text": [
      "Epoch [45/100], Train Loss: 5200.4392\n",
      "Epoch [45/100], Thick Loss: 1603.0952\n"
     ]
    },
    {
     "name": "stderr",
     "output_type": "stream",
     "text": [
      "*********Evaluation mode*******: 100%|█████████████████████████████████████████████████| 27/27 [00:03<00:00,  6.79it/s]\n",
      "*********Train mode*******:   0%|                                                             | 0/1319 [00:00<?, ?it/s]"
     ]
    },
    {
     "name": "stdout",
     "output_type": "stream",
     "text": [
      "Epoch [45/100], Eval Loss: 6059.4992\n"
     ]
    },
    {
     "name": "stderr",
     "output_type": "stream",
     "text": [
      "*********Train mode*******: 100%|██████████████████████████████████████████████████| 1319/1319 [07:26<00:00,  2.95it/s]\n",
      "*********Evaluation mode*******:   4%|█▊                                                | 1/27 [00:00<00:03,  7.88it/s]"
     ]
    },
    {
     "name": "stdout",
     "output_type": "stream",
     "text": [
      "Epoch [46/100], Train Loss: 5073.3451\n",
      "Epoch [46/100], Thick Loss: 1611.6067\n"
     ]
    },
    {
     "name": "stderr",
     "output_type": "stream",
     "text": [
      "*********Evaluation mode*******: 100%|█████████████████████████████████████████████████| 27/27 [00:03<00:00,  7.25it/s]\n",
      "*********Train mode*******:   0%|                                                             | 0/1319 [00:00<?, ?it/s]"
     ]
    },
    {
     "name": "stdout",
     "output_type": "stream",
     "text": [
      "Epoch [46/100], Eval Loss: 4406.3629\n",
      "Best Model saved......\n"
     ]
    },
    {
     "name": "stderr",
     "output_type": "stream",
     "text": [
      "*********Train mode*******: 100%|██████████████████████████████████████████████████| 1319/1319 [07:29<00:00,  2.93it/s]\n",
      "*********Evaluation mode*******:   4%|█▊                                                | 1/27 [00:00<00:03,  7.85it/s]"
     ]
    },
    {
     "name": "stdout",
     "output_type": "stream",
     "text": [
      "Epoch [47/100], Train Loss: 5011.1880\n",
      "Epoch [47/100], Thick Loss: 1620.9393\n"
     ]
    },
    {
     "name": "stderr",
     "output_type": "stream",
     "text": [
      "*********Evaluation mode*******: 100%|█████████████████████████████████████████████████| 27/27 [00:03<00:00,  7.22it/s]\n",
      "*********Train mode*******:   0%|                                                             | 0/1319 [00:00<?, ?it/s]"
     ]
    },
    {
     "name": "stdout",
     "output_type": "stream",
     "text": [
      "Epoch [47/100], Eval Loss: 6719.7824\n"
     ]
    },
    {
     "name": "stderr",
     "output_type": "stream",
     "text": [
      "*********Train mode*******: 100%|██████████████████████████████████████████████████| 1319/1319 [07:28<00:00,  2.94it/s]\n",
      "*********Evaluation mode*******:   4%|█▊                                                | 1/27 [00:00<00:03,  7.98it/s]"
     ]
    },
    {
     "name": "stdout",
     "output_type": "stream",
     "text": [
      "Epoch [48/100], Train Loss: 5051.5492\n",
      "Epoch [48/100], Thick Loss: 1629.8408\n"
     ]
    },
    {
     "name": "stderr",
     "output_type": "stream",
     "text": [
      "*********Evaluation mode*******: 100%|█████████████████████████████████████████████████| 27/27 [00:03<00:00,  7.39it/s]\n",
      "*********Train mode*******:   0%|                                                             | 0/1319 [00:00<?, ?it/s]"
     ]
    },
    {
     "name": "stdout",
     "output_type": "stream",
     "text": [
      "Epoch [48/100], Eval Loss: 5169.8271\n"
     ]
    },
    {
     "name": "stderr",
     "output_type": "stream",
     "text": [
      "*********Train mode*******: 100%|██████████████████████████████████████████████████| 1319/1319 [07:29<00:00,  2.93it/s]\n",
      "*********Evaluation mode*******:   4%|█▊                                                | 1/27 [00:00<00:03,  6.82it/s]"
     ]
    },
    {
     "name": "stdout",
     "output_type": "stream",
     "text": [
      "Epoch [49/100], Train Loss: 4859.4746\n",
      "Epoch [49/100], Thick Loss: 1638.6972\n"
     ]
    },
    {
     "name": "stderr",
     "output_type": "stream",
     "text": [
      "*********Evaluation mode*******: 100%|█████████████████████████████████████████████████| 27/27 [00:03<00:00,  7.13it/s]\n",
      "*********Train mode*******:   0%|                                                             | 0/1319 [00:00<?, ?it/s]"
     ]
    },
    {
     "name": "stdout",
     "output_type": "stream",
     "text": [
      "Epoch [49/100], Eval Loss: 4386.3881\n",
      "Best Model saved......\n"
     ]
    },
    {
     "name": "stderr",
     "output_type": "stream",
     "text": [
      "*********Train mode*******: 100%|██████████████████████████████████████████████████| 1319/1319 [07:29<00:00,  2.93it/s]\n",
      "*********Evaluation mode*******:   4%|█▊                                                | 1/27 [00:00<00:03,  8.01it/s]"
     ]
    },
    {
     "name": "stdout",
     "output_type": "stream",
     "text": [
      "Epoch [50/100], Train Loss: 4612.6964\n",
      "Epoch [50/100], Thick Loss: 1647.5010\n"
     ]
    },
    {
     "name": "stderr",
     "output_type": "stream",
     "text": [
      "*********Evaluation mode*******: 100%|█████████████████████████████████████████████████| 27/27 [00:03<00:00,  7.24it/s]\n",
      "*********Train mode*******:   0%|                                                             | 0/1319 [00:00<?, ?it/s]"
     ]
    },
    {
     "name": "stdout",
     "output_type": "stream",
     "text": [
      "Epoch [50/100], Eval Loss: 5774.5514\n"
     ]
    },
    {
     "name": "stderr",
     "output_type": "stream",
     "text": [
      "*********Train mode*******: 100%|██████████████████████████████████████████████████| 1319/1319 [07:27<00:00,  2.95it/s]\n",
      "*********Evaluation mode*******:   4%|█▊                                                | 1/27 [00:00<00:03,  7.09it/s]"
     ]
    },
    {
     "name": "stdout",
     "output_type": "stream",
     "text": [
      "Epoch [51/100], Train Loss: 4496.7072\n",
      "Epoch [51/100], Thick Loss: 1655.0498\n"
     ]
    },
    {
     "name": "stderr",
     "output_type": "stream",
     "text": [
      "*********Evaluation mode*******: 100%|█████████████████████████████████████████████████| 27/27 [00:03<00:00,  7.22it/s]\n",
      "*********Train mode*******:   0%|                                                             | 0/1319 [00:00<?, ?it/s]"
     ]
    },
    {
     "name": "stdout",
     "output_type": "stream",
     "text": [
      "Epoch [51/100], Eval Loss: 4914.7715\n"
     ]
    },
    {
     "name": "stderr",
     "output_type": "stream",
     "text": [
      "*********Train mode*******: 100%|██████████████████████████████████████████████████| 1319/1319 [07:27<00:00,  2.95it/s]\n",
      "*********Evaluation mode*******:   4%|█▊                                                | 1/27 [00:00<00:03,  7.61it/s]"
     ]
    },
    {
     "name": "stdout",
     "output_type": "stream",
     "text": [
      "Epoch [52/100], Train Loss: 4474.4412\n",
      "Epoch [52/100], Thick Loss: 1662.5971\n"
     ]
    },
    {
     "name": "stderr",
     "output_type": "stream",
     "text": [
      "*********Evaluation mode*******: 100%|█████████████████████████████████████████████████| 27/27 [00:03<00:00,  7.25it/s]\n",
      "*********Train mode*******:   0%|                                                             | 0/1319 [00:00<?, ?it/s]"
     ]
    },
    {
     "name": "stdout",
     "output_type": "stream",
     "text": [
      "Epoch [52/100], Eval Loss: 4818.8388\n"
     ]
    },
    {
     "name": "stderr",
     "output_type": "stream",
     "text": [
      "*********Train mode*******: 100%|██████████████████████████████████████████████████| 1319/1319 [07:29<00:00,  2.94it/s]\n",
      "*********Evaluation mode*******:   4%|█▊                                                | 1/27 [00:00<00:03,  6.61it/s]"
     ]
    },
    {
     "name": "stdout",
     "output_type": "stream",
     "text": [
      "Epoch [53/100], Train Loss: 4419.9036\n",
      "Epoch [53/100], Thick Loss: 1670.4018\n"
     ]
    },
    {
     "name": "stderr",
     "output_type": "stream",
     "text": [
      "*********Evaluation mode*******: 100%|█████████████████████████████████████████████████| 27/27 [00:03<00:00,  7.04it/s]\n",
      "*********Train mode*******:   0%|                                                             | 0/1319 [00:00<?, ?it/s]"
     ]
    },
    {
     "name": "stdout",
     "output_type": "stream",
     "text": [
      "Epoch [53/100], Eval Loss: 4201.0190\n",
      "Best Model saved......\n"
     ]
    },
    {
     "name": "stderr",
     "output_type": "stream",
     "text": [
      "*********Train mode*******: 100%|██████████████████████████████████████████████████| 1319/1319 [07:27<00:00,  2.95it/s]\n",
      "*********Evaluation mode*******:   4%|█▊                                                | 1/27 [00:00<00:03,  7.57it/s]"
     ]
    },
    {
     "name": "stdout",
     "output_type": "stream",
     "text": [
      "Epoch [54/100], Train Loss: 4171.6107\n",
      "Epoch [54/100], Thick Loss: 1676.5971\n"
     ]
    },
    {
     "name": "stderr",
     "output_type": "stream",
     "text": [
      "*********Evaluation mode*******: 100%|█████████████████████████████████████████████████| 27/27 [00:03<00:00,  7.08it/s]\n",
      "*********Train mode*******:   0%|                                                             | 0/1319 [00:00<?, ?it/s]"
     ]
    },
    {
     "name": "stdout",
     "output_type": "stream",
     "text": [
      "Epoch [54/100], Eval Loss: 3943.2117\n",
      "Best Model saved......\n"
     ]
    },
    {
     "name": "stderr",
     "output_type": "stream",
     "text": [
      "*********Train mode*******: 100%|██████████████████████████████████████████████████| 1319/1319 [07:29<00:00,  2.94it/s]\n",
      "*********Evaluation mode*******:   4%|█▊                                                | 1/27 [00:00<00:03,  6.81it/s]"
     ]
    },
    {
     "name": "stdout",
     "output_type": "stream",
     "text": [
      "Epoch [55/100], Train Loss: 4236.4496\n",
      "Epoch [55/100], Thick Loss: 1683.4709\n"
     ]
    },
    {
     "name": "stderr",
     "output_type": "stream",
     "text": [
      "*********Evaluation mode*******: 100%|█████████████████████████████████████████████████| 27/27 [00:03<00:00,  7.19it/s]\n",
      "*********Train mode*******:   0%|                                                             | 0/1319 [00:00<?, ?it/s]"
     ]
    },
    {
     "name": "stdout",
     "output_type": "stream",
     "text": [
      "Epoch [55/100], Eval Loss: 3650.0912\n",
      "Best Model saved......\n"
     ]
    },
    {
     "name": "stderr",
     "output_type": "stream",
     "text": [
      "*********Train mode*******: 100%|██████████████████████████████████████████████████| 1319/1319 [07:28<00:00,  2.94it/s]\n",
      "*********Evaluation mode*******:   4%|█▊                                                | 1/27 [00:00<00:03,  7.01it/s]"
     ]
    },
    {
     "name": "stdout",
     "output_type": "stream",
     "text": [
      "Epoch [56/100], Train Loss: 4067.3036\n",
      "Epoch [56/100], Thick Loss: 1689.6871\n"
     ]
    },
    {
     "name": "stderr",
     "output_type": "stream",
     "text": [
      "*********Evaluation mode*******: 100%|█████████████████████████████████████████████████| 27/27 [00:03<00:00,  7.30it/s]\n",
      "*********Train mode*******:   0%|                                                             | 0/1319 [00:00<?, ?it/s]"
     ]
    },
    {
     "name": "stdout",
     "output_type": "stream",
     "text": [
      "Epoch [56/100], Eval Loss: 4517.2073\n"
     ]
    },
    {
     "name": "stderr",
     "output_type": "stream",
     "text": [
      "*********Train mode*******: 100%|██████████████████████████████████████████████████| 1319/1319 [07:28<00:00,  2.94it/s]\n",
      "*********Evaluation mode*******:   4%|█▊                                                | 1/27 [00:00<00:03,  7.53it/s]"
     ]
    },
    {
     "name": "stdout",
     "output_type": "stream",
     "text": [
      "Epoch [57/100], Train Loss: 3952.5697\n",
      "Epoch [57/100], Thick Loss: 1696.2029\n"
     ]
    },
    {
     "name": "stderr",
     "output_type": "stream",
     "text": [
      "*********Evaluation mode*******: 100%|█████████████████████████████████████████████████| 27/27 [00:03<00:00,  7.21it/s]\n",
      "*********Train mode*******:   0%|                                                             | 0/1319 [00:00<?, ?it/s]"
     ]
    },
    {
     "name": "stdout",
     "output_type": "stream",
     "text": [
      "Epoch [57/100], Eval Loss: 3957.7758\n"
     ]
    },
    {
     "name": "stderr",
     "output_type": "stream",
     "text": [
      "*********Train mode*******: 100%|██████████████████████████████████████████████████| 1319/1319 [07:26<00:00,  2.96it/s]\n",
      "*********Evaluation mode*******:   4%|█▊                                                | 1/27 [00:00<00:03,  6.81it/s]"
     ]
    },
    {
     "name": "stdout",
     "output_type": "stream",
     "text": [
      "Epoch [58/100], Train Loss: 3836.0370\n",
      "Epoch [58/100], Thick Loss: 1701.6888\n"
     ]
    },
    {
     "name": "stderr",
     "output_type": "stream",
     "text": [
      "*********Evaluation mode*******: 100%|█████████████████████████████████████████████████| 27/27 [00:03<00:00,  7.05it/s]\n",
      "*********Train mode*******:   0%|                                                             | 0/1319 [00:00<?, ?it/s]"
     ]
    },
    {
     "name": "stdout",
     "output_type": "stream",
     "text": [
      "Epoch [58/100], Eval Loss: 5663.9727\n"
     ]
    },
    {
     "name": "stderr",
     "output_type": "stream",
     "text": [
      "*********Train mode*******: 100%|██████████████████████████████████████████████████| 1319/1319 [07:30<00:00,  2.93it/s]\n",
      "*********Evaluation mode*******:   4%|█▊                                                | 1/27 [00:00<00:03,  7.08it/s]"
     ]
    },
    {
     "name": "stdout",
     "output_type": "stream",
     "text": [
      "Epoch [59/100], Train Loss: 3737.6003\n",
      "Epoch [59/100], Thick Loss: 1707.1652\n"
     ]
    },
    {
     "name": "stderr",
     "output_type": "stream",
     "text": [
      "*********Evaluation mode*******: 100%|█████████████████████████████████████████████████| 27/27 [00:03<00:00,  7.20it/s]\n",
      "*********Train mode*******:   0%|                                                             | 0/1319 [00:00<?, ?it/s]"
     ]
    },
    {
     "name": "stdout",
     "output_type": "stream",
     "text": [
      "Epoch [59/100], Eval Loss: 3677.7242\n"
     ]
    },
    {
     "name": "stderr",
     "output_type": "stream",
     "text": [
      "*********Train mode*******: 100%|██████████████████████████████████████████████████| 1319/1319 [07:28<00:00,  2.94it/s]\n",
      "*********Evaluation mode*******:   4%|█▊                                                | 1/27 [00:00<00:03,  7.94it/s]"
     ]
    },
    {
     "name": "stdout",
     "output_type": "stream",
     "text": [
      "Epoch [60/100], Train Loss: 3630.0388\n",
      "Epoch [60/100], Thick Loss: 1712.3000\n"
     ]
    },
    {
     "name": "stderr",
     "output_type": "stream",
     "text": [
      "*********Evaluation mode*******: 100%|█████████████████████████████████████████████████| 27/27 [00:03<00:00,  7.29it/s]\n",
      "*********Train mode*******:   0%|                                                             | 0/1319 [00:00<?, ?it/s]"
     ]
    },
    {
     "name": "stdout",
     "output_type": "stream",
     "text": [
      "Epoch [60/100], Eval Loss: 3143.4194\n",
      "Best Model saved......\n"
     ]
    },
    {
     "name": "stderr",
     "output_type": "stream",
     "text": [
      "*********Train mode*******: 100%|██████████████████████████████████████████████████| 1319/1319 [07:28<00:00,  2.94it/s]\n",
      "*********Evaluation mode*******:   4%|█▊                                                | 1/27 [00:00<00:03,  7.60it/s]"
     ]
    },
    {
     "name": "stdout",
     "output_type": "stream",
     "text": [
      "Epoch [61/100], Train Loss: 3521.3821\n",
      "Epoch [61/100], Thick Loss: 1717.0251\n"
     ]
    },
    {
     "name": "stderr",
     "output_type": "stream",
     "text": [
      "*********Evaluation mode*******: 100%|█████████████████████████████████████████████████| 27/27 [00:03<00:00,  6.91it/s]\n",
      "*********Train mode*******:   0%|                                                             | 0/1319 [00:00<?, ?it/s]"
     ]
    },
    {
     "name": "stdout",
     "output_type": "stream",
     "text": [
      "Epoch [61/100], Eval Loss: 3214.3809\n"
     ]
    },
    {
     "name": "stderr",
     "output_type": "stream",
     "text": [
      "*********Train mode*******: 100%|██████████████████████████████████████████████████| 1319/1319 [07:25<00:00,  2.96it/s]\n",
      "*********Evaluation mode*******:   4%|█▊                                                | 1/27 [00:00<00:03,  7.93it/s]"
     ]
    },
    {
     "name": "stdout",
     "output_type": "stream",
     "text": [
      "Epoch [62/100], Train Loss: 3446.5619\n",
      "Epoch [62/100], Thick Loss: 1721.8067\n"
     ]
    },
    {
     "name": "stderr",
     "output_type": "stream",
     "text": [
      "*********Evaluation mode*******: 100%|█████████████████████████████████████████████████| 27/27 [00:03<00:00,  7.23it/s]\n",
      "*********Train mode*******:   0%|                                                             | 0/1319 [00:00<?, ?it/s]"
     ]
    },
    {
     "name": "stdout",
     "output_type": "stream",
     "text": [
      "Epoch [62/100], Eval Loss: 3075.7696\n",
      "Best Model saved......\n"
     ]
    },
    {
     "name": "stderr",
     "output_type": "stream",
     "text": [
      "*********Train mode*******: 100%|██████████████████████████████████████████████████| 1319/1319 [07:30<00:00,  2.93it/s]\n",
      "*********Evaluation mode*******:   4%|█▊                                                | 1/27 [00:00<00:03,  7.35it/s]"
     ]
    },
    {
     "name": "stdout",
     "output_type": "stream",
     "text": [
      "Epoch [63/100], Train Loss: 3377.7471\n",
      "Epoch [63/100], Thick Loss: 1726.1468\n"
     ]
    },
    {
     "name": "stderr",
     "output_type": "stream",
     "text": [
      "*********Evaluation mode*******: 100%|█████████████████████████████████████████████████| 27/27 [00:03<00:00,  7.31it/s]\n",
      "*********Train mode*******:   0%|                                                             | 0/1319 [00:00<?, ?it/s]"
     ]
    },
    {
     "name": "stdout",
     "output_type": "stream",
     "text": [
      "Epoch [63/100], Eval Loss: 3630.0388\n"
     ]
    },
    {
     "name": "stderr",
     "output_type": "stream",
     "text": [
      "*********Train mode*******: 100%|██████████████████████████████████████████████████| 1319/1319 [07:29<00:00,  2.93it/s]\n",
      "*********Evaluation mode*******:   4%|█▊                                                | 1/27 [00:00<00:03,  7.57it/s]"
     ]
    },
    {
     "name": "stdout",
     "output_type": "stream",
     "text": [
      "Epoch [64/100], Train Loss: 3217.1868\n",
      "Epoch [64/100], Thick Loss: 1730.2071\n"
     ]
    },
    {
     "name": "stderr",
     "output_type": "stream",
     "text": [
      "*********Evaluation mode*******: 100%|█████████████████████████████████████████████████| 27/27 [00:03<00:00,  7.24it/s]\n",
      "*********Train mode*******:   0%|                                                             | 0/1319 [00:00<?, ?it/s]"
     ]
    },
    {
     "name": "stdout",
     "output_type": "stream",
     "text": [
      "Epoch [64/100], Eval Loss: 4437.7103\n"
     ]
    },
    {
     "name": "stderr",
     "output_type": "stream",
     "text": [
      "*********Train mode*******: 100%|██████████████████████████████████████████████████| 1319/1319 [07:29<00:00,  2.94it/s]\n",
      "*********Evaluation mode*******:   4%|█▊                                                | 1/27 [00:00<00:03,  6.79it/s]"
     ]
    },
    {
     "name": "stdout",
     "output_type": "stream",
     "text": [
      "Epoch [65/100], Train Loss: 3162.8269\n",
      "Epoch [65/100], Thick Loss: 1733.9392\n"
     ]
    },
    {
     "name": "stderr",
     "output_type": "stream",
     "text": [
      "*********Evaluation mode*******: 100%|█████████████████████████████████████████████████| 27/27 [00:03<00:00,  7.20it/s]\n",
      "*********Train mode*******:   0%|                                                             | 0/1319 [00:00<?, ?it/s]"
     ]
    },
    {
     "name": "stdout",
     "output_type": "stream",
     "text": [
      "Epoch [65/100], Eval Loss: 3237.7041\n"
     ]
    },
    {
     "name": "stderr",
     "output_type": "stream",
     "text": [
      "*********Train mode*******: 100%|██████████████████████████████████████████████████| 1319/1319 [07:28<00:00,  2.94it/s]\n",
      "*********Evaluation mode*******:   4%|█▊                                                | 1/27 [00:00<00:03,  6.67it/s]"
     ]
    },
    {
     "name": "stdout",
     "output_type": "stream",
     "text": [
      "Epoch [66/100], Train Loss: 3100.0472\n",
      "Epoch [66/100], Thick Loss: 1738.0834\n"
     ]
    },
    {
     "name": "stderr",
     "output_type": "stream",
     "text": [
      "*********Evaluation mode*******: 100%|█████████████████████████████████████████████████| 27/27 [00:03<00:00,  7.19it/s]\n",
      "*********Train mode*******:   0%|                                                             | 0/1319 [00:00<?, ?it/s]"
     ]
    },
    {
     "name": "stdout",
     "output_type": "stream",
     "text": [
      "Epoch [66/100], Eval Loss: 3786.0424\n"
     ]
    },
    {
     "name": "stderr",
     "output_type": "stream",
     "text": [
      "*********Train mode*******: 100%|██████████████████████████████████████████████████| 1319/1319 [07:29<00:00,  2.93it/s]\n",
      "*********Evaluation mode*******:   4%|█▊                                                | 1/27 [00:00<00:03,  7.34it/s]"
     ]
    },
    {
     "name": "stdout",
     "output_type": "stream",
     "text": [
      "Epoch [67/100], Train Loss: 2969.7679\n",
      "Epoch [67/100], Thick Loss: 1741.5360\n"
     ]
    },
    {
     "name": "stderr",
     "output_type": "stream",
     "text": [
      "*********Evaluation mode*******: 100%|█████████████████████████████████████████████████| 27/27 [00:03<00:00,  7.22it/s]\n",
      "*********Train mode*******:   0%|                                                             | 0/1319 [00:00<?, ?it/s]"
     ]
    },
    {
     "name": "stdout",
     "output_type": "stream",
     "text": [
      "Epoch [67/100], Eval Loss: 2982.2019\n",
      "Best Model saved......\n"
     ]
    },
    {
     "name": "stderr",
     "output_type": "stream",
     "text": [
      "*********Train mode*******: 100%|██████████████████████████████████████████████████| 1319/1319 [07:29<00:00,  2.94it/s]\n",
      "*********Evaluation mode*******:   4%|█▊                                                | 1/27 [00:00<00:03,  7.86it/s]"
     ]
    },
    {
     "name": "stdout",
     "output_type": "stream",
     "text": [
      "Epoch [68/100], Train Loss: 2892.1456\n",
      "Epoch [68/100], Thick Loss: 1745.1715\n"
     ]
    },
    {
     "name": "stderr",
     "output_type": "stream",
     "text": [
      "*********Evaluation mode*******: 100%|█████████████████████████████████████████████████| 27/27 [00:03<00:00,  7.26it/s]\n",
      "*********Train mode*******:   0%|                                                             | 0/1319 [00:00<?, ?it/s]"
     ]
    },
    {
     "name": "stdout",
     "output_type": "stream",
     "text": [
      "Epoch [68/100], Eval Loss: 2788.6147\n",
      "Best Model saved......\n"
     ]
    },
    {
     "name": "stderr",
     "output_type": "stream",
     "text": [
      "*********Train mode*******: 100%|██████████████████████████████████████████████████| 1319/1319 [07:28<00:00,  2.94it/s]\n",
      "*********Evaluation mode*******:   4%|█▊                                                | 1/27 [00:00<00:03,  6.79it/s]"
     ]
    },
    {
     "name": "stdout",
     "output_type": "stream",
     "text": [
      "Epoch [69/100], Train Loss: 2865.5332\n",
      "Epoch [69/100], Thick Loss: 1748.7010\n"
     ]
    },
    {
     "name": "stderr",
     "output_type": "stream",
     "text": [
      "*********Evaluation mode*******: 100%|█████████████████████████████████████████████████| 27/27 [00:03<00:00,  7.02it/s]\n",
      "*********Train mode*******:   0%|                                                             | 0/1319 [00:00<?, ?it/s]"
     ]
    },
    {
     "name": "stdout",
     "output_type": "stream",
     "text": [
      "Epoch [69/100], Eval Loss: 3228.1093\n"
     ]
    },
    {
     "name": "stderr",
     "output_type": "stream",
     "text": [
      "*********Train mode*******: 100%|██████████████████████████████████████████████████| 1319/1319 [07:27<00:00,  2.95it/s]\n",
      "*********Evaluation mode*******:   4%|█▊                                                | 1/27 [00:00<00:03,  7.87it/s]"
     ]
    },
    {
     "name": "stdout",
     "output_type": "stream",
     "text": [
      "Epoch [70/100], Train Loss: 2756.1223\n",
      "Epoch [70/100], Thick Loss: 1751.7327\n"
     ]
    },
    {
     "name": "stderr",
     "output_type": "stream",
     "text": [
      "*********Evaluation mode*******: 100%|█████████████████████████████████████████████████| 27/27 [00:03<00:00,  7.21it/s]\n",
      "*********Train mode*******:   0%|                                                             | 0/1319 [00:00<?, ?it/s]"
     ]
    },
    {
     "name": "stdout",
     "output_type": "stream",
     "text": [
      "Epoch [70/100], Eval Loss: 2468.7918\n",
      "Best Model saved......\n"
     ]
    },
    {
     "name": "stderr",
     "output_type": "stream",
     "text": [
      "*********Train mode*******: 100%|██████████████████████████████████████████████████| 1319/1319 [07:29<00:00,  2.93it/s]\n",
      "*********Evaluation mode*******:   0%|                                                          | 0/27 [00:00<?, ?it/s]"
     ]
    },
    {
     "name": "stdout",
     "output_type": "stream",
     "text": [
      "Epoch [71/100], Train Loss: 2659.1592\n",
      "Epoch [71/100], Thick Loss: 1754.9455\n"
     ]
    },
    {
     "name": "stderr",
     "output_type": "stream",
     "text": [
      "*********Evaluation mode*******: 100%|█████████████████████████████████████████████████| 27/27 [00:03<00:00,  7.15it/s]\n",
      "*********Train mode*******:   0%|                                                             | 0/1319 [00:00<?, ?it/s]"
     ]
    },
    {
     "name": "stdout",
     "output_type": "stream",
     "text": [
      "Epoch [71/100], Eval Loss: 2699.9499\n"
     ]
    },
    {
     "name": "stderr",
     "output_type": "stream",
     "text": [
      "*********Train mode*******: 100%|██████████████████████████████████████████████████| 1319/1319 [07:28<00:00,  2.94it/s]\n",
      "*********Evaluation mode*******:   4%|█▊                                                | 1/27 [00:00<00:03,  7.90it/s]"
     ]
    },
    {
     "name": "stdout",
     "output_type": "stream",
     "text": [
      "Epoch [72/100], Train Loss: 2568.9615\n",
      "Epoch [72/100], Thick Loss: 1757.7853\n"
     ]
    },
    {
     "name": "stderr",
     "output_type": "stream",
     "text": [
      "*********Evaluation mode*******: 100%|█████████████████████████████████████████████████| 27/27 [00:03<00:00,  7.17it/s]\n",
      "*********Train mode*******:   0%|                                                             | 0/1319 [00:00<?, ?it/s]"
     ]
    },
    {
     "name": "stdout",
     "output_type": "stream",
     "text": [
      "Epoch [72/100], Eval Loss: 2870.1924\n"
     ]
    },
    {
     "name": "stderr",
     "output_type": "stream",
     "text": [
      "*********Train mode*******: 100%|██████████████████████████████████████████████████| 1319/1319 [07:28<00:00,  2.94it/s]\n",
      "*********Evaluation mode*******:   4%|█▊                                                | 1/27 [00:00<00:03,  7.19it/s]"
     ]
    },
    {
     "name": "stdout",
     "output_type": "stream",
     "text": [
      "Epoch [73/100], Train Loss: 2472.2204\n",
      "Epoch [73/100], Thick Loss: 1760.2669\n"
     ]
    },
    {
     "name": "stderr",
     "output_type": "stream",
     "text": [
      "*********Evaluation mode*******: 100%|█████████████████████████████████████████████████| 27/27 [00:03<00:00,  7.09it/s]\n",
      "*********Train mode*******:   0%|                                                             | 0/1319 [00:00<?, ?it/s]"
     ]
    },
    {
     "name": "stdout",
     "output_type": "stream",
     "text": [
      "Epoch [73/100], Eval Loss: 2954.3099\n"
     ]
    },
    {
     "name": "stderr",
     "output_type": "stream",
     "text": [
      "*********Train mode*******: 100%|██████████████████████████████████████████████████| 1319/1319 [07:27<00:00,  2.95it/s]\n",
      "*********Evaluation mode*******:   4%|█▊                                                | 1/27 [00:00<00:03,  6.68it/s]"
     ]
    },
    {
     "name": "stdout",
     "output_type": "stream",
     "text": [
      "Epoch [74/100], Train Loss: 2476.7611\n",
      "Epoch [74/100], Thick Loss: 1762.9197\n"
     ]
    },
    {
     "name": "stderr",
     "output_type": "stream",
     "text": [
      "*********Evaluation mode*******: 100%|█████████████████████████████████████████████████| 27/27 [00:03<00:00,  7.23it/s]\n",
      "*********Train mode*******:   0%|                                                             | 0/1319 [00:00<?, ?it/s]"
     ]
    },
    {
     "name": "stdout",
     "output_type": "stream",
     "text": [
      "Epoch [74/100], Eval Loss: 3129.4197\n"
     ]
    },
    {
     "name": "stderr",
     "output_type": "stream",
     "text": [
      "*********Train mode*******: 100%|██████████████████████████████████████████████████| 1319/1319 [07:27<00:00,  2.94it/s]\n",
      "*********Evaluation mode*******:   4%|█▊                                                | 1/27 [00:00<00:03,  7.02it/s]"
     ]
    },
    {
     "name": "stdout",
     "output_type": "stream",
     "text": [
      "Epoch [75/100], Train Loss: 2413.2615\n",
      "Epoch [75/100], Thick Loss: 1765.3780\n"
     ]
    },
    {
     "name": "stderr",
     "output_type": "stream",
     "text": [
      "*********Evaluation mode*******: 100%|█████████████████████████████████████████████████| 27/27 [00:03<00:00,  7.13it/s]\n",
      "*********Train mode*******:   0%|                                                             | 0/1319 [00:00<?, ?it/s]"
     ]
    },
    {
     "name": "stdout",
     "output_type": "stream",
     "text": [
      "Epoch [75/100], Eval Loss: 2430.0160\n",
      "Best Model saved......\n"
     ]
    },
    {
     "name": "stderr",
     "output_type": "stream",
     "text": [
      "*********Train mode*******: 100%|██████████████████████████████████████████████████| 1319/1319 [07:28<00:00,  2.94it/s]\n",
      "*********Evaluation mode*******:   4%|█▊                                                | 1/27 [00:00<00:03,  6.80it/s]"
     ]
    },
    {
     "name": "stdout",
     "output_type": "stream",
     "text": [
      "Epoch [76/100], Train Loss: 2337.0340\n",
      "Epoch [76/100], Thick Loss: 1767.5811\n"
     ]
    },
    {
     "name": "stderr",
     "output_type": "stream",
     "text": [
      "*********Evaluation mode*******: 100%|█████████████████████████████████████████████████| 27/27 [00:03<00:00,  7.11it/s]\n",
      "*********Train mode*******:   0%|                                                             | 0/1319 [00:00<?, ?it/s]"
     ]
    },
    {
     "name": "stdout",
     "output_type": "stream",
     "text": [
      "Epoch [76/100], Eval Loss: 2092.7441\n",
      "Best Model saved......\n"
     ]
    },
    {
     "name": "stderr",
     "output_type": "stream",
     "text": [
      "*********Train mode*******: 100%|██████████████████████████████████████████████████| 1319/1319 [07:28<00:00,  2.94it/s]\n",
      "*********Evaluation mode*******:   4%|█▊                                                | 1/27 [00:00<00:03,  7.59it/s]"
     ]
    },
    {
     "name": "stdout",
     "output_type": "stream",
     "text": [
      "Epoch [77/100], Train Loss: 2247.9406\n",
      "Epoch [77/100], Thick Loss: 1769.9628\n"
     ]
    },
    {
     "name": "stderr",
     "output_type": "stream",
     "text": [
      "*********Evaluation mode*******: 100%|█████████████████████████████████████████████████| 27/27 [00:03<00:00,  7.20it/s]\n",
      "*********Train mode*******:   0%|                                                             | 0/1319 [00:00<?, ?it/s]"
     ]
    },
    {
     "name": "stdout",
     "output_type": "stream",
     "text": [
      "Epoch [77/100], Eval Loss: 2274.8512\n"
     ]
    },
    {
     "name": "stderr",
     "output_type": "stream",
     "text": [
      "*********Train mode*******: 100%|██████████████████████████████████████████████████| 1319/1319 [07:27<00:00,  2.95it/s]\n",
      "*********Evaluation mode*******:   4%|█▊                                                | 1/27 [00:00<00:03,  7.86it/s]"
     ]
    },
    {
     "name": "stdout",
     "output_type": "stream",
     "text": [
      "Epoch [78/100], Train Loss: 2156.5480\n",
      "Epoch [78/100], Thick Loss: 1772.0501\n"
     ]
    },
    {
     "name": "stderr",
     "output_type": "stream",
     "text": [
      "*********Evaluation mode*******: 100%|█████████████████████████████████████████████████| 27/27 [00:03<00:00,  7.20it/s]\n",
      "*********Train mode*******:   0%|                                                             | 0/1319 [00:00<?, ?it/s]"
     ]
    },
    {
     "name": "stdout",
     "output_type": "stream",
     "text": [
      "Epoch [78/100], Eval Loss: 2273.4455\n"
     ]
    },
    {
     "name": "stderr",
     "output_type": "stream",
     "text": [
      "*********Train mode*******: 100%|██████████████████████████████████████████████████| 1319/1319 [07:29<00:00,  2.93it/s]\n",
      "*********Evaluation mode*******:   4%|█▊                                                | 1/27 [00:00<00:03,  7.05it/s]"
     ]
    },
    {
     "name": "stdout",
     "output_type": "stream",
     "text": [
      "Epoch [79/100], Train Loss: 2068.4899\n",
      "Epoch [79/100], Thick Loss: 1773.9888\n"
     ]
    },
    {
     "name": "stderr",
     "output_type": "stream",
     "text": [
      "*********Evaluation mode*******: 100%|█████████████████████████████████████████████████| 27/27 [00:03<00:00,  7.13it/s]\n",
      "*********Train mode*******:   0%|                                                             | 0/1319 [00:00<?, ?it/s]"
     ]
    },
    {
     "name": "stdout",
     "output_type": "stream",
     "text": [
      "Epoch [79/100], Eval Loss: 2119.1267\n"
     ]
    },
    {
     "name": "stderr",
     "output_type": "stream",
     "text": [
      "*********Train mode*******: 100%|██████████████████████████████████████████████████| 1319/1319 [07:28<00:00,  2.94it/s]\n",
      "*********Evaluation mode*******:   4%|█▊                                                | 1/27 [00:00<00:03,  7.08it/s]"
     ]
    },
    {
     "name": "stdout",
     "output_type": "stream",
     "text": [
      "Epoch [80/100], Train Loss: 1996.2613\n",
      "Epoch [80/100], Thick Loss: 1775.7772\n"
     ]
    },
    {
     "name": "stderr",
     "output_type": "stream",
     "text": [
      "*********Evaluation mode*******: 100%|█████████████████████████████████████████████████| 27/27 [00:03<00:00,  7.26it/s]\n",
      "*********Train mode*******:   0%|                                                             | 0/1319 [00:00<?, ?it/s]"
     ]
    },
    {
     "name": "stdout",
     "output_type": "stream",
     "text": [
      "Epoch [80/100], Eval Loss: 2155.5042\n"
     ]
    },
    {
     "name": "stderr",
     "output_type": "stream",
     "text": [
      "*********Train mode*******: 100%|██████████████████████████████████████████████████| 1319/1319 [07:28<00:00,  2.94it/s]\n",
      "*********Evaluation mode*******:   4%|█▊                                                | 1/27 [00:00<00:03,  7.56it/s]"
     ]
    },
    {
     "name": "stdout",
     "output_type": "stream",
     "text": [
      "Epoch [81/100], Train Loss: 1939.9552\n",
      "Epoch [81/100], Thick Loss: 1777.4714\n"
     ]
    },
    {
     "name": "stderr",
     "output_type": "stream",
     "text": [
      "*********Evaluation mode*******: 100%|█████████████████████████████████████████████████| 27/27 [00:03<00:00,  7.04it/s]\n",
      "*********Train mode*******:   0%|                                                             | 0/1319 [00:00<?, ?it/s]"
     ]
    },
    {
     "name": "stdout",
     "output_type": "stream",
     "text": [
      "Epoch [81/100], Eval Loss: 1976.2252\n",
      "Best Model saved......\n"
     ]
    },
    {
     "name": "stderr",
     "output_type": "stream",
     "text": [
      "*********Train mode*******: 100%|██████████████████████████████████████████████████| 1319/1319 [07:29<00:00,  2.93it/s]\n",
      "*********Evaluation mode*******:   4%|█▊                                                | 1/27 [00:00<00:03,  6.76it/s]"
     ]
    },
    {
     "name": "stdout",
     "output_type": "stream",
     "text": [
      "Epoch [82/100], Train Loss: 1842.0777\n",
      "Epoch [82/100], Thick Loss: 1779.0862\n"
     ]
    },
    {
     "name": "stderr",
     "output_type": "stream",
     "text": [
      "*********Evaluation mode*******: 100%|█████████████████████████████████████████████████| 27/27 [00:03<00:00,  7.15it/s]\n",
      "*********Train mode*******:   0%|                                                             | 0/1319 [00:00<?, ?it/s]"
     ]
    },
    {
     "name": "stdout",
     "output_type": "stream",
     "text": [
      "Epoch [82/100], Eval Loss: 1853.1369\n",
      "Best Model saved......\n"
     ]
    },
    {
     "name": "stderr",
     "output_type": "stream",
     "text": [
      "*********Train mode*******: 100%|██████████████████████████████████████████████████| 1319/1319 [07:28<00:00,  2.94it/s]\n",
      "*********Evaluation mode*******:   4%|█▊                                                | 1/27 [00:00<00:03,  6.95it/s]"
     ]
    },
    {
     "name": "stdout",
     "output_type": "stream",
     "text": [
      "Epoch [83/100], Train Loss: 1788.0803\n",
      "Epoch [83/100], Thick Loss: 1780.6534\n"
     ]
    },
    {
     "name": "stderr",
     "output_type": "stream",
     "text": [
      "*********Evaluation mode*******: 100%|█████████████████████████████████████████████████| 27/27 [00:03<00:00,  7.17it/s]\n",
      "*********Train mode*******:   0%|                                                             | 0/1319 [00:00<?, ?it/s]"
     ]
    },
    {
     "name": "stdout",
     "output_type": "stream",
     "text": [
      "Epoch [83/100], Eval Loss: 1891.9629\n"
     ]
    },
    {
     "name": "stderr",
     "output_type": "stream",
     "text": [
      "*********Train mode*******: 100%|██████████████████████████████████████████████████| 1319/1319 [07:29<00:00,  2.94it/s]\n",
      "*********Evaluation mode*******:   4%|█▊                                                | 1/27 [00:00<00:03,  6.98it/s]"
     ]
    },
    {
     "name": "stdout",
     "output_type": "stream",
     "text": [
      "Epoch [84/100], Train Loss: 1763.3694\n",
      "Epoch [84/100], Thick Loss: 1782.1959\n"
     ]
    },
    {
     "name": "stderr",
     "output_type": "stream",
     "text": [
      "*********Evaluation mode*******: 100%|█████████████████████████████████████████████████| 27/27 [00:03<00:00,  7.22it/s]\n",
      "*********Train mode*******:   0%|                                                             | 0/1319 [00:00<?, ?it/s]"
     ]
    },
    {
     "name": "stdout",
     "output_type": "stream",
     "text": [
      "Epoch [84/100], Eval Loss: 1688.4135\n",
      "Best Model saved......\n"
     ]
    },
    {
     "name": "stderr",
     "output_type": "stream",
     "text": [
      "*********Train mode*******: 100%|██████████████████████████████████████████████████| 1319/1319 [07:28<00:00,  2.94it/s]\n",
      "*********Evaluation mode*******:   4%|█▊                                                | 1/27 [00:00<00:03,  6.79it/s]"
     ]
    },
    {
     "name": "stdout",
     "output_type": "stream",
     "text": [
      "Epoch [85/100], Train Loss: 1680.6033\n",
      "Epoch [85/100], Thick Loss: 1783.6778\n"
     ]
    },
    {
     "name": "stderr",
     "output_type": "stream",
     "text": [
      "*********Evaluation mode*******: 100%|█████████████████████████████████████████████████| 27/27 [00:03<00:00,  7.13it/s]\n",
      "*********Train mode*******:   0%|                                                             | 0/1319 [00:00<?, ?it/s]"
     ]
    },
    {
     "name": "stdout",
     "output_type": "stream",
     "text": [
      "Epoch [85/100], Eval Loss: 1707.5454\n"
     ]
    },
    {
     "name": "stderr",
     "output_type": "stream",
     "text": [
      "*********Train mode*******: 100%|██████████████████████████████████████████████████| 1319/1319 [07:25<00:00,  2.96it/s]\n",
      "*********Evaluation mode*******:   4%|█▊                                                | 1/27 [00:00<00:03,  7.12it/s]"
     ]
    },
    {
     "name": "stdout",
     "output_type": "stream",
     "text": [
      "Epoch [86/100], Train Loss: 1604.4044\n",
      "Epoch [86/100], Thick Loss: 1785.0854\n"
     ]
    },
    {
     "name": "stderr",
     "output_type": "stream",
     "text": [
      "*********Evaluation mode*******: 100%|█████████████████████████████████████████████████| 27/27 [00:03<00:00,  7.41it/s]\n",
      "*********Train mode*******:   0%|                                                             | 0/1319 [00:00<?, ?it/s]"
     ]
    },
    {
     "name": "stdout",
     "output_type": "stream",
     "text": [
      "Epoch [86/100], Eval Loss: 1730.4306\n"
     ]
    },
    {
     "name": "stderr",
     "output_type": "stream",
     "text": [
      "*********Train mode*******: 100%|██████████████████████████████████████████████████| 1319/1319 [07:31<00:00,  2.92it/s]\n",
      "*********Evaluation mode*******:   4%|█▊                                                | 1/27 [00:00<00:03,  7.69it/s]"
     ]
    },
    {
     "name": "stdout",
     "output_type": "stream",
     "text": [
      "Epoch [87/100], Train Loss: 1499.5121\n",
      "Epoch [87/100], Thick Loss: 1786.4613\n"
     ]
    },
    {
     "name": "stderr",
     "output_type": "stream",
     "text": [
      "*********Evaluation mode*******: 100%|█████████████████████████████████████████████████| 27/27 [00:03<00:00,  7.14it/s]\n",
      "*********Train mode*******:   0%|                                                             | 0/1319 [00:00<?, ?it/s]"
     ]
    },
    {
     "name": "stdout",
     "output_type": "stream",
     "text": [
      "Epoch [87/100], Eval Loss: 1582.4980\n",
      "Best Model saved......\n"
     ]
    },
    {
     "name": "stderr",
     "output_type": "stream",
     "text": [
      "*********Train mode*******: 100%|██████████████████████████████████████████████████| 1319/1319 [07:28<00:00,  2.94it/s]\n",
      "*********Evaluation mode*******:   4%|█▊                                                | 1/27 [00:00<00:03,  6.86it/s]"
     ]
    },
    {
     "name": "stdout",
     "output_type": "stream",
     "text": [
      "Epoch [88/100], Train Loss: 1417.4398\n",
      "Epoch [88/100], Thick Loss: 1787.7793\n"
     ]
    },
    {
     "name": "stderr",
     "output_type": "stream",
     "text": [
      "*********Evaluation mode*******: 100%|█████████████████████████████████████████████████| 27/27 [00:04<00:00,  6.74it/s]\n",
      "*********Train mode*******:   0%|                                                             | 0/1319 [00:00<?, ?it/s]"
     ]
    },
    {
     "name": "stdout",
     "output_type": "stream",
     "text": [
      "Epoch [88/100], Eval Loss: 1545.5487\n",
      "Best Model saved......\n"
     ]
    },
    {
     "name": "stderr",
     "output_type": "stream",
     "text": [
      "*********Train mode*******: 100%|██████████████████████████████████████████████████| 1319/1319 [07:29<00:00,  2.93it/s]\n",
      "*********Evaluation mode*******:   4%|█▊                                                | 1/27 [00:00<00:03,  7.83it/s]"
     ]
    },
    {
     "name": "stdout",
     "output_type": "stream",
     "text": [
      "Epoch [89/100], Train Loss: 1416.8776\n",
      "Epoch [89/100], Thick Loss: 1789.1073\n"
     ]
    },
    {
     "name": "stderr",
     "output_type": "stream",
     "text": [
      "*********Evaluation mode*******: 100%|█████████████████████████████████████████████████| 27/27 [00:03<00:00,  7.27it/s]\n",
      "*********Train mode*******:   0%|                                                             | 0/1319 [00:00<?, ?it/s]"
     ]
    },
    {
     "name": "stdout",
     "output_type": "stream",
     "text": [
      "Epoch [89/100], Eval Loss: 1733.0097\n"
     ]
    },
    {
     "name": "stderr",
     "output_type": "stream",
     "text": [
      "*********Train mode*******: 100%|██████████████████████████████████████████████████| 1319/1319 [07:28<00:00,  2.94it/s]\n",
      "*********Evaluation mode*******:   4%|█▊                                                | 1/27 [00:00<00:03,  7.67it/s]"
     ]
    },
    {
     "name": "stdout",
     "output_type": "stream",
     "text": [
      "Epoch [90/100], Train Loss: 1328.9181\n",
      "Epoch [90/100], Thick Loss: 1790.4081\n"
     ]
    },
    {
     "name": "stderr",
     "output_type": "stream",
     "text": [
      "*********Evaluation mode*******: 100%|█████████████████████████████████████████████████| 27/27 [00:03<00:00,  6.99it/s]\n",
      "*********Train mode*******:   0%|                                                             | 0/1319 [00:00<?, ?it/s]"
     ]
    },
    {
     "name": "stdout",
     "output_type": "stream",
     "text": [
      "Epoch [90/100], Eval Loss: 1568.0895\n"
     ]
    },
    {
     "name": "stderr",
     "output_type": "stream",
     "text": [
      "*********Train mode*******: 100%|██████████████████████████████████████████████████| 1319/1319 [07:28<00:00,  2.94it/s]\n",
      "*********Evaluation mode*******:   4%|█▊                                                | 1/27 [00:00<00:03,  7.50it/s]"
     ]
    },
    {
     "name": "stdout",
     "output_type": "stream",
     "text": [
      "Epoch [91/100], Train Loss: 1258.9941\n",
      "Epoch [91/100], Thick Loss: 1791.6841\n"
     ]
    },
    {
     "name": "stderr",
     "output_type": "stream",
     "text": [
      "*********Evaluation mode*******: 100%|█████████████████████████████████████████████████| 27/27 [00:03<00:00,  7.23it/s]\n",
      "*********Train mode*******:   0%|                                                             | 0/1319 [00:00<?, ?it/s]"
     ]
    },
    {
     "name": "stdout",
     "output_type": "stream",
     "text": [
      "Epoch [91/100], Eval Loss: 1216.8521\n",
      "Best Model saved......\n"
     ]
    },
    {
     "name": "stderr",
     "output_type": "stream",
     "text": [
      "*********Train mode*******: 100%|██████████████████████████████████████████████████| 1319/1319 [07:29<00:00,  2.94it/s]\n",
      "*********Evaluation mode*******:   4%|█▊                                                | 1/27 [00:00<00:03,  6.85it/s]"
     ]
    },
    {
     "name": "stdout",
     "output_type": "stream",
     "text": [
      "Epoch [92/100], Train Loss: 1207.1074\n",
      "Epoch [92/100], Thick Loss: 1792.9417\n"
     ]
    },
    {
     "name": "stderr",
     "output_type": "stream",
     "text": [
      "*********Evaluation mode*******: 100%|█████████████████████████████████████████████████| 27/27 [00:03<00:00,  6.95it/s]\n",
      "*********Train mode*******:   0%|                                                             | 0/1319 [00:00<?, ?it/s]"
     ]
    },
    {
     "name": "stdout",
     "output_type": "stream",
     "text": [
      "Epoch [92/100], Eval Loss: 1189.0669\n",
      "Best Model saved......\n"
     ]
    },
    {
     "name": "stderr",
     "output_type": "stream",
     "text": [
      "*********Train mode*******: 100%|██████████████████████████████████████████████████| 1319/1319 [07:28<00:00,  2.94it/s]\n",
      "*********Evaluation mode*******:   4%|█▊                                                | 1/27 [00:00<00:03,  7.07it/s]"
     ]
    },
    {
     "name": "stdout",
     "output_type": "stream",
     "text": [
      "Epoch [93/100], Train Loss: 1174.8506\n",
      "Epoch [93/100], Thick Loss: 1794.1963\n"
     ]
    },
    {
     "name": "stderr",
     "output_type": "stream",
     "text": [
      "*********Evaluation mode*******: 100%|█████████████████████████████████████████████████| 27/27 [00:03<00:00,  7.28it/s]\n",
      "*********Train mode*******:   0%|                                                             | 0/1319 [00:00<?, ?it/s]"
     ]
    },
    {
     "name": "stdout",
     "output_type": "stream",
     "text": [
      "Epoch [93/100], Eval Loss: 1137.4552\n",
      "Best Model saved......\n"
     ]
    },
    {
     "name": "stderr",
     "output_type": "stream",
     "text": [
      "*********Train mode*******: 100%|██████████████████████████████████████████████████| 1319/1319 [07:28<00:00,  2.94it/s]\n",
      "*********Evaluation mode*******:   4%|█▊                                                | 1/27 [00:00<00:03,  7.57it/s]"
     ]
    },
    {
     "name": "stdout",
     "output_type": "stream",
     "text": [
      "Epoch [94/100], Train Loss: 1139.8192\n",
      "Epoch [94/100], Thick Loss: 1795.4411\n"
     ]
    },
    {
     "name": "stderr",
     "output_type": "stream",
     "text": [
      "*********Evaluation mode*******: 100%|█████████████████████████████████████████████████| 27/27 [00:03<00:00,  7.26it/s]\n",
      "*********Train mode*******:   0%|                                                             | 0/1319 [00:00<?, ?it/s]"
     ]
    },
    {
     "name": "stdout",
     "output_type": "stream",
     "text": [
      "Epoch [94/100], Eval Loss: 1120.1264\n",
      "Best Model saved......\n"
     ]
    },
    {
     "name": "stderr",
     "output_type": "stream",
     "text": [
      "*********Train mode*******: 100%|██████████████████████████████████████████████████| 1319/1319 [07:28<00:00,  2.94it/s]\n",
      "*********Evaluation mode*******:   4%|█▊                                                | 1/27 [00:00<00:03,  7.05it/s]"
     ]
    },
    {
     "name": "stdout",
     "output_type": "stream",
     "text": [
      "Epoch [95/100], Train Loss: 1112.2920\n",
      "Epoch [95/100], Thick Loss: 1796.6814\n"
     ]
    },
    {
     "name": "stderr",
     "output_type": "stream",
     "text": [
      "*********Evaluation mode*******: 100%|█████████████████████████████████████████████████| 27/27 [00:03<00:00,  7.12it/s]\n",
      "*********Train mode*******:   0%|                                                             | 0/1319 [00:00<?, ?it/s]"
     ]
    },
    {
     "name": "stdout",
     "output_type": "stream",
     "text": [
      "Epoch [95/100], Eval Loss: 1108.0951\n",
      "Best Model saved......\n"
     ]
    },
    {
     "name": "stderr",
     "output_type": "stream",
     "text": [
      "*********Train mode*******: 100%|██████████████████████████████████████████████████| 1319/1319 [07:28<00:00,  2.94it/s]\n",
      "*********Evaluation mode*******:   4%|█▊                                                | 1/27 [00:00<00:03,  6.82it/s]"
     ]
    },
    {
     "name": "stdout",
     "output_type": "stream",
     "text": [
      "Epoch [96/100], Train Loss: 1093.4901\n",
      "Epoch [96/100], Thick Loss: 1797.9176\n"
     ]
    },
    {
     "name": "stderr",
     "output_type": "stream",
     "text": [
      "*********Evaluation mode*******: 100%|█████████████████████████████████████████████████| 27/27 [00:03<00:00,  7.24it/s]\n",
      "*********Train mode*******:   0%|                                                             | 0/1319 [00:00<?, ?it/s]"
     ]
    },
    {
     "name": "stdout",
     "output_type": "stream",
     "text": [
      "Epoch [96/100], Eval Loss: 1096.7814\n",
      "Best Model saved......\n"
     ]
    },
    {
     "name": "stderr",
     "output_type": "stream",
     "text": [
      "*********Train mode*******: 100%|██████████████████████████████████████████████████| 1319/1319 [07:28<00:00,  2.94it/s]\n",
      "*********Evaluation mode*******:   4%|█▊                                                | 1/27 [00:00<00:03,  7.52it/s]"
     ]
    },
    {
     "name": "stdout",
     "output_type": "stream",
     "text": [
      "Epoch [97/100], Train Loss: 1077.3961\n",
      "Epoch [97/100], Thick Loss: 1799.1503\n"
     ]
    },
    {
     "name": "stderr",
     "output_type": "stream",
     "text": [
      "*********Evaluation mode*******: 100%|█████████████████████████████████████████████████| 27/27 [00:03<00:00,  7.21it/s]\n",
      "*********Train mode*******:   0%|                                                             | 0/1319 [00:00<?, ?it/s]"
     ]
    },
    {
     "name": "stdout",
     "output_type": "stream",
     "text": [
      "Epoch [97/100], Eval Loss: 1083.1838\n",
      "Best Model saved......\n"
     ]
    },
    {
     "name": "stderr",
     "output_type": "stream",
     "text": [
      "*********Train mode*******: 100%|██████████████████████████████████████████████████| 1319/1319 [07:28<00:00,  2.94it/s]\n",
      "*********Evaluation mode*******:   0%|                                                          | 0/27 [00:00<?, ?it/s]"
     ]
    },
    {
     "name": "stdout",
     "output_type": "stream",
     "text": [
      "Epoch [98/100], Train Loss: 1065.4961\n",
      "Epoch [98/100], Thick Loss: 1800.3798\n"
     ]
    },
    {
     "name": "stderr",
     "output_type": "stream",
     "text": [
      "*********Evaluation mode*******: 100%|█████████████████████████████████████████████████| 27/27 [00:03<00:00,  7.10it/s]\n",
      "*********Train mode*******:   0%|                                                             | 0/1319 [00:00<?, ?it/s]"
     ]
    },
    {
     "name": "stdout",
     "output_type": "stream",
     "text": [
      "Epoch [98/100], Eval Loss: 1080.3836\n",
      "Best Model saved......\n"
     ]
    },
    {
     "name": "stderr",
     "output_type": "stream",
     "text": [
      "*********Train mode*******: 100%|██████████████████████████████████████████████████| 1319/1319 [07:28<00:00,  2.94it/s]\n",
      "*********Evaluation mode*******:   4%|█▊                                                | 1/27 [00:00<00:03,  6.75it/s]"
     ]
    },
    {
     "name": "stdout",
     "output_type": "stream",
     "text": [
      "Epoch [99/100], Train Loss: 1058.4147\n",
      "Epoch [99/100], Thick Loss: 1801.6076\n"
     ]
    },
    {
     "name": "stderr",
     "output_type": "stream",
     "text": [
      "*********Evaluation mode*******: 100%|█████████████████████████████████████████████████| 27/27 [00:03<00:00,  7.43it/s]\n",
      "*********Train mode*******:   0%|                                                             | 0/1319 [00:00<?, ?it/s]"
     ]
    },
    {
     "name": "stdout",
     "output_type": "stream",
     "text": [
      "Epoch [99/100], Eval Loss: 1079.5592\n",
      "Best Model saved......\n"
     ]
    },
    {
     "name": "stderr",
     "output_type": "stream",
     "text": [
      "*********Train mode*******: 100%|██████████████████████████████████████████████████| 1319/1319 [07:29<00:00,  2.94it/s]\n",
      "*********Evaluation mode*******:   4%|█▊                                                | 1/27 [00:00<00:03,  6.75it/s]"
     ]
    },
    {
     "name": "stdout",
     "output_type": "stream",
     "text": [
      "Epoch [100/100], Train Loss: 1054.0641\n",
      "Epoch [100/100], Thick Loss: 1802.8349\n"
     ]
    },
    {
     "name": "stderr",
     "output_type": "stream",
     "text": [
      "*********Evaluation mode*******: 100%|█████████████████████████████████████████████████| 27/27 [00:03<00:00,  7.21it/s]"
     ]
    },
    {
     "name": "stdout",
     "output_type": "stream",
     "text": [
      "Epoch [100/100], Eval Loss: 1078.3152\n",
      "Best Model saved......\n"
     ]
    },
    {
     "name": "stderr",
     "output_type": "stream",
     "text": [
      "\n"
     ]
    }
   ],
   "source": [
    "\"\"\"\n",
    "모델 학습\n",
    "\"\"\"\n",
    "\n",
    "total_step = len(train_loader) * epochs\n",
    "print(f\"Total step is....{total_step}\") # 모델이 학습하는 전체 step 계산.\n",
    "\n",
    "# 옵티마이저와 스케줄러의 파라미터들을 정의.\n",
    "\n",
    "# no_decay = [\"bias\", \"LayerNorm.weight\"] # decay하지 않을 영역 지정.\n",
    "# optimizer_grouped_parameters = [\n",
    "#     {\n",
    "#         \"params\": [p for n, p in model.named_parameters() if not any(nd in n for nd in no_decay)],\n",
    "#         \"weight_decay\": 0.0,\n",
    "#     },\n",
    "#     {\"params\": [p for n, p in model.named_parameters() if any(nd in n for nd in no_decay)], \"weight_decay\": 0.0},\n",
    "# ]\n",
    "# optimizer = AdamW(optimizer_grouped_parameters, lr=lr, eps=adam_epsilon)\n",
    "optimizer = Adam(model.parameters(), lr = lr, eps=adam_epsilon)\n",
    "scheduler = get_cosine_with_hard_restarts_schedule_with_warmup(\n",
    "    optimizer, num_warmup_steps=warmup_step, num_training_steps=total_step\n",
    ")\n",
    "\n",
    "# train loss와 val loss, thick_loss 지정.\n",
    "total_loss = 0.0\n",
    "total_val_loss = 0.0\n",
    "total_thick_loss=0.0\n",
    "total_level_loss=0.0\n",
    "total_parameter_loss=0.0\n",
    "# 모델 이름을 위해서 변수 만듦.\n",
    "version = time.localtime()[3:5]\n",
    "curr_lr = lr\n",
    "\n",
    "n_val_loss = 10000000. # 가장 낮은 validation loss를 저장하기 위해서 변수 설정.\n",
    "train_loss_epoch=[]\n",
    "thick_loss_epoch=[]\n",
    "level_loss_epoch=[]\n",
    "parameter_loss_epoch=[]\n",
    "val_loss_epoch=[]\n",
    "\n",
    "start = time.time() #학습시간\n",
    "for epoch in range(epochs):\n",
    "    total_loss = 0 \n",
    "    total_val_loss = 0\n",
    "    total_parameter_loss=0\n",
    "    total_thik_loss=0\n",
    "    total_level_loss=0\n",
    "    for i, data in enumerate(tqdm(train_loader, desc='*********Train mode*******')):  # train 데이터를 부르고 학습.\n",
    "        # forward pass\n",
    "#         pred1,pred2 = model(data['X'].float().to(device))\n",
    "        pred1 = model(data['X'].float().to(device))\n",
    "        loss_parameter = loss_fn1(pred1[:,:7], data['Y'].float().to(device)[:,:7])\n",
    "        loss_thick=loss_fn1(pred1[:,7], data['Y'].float().to(device)[:,7])\n",
    "        loss_level=loss_fn1(pred1[:,8], data['Y'].float().to(device)[:,8])\n",
    "        loss = loss_parameter + loss_thick + loss_level\n",
    "        \n",
    "        # backward pass\n",
    "        optimizer.zero_grad() # optimizer 객체 사용해서 학습 가능한 가중치 변수에 대한 모든 변화도를 0으로 만듦\n",
    "        loss.backward() \n",
    "        optimizer.step() # update optimizer params\n",
    "        scheduler.step() # update scheduler params\n",
    "        \n",
    "        total_loss += loss.item()\n",
    "        total_parameter_loss += loss_parameter.item()\n",
    "        total_thick_loss +=loss_thick.item()\n",
    "        total_level_loss +=loss_level.item()\n",
    "        \n",
    "    train_loss = total_loss / len(train_loader)\n",
    "    parameter_loss = total_parameter_loss/ len(train_loader)\n",
    "    thick_loss = total_thick_loss/len(train_loader)\n",
    "    level_loss = total_level_loss/len(train_loader)\n",
    "    train_loss_epoch.append(train_loss)\n",
    "    parameter_loss_epoch.append(parameter_loss)\n",
    "    thick_loss_epoch.append(thick_loss)\n",
    "    level_loss_epoch.append(level_loss)\n",
    "    print (\"Epoch [{}/{}], Train Loss: {:.4f}\".format(epoch+1, epochs, train_loss))\n",
    "    print (\"Epoch [{}/{}], Thick Loss: {:.4f}\".format(epoch+1, epochs, thick_loss))\n",
    "\n",
    "    # evaluation\n",
    "    # validation 데이터를 부르고 epoch 마다 학습된 모델을 부르고 평가.\n",
    "    model.eval()\n",
    "    with torch.no_grad():\n",
    "        for i, data in enumerate(tqdm(val_loader, desc='*********Evaluation mode*******')):\n",
    "            pred1 = model(data['X'].float().to(device))\n",
    "            loss_val_para = loss_fn1(pred1[:,:7], data['Y'].float().to(device)[:,:7])\n",
    "            loss_val_thick=loss_fn1(pred1[:,7], data['Y'].float().to(device)[:,7])\n",
    "            loss_val_level=loss_fn1(pred1[:,8], data['Y'].float().to(device)[:,8])\n",
    "            loss_val=loss_val_para + loss_val_thick\n",
    "            total_val_loss += loss_val.item()\n",
    "\n",
    "    val_loss = total_val_loss / len(val_loader)\n",
    "    val_loss_epoch.append(val_loss)\n",
    "    print (\"Epoch [{}/{}], Eval Loss: {:.4f}\".format(epoch+1, epochs, val_loss))\n",
    "\n",
    "    \n",
    "    # best model을 저장.\n",
    "    if val_loss < n_val_loss:\n",
    "        n_val_loss = val_loss\n",
    "        torch.save(model.state_dict(), f'test_percent_unit_{batch_size}_{version}_{lr}_{epochs}_MAE.pth')\n",
    "        print(\"Best Model saved......\")"
   ]
  },
  {
   "cell_type": "code",
   "execution_count": 6,
   "metadata": {},
   "outputs": [
    {
     "data": {
      "text/plain": [
       "'\\n- Modeling\\n\\nLearning rate : 다양한 learning rate 스케줄링. Warmup 스케줄링이 train, val loss 줄이는데 가장 효과적.\\nActivation function : ReLU, ELU, CeLU, GeLU 사용. 음의 영역에서는 0의 값을 가지는 relu 대신 ELU, CeLU, GeLU등을 사용. relu보다는 효과적.\\nOptimizer : adam, adamW.\\nBatch size : batch size는 10000으로 시작하였으나 10000보다 작은 값에서 효과적.\\nHidden node, layer depth : node 수는 Nh = Ns/(a * (Ni + No))에 따라 초기 모델링에서는 약 2500개 정도로 하였으나 실험적으로 많은\\nnode가 train, val loss 줄이는데 효과적.\\n(Nh : number of hidden , Ni : Number of input, No : Number of output, a : 2 - 10)\\nLoss funciotion : L1 Loss\\nBatchNorm : 모든 layer에 batchNorm 적용\\nMLP Model : 단순한 MLP 모델로는 한계를 느껴 MLP의 복잡성을 증가시키는 방향으로 설계\\n        (1) 노드 수를 증가시켰다 줄이는 방식(UP-block, DOWN-block)\\n        (2) Down-block에서 skip connection과 layer norm 적용\\n'"
      ]
     },
     "execution_count": 6,
     "metadata": {},
     "output_type": "execute_result"
    }
   ],
   "source": [
    "# 4개의 layer_1, layer_2, layer_3, layer_4의 두께를 구하는 방법이라 마지막 Dense unit을 1로\n",
    "# 해서 각각의 두께를 구하는 모델을 구성해보았으나 결과는 좋지 않음.\n",
    "# 특별한 탐색적 자료 분석 없음.\n",
    "\"\"\"\n",
    "- Modeling\n",
    "\n",
    "Learning rate : 다양한 learning rate 스케줄링. Warmup 스케줄링이 train, val loss 줄이는데 가장 효과적.\n",
    "Activation function : ReLU, ELU, CeLU, GeLU 사용. 음의 영역에서는 0의 값을 가지는 relu 대신 ELU, CeLU, GeLU등을 사용. relu보다는 효과적.\n",
    "Optimizer : adam, adamW.\n",
    "Batch size : batch size는 10000으로 시작하였으나 10000보다 작은 값에서 효과적.\n",
    "Hidden node, layer depth : node 수는 Nh = Ns/(a * (Ni + No))에 따라 초기 모델링에서는 약 2500개 정도로 하였으나 실험적으로 많은\n",
    "node가 train, val loss 줄이는데 효과적.\n",
    "(Nh : number of hidden , Ni : Number of input, No : Number of output, a : 2 - 10)\n",
    "Loss funciotion : L1 Loss\n",
    "BatchNorm : 모든 layer에 batchNorm 적용\n",
    "MLP Model : 단순한 MLP 모델로는 한계를 느껴 MLP의 복잡성을 증가시키는 방향으로 설계\n",
    "        (1) 노드 수를 증가시켰다 줄이는 방식(UP-block, DOWN-block)\n",
    "        (2) Down-block에서 skip connection과 layer norm 적용\n",
    "\"\"\""
   ]
  },
  {
   "cell_type": "code",
   "execution_count": 32,
   "metadata": {},
   "outputs": [],
   "source": [
    "loss_array=np.array(thick_loss_epoch)\n",
    "loss_array2=np.array(val_loss_epoch)\n",
    "loss_array3=np.array(level_loss_epoch)\n",
    "loss_array4=np.array(train_loss_epoch)\n",
    "thick_loss_data=pd.DataFrame(loss_array)\n",
    "val_loss_data=pd.DataFrame(loss_array2)\n",
    "level_loss_data=pd.DataFrame(loss_array3)\n",
    "train_loss_data=pd.DataFrame(loss_array4)\n",
    "thick_loss_data.to_csv(f'MAE_thick_same_layer_percent_unit_dropout=_loss_lr={lr}_epoch={epochs}_level.csv', index='epochs')#level을 동일하게 놔두면 평균 1nm까지 오차가 줄어든다.\n",
    "val_loss_data.to_csv(f'MAE_val_same_layer_percent_unit_dropout=0.1_loss_lr={lr}_epoch={epochs}_level.csv', index='epochs')\n",
    "level_loss_data.to_csv(f'MAE_level_same_layer_percent_unit_dropout=0.1_loss_lr={lr}_epoch={epochs}_level.csv', index='epochs')\n",
    "train_loss_data.to_csv(f'MAE_train_same_layer_percent_unit_dropout=0.1_loss_lr={lr}_epoch={epochs}_level.csv', index='epochs')"
   ]
  },
  {
   "cell_type": "code",
   "execution_count": 33,
   "metadata": {},
   "outputs": [
    {
     "data": {
      "text/html": [
       "<div>\n",
       "<style scoped>\n",
       "    .dataframe tbody tr th:only-of-type {\n",
       "        vertical-align: middle;\n",
       "    }\n",
       "\n",
       "    .dataframe tbody tr th {\n",
       "        vertical-align: top;\n",
       "    }\n",
       "\n",
       "    .dataframe thead th {\n",
       "        text-align: right;\n",
       "    }\n",
       "</style>\n",
       "<table border=\"1\" class=\"dataframe\">\n",
       "  <thead>\n",
       "    <tr style=\"text-align: right;\">\n",
       "      <th></th>\n",
       "      <th>0</th>\n",
       "    </tr>\n",
       "  </thead>\n",
       "  <tbody>\n",
       "    <tr>\n",
       "      <th>95</th>\n",
       "      <td>0.000645</td>\n",
       "    </tr>\n",
       "    <tr>\n",
       "      <th>96</th>\n",
       "      <td>0.000633</td>\n",
       "    </tr>\n",
       "    <tr>\n",
       "      <th>97</th>\n",
       "      <td>0.000628</td>\n",
       "    </tr>\n",
       "    <tr>\n",
       "      <th>98</th>\n",
       "      <td>0.000626</td>\n",
       "    </tr>\n",
       "    <tr>\n",
       "      <th>99</th>\n",
       "      <td>0.000625</td>\n",
       "    </tr>\n",
       "  </tbody>\n",
       "</table>\n",
       "</div>"
      ],
      "text/plain": [
       "           0\n",
       "95  0.000645\n",
       "96  0.000633\n",
       "97  0.000628\n",
       "98  0.000626\n",
       "99  0.000625"
      ]
     },
     "execution_count": 33,
     "metadata": {},
     "output_type": "execute_result"
    }
   ],
   "source": [
    "thick_loss_data.tail()"
   ]
  },
  {
   "cell_type": "code",
   "execution_count": 13,
   "metadata": {},
   "outputs": [
    {
     "data": {
      "text/html": [
       "<div>\n",
       "<style scoped>\n",
       "    .dataframe tbody tr th:only-of-type {\n",
       "        vertical-align: middle;\n",
       "    }\n",
       "\n",
       "    .dataframe tbody tr th {\n",
       "        vertical-align: top;\n",
       "    }\n",
       "\n",
       "    .dataframe thead th {\n",
       "        text-align: right;\n",
       "    }\n",
       "</style>\n",
       "<table border=\"1\" class=\"dataframe\">\n",
       "  <thead>\n",
       "    <tr style=\"text-align: right;\">\n",
       "      <th></th>\n",
       "      <th>0</th>\n",
       "    </tr>\n",
       "  </thead>\n",
       "  <tbody>\n",
       "    <tr>\n",
       "      <th>95</th>\n",
       "      <td>0.000416</td>\n",
       "    </tr>\n",
       "    <tr>\n",
       "      <th>96</th>\n",
       "      <td>0.000406</td>\n",
       "    </tr>\n",
       "    <tr>\n",
       "      <th>97</th>\n",
       "      <td>0.000394</td>\n",
       "    </tr>\n",
       "    <tr>\n",
       "      <th>98</th>\n",
       "      <td>0.000396</td>\n",
       "    </tr>\n",
       "    <tr>\n",
       "      <th>99</th>\n",
       "      <td>0.000392</td>\n",
       "    </tr>\n",
       "  </tbody>\n",
       "</table>\n",
       "</div>"
      ],
      "text/plain": [
       "           0\n",
       "95  0.000416\n",
       "96  0.000406\n",
       "97  0.000394\n",
       "98  0.000396\n",
       "99  0.000392"
      ]
     },
     "execution_count": 13,
     "metadata": {},
     "output_type": "execute_result"
    }
   ],
   "source": [
    "level_loss_data.tail()"
   ]
  },
  {
   "cell_type": "code",
   "execution_count": 24,
   "metadata": {},
   "outputs": [
    {
     "data": {
      "text/html": [
       "<div>\n",
       "<style scoped>\n",
       "    .dataframe tbody tr th:only-of-type {\n",
       "        vertical-align: middle;\n",
       "    }\n",
       "\n",
       "    .dataframe tbody tr th {\n",
       "        vertical-align: top;\n",
       "    }\n",
       "\n",
       "    .dataframe thead th {\n",
       "        text-align: right;\n",
       "    }\n",
       "</style>\n",
       "<table border=\"1\" class=\"dataframe\">\n",
       "  <thead>\n",
       "    <tr style=\"text-align: right;\">\n",
       "      <th></th>\n",
       "      <th>Unnamed: 0</th>\n",
       "      <th>1000</th>\n",
       "      <th>1020</th>\n",
       "      <th>1040</th>\n",
       "      <th>1060</th>\n",
       "      <th>1080</th>\n",
       "      <th>1100</th>\n",
       "      <th>1120</th>\n",
       "      <th>1140</th>\n",
       "      <th>1160</th>\n",
       "      <th>...</th>\n",
       "      <th>7820</th>\n",
       "      <th>7840</th>\n",
       "      <th>7860</th>\n",
       "      <th>7880</th>\n",
       "      <th>7900</th>\n",
       "      <th>7920</th>\n",
       "      <th>7940</th>\n",
       "      <th>7960</th>\n",
       "      <th>7980</th>\n",
       "      <th>8000</th>\n",
       "    </tr>\n",
       "  </thead>\n",
       "  <tbody>\n",
       "    <tr>\n",
       "      <th>0</th>\n",
       "      <td>0</td>\n",
       "      <td>0.43274</td>\n",
       "      <td>0.45783</td>\n",
       "      <td>0.52730</td>\n",
       "      <td>0.59830</td>\n",
       "      <td>0.65145</td>\n",
       "      <td>0.67806</td>\n",
       "      <td>0.60875</td>\n",
       "      <td>0.53671</td>\n",
       "      <td>0.51018</td>\n",
       "      <td>...</td>\n",
       "      <td>0.12143</td>\n",
       "      <td>0.12246</td>\n",
       "      <td>0.12335</td>\n",
       "      <td>0.12420</td>\n",
       "      <td>0.12482</td>\n",
       "      <td>0.12569</td>\n",
       "      <td>0.12661</td>\n",
       "      <td>0.12747</td>\n",
       "      <td>0.12831</td>\n",
       "      <td>0.12928</td>\n",
       "    </tr>\n",
       "    <tr>\n",
       "      <th>1</th>\n",
       "      <td>1</td>\n",
       "      <td>0.43904</td>\n",
       "      <td>0.45938</td>\n",
       "      <td>0.52918</td>\n",
       "      <td>0.60372</td>\n",
       "      <td>0.66068</td>\n",
       "      <td>0.69203</td>\n",
       "      <td>0.62289</td>\n",
       "      <td>0.54710</td>\n",
       "      <td>0.51771</td>\n",
       "      <td>...</td>\n",
       "      <td>0.12842</td>\n",
       "      <td>0.12927</td>\n",
       "      <td>0.13033</td>\n",
       "      <td>0.13101</td>\n",
       "      <td>0.13195</td>\n",
       "      <td>0.13304</td>\n",
       "      <td>0.13423</td>\n",
       "      <td>0.13530</td>\n",
       "      <td>0.13612</td>\n",
       "      <td>0.13703</td>\n",
       "    </tr>\n",
       "    <tr>\n",
       "      <th>2</th>\n",
       "      <td>2</td>\n",
       "      <td>0.44766</td>\n",
       "      <td>0.47016</td>\n",
       "      <td>0.53749</td>\n",
       "      <td>0.60886</td>\n",
       "      <td>0.66225</td>\n",
       "      <td>0.68836</td>\n",
       "      <td>0.61643</td>\n",
       "      <td>0.54579</td>\n",
       "      <td>0.51949</td>\n",
       "      <td>...</td>\n",
       "      <td>0.11447</td>\n",
       "      <td>0.11525</td>\n",
       "      <td>0.11606</td>\n",
       "      <td>0.11677</td>\n",
       "      <td>0.11785</td>\n",
       "      <td>0.11863</td>\n",
       "      <td>0.11939</td>\n",
       "      <td>0.12046</td>\n",
       "      <td>0.12160</td>\n",
       "      <td>0.12265</td>\n",
       "    </tr>\n",
       "    <tr>\n",
       "      <th>3</th>\n",
       "      <td>3</td>\n",
       "      <td>0.44381</td>\n",
       "      <td>0.46831</td>\n",
       "      <td>0.53629</td>\n",
       "      <td>0.60635</td>\n",
       "      <td>0.65804</td>\n",
       "      <td>0.68132</td>\n",
       "      <td>0.60812</td>\n",
       "      <td>0.53913</td>\n",
       "      <td>0.51423</td>\n",
       "      <td>...</td>\n",
       "      <td>0.11003</td>\n",
       "      <td>0.11062</td>\n",
       "      <td>0.11120</td>\n",
       "      <td>0.11175</td>\n",
       "      <td>0.11260</td>\n",
       "      <td>0.11364</td>\n",
       "      <td>0.11464</td>\n",
       "      <td>0.11543</td>\n",
       "      <td>0.11617</td>\n",
       "      <td>0.11727</td>\n",
       "    </tr>\n",
       "    <tr>\n",
       "      <th>4</th>\n",
       "      <td>4</td>\n",
       "      <td>0.45495</td>\n",
       "      <td>0.47851</td>\n",
       "      <td>0.54659</td>\n",
       "      <td>0.61701</td>\n",
       "      <td>0.66936</td>\n",
       "      <td>0.69344</td>\n",
       "      <td>0.62036</td>\n",
       "      <td>0.55081</td>\n",
       "      <td>0.52515</td>\n",
       "      <td>...</td>\n",
       "      <td>0.11491</td>\n",
       "      <td>0.11568</td>\n",
       "      <td>0.11647</td>\n",
       "      <td>0.11699</td>\n",
       "      <td>0.11763</td>\n",
       "      <td>0.11808</td>\n",
       "      <td>0.11911</td>\n",
       "      <td>0.12006</td>\n",
       "      <td>0.12088</td>\n",
       "      <td>0.12158</td>\n",
       "    </tr>\n",
       "    <tr>\n",
       "      <th>5</th>\n",
       "      <td>5</td>\n",
       "      <td>0.44943</td>\n",
       "      <td>0.47328</td>\n",
       "      <td>0.54287</td>\n",
       "      <td>0.61628</td>\n",
       "      <td>0.67115</td>\n",
       "      <td>0.69813</td>\n",
       "      <td>0.62540</td>\n",
       "      <td>0.55229</td>\n",
       "      <td>0.52505</td>\n",
       "      <td>...</td>\n",
       "      <td>0.11952</td>\n",
       "      <td>0.12054</td>\n",
       "      <td>0.12127</td>\n",
       "      <td>0.12207</td>\n",
       "      <td>0.12293</td>\n",
       "      <td>0.12415</td>\n",
       "      <td>0.12509</td>\n",
       "      <td>0.12588</td>\n",
       "      <td>0.12685</td>\n",
       "      <td>0.12778</td>\n",
       "    </tr>\n",
       "  </tbody>\n",
       "</table>\n",
       "<p>6 rows × 352 columns</p>\n",
       "</div>"
      ],
      "text/plain": [
       "   Unnamed: 0     1000     1020     1040     1060     1080     1100     1120  \\\n",
       "0           0  0.43274  0.45783  0.52730  0.59830  0.65145  0.67806  0.60875   \n",
       "1           1  0.43904  0.45938  0.52918  0.60372  0.66068  0.69203  0.62289   \n",
       "2           2  0.44766  0.47016  0.53749  0.60886  0.66225  0.68836  0.61643   \n",
       "3           3  0.44381  0.46831  0.53629  0.60635  0.65804  0.68132  0.60812   \n",
       "4           4  0.45495  0.47851  0.54659  0.61701  0.66936  0.69344  0.62036   \n",
       "5           5  0.44943  0.47328  0.54287  0.61628  0.67115  0.69813  0.62540   \n",
       "\n",
       "      1140     1160  ...     7820     7840     7860     7880     7900  \\\n",
       "0  0.53671  0.51018  ...  0.12143  0.12246  0.12335  0.12420  0.12482   \n",
       "1  0.54710  0.51771  ...  0.12842  0.12927  0.13033  0.13101  0.13195   \n",
       "2  0.54579  0.51949  ...  0.11447  0.11525  0.11606  0.11677  0.11785   \n",
       "3  0.53913  0.51423  ...  0.11003  0.11062  0.11120  0.11175  0.11260   \n",
       "4  0.55081  0.52515  ...  0.11491  0.11568  0.11647  0.11699  0.11763   \n",
       "5  0.55229  0.52505  ...  0.11952  0.12054  0.12127  0.12207  0.12293   \n",
       "\n",
       "      7920     7940     7960     7980     8000  \n",
       "0  0.12569  0.12661  0.12747  0.12831  0.12928  \n",
       "1  0.13304  0.13423  0.13530  0.13612  0.13703  \n",
       "2  0.11863  0.11939  0.12046  0.12160  0.12265  \n",
       "3  0.11364  0.11464  0.11543  0.11617  0.11727  \n",
       "4  0.11808  0.11911  0.12006  0.12088  0.12158  \n",
       "5  0.12415  0.12509  0.12588  0.12685  0.12778  \n",
       "\n",
       "[6 rows x 352 columns]"
      ]
     },
     "execution_count": 24,
     "metadata": {},
     "output_type": "execute_result"
    }
   ],
   "source": [
    "test_file='R_mir_para.xlsx'\n",
    "test=pd.read_excel(test_file)\n",
    "test"
   ]
  },
  {
   "cell_type": "code",
   "execution_count": 25,
   "metadata": {},
   "outputs": [],
   "source": [
    "\"\"\"\n",
    "모델 테스트\n",
    "\"\"\"\n",
    "\n",
    "test_model = Unet_1d()\n",
    "\n",
    "# test 파일 경로 및 test 데이터 로드\n",
    "path_test = 'R_mir_para.xlsx'\n",
    "#path_test='val_same_layer_level.csv'\n",
    "class TestDataset(Dataset):\n",
    "    def __init__(self, path_test):\n",
    "        super(TestDataset, self).__init__()\n",
    "        test = pd.read_excel(path_test)\n",
    "        self.test_X = test.iloc[:,1:]\n",
    "        self.tmp_x = self.test_X.values\n",
    "    \n",
    "    def __len__(self):\n",
    "        return len(self.test_X)\n",
    "\n",
    "    def __getitem__(self, idx):\n",
    "        return torch.from_numpy(self.tmp_x)[idx]\n",
    "    \n",
    "test_data = TestDataset(path_test)\n",
    "test_loader = DataLoader(test_data, batch_size=6,pin_memory=True, num_workers=0)"
   ]
  },
  {
   "cell_type": "code",
   "execution_count": 26,
   "metadata": {},
   "outputs": [
    {
     "name": "stdout",
     "output_type": "stream",
     "text": [
      "Test Time :  0.015620946884155273\n"
     ]
    }
   ],
   "source": [
    "# 모델에 학습된 가중치를 업로드.\n",
    "weights = torch.load(f'test_percent_unit_{batch_size}_{version}_{lr}_{epochs}_MAE.pth', map_location='cuda:0')\n",
    "test_model.load_state_dict(weights)\n",
    "test_model = test_model.to(device)\n",
    "test_model.eval()\n",
    "test_time=time.time()\n",
    "with torch.no_grad():\n",
    "    for data in test_loader:\n",
    "        data = data.to(device)\n",
    "        outputs = test_model(data.float())\n",
    "    print('Test Time : ',time.time()-test_time)\n",
    "pred_test = outputs"
   ]
  },
  {
   "cell_type": "code",
   "execution_count": 27,
   "metadata": {},
   "outputs": [],
   "source": [
    "#test_layer=[[str(i) for i in np.arange(1000,8100,100).tolist()],[str(i) for i in np.arange(1000,8100,100).tolist()],['layer(nm)','level(%)']]\n",
    "test_layer=['e_inf','w01','wp1','gamma1','w02','wp2','gamma2','thickness(nm)','level']\n",
    "# test_layer=list(chain(*test_layer))"
   ]
  },
  {
   "cell_type": "code",
   "execution_count": 70,
   "metadata": {},
   "outputs": [],
   "source": [
    "#pred_test=torch.cat([pred_test[0],pred_test[1]],dim=1)"
   ]
  },
  {
   "cell_type": "code",
   "execution_count": 28,
   "metadata": {},
   "outputs": [],
   "source": [
    "sub=pred_test.cpu().numpy()\n",
    "sub=pd.DataFrame(data=sub, columns=test_layer)\n",
    "sub.to_csv('result_mir_para.csv',index='id')"
   ]
  },
  {
   "cell_type": "code",
   "execution_count": 29,
   "metadata": {},
   "outputs": [
    {
     "data": {
      "text/html": [
       "<div>\n",
       "<style scoped>\n",
       "    .dataframe tbody tr th:only-of-type {\n",
       "        vertical-align: middle;\n",
       "    }\n",
       "\n",
       "    .dataframe tbody tr th {\n",
       "        vertical-align: top;\n",
       "    }\n",
       "\n",
       "    .dataframe thead th {\n",
       "        text-align: right;\n",
       "    }\n",
       "</style>\n",
       "<table border=\"1\" class=\"dataframe\">\n",
       "  <thead>\n",
       "    <tr style=\"text-align: right;\">\n",
       "      <th></th>\n",
       "      <th>e_inf</th>\n",
       "      <th>w01</th>\n",
       "      <th>wp1</th>\n",
       "      <th>gamma1</th>\n",
       "      <th>w02</th>\n",
       "      <th>wp2</th>\n",
       "      <th>gamma2</th>\n",
       "      <th>thickness(nm)</th>\n",
       "      <th>level</th>\n",
       "    </tr>\n",
       "  </thead>\n",
       "  <tbody>\n",
       "    <tr>\n",
       "      <th>0</th>\n",
       "      <td>2.035898</td>\n",
       "      <td>1489.958496</td>\n",
       "      <td>631.394592</td>\n",
       "      <td>11.681986</td>\n",
       "      <td>1431.354248</td>\n",
       "      <td>827.135437</td>\n",
       "      <td>25.065491</td>\n",
       "      <td>268.843842</td>\n",
       "      <td>3.024388</td>\n",
       "    </tr>\n",
       "    <tr>\n",
       "      <th>1</th>\n",
       "      <td>1.900953</td>\n",
       "      <td>1423.363159</td>\n",
       "      <td>535.380859</td>\n",
       "      <td>10.937189</td>\n",
       "      <td>1354.855591</td>\n",
       "      <td>930.819641</td>\n",
       "      <td>12.952363</td>\n",
       "      <td>280.472351</td>\n",
       "      <td>-1.113766</td>\n",
       "    </tr>\n",
       "    <tr>\n",
       "      <th>2</th>\n",
       "      <td>2.249514</td>\n",
       "      <td>1330.242920</td>\n",
       "      <td>641.334900</td>\n",
       "      <td>19.546684</td>\n",
       "      <td>1193.747437</td>\n",
       "      <td>842.930969</td>\n",
       "      <td>36.449097</td>\n",
       "      <td>260.384918</td>\n",
       "      <td>2.633865</td>\n",
       "    </tr>\n",
       "    <tr>\n",
       "      <th>3</th>\n",
       "      <td>2.121203</td>\n",
       "      <td>1416.536255</td>\n",
       "      <td>503.962372</td>\n",
       "      <td>3.935621</td>\n",
       "      <td>1355.837646</td>\n",
       "      <td>815.849548</td>\n",
       "      <td>14.707232</td>\n",
       "      <td>263.487823</td>\n",
       "      <td>0.717771</td>\n",
       "    </tr>\n",
       "    <tr>\n",
       "      <th>4</th>\n",
       "      <td>2.283021</td>\n",
       "      <td>1400.824341</td>\n",
       "      <td>657.795959</td>\n",
       "      <td>25.116703</td>\n",
       "      <td>1111.161621</td>\n",
       "      <td>844.209167</td>\n",
       "      <td>22.601675</td>\n",
       "      <td>258.284851</td>\n",
       "      <td>2.731843</td>\n",
       "    </tr>\n",
       "    <tr>\n",
       "      <th>5</th>\n",
       "      <td>2.276467</td>\n",
       "      <td>1407.800659</td>\n",
       "      <td>545.293335</td>\n",
       "      <td>1.055789</td>\n",
       "      <td>1385.297485</td>\n",
       "      <td>818.026428</td>\n",
       "      <td>12.630845</td>\n",
       "      <td>257.684845</td>\n",
       "      <td>3.082365</td>\n",
       "    </tr>\n",
       "  </tbody>\n",
       "</table>\n",
       "</div>"
      ],
      "text/plain": [
       "      e_inf          w01         wp1     gamma1          w02         wp2  \\\n",
       "0  2.035898  1489.958496  631.394592  11.681986  1431.354248  827.135437   \n",
       "1  1.900953  1423.363159  535.380859  10.937189  1354.855591  930.819641   \n",
       "2  2.249514  1330.242920  641.334900  19.546684  1193.747437  842.930969   \n",
       "3  2.121203  1416.536255  503.962372   3.935621  1355.837646  815.849548   \n",
       "4  2.283021  1400.824341  657.795959  25.116703  1111.161621  844.209167   \n",
       "5  2.276467  1407.800659  545.293335   1.055789  1385.297485  818.026428   \n",
       "\n",
       "      gamma2  thickness(nm)     level  \n",
       "0  25.065491     268.843842  3.024388  \n",
       "1  12.952363     280.472351 -1.113766  \n",
       "2  36.449097     260.384918  2.633865  \n",
       "3  14.707232     263.487823  0.717771  \n",
       "4  22.601675     258.284851  2.731843  \n",
       "5  12.630845     257.684845  3.082365  "
      ]
     },
     "execution_count": 29,
     "metadata": {},
     "output_type": "execute_result"
    }
   ],
   "source": [
    "sub"
   ]
  }
 ],
 "metadata": {
  "kernelspec": {
   "display_name": "Python 3",
   "language": "python",
   "name": "python3"
  },
  "language_info": {
   "codemirror_mode": {
    "name": "ipython",
    "version": 3
   },
   "file_extension": ".py",
   "mimetype": "text/x-python",
   "name": "python",
   "nbconvert_exporter": "python",
   "pygments_lexer": "ipython3",
   "version": "3.6.5"
  }
 },
 "nbformat": 4,
 "nbformat_minor": 4
}
