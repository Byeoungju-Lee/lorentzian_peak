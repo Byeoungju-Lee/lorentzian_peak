{
 "cells": [
  {
   "cell_type": "code",
   "execution_count": 1,
   "metadata": {},
   "outputs": [
    {
     "data": {
      "text/plain": [
       "True"
      ]
     },
     "execution_count": 1,
     "metadata": {},
     "output_type": "execute_result"
    }
   ],
   "source": [
    "#Library 예시\n",
    "\n",
    "import math\n",
    "import time\n",
    "from itertools import chain\n",
    "import argparse\n",
    "import numpy as np\n",
    "import pandas as pd\n",
    "import torch \n",
    "import torch.nn as nn\n",
    "import torch.nn.functional as F\n",
    "from torch.utils.data import Dataset, DataLoader\n",
    "from tqdm.auto import tqdm\n",
    "from torch.optim import Optimizer\n",
    "from torch.optim.lr_scheduler import LambdaLR\n",
    "# 모델 학습을 위해 CUDA 환경 설정. : 지피유 설정\n",
    "device = torch.device('cuda:0' if torch.cuda.is_available else 'cpu')\n",
    "#device=torch.device('cpu')\n",
    "torch.cuda.is_available()"
   ]
  },
  {
   "cell_type": "code",
   "execution_count": 2,
   "metadata": {},
   "outputs": [],
   "source": [
    "wavenumbers=np.linspace(1000,8000,141)"
   ]
  },
  {
   "cell_type": "code",
   "execution_count": 3,
   "metadata": {},
   "outputs": [
    {
     "name": "stdout",
     "output_type": "stream",
     "text": [
      "(1020255, 150)\n",
      "train file saved....\n"
     ]
    }
   ],
   "source": [
    "# 별도의 데이터 Pre-Processing 과정은 없고 모델 훈련시 검증을 위해 train 중 10000개를 validation 용으로 분리.\n",
    "# 새로 만든 train.csv는 train1.csv, validation은 val.csv로 저장.\n",
    "# dataframe.sample(frac=1) 을 통해 셔플.\n",
    "path_train = 'train_parameter.csv'\n",
    "#path_test = 'test.csv'\n",
    "layers = [['e_inf','w01','wp1','gamma1','w02','wp2','gamma2','thickness(nm)','level'], [str(i) for i in wavenumbers.tolist()]]\n",
    "layers = list(chain(*layers))\n",
    "\n",
    "train = pd.read_csv(path_train)\n",
    "print(train.shape)\n",
    "train = train.sample(frac=1)\n",
    "rows, cols = train.shape\n",
    "\n",
    "train1 = train.iloc[:rows - 20255,:]\n",
    "train1 = train1.values\n",
    "train1 = pd.DataFrame(data=train1,columns=layers)\n",
    "train1.to_csv('train1_parameter.csv', index_label='id')\n",
    "\n",
    "print(\"train file saved....\")\n",
    "val = train.iloc[rows - 20255:,:]\n",
    "val = val.values\n",
    "val = pd.DataFrame(data=val,columns=layers)\n",
    "val.to_csv('val_parameter.csv', index_label='id')"
   ]
  },
  {
   "cell_type": "code",
   "execution_count": 4,
   "metadata": {},
   "outputs": [],
   "source": [
    "# 새로 만든 train/ val 모델 학습 데이터 경로를 설정.\n",
    "train_path = 'train1_parameter.csv'#레이어를 같게 두고 풀때\n",
    "val_path = 'val_parameter.csv'\n",
    "\n",
    "lr = 1e-03\n",
    "adam_epsilon = 1e-06\n",
    "epochs = 100\n",
    "batch_size = 2048\n",
    "warmup_step = 2000\n",
    "#loss_fn = nn.L1Loss()\n",
    "loss_fn = nn.MSELoss()\n",
    "class PandasDataset(Dataset):\n",
    "    def __init__(self, path):\n",
    "        super(PandasDataset, self).__init__()\n",
    "        train = pd.read_csv(path).iloc[:,1:]\n",
    "        self.train_X, self.train_Y = train.iloc[:,9:], train.iloc[:,0:9]\n",
    "        self.tmp_x , self.tmp_y = self.train_X.values, self.train_Y.values\n",
    "    \n",
    "    def __len__(self):\n",
    "        return len(self.train_X)\n",
    "\n",
    "    def __getitem__(self, idx):\n",
    "        return {\n",
    "            'X':torch.from_numpy(self.tmp_x)[idx],\n",
    "            'Y':torch.from_numpy(self.tmp_y)[idx]\n",
    "        }\n",
    "            \n",
    "train_dataset = PandasDataset(train_path)\n",
    "train_loader = DataLoader(train_dataset, batch_size=batch_size, pin_memory=True, num_workers=0)#card에 data size/batch size만큼 monunt\n",
    "\n",
    "val_dataset = PandasDataset(val_path)\n",
    "val_loader = DataLoader(val_dataset, batch_size=batch_size, pin_memory=True, num_workers=0) "
   ]
  },
  {
   "cell_type": "code",
   "execution_count": 5,
   "metadata": {},
   "outputs": [
    {
     "name": "stdout",
     "output_type": "stream",
     "text": [
      "489\n"
     ]
    }
   ],
   "source": [
    "print(len(train_loader))"
   ]
  },
  {
   "cell_type": "code",
   "execution_count": 6,
   "metadata": {},
   "outputs": [
    {
     "data": {
      "text/plain": [
       "'\\n- Modeling\\n\\nLearning rate : 다양한 learning rate 스케줄링. Warmup 스케줄링이 train, val loss 줄이는데 가장 효과적.\\nActivation function : ReLU, ELU, CeLU, GeLU 사용. 음의 영역에서는 0의 값을 가지는 relu 대신 ELU, CeLU, GeLU등을 사용. relu보다는 효과적.\\nOptimizer : adam, adamW.\\nBatch size : batch size는 10000으로 시작하였으나 10000보다 작은 값에서 효과적.\\nHidden node, layer depth : node 수는 Nh = Ns/(a * (Ni + No))에 따라 초기 모델링에서는 약 2500개 정도로 하였으나 실험적으로 많은\\nnode가 train, val loss 줄이는데 효과적.\\n(Nh : number of hidden , Ni : Number of input, No : Number of output, a : 2 - 10)\\nLoss funciotion : L1 Loss\\nBatchNorm : 모든 layer에 batchNorm 적용\\nMLP Model : 단순한 MLP 모델로는 한계를 느껴 MLP의 복잡성을 증가시키는 방향으로 설계\\n        (1) 노드 수를 증가시켰다 줄이는 방식(UP-block, DOWN-block)\\n        (2) Down-block에서 skip connection과 layer norm 적용\\n'"
      ]
     },
     "execution_count": 6,
     "metadata": {},
     "output_type": "execute_result"
    }
   ],
   "source": [
    "# 4개의 layer_1, layer_2, layer_3, layer_4의 두께를 구하는 방법이라 마지막 Dense unit을 1로\n",
    "# 해서 각각의 두께를 구하는 모델을 구성해보았으나 결과는 좋지 않음.\n",
    "# 특별한 탐색적 자료 분석 없음.\n",
    "\"\"\"\n",
    "- Modeling\n",
    "\n",
    "Learning rate : 다양한 learning rate 스케줄링. Warmup 스케줄링이 train, val loss 줄이는데 가장 효과적.\n",
    "Activation function : ReLU, ELU, CeLU, GeLU 사용. 음의 영역에서는 0의 값을 가지는 relu 대신 ELU, CeLU, GeLU등을 사용. relu보다는 효과적.\n",
    "Optimizer : adam, adamW.\n",
    "Batch size : batch size는 10000으로 시작하였으나 10000보다 작은 값에서 효과적.\n",
    "Hidden node, layer depth : node 수는 Nh = Ns/(a * (Ni + No))에 따라 초기 모델링에서는 약 2500개 정도로 하였으나 실험적으로 많은\n",
    "node가 train, val loss 줄이는데 효과적.\n",
    "(Nh : number of hidden , Ni : Number of input, No : Number of output, a : 2 - 10)\n",
    "Loss funciotion : L1 Loss\n",
    "BatchNorm : 모든 layer에 batchNorm 적용\n",
    "MLP Model : 단순한 MLP 모델로는 한계를 느껴 MLP의 복잡성을 증가시키는 방향으로 설계\n",
    "        (1) 노드 수를 증가시켰다 줄이는 방식(UP-block, DOWN-block)\n",
    "        (2) Down-block에서 skip connection과 layer norm 적용\n",
    "\"\"\""
   ]
  },
  {
   "cell_type": "code",
   "execution_count": 7,
   "metadata": {},
   "outputs": [
    {
     "data": {
      "text/plain": [
       "L1Loss()"
      ]
     },
     "execution_count": 7,
     "metadata": {},
     "output_type": "execute_result"
    }
   ],
   "source": [
    "loss_fn=nn.L1Loss()\n",
    "loss_fn"
   ]
  },
  {
   "cell_type": "code",
   "execution_count": 46,
   "metadata": {},
   "outputs": [],
   "source": [
    "class GELU(nn.Module):\n",
    "    def forward(self, x):\n",
    "        return 0.5 * x * (1 + torch.tanh(math.sqrt(2 / math.pi) * (x + 0.044715 * torch.pow(x, 3))))\n",
    "class LayerNorm(nn.Module):\n",
    "    def __init__(self, hidden_size, eps=1e-5):\n",
    "        \"\"\"Construct a layernorm module in the TF style (epsilon inside the square root).\n",
    "        \"\"\"\n",
    "        super(LayerNorm, self).__init__()\n",
    "        self.weight = nn.Parameter(torch.ones(hidden_size))\n",
    "        self.bias = nn.Parameter(torch.zeros(hidden_size))\n",
    "        self.variance_epsilon = eps\n",
    "\n",
    "        self.init_weights()\n",
    "\n",
    "    def init_weights(self):\n",
    "        self.weight.data.fill_(1.0)\n",
    "        self.bias.data.zero_()\n",
    "\n",
    "    def forward(self, x):\n",
    "        u = x.mean(-1, keepdim=True)\n",
    "        s = (x - u).pow(2).mean(-1, keepdim=True)\n",
    "        x = (x - u) / torch.sqrt(s + self.variance_epsilon)\n",
    "        return self.weight * x + self.bias\n",
    "class skipConnectionModel(nn.Module):\n",
    "    def __init__(self):\n",
    "        super(skipConnectionModel, self).__init__()\n",
    "        \n",
    "        self.ln = LayerNorm(10000)\n",
    "        self.ln1 = LayerNorm(7000)\n",
    "        self.ln2 = LayerNorm(4000)\n",
    "        self.ln3 = LayerNorm(2000)\n",
    "        \n",
    "        self.upblock1 = nn.Sequential(nn.Linear(141, 2000),GELU(),nn.BatchNorm1d(2000))\n",
    "        self.upblock2 = nn.Sequential(nn.Linear(2000,4000),GELU(),nn.BatchNorm1d(4000))\n",
    "        self.upblock3 = nn.Sequential(nn.Linear(4000,7000), GELU(),nn.BatchNorm1d(7000))\n",
    "        self.upblock4 = nn.Sequential(nn.Linear(7000,10000),GELU(),nn.BatchNorm1d(10000))\n",
    "\n",
    "        self.downblock1 = nn.Sequential(nn.Linear(10000, 7000),GELU(),nn.BatchNorm1d(7000))\n",
    "        self.downblock2 = nn.Sequential(nn.Linear(7000, 4000),GELU(),nn.BatchNorm1d(4000))\n",
    "        self.downblock3 = nn.Sequential(nn.Linear(4000, 2000),GELU(),nn.BatchNorm1d(2000))\n",
    "        self.downblock4 = nn.Sequential(nn.Linear(2000, 300),GELU(),nn.BatchNorm1d(300))\n",
    "        \n",
    "        self.fclayer = nn.Sequential(nn.Linear(300,9))\n",
    "#         self.dropout = nn.Dropout(0.1)\n",
    "        \n",
    "    def forward(self, x):\n",
    "        upblock1_out = self.upblock1(x)\n",
    "        upblock2_out = self.upblock2(upblock1_out)\n",
    "        upblock3_out = self.upblock3(upblock2_out)\n",
    "        upblock4_out = self.upblock4(upblock3_out)\n",
    "        \n",
    "        downblock1_out = self.downblock1(self.ln(upblock4_out))\n",
    "        skipblock1 = downblock1_out + upblock3_out\n",
    "        downblock2_out = self.downblock2(self.ln1(skipblock1))\n",
    "        skipblock2 = downblock2_out + upblock2_out\n",
    "        downblock3_out = self.downblock3(self.ln2(skipblock2))\n",
    "        skipblock3 = downblock3_out + upblock1_out\n",
    "        downblock4_out = self.downblock4(self.ln3(skipblock3))\n",
    "        \n",
    "        output = self.fclayer(downblock4_out)\n",
    "        \n",
    "        return output\n",
    "    \n",
    "def get_constant_schedule(optimizer, last_epoch=-1):\n",
    "    \"\"\" Create a schedule with a constant learning rate.\n",
    "    \"\"\"\n",
    "    return LambdaLR(optimizer, lambda _: 1, last_epoch=last_epoch)\n",
    "\n",
    "\n",
    "def get_constant_schedule_with_warmup(optimizer, num_warmup_steps, last_epoch=-1):\n",
    "    \"\"\" Create a schedule with a constant learning rate preceded by a warmup\n",
    "    period during which the learning rate increases linearly between 0 and 1.\n",
    "    \"\"\"\n",
    "\n",
    "    def lr_lambda(current_step):\n",
    "        if current_step < num_warmup_steps:\n",
    "            return float(current_step) / float(max(1.0, num_warmup_steps))\n",
    "        return 1.0\n",
    "\n",
    "    return LambdaLR(optimizer, lr_lambda, last_epoch=last_epoch)\n",
    "\n",
    "\n",
    "def get_linear_schedule_with_warmup(optimizer, num_warmup_steps, num_training_steps, last_epoch=-1):\n",
    "    \"\"\" Create a schedule with a learning rate that decreases linearly after\n",
    "    linearly increasing during a warmup period.\n",
    "    \"\"\"\n",
    "\n",
    "    def lr_lambda(current_step):\n",
    "        if current_step < num_warmup_steps:\n",
    "            return float(current_step) / float(max(1, num_warmup_steps))\n",
    "        return max(\n",
    "            0.0, float(num_training_steps - current_step) / float(max(1, num_training_steps - num_warmup_steps))\n",
    "        )\n",
    "\n",
    "    return LambdaLR(optimizer, lr_lambda, last_epoch)\n",
    "\n",
    "\n",
    "def get_cosine_schedule_with_warmup(optimizer, num_warmup_steps, num_training_steps, num_cycles=0.5, last_epoch=-1):\n",
    "    \"\"\" Create a schedule with a learning rate that decreases following the\n",
    "    values of the cosine function between 0 and `pi * cycles` after a warmup\n",
    "    period during which it increases linearly between 0 and 1.\n",
    "    \"\"\"\n",
    "\n",
    "    def lr_lambda(current_step):\n",
    "        if current_step < num_warmup_steps:\n",
    "            return float(current_step) / float(max(1, num_warmup_steps))\n",
    "        progress = float(current_step - num_warmup_steps) / float(max(1, num_training_steps - num_warmup_steps))\n",
    "        return max(0.0, 0.5 * (1.0 + math.cos(math.pi * float(num_cycles) * 2.0 * progress)))\n",
    "\n",
    "    return LambdaLR(optimizer, lr_lambda, last_epoch)\n",
    "\n",
    "\n",
    "def get_cosine_with_hard_restarts_schedule_with_warmup(\n",
    "    optimizer, num_warmup_steps, num_training_steps, num_cycles=1.0, last_epoch=-1\n",
    "):\n",
    "    \"\"\" Create a schedule with a learning rate that decreases following the\n",
    "    values of the cosine function with several hard restarts, after a warmup\n",
    "    period during which it increases linearly between 0 and 1.\n",
    "    \"\"\"\n",
    "\n",
    "    def lr_lambda(current_step):\n",
    "        if current_step < num_warmup_steps:\n",
    "            return float(current_step) / float(max(1, num_warmup_steps))\n",
    "        progress = float(current_step - num_warmup_steps) / float(max(1, num_training_steps - num_warmup_steps))\n",
    "        if progress >= 1.0:\n",
    "            return 0.0\n",
    "        return max(0.0, 0.5 * (1.0 + math.cos(math.pi * ((float(num_cycles) * progress) % 1.0))))\n",
    "\n",
    "    return LambdaLR(optimizer, lr_lambda, last_epoch)\n",
    "class AdamW(Optimizer):\n",
    "    \"\"\" Implements Adam algorithm with weight decay fix.\n",
    "    Parameters:\n",
    "        lr (float): learning rate. Default 1e-3.\n",
    "        betas (tuple of 2 floats): Adams beta parameters (b1, b2). Default: (0.9, 0.999)\n",
    "        eps (float): Adams epsilon. Default: 1e-6\n",
    "        weight_decay (float): Weight decay. Default: 0.0\n",
    "        correct_bias (bool): can be set to False to avoid correcting bias in Adam (e.g. like in Bert TF repository). Default True.\n",
    "    \"\"\"\n",
    "\n",
    "    def __init__(self, params, lr=1e-3, betas=(0.9, 0.999), eps=1e-6, weight_decay=0.0, correct_bias=True):\n",
    "        if lr < 0.0:\n",
    "            raise ValueError(\"Invalid learning rate: {} - should be >= 0.0\".format(lr))\n",
    "        if not 0.0 <= betas[0] < 1.0:\n",
    "            raise ValueError(\"Invalid beta parameter: {} - should be in [0.0, 1.0[\".format(betas[0]))\n",
    "        if not 0.0 <= betas[1] < 1.0:\n",
    "            raise ValueError(\"Invalid beta parameter: {} - should be in [0.0, 1.0[\".format(betas[1]))\n",
    "        if not 0.0 <= eps:\n",
    "            raise ValueError(\"Invalid epsilon value: {} - should be >= 0.0\".format(eps))\n",
    "        defaults = dict(lr=lr, betas=betas, eps=eps, weight_decay=weight_decay, correct_bias=correct_bias)\n",
    "        super().__init__(params, defaults)\n",
    "\n",
    "    def step(self, closure=None):\n",
    "        \"\"\"Performs a single optimization step.\n",
    "        Arguments:\n",
    "            closure (callable, optional): A closure that reevaluates the model\n",
    "                and returns the loss.\n",
    "        \"\"\"\n",
    "        loss = None\n",
    "        if closure is not None:\n",
    "            loss = closure()\n",
    "\n",
    "        for group in self.param_groups:\n",
    "            for p in group[\"params\"]:\n",
    "                if p.grad is None:\n",
    "                    continue\n",
    "                grad = p.grad.data\n",
    "                if grad.is_sparse:\n",
    "                    raise RuntimeError(\"Adam does not support sparse gradients, please consider SparseAdam instead\")\n",
    "\n",
    "                state = self.state[p]\n",
    "\n",
    "                # State initialization\n",
    "                if len(state) == 0:\n",
    "                    state[\"step\"] = 0\n",
    "                    # Exponential moving average of gradient values\n",
    "                    state[\"exp_avg\"] = torch.zeros_like(p.data)\n",
    "                    # Exponential moving average of squared gradient values\n",
    "                    state[\"exp_avg_sq\"] = torch.zeros_like(p.data)\n",
    "\n",
    "                exp_avg, exp_avg_sq = state[\"exp_avg\"], state[\"exp_avg_sq\"]\n",
    "                beta1, beta2 = group[\"betas\"]\n",
    "\n",
    "                state[\"step\"] += 1\n",
    "\n",
    "                # Decay the first and second moment running average coefficient\n",
    "                # In-place operations to update the averages at the same time\n",
    "                exp_avg.mul_(beta1).add_(1.0 - beta1, grad)\n",
    "                exp_avg_sq.mul_(beta2).addcmul_(1.0 - beta2, grad, grad)\n",
    "                denom = exp_avg_sq.sqrt().add_(group[\"eps\"])\n",
    "\n",
    "                step_size = group[\"lr\"]\n",
    "                if group[\"correct_bias\"]:  # No bias correction for Bert\n",
    "                    bias_correction1 = 1.0 - beta1 ** state[\"step\"]\n",
    "                    bias_correction2 = 1.0 - beta2 ** state[\"step\"]\n",
    "                    step_size = step_size * math.sqrt(bias_correction2) / bias_correction1\n",
    "\n",
    "                p.data.addcdiv_(-step_size, exp_avg, denom)\n",
    "\n",
    "                # Just adding the square of the weights to the loss function is *not*\n",
    "                # the correct way of using L2 regularization/weight decay with Adam,\n",
    "                # since that will interact with the m and v parameters in strange ways.\n",
    "                #\n",
    "                # Instead we want to decay the weights in a manner that doesn't interact\n",
    "                # with the m/v parameters. This is equivalent to adding the square\n",
    "                # of the weights to the loss with plain (non-momentum) SGD.\n",
    "                # Add weight decay at the end (fixed version)\n",
    "                if group[\"weight_decay\"] > 0.0:\n",
    "                    p.data.add_(-group[\"lr\"] * group[\"weight_decay\"], p.data)\n",
    "\n",
    "        return loss    "
   ]
  },
  {
   "cell_type": "code",
   "execution_count": 47,
   "metadata": {},
   "outputs": [],
   "source": [
    "model = skipConnectionModel()\n",
    "model = model.to(device) # 모델을 GPU 메모리에 올림."
   ]
  },
  {
   "cell_type": "code",
   "execution_count": 49,
   "metadata": {},
   "outputs": [],
   "source": [
    "#0104 100번 학습 추가\n",
    "#0107 400번 학습___끝."
   ]
  },
  {
   "cell_type": "code",
   "execution_count": 50,
   "metadata": {},
   "outputs": [
    {
     "name": "stdout",
     "output_type": "stream",
     "text": [
      "Total step is....48900\n"
     ]
    },
    {
     "data": {
      "application/vnd.jupyter.widget-view+json": {
       "model_id": "c785e90b09c44f72b6380f879928adc5",
       "version_major": 2,
       "version_minor": 0
      },
      "text/plain": [
       "HBox(children=(HTML(value='*********Train mode*******'), FloatProgress(value=0.0, max=489.0), HTML(value='')))"
      ]
     },
     "metadata": {},
     "output_type": "display_data"
    },
    {
     "name": "stdout",
     "output_type": "stream",
     "text": [
      "\n",
      "Epoch [1/100], Train Loss: 366.7264\n",
      "Train Time:  156.10077714920044\n"
     ]
    },
    {
     "data": {
      "application/vnd.jupyter.widget-view+json": {
       "model_id": "b95d314d2af74ac9ab627b6ddd2d6784",
       "version_major": 2,
       "version_minor": 0
      },
      "text/plain": [
       "HBox(children=(HTML(value='*********Evaluation mode*******'), FloatProgress(value=0.0, max=10.0), HTML(value='…"
      ]
     },
     "metadata": {},
     "output_type": "display_data"
    },
    {
     "name": "stdout",
     "output_type": "stream",
     "text": [
      "\n",
      "Epoch [1/100], Eval Loss: 363.5174\n",
      "Best Model saved......\n"
     ]
    },
    {
     "data": {
      "application/vnd.jupyter.widget-view+json": {
       "model_id": "1ab4e99e0f0d41ee8fd0c6f03bf94cc2",
       "version_major": 2,
       "version_minor": 0
      },
      "text/plain": [
       "HBox(children=(HTML(value='*********Train mode*******'), FloatProgress(value=0.0, max=489.0), HTML(value='')))"
      ]
     },
     "metadata": {},
     "output_type": "display_data"
    },
    {
     "name": "stdout",
     "output_type": "stream",
     "text": [
      "\n",
      "Epoch [2/100], Train Loss: 188.1636\n",
      "Train Time:  322.55453848838806\n"
     ]
    },
    {
     "data": {
      "application/vnd.jupyter.widget-view+json": {
       "model_id": "a9733e12cdbb48ff9176835cf1bddec3",
       "version_major": 2,
       "version_minor": 0
      },
      "text/plain": [
       "HBox(children=(HTML(value='*********Evaluation mode*******'), FloatProgress(value=0.0, max=10.0), HTML(value='…"
      ]
     },
     "metadata": {},
     "output_type": "display_data"
    },
    {
     "name": "stdout",
     "output_type": "stream",
     "text": [
      "\n",
      "Epoch [2/100], Eval Loss: 176.7571\n",
      "Best Model saved......\n"
     ]
    },
    {
     "data": {
      "application/vnd.jupyter.widget-view+json": {
       "model_id": "b1586f3f928f4bf2901e9c5ccce81d15",
       "version_major": 2,
       "version_minor": 0
      },
      "text/plain": [
       "HBox(children=(HTML(value='*********Train mode*******'), FloatProgress(value=0.0, max=489.0), HTML(value='')))"
      ]
     },
     "metadata": {},
     "output_type": "display_data"
    },
    {
     "name": "stdout",
     "output_type": "stream",
     "text": [
      "\n",
      "Epoch [3/100], Train Loss: 171.7132\n",
      "Train Time:  489.36720061302185\n"
     ]
    },
    {
     "data": {
      "application/vnd.jupyter.widget-view+json": {
       "model_id": "f4ca6e47e7a94bdd97035a93ae68fb25",
       "version_major": 2,
       "version_minor": 0
      },
      "text/plain": [
       "HBox(children=(HTML(value='*********Evaluation mode*******'), FloatProgress(value=0.0, max=10.0), HTML(value='…"
      ]
     },
     "metadata": {},
     "output_type": "display_data"
    },
    {
     "name": "stdout",
     "output_type": "stream",
     "text": [
      "\n",
      "Epoch [3/100], Eval Loss: 160.7131\n",
      "Best Model saved......\n"
     ]
    },
    {
     "data": {
      "application/vnd.jupyter.widget-view+json": {
       "model_id": "bb7885523fd9423fa4f2e9cfd1170355",
       "version_major": 2,
       "version_minor": 0
      },
      "text/plain": [
       "HBox(children=(HTML(value='*********Train mode*******'), FloatProgress(value=0.0, max=489.0), HTML(value='')))"
      ]
     },
     "metadata": {},
     "output_type": "display_data"
    },
    {
     "name": "stdout",
     "output_type": "stream",
     "text": [
      "\n",
      "Epoch [4/100], Train Loss: 166.9613\n",
      "Train Time:  656.1536870002747\n"
     ]
    },
    {
     "data": {
      "application/vnd.jupyter.widget-view+json": {
       "model_id": "281e4ef2da8d4fcca5ab0de690859869",
       "version_major": 2,
       "version_minor": 0
      },
      "text/plain": [
       "HBox(children=(HTML(value='*********Evaluation mode*******'), FloatProgress(value=0.0, max=10.0), HTML(value='…"
      ]
     },
     "metadata": {},
     "output_type": "display_data"
    },
    {
     "name": "stdout",
     "output_type": "stream",
     "text": [
      "\n",
      "Epoch [4/100], Eval Loss: 159.4964\n",
      "Best Model saved......\n"
     ]
    },
    {
     "data": {
      "application/vnd.jupyter.widget-view+json": {
       "model_id": "149705c16c1a46d1ac6fbe8282a57296",
       "version_major": 2,
       "version_minor": 0
      },
      "text/plain": [
       "HBox(children=(HTML(value='*********Train mode*******'), FloatProgress(value=0.0, max=489.0), HTML(value='')))"
      ]
     },
     "metadata": {},
     "output_type": "display_data"
    },
    {
     "name": "stdout",
     "output_type": "stream",
     "text": [
      "\n",
      "Epoch [5/100], Train Loss: 166.8666\n",
      "Train Time:  822.0174996852875\n"
     ]
    },
    {
     "data": {
      "application/vnd.jupyter.widget-view+json": {
       "model_id": "9498639ac40041c3b97085e9839408e0",
       "version_major": 2,
       "version_minor": 0
      },
      "text/plain": [
       "HBox(children=(HTML(value='*********Evaluation mode*******'), FloatProgress(value=0.0, max=10.0), HTML(value='…"
      ]
     },
     "metadata": {},
     "output_type": "display_data"
    },
    {
     "name": "stdout",
     "output_type": "stream",
     "text": [
      "\n",
      "Epoch [5/100], Eval Loss: 158.3915\n",
      "Best Model saved......\n"
     ]
    },
    {
     "data": {
      "application/vnd.jupyter.widget-view+json": {
       "model_id": "85db637c2fe5430885282fdc7845ef38",
       "version_major": 2,
       "version_minor": 0
      },
      "text/plain": [
       "HBox(children=(HTML(value='*********Train mode*******'), FloatProgress(value=0.0, max=489.0), HTML(value='')))"
      ]
     },
     "metadata": {},
     "output_type": "display_data"
    },
    {
     "name": "stdout",
     "output_type": "stream",
     "text": [
      "\n",
      "Epoch [6/100], Train Loss: 162.9688\n",
      "Train Time:  987.5988972187042\n"
     ]
    },
    {
     "data": {
      "application/vnd.jupyter.widget-view+json": {
       "model_id": "30f7ef6b134a4cfc8194b81ba1e88c1e",
       "version_major": 2,
       "version_minor": 0
      },
      "text/plain": [
       "HBox(children=(HTML(value='*********Evaluation mode*******'), FloatProgress(value=0.0, max=10.0), HTML(value='…"
      ]
     },
     "metadata": {},
     "output_type": "display_data"
    },
    {
     "name": "stdout",
     "output_type": "stream",
     "text": [
      "\n",
      "Epoch [6/100], Eval Loss: 165.9906\n"
     ]
    },
    {
     "data": {
      "application/vnd.jupyter.widget-view+json": {
       "model_id": "b62071f1983947bdadabdcbf75da5927",
       "version_major": 2,
       "version_minor": 0
      },
      "text/plain": [
       "HBox(children=(HTML(value='*********Train mode*******'), FloatProgress(value=0.0, max=489.0), HTML(value='')))"
      ]
     },
     "metadata": {},
     "output_type": "display_data"
    },
    {
     "name": "stdout",
     "output_type": "stream",
     "text": [
      "\n",
      "Epoch [7/100], Train Loss: 163.2086\n",
      "Train Time:  1146.9811873435974\n"
     ]
    },
    {
     "data": {
      "application/vnd.jupyter.widget-view+json": {
       "model_id": "b60213ba78fd4388a65bc0fb05711f62",
       "version_major": 2,
       "version_minor": 0
      },
      "text/plain": [
       "HBox(children=(HTML(value='*********Evaluation mode*******'), FloatProgress(value=0.0, max=10.0), HTML(value='…"
      ]
     },
     "metadata": {},
     "output_type": "display_data"
    },
    {
     "name": "stdout",
     "output_type": "stream",
     "text": [
      "\n",
      "Epoch [7/100], Eval Loss: 162.0199\n"
     ]
    },
    {
     "data": {
      "application/vnd.jupyter.widget-view+json": {
       "model_id": "521d32ff0d144e3d9b8854d55ec48704",
       "version_major": 2,
       "version_minor": 0
      },
      "text/plain": [
       "HBox(children=(HTML(value='*********Train mode*******'), FloatProgress(value=0.0, max=489.0), HTML(value='')))"
      ]
     },
     "metadata": {},
     "output_type": "display_data"
    },
    {
     "name": "stdout",
     "output_type": "stream",
     "text": [
      "\n",
      "Epoch [8/100], Train Loss: 162.5941\n",
      "Train Time:  1306.1120672225952\n"
     ]
    },
    {
     "data": {
      "application/vnd.jupyter.widget-view+json": {
       "model_id": "bc40e1612f6a4680b44aba798b665fab",
       "version_major": 2,
       "version_minor": 0
      },
      "text/plain": [
       "HBox(children=(HTML(value='*********Evaluation mode*******'), FloatProgress(value=0.0, max=10.0), HTML(value='…"
      ]
     },
     "metadata": {},
     "output_type": "display_data"
    },
    {
     "name": "stdout",
     "output_type": "stream",
     "text": [
      "\n",
      "Epoch [8/100], Eval Loss: 157.3286\n",
      "Best Model saved......\n"
     ]
    },
    {
     "data": {
      "application/vnd.jupyter.widget-view+json": {
       "model_id": "1fd4b9cc8a79481597c958212c9278b1",
       "version_major": 2,
       "version_minor": 0
      },
      "text/plain": [
       "HBox(children=(HTML(value='*********Train mode*******'), FloatProgress(value=0.0, max=489.0), HTML(value='')))"
      ]
     },
     "metadata": {},
     "output_type": "display_data"
    },
    {
     "name": "stdout",
     "output_type": "stream",
     "text": [
      "\n",
      "Epoch [9/100], Train Loss: 162.0147\n",
      "Train Time:  1475.0599746704102\n"
     ]
    },
    {
     "data": {
      "application/vnd.jupyter.widget-view+json": {
       "model_id": "8d5fae67887f4812b82d388c2658fc42",
       "version_major": 2,
       "version_minor": 0
      },
      "text/plain": [
       "HBox(children=(HTML(value='*********Evaluation mode*******'), FloatProgress(value=0.0, max=10.0), HTML(value='…"
      ]
     },
     "metadata": {},
     "output_type": "display_data"
    },
    {
     "name": "stdout",
     "output_type": "stream",
     "text": [
      "\n",
      "Epoch [9/100], Eval Loss: 162.9322\n"
     ]
    },
    {
     "data": {
      "application/vnd.jupyter.widget-view+json": {
       "model_id": "4540a339a99c4e49aa9cb2f00a71e31a",
       "version_major": 2,
       "version_minor": 0
      },
      "text/plain": [
       "HBox(children=(HTML(value='*********Train mode*******'), FloatProgress(value=0.0, max=489.0), HTML(value='')))"
      ]
     },
     "metadata": {},
     "output_type": "display_data"
    },
    {
     "name": "stdout",
     "output_type": "stream",
     "text": [
      "\n",
      "Epoch [10/100], Train Loss: 161.6835\n",
      "Train Time:  1634.0061717033386\n"
     ]
    },
    {
     "data": {
      "application/vnd.jupyter.widget-view+json": {
       "model_id": "d46098c55b204c9ebe356754c33aab64",
       "version_major": 2,
       "version_minor": 0
      },
      "text/plain": [
       "HBox(children=(HTML(value='*********Evaluation mode*******'), FloatProgress(value=0.0, max=10.0), HTML(value='…"
      ]
     },
     "metadata": {},
     "output_type": "display_data"
    },
    {
     "name": "stdout",
     "output_type": "stream",
     "text": [
      "\n",
      "Epoch [10/100], Eval Loss: 150.6185\n",
      "Best Model saved......\n"
     ]
    },
    {
     "data": {
      "application/vnd.jupyter.widget-view+json": {
       "model_id": "6976ac176c6d47fc83e570e3aa70cee0",
       "version_major": 2,
       "version_minor": 0
      },
      "text/plain": [
       "HBox(children=(HTML(value='*********Train mode*******'), FloatProgress(value=0.0, max=489.0), HTML(value='')))"
      ]
     },
     "metadata": {},
     "output_type": "display_data"
    },
    {
     "name": "stdout",
     "output_type": "stream",
     "text": [
      "\n",
      "Epoch [11/100], Train Loss: 160.8608\n",
      "Train Time:  1799.6248440742493\n"
     ]
    },
    {
     "data": {
      "application/vnd.jupyter.widget-view+json": {
       "model_id": "5f3826b9ab894033bf59d317ce1968db",
       "version_major": 2,
       "version_minor": 0
      },
      "text/plain": [
       "HBox(children=(HTML(value='*********Evaluation mode*******'), FloatProgress(value=0.0, max=10.0), HTML(value='…"
      ]
     },
     "metadata": {},
     "output_type": "display_data"
    },
    {
     "name": "stdout",
     "output_type": "stream",
     "text": [
      "\n",
      "Epoch [11/100], Eval Loss: 154.3044\n"
     ]
    },
    {
     "data": {
      "application/vnd.jupyter.widget-view+json": {
       "model_id": "ccee959540114ee387d448b67a8ce33b",
       "version_major": 2,
       "version_minor": 0
      },
      "text/plain": [
       "HBox(children=(HTML(value='*********Train mode*******'), FloatProgress(value=0.0, max=489.0), HTML(value='')))"
      ]
     },
     "metadata": {},
     "output_type": "display_data"
    },
    {
     "name": "stdout",
     "output_type": "stream",
     "text": [
      "\n",
      "Epoch [12/100], Train Loss: 160.2252\n",
      "Train Time:  1959.3268394470215\n"
     ]
    },
    {
     "data": {
      "application/vnd.jupyter.widget-view+json": {
       "model_id": "360aa7e71f8548a9b4ccbdbaabd7642e",
       "version_major": 2,
       "version_minor": 0
      },
      "text/plain": [
       "HBox(children=(HTML(value='*********Evaluation mode*******'), FloatProgress(value=0.0, max=10.0), HTML(value='…"
      ]
     },
     "metadata": {},
     "output_type": "display_data"
    },
    {
     "name": "stdout",
     "output_type": "stream",
     "text": [
      "\n",
      "Epoch [12/100], Eval Loss: 167.2466\n"
     ]
    },
    {
     "data": {
      "application/vnd.jupyter.widget-view+json": {
       "model_id": "097a1980531444d5aafe71efe6931dd0",
       "version_major": 2,
       "version_minor": 0
      },
      "text/plain": [
       "HBox(children=(HTML(value='*********Train mode*******'), FloatProgress(value=0.0, max=489.0), HTML(value='')))"
      ]
     },
     "metadata": {},
     "output_type": "display_data"
    },
    {
     "name": "stdout",
     "output_type": "stream",
     "text": [
      "\n",
      "Epoch [13/100], Train Loss: 159.2248\n",
      "Train Time:  2118.5565547943115\n"
     ]
    },
    {
     "data": {
      "application/vnd.jupyter.widget-view+json": {
       "model_id": "80adda3419384578a31538442fb18495",
       "version_major": 2,
       "version_minor": 0
      },
      "text/plain": [
       "HBox(children=(HTML(value='*********Evaluation mode*******'), FloatProgress(value=0.0, max=10.0), HTML(value='…"
      ]
     },
     "metadata": {},
     "output_type": "display_data"
    },
    {
     "name": "stdout",
     "output_type": "stream",
     "text": [
      "\n",
      "Epoch [13/100], Eval Loss: 153.9628\n"
     ]
    },
    {
     "data": {
      "application/vnd.jupyter.widget-view+json": {
       "model_id": "c41b8c4b9e0b43a3800523e8c77570c7",
       "version_major": 2,
       "version_minor": 0
      },
      "text/plain": [
       "HBox(children=(HTML(value='*********Train mode*******'), FloatProgress(value=0.0, max=489.0), HTML(value='')))"
      ]
     },
     "metadata": {},
     "output_type": "display_data"
    },
    {
     "name": "stdout",
     "output_type": "stream",
     "text": [
      "\n",
      "Epoch [14/100], Train Loss: 157.2052\n",
      "Train Time:  2277.9469039440155\n"
     ]
    },
    {
     "data": {
      "application/vnd.jupyter.widget-view+json": {
       "model_id": "41145bfcb5de4b5498a0da49e76ebe81",
       "version_major": 2,
       "version_minor": 0
      },
      "text/plain": [
       "HBox(children=(HTML(value='*********Evaluation mode*******'), FloatProgress(value=0.0, max=10.0), HTML(value='…"
      ]
     },
     "metadata": {},
     "output_type": "display_data"
    },
    {
     "name": "stdout",
     "output_type": "stream",
     "text": [
      "\n",
      "Epoch [14/100], Eval Loss: 150.3662\n",
      "Best Model saved......\n"
     ]
    },
    {
     "data": {
      "application/vnd.jupyter.widget-view+json": {
       "model_id": "c483f074d40f4d1db7cbfaea87090189",
       "version_major": 2,
       "version_minor": 0
      },
      "text/plain": [
       "HBox(children=(HTML(value='*********Train mode*******'), FloatProgress(value=0.0, max=489.0), HTML(value='')))"
      ]
     },
     "metadata": {},
     "output_type": "display_data"
    },
    {
     "name": "stdout",
     "output_type": "stream",
     "text": [
      "\n",
      "Epoch [15/100], Train Loss: 150.2150\n",
      "Train Time:  2446.4995703697205\n"
     ]
    },
    {
     "data": {
      "application/vnd.jupyter.widget-view+json": {
       "model_id": "e230612ad2e0417e9563db64f480ccda",
       "version_major": 2,
       "version_minor": 0
      },
      "text/plain": [
       "HBox(children=(HTML(value='*********Evaluation mode*******'), FloatProgress(value=0.0, max=10.0), HTML(value='…"
      ]
     },
     "metadata": {},
     "output_type": "display_data"
    },
    {
     "name": "stdout",
     "output_type": "stream",
     "text": [
      "\n",
      "Epoch [15/100], Eval Loss: 148.6775\n",
      "Best Model saved......\n"
     ]
    },
    {
     "data": {
      "application/vnd.jupyter.widget-view+json": {
       "model_id": "03ff5c57917247719f9c8393c013568f",
       "version_major": 2,
       "version_minor": 0
      },
      "text/plain": [
       "HBox(children=(HTML(value='*********Train mode*******'), FloatProgress(value=0.0, max=489.0), HTML(value='')))"
      ]
     },
     "metadata": {},
     "output_type": "display_data"
    },
    {
     "name": "stdout",
     "output_type": "stream",
     "text": [
      "\n",
      "Epoch [16/100], Train Loss: 149.2247\n",
      "Train Time:  2614.831028699875\n"
     ]
    },
    {
     "data": {
      "application/vnd.jupyter.widget-view+json": {
       "model_id": "d02480308f1c4ea48a02864241b6946e",
       "version_major": 2,
       "version_minor": 0
      },
      "text/plain": [
       "HBox(children=(HTML(value='*********Evaluation mode*******'), FloatProgress(value=0.0, max=10.0), HTML(value='…"
      ]
     },
     "metadata": {},
     "output_type": "display_data"
    },
    {
     "name": "stdout",
     "output_type": "stream",
     "text": [
      "\n",
      "Epoch [16/100], Eval Loss: 140.7933\n",
      "Best Model saved......\n"
     ]
    },
    {
     "data": {
      "application/vnd.jupyter.widget-view+json": {
       "model_id": "9465291a33a7440e88900559095e16a6",
       "version_major": 2,
       "version_minor": 0
      },
      "text/plain": [
       "HBox(children=(HTML(value='*********Train mode*******'), FloatProgress(value=0.0, max=489.0), HTML(value='')))"
      ]
     },
     "metadata": {},
     "output_type": "display_data"
    },
    {
     "name": "stdout",
     "output_type": "stream",
     "text": [
      "\n",
      "Epoch [17/100], Train Loss: 148.7937\n",
      "Train Time:  2782.9863505363464\n"
     ]
    },
    {
     "data": {
      "application/vnd.jupyter.widget-view+json": {
       "model_id": "739ba99873f94f32a86d94e105905d18",
       "version_major": 2,
       "version_minor": 0
      },
      "text/plain": [
       "HBox(children=(HTML(value='*********Evaluation mode*******'), FloatProgress(value=0.0, max=10.0), HTML(value='…"
      ]
     },
     "metadata": {},
     "output_type": "display_data"
    },
    {
     "name": "stdout",
     "output_type": "stream",
     "text": [
      "\n",
      "Epoch [17/100], Eval Loss: 162.5128\n"
     ]
    },
    {
     "data": {
      "application/vnd.jupyter.widget-view+json": {
       "model_id": "c01a91ec73b545a39c00dd0aa788e76b",
       "version_major": 2,
       "version_minor": 0
      },
      "text/plain": [
       "HBox(children=(HTML(value='*********Train mode*******'), FloatProgress(value=0.0, max=489.0), HTML(value='')))"
      ]
     },
     "metadata": {},
     "output_type": "display_data"
    },
    {
     "name": "stdout",
     "output_type": "stream",
     "text": [
      "\n",
      "Epoch [18/100], Train Loss: 150.2189\n",
      "Train Time:  2942.7703619003296\n"
     ]
    },
    {
     "data": {
      "application/vnd.jupyter.widget-view+json": {
       "model_id": "aae1019c8bd9413fb6f1b020116916d9",
       "version_major": 2,
       "version_minor": 0
      },
      "text/plain": [
       "HBox(children=(HTML(value='*********Evaluation mode*******'), FloatProgress(value=0.0, max=10.0), HTML(value='…"
      ]
     },
     "metadata": {},
     "output_type": "display_data"
    },
    {
     "name": "stdout",
     "output_type": "stream",
     "text": [
      "\n",
      "Epoch [18/100], Eval Loss: 149.7954\n"
     ]
    },
    {
     "data": {
      "application/vnd.jupyter.widget-view+json": {
       "model_id": "0a333de40e224d4391dba9b41352670a",
       "version_major": 2,
       "version_minor": 0
      },
      "text/plain": [
       "HBox(children=(HTML(value='*********Train mode*******'), FloatProgress(value=0.0, max=489.0), HTML(value='')))"
      ]
     },
     "metadata": {},
     "output_type": "display_data"
    },
    {
     "name": "stdout",
     "output_type": "stream",
     "text": [
      "\n",
      "Epoch [19/100], Train Loss: 148.6879\n",
      "Train Time:  3102.4168033599854\n"
     ]
    },
    {
     "data": {
      "application/vnd.jupyter.widget-view+json": {
       "model_id": "a860b9088ade411d839b7e0a128bfa15",
       "version_major": 2,
       "version_minor": 0
      },
      "text/plain": [
       "HBox(children=(HTML(value='*********Evaluation mode*******'), FloatProgress(value=0.0, max=10.0), HTML(value='…"
      ]
     },
     "metadata": {},
     "output_type": "display_data"
    },
    {
     "name": "stdout",
     "output_type": "stream",
     "text": [
      "\n",
      "Epoch [19/100], Eval Loss: 145.5814\n"
     ]
    },
    {
     "data": {
      "application/vnd.jupyter.widget-view+json": {
       "model_id": "c598bde6c5b14a55b58305411e242ffb",
       "version_major": 2,
       "version_minor": 0
      },
      "text/plain": [
       "HBox(children=(HTML(value='*********Train mode*******'), FloatProgress(value=0.0, max=489.0), HTML(value='')))"
      ]
     },
     "metadata": {},
     "output_type": "display_data"
    },
    {
     "name": "stdout",
     "output_type": "stream",
     "text": [
      "\n",
      "Epoch [20/100], Train Loss: 147.0722\n",
      "Train Time:  3261.94890499115\n"
     ]
    },
    {
     "data": {
      "application/vnd.jupyter.widget-view+json": {
       "model_id": "6027450fed0a414fa24595cd2c2a9a1c",
       "version_major": 2,
       "version_minor": 0
      },
      "text/plain": [
       "HBox(children=(HTML(value='*********Evaluation mode*******'), FloatProgress(value=0.0, max=10.0), HTML(value='…"
      ]
     },
     "metadata": {},
     "output_type": "display_data"
    },
    {
     "name": "stdout",
     "output_type": "stream",
     "text": [
      "\n",
      "Epoch [20/100], Eval Loss: 142.8559\n"
     ]
    },
    {
     "data": {
      "application/vnd.jupyter.widget-view+json": {
       "model_id": "e52b17371e5140618c198809d84ec82a",
       "version_major": 2,
       "version_minor": 0
      },
      "text/plain": [
       "HBox(children=(HTML(value='*********Train mode*******'), FloatProgress(value=0.0, max=489.0), HTML(value='')))"
      ]
     },
     "metadata": {},
     "output_type": "display_data"
    },
    {
     "name": "stdout",
     "output_type": "stream",
     "text": [
      "\n",
      "Epoch [21/100], Train Loss: 144.7394\n",
      "Train Time:  3421.7824392318726\n"
     ]
    },
    {
     "data": {
      "application/vnd.jupyter.widget-view+json": {
       "model_id": "a0531c03b04440c683ec88f946758273",
       "version_major": 2,
       "version_minor": 0
      },
      "text/plain": [
       "HBox(children=(HTML(value='*********Evaluation mode*******'), FloatProgress(value=0.0, max=10.0), HTML(value='…"
      ]
     },
     "metadata": {},
     "output_type": "display_data"
    },
    {
     "name": "stdout",
     "output_type": "stream",
     "text": [
      "\n",
      "Epoch [21/100], Eval Loss: 150.3345\n"
     ]
    },
    {
     "data": {
      "application/vnd.jupyter.widget-view+json": {
       "model_id": "cd83611c08754e1393f07cf73411db8c",
       "version_major": 2,
       "version_minor": 0
      },
      "text/plain": [
       "HBox(children=(HTML(value='*********Train mode*******'), FloatProgress(value=0.0, max=489.0), HTML(value='')))"
      ]
     },
     "metadata": {},
     "output_type": "display_data"
    },
    {
     "name": "stdout",
     "output_type": "stream",
     "text": [
      "\n",
      "Epoch [22/100], Train Loss: 144.3303\n",
      "Train Time:  3580.1321139335632\n"
     ]
    },
    {
     "data": {
      "application/vnd.jupyter.widget-view+json": {
       "model_id": "2ab47bbbbf9f4b3b888ff02fcc3f35b0",
       "version_major": 2,
       "version_minor": 0
      },
      "text/plain": [
       "HBox(children=(HTML(value='*********Evaluation mode*******'), FloatProgress(value=0.0, max=10.0), HTML(value='…"
      ]
     },
     "metadata": {},
     "output_type": "display_data"
    },
    {
     "name": "stdout",
     "output_type": "stream",
     "text": [
      "\n",
      "Epoch [22/100], Eval Loss: 145.9189\n"
     ]
    },
    {
     "data": {
      "application/vnd.jupyter.widget-view+json": {
       "model_id": "fd6a0dbc2a6a4aa58dc4708ba1e2a31b",
       "version_major": 2,
       "version_minor": 0
      },
      "text/plain": [
       "HBox(children=(HTML(value='*********Train mode*******'), FloatProgress(value=0.0, max=489.0), HTML(value='')))"
      ]
     },
     "metadata": {},
     "output_type": "display_data"
    },
    {
     "name": "stdout",
     "output_type": "stream",
     "text": [
      "\n",
      "Epoch [23/100], Train Loss: 143.4294\n",
      "Train Time:  3740.219171524048\n"
     ]
    },
    {
     "data": {
      "application/vnd.jupyter.widget-view+json": {
       "model_id": "b6f965c94fb04db7b264a9f78a1c4e20",
       "version_major": 2,
       "version_minor": 0
      },
      "text/plain": [
       "HBox(children=(HTML(value='*********Evaluation mode*******'), FloatProgress(value=0.0, max=10.0), HTML(value='…"
      ]
     },
     "metadata": {},
     "output_type": "display_data"
    },
    {
     "name": "stdout",
     "output_type": "stream",
     "text": [
      "\n",
      "Epoch [23/100], Eval Loss: 140.6132\n",
      "Best Model saved......\n"
     ]
    },
    {
     "data": {
      "application/vnd.jupyter.widget-view+json": {
       "model_id": "a14d2975aa724927a023e28140db1e01",
       "version_major": 2,
       "version_minor": 0
      },
      "text/plain": [
       "HBox(children=(HTML(value='*********Train mode*******'), FloatProgress(value=0.0, max=489.0), HTML(value='')))"
      ]
     },
     "metadata": {},
     "output_type": "display_data"
    },
    {
     "name": "stdout",
     "output_type": "stream",
     "text": [
      "\n",
      "Epoch [24/100], Train Loss: 145.6168\n",
      "Train Time:  3908.003141641617\n"
     ]
    },
    {
     "data": {
      "application/vnd.jupyter.widget-view+json": {
       "model_id": "d052cc20500b474392ab0cb60e8a67b2",
       "version_major": 2,
       "version_minor": 0
      },
      "text/plain": [
       "HBox(children=(HTML(value='*********Evaluation mode*******'), FloatProgress(value=0.0, max=10.0), HTML(value='…"
      ]
     },
     "metadata": {},
     "output_type": "display_data"
    },
    {
     "name": "stdout",
     "output_type": "stream",
     "text": [
      "\n",
      "Epoch [24/100], Eval Loss: 143.6485\n"
     ]
    },
    {
     "data": {
      "application/vnd.jupyter.widget-view+json": {
       "model_id": "f7420d11fb3b462a8db2cc96fbfe6f51",
       "version_major": 2,
       "version_minor": 0
      },
      "text/plain": [
       "HBox(children=(HTML(value='*********Train mode*******'), FloatProgress(value=0.0, max=489.0), HTML(value='')))"
      ]
     },
     "metadata": {},
     "output_type": "display_data"
    },
    {
     "name": "stdout",
     "output_type": "stream",
     "text": [
      "\n",
      "Epoch [25/100], Train Loss: 140.6797\n",
      "Train Time:  4067.974604845047\n"
     ]
    },
    {
     "data": {
      "application/vnd.jupyter.widget-view+json": {
       "model_id": "0799bbad42eb4261bdd69dcb204e0373",
       "version_major": 2,
       "version_minor": 0
      },
      "text/plain": [
       "HBox(children=(HTML(value='*********Evaluation mode*******'), FloatProgress(value=0.0, max=10.0), HTML(value='…"
      ]
     },
     "metadata": {},
     "output_type": "display_data"
    },
    {
     "name": "stdout",
     "output_type": "stream",
     "text": [
      "\n",
      "Epoch [25/100], Eval Loss: 143.4441\n"
     ]
    },
    {
     "data": {
      "application/vnd.jupyter.widget-view+json": {
       "model_id": "fae562a85d92412d90b701fab1749eef",
       "version_major": 2,
       "version_minor": 0
      },
      "text/plain": [
       "HBox(children=(HTML(value='*********Train mode*******'), FloatProgress(value=0.0, max=489.0), HTML(value='')))"
      ]
     },
     "metadata": {},
     "output_type": "display_data"
    },
    {
     "name": "stdout",
     "output_type": "stream",
     "text": [
      "\n",
      "Epoch [26/100], Train Loss: 143.3565\n",
      "Train Time:  4227.718706846237\n"
     ]
    },
    {
     "data": {
      "application/vnd.jupyter.widget-view+json": {
       "model_id": "4106611a40b64577bf26ed227660d014",
       "version_major": 2,
       "version_minor": 0
      },
      "text/plain": [
       "HBox(children=(HTML(value='*********Evaluation mode*******'), FloatProgress(value=0.0, max=10.0), HTML(value='…"
      ]
     },
     "metadata": {},
     "output_type": "display_data"
    },
    {
     "name": "stdout",
     "output_type": "stream",
     "text": [
      "\n",
      "Epoch [26/100], Eval Loss: 140.6386\n"
     ]
    },
    {
     "data": {
      "application/vnd.jupyter.widget-view+json": {
       "model_id": "09be00546f3b47bf98c44407e1f11291",
       "version_major": 2,
       "version_minor": 0
      },
      "text/plain": [
       "HBox(children=(HTML(value='*********Train mode*******'), FloatProgress(value=0.0, max=489.0), HTML(value='')))"
      ]
     },
     "metadata": {},
     "output_type": "display_data"
    },
    {
     "name": "stdout",
     "output_type": "stream",
     "text": [
      "\n",
      "Epoch [27/100], Train Loss: 140.1155\n",
      "Train Time:  4387.426185846329\n"
     ]
    },
    {
     "data": {
      "application/vnd.jupyter.widget-view+json": {
       "model_id": "c31ce44dd56543f9b35f6f5d77bf694f",
       "version_major": 2,
       "version_minor": 0
      },
      "text/plain": [
       "HBox(children=(HTML(value='*********Evaluation mode*******'), FloatProgress(value=0.0, max=10.0), HTML(value='…"
      ]
     },
     "metadata": {},
     "output_type": "display_data"
    },
    {
     "name": "stdout",
     "output_type": "stream",
     "text": [
      "\n",
      "Epoch [27/100], Eval Loss: 140.6205\n"
     ]
    },
    {
     "data": {
      "application/vnd.jupyter.widget-view+json": {
       "model_id": "ab2225e08df84919abc947d476de3423",
       "version_major": 2,
       "version_minor": 0
      },
      "text/plain": [
       "HBox(children=(HTML(value='*********Train mode*******'), FloatProgress(value=0.0, max=489.0), HTML(value='')))"
      ]
     },
     "metadata": {},
     "output_type": "display_data"
    },
    {
     "name": "stdout",
     "output_type": "stream",
     "text": [
      "\n",
      "Epoch [28/100], Train Loss: 138.8189\n",
      "Train Time:  4546.9434151649475\n"
     ]
    },
    {
     "data": {
      "application/vnd.jupyter.widget-view+json": {
       "model_id": "b5230d8b3d43450b8eae35e427e416e7",
       "version_major": 2,
       "version_minor": 0
      },
      "text/plain": [
       "HBox(children=(HTML(value='*********Evaluation mode*******'), FloatProgress(value=0.0, max=10.0), HTML(value='…"
      ]
     },
     "metadata": {},
     "output_type": "display_data"
    },
    {
     "name": "stdout",
     "output_type": "stream",
     "text": [
      "\n",
      "Epoch [28/100], Eval Loss: 134.9244\n",
      "Best Model saved......\n"
     ]
    },
    {
     "data": {
      "application/vnd.jupyter.widget-view+json": {
       "model_id": "c105d9c44bcb47c9bfe0c39c0319efd6",
       "version_major": 2,
       "version_minor": 0
      },
      "text/plain": [
       "HBox(children=(HTML(value='*********Train mode*******'), FloatProgress(value=0.0, max=489.0), HTML(value='')))"
      ]
     },
     "metadata": {},
     "output_type": "display_data"
    },
    {
     "name": "stdout",
     "output_type": "stream",
     "text": [
      "\n",
      "Epoch [29/100], Train Loss: 144.5275\n",
      "Train Time:  4714.521370172501\n"
     ]
    },
    {
     "data": {
      "application/vnd.jupyter.widget-view+json": {
       "model_id": "08185a5c881e4cbf88c542baf1092a6c",
       "version_major": 2,
       "version_minor": 0
      },
      "text/plain": [
       "HBox(children=(HTML(value='*********Evaluation mode*******'), FloatProgress(value=0.0, max=10.0), HTML(value='…"
      ]
     },
     "metadata": {},
     "output_type": "display_data"
    },
    {
     "name": "stdout",
     "output_type": "stream",
     "text": [
      "\n",
      "Epoch [29/100], Eval Loss: 146.6438\n"
     ]
    },
    {
     "data": {
      "application/vnd.jupyter.widget-view+json": {
       "model_id": "161c03d52fe94e1fb0d6c2768846a563",
       "version_major": 2,
       "version_minor": 0
      },
      "text/plain": [
       "HBox(children=(HTML(value='*********Train mode*******'), FloatProgress(value=0.0, max=489.0), HTML(value='')))"
      ]
     },
     "metadata": {},
     "output_type": "display_data"
    },
    {
     "name": "stdout",
     "output_type": "stream",
     "text": [
      "\n",
      "Epoch [30/100], Train Loss: 142.6552\n",
      "Train Time:  4874.198734283447\n"
     ]
    },
    {
     "data": {
      "application/vnd.jupyter.widget-view+json": {
       "model_id": "6af1a3fc2c65456db703fb6a3ea54707",
       "version_major": 2,
       "version_minor": 0
      },
      "text/plain": [
       "HBox(children=(HTML(value='*********Evaluation mode*******'), FloatProgress(value=0.0, max=10.0), HTML(value='…"
      ]
     },
     "metadata": {},
     "output_type": "display_data"
    },
    {
     "name": "stdout",
     "output_type": "stream",
     "text": [
      "\n",
      "Epoch [30/100], Eval Loss: 139.0466\n"
     ]
    },
    {
     "data": {
      "application/vnd.jupyter.widget-view+json": {
       "model_id": "1587e9f19bfb4005b86afe064051c69e",
       "version_major": 2,
       "version_minor": 0
      },
      "text/plain": [
       "HBox(children=(HTML(value='*********Train mode*******'), FloatProgress(value=0.0, max=489.0), HTML(value='')))"
      ]
     },
     "metadata": {},
     "output_type": "display_data"
    },
    {
     "name": "stdout",
     "output_type": "stream",
     "text": [
      "\n",
      "Epoch [31/100], Train Loss: 139.2450\n",
      "Train Time:  5033.674615859985\n"
     ]
    },
    {
     "data": {
      "application/vnd.jupyter.widget-view+json": {
       "model_id": "284fe7e63f1146fcb70d74ff2dc46688",
       "version_major": 2,
       "version_minor": 0
      },
      "text/plain": [
       "HBox(children=(HTML(value='*********Evaluation mode*******'), FloatProgress(value=0.0, max=10.0), HTML(value='…"
      ]
     },
     "metadata": {},
     "output_type": "display_data"
    },
    {
     "name": "stdout",
     "output_type": "stream",
     "text": [
      "\n",
      "Epoch [31/100], Eval Loss: 140.9582\n"
     ]
    },
    {
     "data": {
      "application/vnd.jupyter.widget-view+json": {
       "model_id": "988c899f0542489eb83fa97e4d4b343d",
       "version_major": 2,
       "version_minor": 0
      },
      "text/plain": [
       "HBox(children=(HTML(value='*********Train mode*******'), FloatProgress(value=0.0, max=489.0), HTML(value='')))"
      ]
     },
     "metadata": {},
     "output_type": "display_data"
    },
    {
     "name": "stdout",
     "output_type": "stream",
     "text": [
      "\n",
      "Epoch [32/100], Train Loss: 136.5071\n",
      "Train Time:  5193.443686246872\n"
     ]
    },
    {
     "data": {
      "application/vnd.jupyter.widget-view+json": {
       "model_id": "d673dee634234883aa784a49e6505a3c",
       "version_major": 2,
       "version_minor": 0
      },
      "text/plain": [
       "HBox(children=(HTML(value='*********Evaluation mode*******'), FloatProgress(value=0.0, max=10.0), HTML(value='…"
      ]
     },
     "metadata": {},
     "output_type": "display_data"
    },
    {
     "name": "stdout",
     "output_type": "stream",
     "text": [
      "\n",
      "Epoch [32/100], Eval Loss: 143.1814\n"
     ]
    },
    {
     "data": {
      "application/vnd.jupyter.widget-view+json": {
       "model_id": "ebc30f278e5b4bdd90033ed163c7bd2c",
       "version_major": 2,
       "version_minor": 0
      },
      "text/plain": [
       "HBox(children=(HTML(value='*********Train mode*******'), FloatProgress(value=0.0, max=489.0), HTML(value='')))"
      ]
     },
     "metadata": {},
     "output_type": "display_data"
    },
    {
     "name": "stdout",
     "output_type": "stream",
     "text": [
      "\n",
      "Epoch [33/100], Train Loss: 139.0109\n",
      "Train Time:  5351.005496740341\n"
     ]
    },
    {
     "data": {
      "application/vnd.jupyter.widget-view+json": {
       "model_id": "5ef576e61c814153981ca6d42bbb9921",
       "version_major": 2,
       "version_minor": 0
      },
      "text/plain": [
       "HBox(children=(HTML(value='*********Evaluation mode*******'), FloatProgress(value=0.0, max=10.0), HTML(value='…"
      ]
     },
     "metadata": {},
     "output_type": "display_data"
    },
    {
     "name": "stdout",
     "output_type": "stream",
     "text": [
      "\n",
      "Epoch [33/100], Eval Loss: 133.7510\n",
      "Best Model saved......\n"
     ]
    },
    {
     "data": {
      "application/vnd.jupyter.widget-view+json": {
       "model_id": "befd7f29de19478bbf2f1e7b581b8a9e",
       "version_major": 2,
       "version_minor": 0
      },
      "text/plain": [
       "HBox(children=(HTML(value='*********Train mode*******'), FloatProgress(value=0.0, max=489.0), HTML(value='')))"
      ]
     },
     "metadata": {},
     "output_type": "display_data"
    },
    {
     "name": "stdout",
     "output_type": "stream",
     "text": [
      "\n",
      "Epoch [34/100], Train Loss: 136.0272\n",
      "Train Time:  5521.28423500061\n"
     ]
    },
    {
     "data": {
      "application/vnd.jupyter.widget-view+json": {
       "model_id": "071fcfe110474f88a621fc2d908e6c97",
       "version_major": 2,
       "version_minor": 0
      },
      "text/plain": [
       "HBox(children=(HTML(value='*********Evaluation mode*******'), FloatProgress(value=0.0, max=10.0), HTML(value='…"
      ]
     },
     "metadata": {},
     "output_type": "display_data"
    },
    {
     "name": "stdout",
     "output_type": "stream",
     "text": [
      "\n",
      "Epoch [34/100], Eval Loss: 126.5098\n",
      "Best Model saved......\n"
     ]
    },
    {
     "data": {
      "application/vnd.jupyter.widget-view+json": {
       "model_id": "d3e3bd921fae44e19b6158f3f753f7eb",
       "version_major": 2,
       "version_minor": 0
      },
      "text/plain": [
       "HBox(children=(HTML(value='*********Train mode*******'), FloatProgress(value=0.0, max=489.0), HTML(value='')))"
      ]
     },
     "metadata": {},
     "output_type": "display_data"
    },
    {
     "name": "stdout",
     "output_type": "stream",
     "text": [
      "\n",
      "Epoch [35/100], Train Loss: 133.2597\n",
      "Train Time:  5691.371809720993\n"
     ]
    },
    {
     "data": {
      "application/vnd.jupyter.widget-view+json": {
       "model_id": "3127b88871624dde899ccc9586ade4c3",
       "version_major": 2,
       "version_minor": 0
      },
      "text/plain": [
       "HBox(children=(HTML(value='*********Evaluation mode*******'), FloatProgress(value=0.0, max=10.0), HTML(value='…"
      ]
     },
     "metadata": {},
     "output_type": "display_data"
    },
    {
     "name": "stdout",
     "output_type": "stream",
     "text": [
      "\n",
      "Epoch [35/100], Eval Loss: 123.2742\n",
      "Best Model saved......\n"
     ]
    },
    {
     "data": {
      "application/vnd.jupyter.widget-view+json": {
       "model_id": "2d4c4efdb1b5473ea9fca8cb5eefb00b",
       "version_major": 2,
       "version_minor": 0
      },
      "text/plain": [
       "HBox(children=(HTML(value='*********Train mode*******'), FloatProgress(value=0.0, max=489.0), HTML(value='')))"
      ]
     },
     "metadata": {},
     "output_type": "display_data"
    },
    {
     "name": "stdout",
     "output_type": "stream",
     "text": [
      "\n",
      "Epoch [36/100], Train Loss: 133.5162\n",
      "Train Time:  5861.187337875366\n"
     ]
    },
    {
     "data": {
      "application/vnd.jupyter.widget-view+json": {
       "model_id": "a1cb2ef171e14051a92627649adf1239",
       "version_major": 2,
       "version_minor": 0
      },
      "text/plain": [
       "HBox(children=(HTML(value='*********Evaluation mode*******'), FloatProgress(value=0.0, max=10.0), HTML(value='…"
      ]
     },
     "metadata": {},
     "output_type": "display_data"
    },
    {
     "name": "stdout",
     "output_type": "stream",
     "text": [
      "\n",
      "Epoch [36/100], Eval Loss: 124.7594\n"
     ]
    },
    {
     "data": {
      "application/vnd.jupyter.widget-view+json": {
       "model_id": "2d8e2739f16149d1a16654bacb1a015e",
       "version_major": 2,
       "version_minor": 0
      },
      "text/plain": [
       "HBox(children=(HTML(value='*********Train mode*******'), FloatProgress(value=0.0, max=489.0), HTML(value='')))"
      ]
     },
     "metadata": {},
     "output_type": "display_data"
    },
    {
     "name": "stdout",
     "output_type": "stream",
     "text": [
      "\n",
      "Epoch [37/100], Train Loss: 132.9729\n",
      "Train Time:  6020.995204925537\n"
     ]
    },
    {
     "data": {
      "application/vnd.jupyter.widget-view+json": {
       "model_id": "7d3efb2aa4de40a28ad8304ea7340991",
       "version_major": 2,
       "version_minor": 0
      },
      "text/plain": [
       "HBox(children=(HTML(value='*********Evaluation mode*******'), FloatProgress(value=0.0, max=10.0), HTML(value='…"
      ]
     },
     "metadata": {},
     "output_type": "display_data"
    },
    {
     "name": "stdout",
     "output_type": "stream",
     "text": [
      "\n",
      "Epoch [37/100], Eval Loss: 139.1839\n"
     ]
    },
    {
     "data": {
      "application/vnd.jupyter.widget-view+json": {
       "model_id": "9f205d32cd4c4992a9a09735aeb9e533",
       "version_major": 2,
       "version_minor": 0
      },
      "text/plain": [
       "HBox(children=(HTML(value='*********Train mode*******'), FloatProgress(value=0.0, max=489.0), HTML(value='')))"
      ]
     },
     "metadata": {},
     "output_type": "display_data"
    },
    {
     "name": "stdout",
     "output_type": "stream",
     "text": [
      "\n",
      "Epoch [38/100], Train Loss: 127.5761\n",
      "Train Time:  6180.5188863277435\n"
     ]
    },
    {
     "data": {
      "application/vnd.jupyter.widget-view+json": {
       "model_id": "4b770d4a4e7b468d80949881e8b857bf",
       "version_major": 2,
       "version_minor": 0
      },
      "text/plain": [
       "HBox(children=(HTML(value='*********Evaluation mode*******'), FloatProgress(value=0.0, max=10.0), HTML(value='…"
      ]
     },
     "metadata": {},
     "output_type": "display_data"
    },
    {
     "name": "stdout",
     "output_type": "stream",
     "text": [
      "\n",
      "Epoch [38/100], Eval Loss: 143.1951\n"
     ]
    },
    {
     "data": {
      "application/vnd.jupyter.widget-view+json": {
       "model_id": "80892ac3f8144b099280b7068e52808e",
       "version_major": 2,
       "version_minor": 0
      },
      "text/plain": [
       "HBox(children=(HTML(value='*********Train mode*******'), FloatProgress(value=0.0, max=489.0), HTML(value='')))"
      ]
     },
     "metadata": {},
     "output_type": "display_data"
    },
    {
     "name": "stdout",
     "output_type": "stream",
     "text": [
      "\n",
      "Epoch [39/100], Train Loss: 124.4556\n",
      "Train Time:  6340.144630432129\n"
     ]
    },
    {
     "data": {
      "application/vnd.jupyter.widget-view+json": {
       "model_id": "af5dd71f144f496a8a43897dbc6eeca7",
       "version_major": 2,
       "version_minor": 0
      },
      "text/plain": [
       "HBox(children=(HTML(value='*********Evaluation mode*******'), FloatProgress(value=0.0, max=10.0), HTML(value='…"
      ]
     },
     "metadata": {},
     "output_type": "display_data"
    },
    {
     "name": "stdout",
     "output_type": "stream",
     "text": [
      "\n",
      "Epoch [39/100], Eval Loss: 128.0009\n"
     ]
    },
    {
     "data": {
      "application/vnd.jupyter.widget-view+json": {
       "model_id": "8c6666da8838405794f9bb16809247fd",
       "version_major": 2,
       "version_minor": 0
      },
      "text/plain": [
       "HBox(children=(HTML(value='*********Train mode*******'), FloatProgress(value=0.0, max=489.0), HTML(value='')))"
      ]
     },
     "metadata": {},
     "output_type": "display_data"
    },
    {
     "name": "stdout",
     "output_type": "stream",
     "text": [
      "\n",
      "Epoch [40/100], Train Loss: 121.8651\n",
      "Train Time:  6499.55784368515\n"
     ]
    },
    {
     "data": {
      "application/vnd.jupyter.widget-view+json": {
       "model_id": "e10faded6d364303a334977c75af63a4",
       "version_major": 2,
       "version_minor": 0
      },
      "text/plain": [
       "HBox(children=(HTML(value='*********Evaluation mode*******'), FloatProgress(value=0.0, max=10.0), HTML(value='…"
      ]
     },
     "metadata": {},
     "output_type": "display_data"
    },
    {
     "name": "stdout",
     "output_type": "stream",
     "text": [
      "\n",
      "Epoch [40/100], Eval Loss: 121.5883\n",
      "Best Model saved......\n"
     ]
    },
    {
     "data": {
      "application/vnd.jupyter.widget-view+json": {
       "model_id": "cac4748b5c684fdc9aa64f35d00d6537",
       "version_major": 2,
       "version_minor": 0
      },
      "text/plain": [
       "HBox(children=(HTML(value='*********Train mode*******'), FloatProgress(value=0.0, max=489.0), HTML(value='')))"
      ]
     },
     "metadata": {},
     "output_type": "display_data"
    },
    {
     "name": "stdout",
     "output_type": "stream",
     "text": [
      "\n",
      "Epoch [41/100], Train Loss: 115.5359\n",
      "Train Time:  6667.954183578491\n"
     ]
    },
    {
     "data": {
      "application/vnd.jupyter.widget-view+json": {
       "model_id": "08e9c8b160db4a80bc24709e309410ce",
       "version_major": 2,
       "version_minor": 0
      },
      "text/plain": [
       "HBox(children=(HTML(value='*********Evaluation mode*******'), FloatProgress(value=0.0, max=10.0), HTML(value='…"
      ]
     },
     "metadata": {},
     "output_type": "display_data"
    },
    {
     "name": "stdout",
     "output_type": "stream",
     "text": [
      "\n",
      "Epoch [41/100], Eval Loss: 97.5003\n",
      "Best Model saved......\n"
     ]
    },
    {
     "data": {
      "application/vnd.jupyter.widget-view+json": {
       "model_id": "b29c7f20ea344a1d9147f06af2b785d7",
       "version_major": 2,
       "version_minor": 0
      },
      "text/plain": [
       "HBox(children=(HTML(value='*********Train mode*******'), FloatProgress(value=0.0, max=489.0), HTML(value='')))"
      ]
     },
     "metadata": {},
     "output_type": "display_data"
    },
    {
     "name": "stdout",
     "output_type": "stream",
     "text": [
      "\n",
      "Epoch [42/100], Train Loss: 104.2286\n",
      "Train Time:  6835.431483745575\n"
     ]
    },
    {
     "data": {
      "application/vnd.jupyter.widget-view+json": {
       "model_id": "564ad50df3e846a891a2a72f9adf5a9c",
       "version_major": 2,
       "version_minor": 0
      },
      "text/plain": [
       "HBox(children=(HTML(value='*********Evaluation mode*******'), FloatProgress(value=0.0, max=10.0), HTML(value='…"
      ]
     },
     "metadata": {},
     "output_type": "display_data"
    },
    {
     "name": "stdout",
     "output_type": "stream",
     "text": [
      "\n",
      "Epoch [42/100], Eval Loss: 89.9711\n",
      "Best Model saved......\n"
     ]
    },
    {
     "data": {
      "application/vnd.jupyter.widget-view+json": {
       "model_id": "0e6aff198bf14bb3b726a9cb9287a10d",
       "version_major": 2,
       "version_minor": 0
      },
      "text/plain": [
       "HBox(children=(HTML(value='*********Train mode*******'), FloatProgress(value=0.0, max=489.0), HTML(value='')))"
      ]
     },
     "metadata": {},
     "output_type": "display_data"
    },
    {
     "name": "stdout",
     "output_type": "stream",
     "text": [
      "\n",
      "Epoch [43/100], Train Loss: 95.4858\n",
      "Train Time:  7004.210233449936\n"
     ]
    },
    {
     "data": {
      "application/vnd.jupyter.widget-view+json": {
       "model_id": "00619129c5c54d21b9b2334ffb4adcbe",
       "version_major": 2,
       "version_minor": 0
      },
      "text/plain": [
       "HBox(children=(HTML(value='*********Evaluation mode*******'), FloatProgress(value=0.0, max=10.0), HTML(value='…"
      ]
     },
     "metadata": {},
     "output_type": "display_data"
    },
    {
     "name": "stdout",
     "output_type": "stream",
     "text": [
      "\n",
      "Epoch [43/100], Eval Loss: 96.4518\n"
     ]
    },
    {
     "data": {
      "application/vnd.jupyter.widget-view+json": {
       "model_id": "120146a49ef24f15a30fd9f49f420895",
       "version_major": 2,
       "version_minor": 0
      },
      "text/plain": [
       "HBox(children=(HTML(value='*********Train mode*******'), FloatProgress(value=0.0, max=489.0), HTML(value='')))"
      ]
     },
     "metadata": {},
     "output_type": "display_data"
    },
    {
     "name": "stdout",
     "output_type": "stream",
     "text": [
      "\n",
      "Epoch [44/100], Train Loss: 90.2725\n",
      "Train Time:  7163.273055076599\n"
     ]
    },
    {
     "data": {
      "application/vnd.jupyter.widget-view+json": {
       "model_id": "4e8abd929ad041a99d6a62889c306fce",
       "version_major": 2,
       "version_minor": 0
      },
      "text/plain": [
       "HBox(children=(HTML(value='*********Evaluation mode*******'), FloatProgress(value=0.0, max=10.0), HTML(value='…"
      ]
     },
     "metadata": {},
     "output_type": "display_data"
    },
    {
     "name": "stdout",
     "output_type": "stream",
     "text": [
      "\n",
      "Epoch [44/100], Eval Loss: 77.4003\n",
      "Best Model saved......\n"
     ]
    },
    {
     "data": {
      "application/vnd.jupyter.widget-view+json": {
       "model_id": "f4724c64faa54db8aa9e86222a9f562b",
       "version_major": 2,
       "version_minor": 0
      },
      "text/plain": [
       "HBox(children=(HTML(value='*********Train mode*******'), FloatProgress(value=0.0, max=489.0), HTML(value='')))"
      ]
     },
     "metadata": {},
     "output_type": "display_data"
    },
    {
     "name": "stdout",
     "output_type": "stream",
     "text": [
      "\n",
      "Epoch [45/100], Train Loss: 85.0466\n",
      "Train Time:  7331.463950395584\n"
     ]
    },
    {
     "data": {
      "application/vnd.jupyter.widget-view+json": {
       "model_id": "b37d3440be0c431b8dc562db987a3cdd",
       "version_major": 2,
       "version_minor": 0
      },
      "text/plain": [
       "HBox(children=(HTML(value='*********Evaluation mode*******'), FloatProgress(value=0.0, max=10.0), HTML(value='…"
      ]
     },
     "metadata": {},
     "output_type": "display_data"
    },
    {
     "name": "stdout",
     "output_type": "stream",
     "text": [
      "\n",
      "Epoch [45/100], Eval Loss: 74.1500\n",
      "Best Model saved......\n"
     ]
    },
    {
     "data": {
      "application/vnd.jupyter.widget-view+json": {
       "model_id": "d854a28b0e5848aea2e866dd93a16b6c",
       "version_major": 2,
       "version_minor": 0
      },
      "text/plain": [
       "HBox(children=(HTML(value='*********Train mode*******'), FloatProgress(value=0.0, max=489.0), HTML(value='')))"
      ]
     },
     "metadata": {},
     "output_type": "display_data"
    },
    {
     "name": "stdout",
     "output_type": "stream",
     "text": [
      "\n",
      "Epoch [46/100], Train Loss: 73.2397\n",
      "Train Time:  7499.674270629883\n"
     ]
    },
    {
     "data": {
      "application/vnd.jupyter.widget-view+json": {
       "model_id": "61401779d850437e8b6eccb3f0dff793",
       "version_major": 2,
       "version_minor": 0
      },
      "text/plain": [
       "HBox(children=(HTML(value='*********Evaluation mode*******'), FloatProgress(value=0.0, max=10.0), HTML(value='…"
      ]
     },
     "metadata": {},
     "output_type": "display_data"
    },
    {
     "name": "stdout",
     "output_type": "stream",
     "text": [
      "\n",
      "Epoch [46/100], Eval Loss: 88.6881\n"
     ]
    },
    {
     "data": {
      "application/vnd.jupyter.widget-view+json": {
       "model_id": "c687a679a8bf4a31aed65f160957e592",
       "version_major": 2,
       "version_minor": 0
      },
      "text/plain": [
       "HBox(children=(HTML(value='*********Train mode*******'), FloatProgress(value=0.0, max=489.0), HTML(value='')))"
      ]
     },
     "metadata": {},
     "output_type": "display_data"
    },
    {
     "name": "stdout",
     "output_type": "stream",
     "text": [
      "\n",
      "Epoch [47/100], Train Loss: 69.5902\n",
      "Train Time:  7659.077171325684\n"
     ]
    },
    {
     "data": {
      "application/vnd.jupyter.widget-view+json": {
       "model_id": "33cfdcc46df1441c8e92a9cb49bdef6d",
       "version_major": 2,
       "version_minor": 0
      },
      "text/plain": [
       "HBox(children=(HTML(value='*********Evaluation mode*******'), FloatProgress(value=0.0, max=10.0), HTML(value='…"
      ]
     },
     "metadata": {},
     "output_type": "display_data"
    },
    {
     "name": "stdout",
     "output_type": "stream",
     "text": [
      "\n",
      "Epoch [47/100], Eval Loss: 54.9791\n",
      "Best Model saved......\n"
     ]
    },
    {
     "data": {
      "application/vnd.jupyter.widget-view+json": {
       "model_id": "a0849f9b2bc9470580df660dc257b84a",
       "version_major": 2,
       "version_minor": 0
      },
      "text/plain": [
       "HBox(children=(HTML(value='*********Train mode*******'), FloatProgress(value=0.0, max=489.0), HTML(value='')))"
      ]
     },
     "metadata": {},
     "output_type": "display_data"
    },
    {
     "name": "stdout",
     "output_type": "stream",
     "text": [
      "\n",
      "Epoch [48/100], Train Loss: 60.3903\n",
      "Train Time:  7825.573345661163\n"
     ]
    },
    {
     "data": {
      "application/vnd.jupyter.widget-view+json": {
       "model_id": "09a7c8b6d76a4167b01048128ee3048c",
       "version_major": 2,
       "version_minor": 0
      },
      "text/plain": [
       "HBox(children=(HTML(value='*********Evaluation mode*******'), FloatProgress(value=0.0, max=10.0), HTML(value='…"
      ]
     },
     "metadata": {},
     "output_type": "display_data"
    },
    {
     "name": "stdout",
     "output_type": "stream",
     "text": [
      "\n",
      "Epoch [48/100], Eval Loss: 62.2823\n"
     ]
    },
    {
     "data": {
      "application/vnd.jupyter.widget-view+json": {
       "model_id": "1902ab5f61f24d8e851152718343ffcf",
       "version_major": 2,
       "version_minor": 0
      },
      "text/plain": [
       "HBox(children=(HTML(value='*********Train mode*******'), FloatProgress(value=0.0, max=489.0), HTML(value='')))"
      ]
     },
     "metadata": {},
     "output_type": "display_data"
    },
    {
     "name": "stdout",
     "output_type": "stream",
     "text": [
      "\n",
      "Epoch [49/100], Train Loss: 61.7522\n",
      "Train Time:  7984.849160432816\n"
     ]
    },
    {
     "data": {
      "application/vnd.jupyter.widget-view+json": {
       "model_id": "6db8f69c8e624faab11481f84fc9274b",
       "version_major": 2,
       "version_minor": 0
      },
      "text/plain": [
       "HBox(children=(HTML(value='*********Evaluation mode*******'), FloatProgress(value=0.0, max=10.0), HTML(value='…"
      ]
     },
     "metadata": {},
     "output_type": "display_data"
    },
    {
     "name": "stdout",
     "output_type": "stream",
     "text": [
      "\n",
      "Epoch [49/100], Eval Loss: 48.5043\n",
      "Best Model saved......\n"
     ]
    },
    {
     "data": {
      "application/vnd.jupyter.widget-view+json": {
       "model_id": "1e89537f4a214ad891aaa98a2afcdf96",
       "version_major": 2,
       "version_minor": 0
      },
      "text/plain": [
       "HBox(children=(HTML(value='*********Train mode*******'), FloatProgress(value=0.0, max=489.0), HTML(value='')))"
      ]
     },
     "metadata": {},
     "output_type": "display_data"
    },
    {
     "name": "stdout",
     "output_type": "stream",
     "text": [
      "\n",
      "Epoch [50/100], Train Loss: 56.0488\n",
      "Train Time:  8150.714077234268\n"
     ]
    },
    {
     "data": {
      "application/vnd.jupyter.widget-view+json": {
       "model_id": "1a576582918548e4af7f8c782bbdcc20",
       "version_major": 2,
       "version_minor": 0
      },
      "text/plain": [
       "HBox(children=(HTML(value='*********Evaluation mode*******'), FloatProgress(value=0.0, max=10.0), HTML(value='…"
      ]
     },
     "metadata": {},
     "output_type": "display_data"
    },
    {
     "name": "stdout",
     "output_type": "stream",
     "text": [
      "\n",
      "Epoch [50/100], Eval Loss: 48.6467\n"
     ]
    },
    {
     "data": {
      "application/vnd.jupyter.widget-view+json": {
       "model_id": "3943df56678e4b2d8839195901e2e585",
       "version_major": 2,
       "version_minor": 0
      },
      "text/plain": [
       "HBox(children=(HTML(value='*********Train mode*******'), FloatProgress(value=0.0, max=489.0), HTML(value='')))"
      ]
     },
     "metadata": {},
     "output_type": "display_data"
    },
    {
     "name": "stdout",
     "output_type": "stream",
     "text": [
      "\n",
      "Epoch [51/100], Train Loss: 52.6807\n",
      "Train Time:  8310.13811302185\n"
     ]
    },
    {
     "data": {
      "application/vnd.jupyter.widget-view+json": {
       "model_id": "e416de0bf5e94de7adab61785c78b82f",
       "version_major": 2,
       "version_minor": 0
      },
      "text/plain": [
       "HBox(children=(HTML(value='*********Evaluation mode*******'), FloatProgress(value=0.0, max=10.0), HTML(value='…"
      ]
     },
     "metadata": {},
     "output_type": "display_data"
    },
    {
     "name": "stdout",
     "output_type": "stream",
     "text": [
      "\n",
      "Epoch [51/100], Eval Loss: 42.9684\n",
      "Best Model saved......\n"
     ]
    },
    {
     "data": {
      "application/vnd.jupyter.widget-view+json": {
       "model_id": "c8f603617a924e9d812e771014c73e15",
       "version_major": 2,
       "version_minor": 0
      },
      "text/plain": [
       "HBox(children=(HTML(value='*********Train mode*******'), FloatProgress(value=0.0, max=489.0), HTML(value='')))"
      ]
     },
     "metadata": {},
     "output_type": "display_data"
    },
    {
     "name": "stdout",
     "output_type": "stream",
     "text": [
      "\n",
      "Epoch [52/100], Train Loss: 51.6201\n",
      "Train Time:  8477.021875143051\n"
     ]
    },
    {
     "data": {
      "application/vnd.jupyter.widget-view+json": {
       "model_id": "11a1097791bd42fa808f3b930358dd3d",
       "version_major": 2,
       "version_minor": 0
      },
      "text/plain": [
       "HBox(children=(HTML(value='*********Evaluation mode*******'), FloatProgress(value=0.0, max=10.0), HTML(value='…"
      ]
     },
     "metadata": {},
     "output_type": "display_data"
    },
    {
     "name": "stdout",
     "output_type": "stream",
     "text": [
      "\n",
      "Epoch [52/100], Eval Loss: 46.3520\n"
     ]
    },
    {
     "data": {
      "application/vnd.jupyter.widget-view+json": {
       "model_id": "5d388259f6464c9086649702a129aa7b",
       "version_major": 2,
       "version_minor": 0
      },
      "text/plain": [
       "HBox(children=(HTML(value='*********Train mode*******'), FloatProgress(value=0.0, max=489.0), HTML(value='')))"
      ]
     },
     "metadata": {},
     "output_type": "display_data"
    },
    {
     "name": "stdout",
     "output_type": "stream",
     "text": [
      "\n",
      "Epoch [53/100], Train Loss: 46.8948\n",
      "Train Time:  8636.435415267944\n"
     ]
    },
    {
     "data": {
      "application/vnd.jupyter.widget-view+json": {
       "model_id": "ed0b33b09488434e842c8be699045df6",
       "version_major": 2,
       "version_minor": 0
      },
      "text/plain": [
       "HBox(children=(HTML(value='*********Evaluation mode*******'), FloatProgress(value=0.0, max=10.0), HTML(value='…"
      ]
     },
     "metadata": {},
     "output_type": "display_data"
    },
    {
     "name": "stdout",
     "output_type": "stream",
     "text": [
      "\n",
      "Epoch [53/100], Eval Loss: 44.2254\n"
     ]
    },
    {
     "data": {
      "application/vnd.jupyter.widget-view+json": {
       "model_id": "438a58d06817493192fc6fedb27f000d",
       "version_major": 2,
       "version_minor": 0
      },
      "text/plain": [
       "HBox(children=(HTML(value='*********Train mode*******'), FloatProgress(value=0.0, max=489.0), HTML(value='')))"
      ]
     },
     "metadata": {},
     "output_type": "display_data"
    },
    {
     "name": "stdout",
     "output_type": "stream",
     "text": [
      "\n",
      "Epoch [54/100], Train Loss: 45.6982\n",
      "Train Time:  8796.48033118248\n"
     ]
    },
    {
     "data": {
      "application/vnd.jupyter.widget-view+json": {
       "model_id": "1e97774ff6744516a056a61183597c44",
       "version_major": 2,
       "version_minor": 0
      },
      "text/plain": [
       "HBox(children=(HTML(value='*********Evaluation mode*******'), FloatProgress(value=0.0, max=10.0), HTML(value='…"
      ]
     },
     "metadata": {},
     "output_type": "display_data"
    },
    {
     "name": "stdout",
     "output_type": "stream",
     "text": [
      "\n",
      "Epoch [54/100], Eval Loss: 40.1232\n",
      "Best Model saved......\n"
     ]
    },
    {
     "data": {
      "application/vnd.jupyter.widget-view+json": {
       "model_id": "bb536e24bf8244e99cdb70530335380b",
       "version_major": 2,
       "version_minor": 0
      },
      "text/plain": [
       "HBox(children=(HTML(value='*********Train mode*******'), FloatProgress(value=0.0, max=489.0), HTML(value='')))"
      ]
     },
     "metadata": {},
     "output_type": "display_data"
    },
    {
     "name": "stdout",
     "output_type": "stream",
     "text": [
      "\n",
      "Epoch [55/100], Train Loss: 47.4766\n",
      "Train Time:  8962.777656316757\n"
     ]
    },
    {
     "data": {
      "application/vnd.jupyter.widget-view+json": {
       "model_id": "e904d44fdf7848a9a7d57ca4b1d204c5",
       "version_major": 2,
       "version_minor": 0
      },
      "text/plain": [
       "HBox(children=(HTML(value='*********Evaluation mode*******'), FloatProgress(value=0.0, max=10.0), HTML(value='…"
      ]
     },
     "metadata": {},
     "output_type": "display_data"
    },
    {
     "name": "stdout",
     "output_type": "stream",
     "text": [
      "\n",
      "Epoch [55/100], Eval Loss: 38.8933\n",
      "Best Model saved......\n"
     ]
    },
    {
     "data": {
      "application/vnd.jupyter.widget-view+json": {
       "model_id": "a76f2d6b36fa4b9db63f2ebc97be80fd",
       "version_major": 2,
       "version_minor": 0
      },
      "text/plain": [
       "HBox(children=(HTML(value='*********Train mode*******'), FloatProgress(value=0.0, max=489.0), HTML(value='')))"
      ]
     },
     "metadata": {},
     "output_type": "display_data"
    },
    {
     "name": "stdout",
     "output_type": "stream",
     "text": [
      "\n",
      "Epoch [56/100], Train Loss: 45.6072\n",
      "Train Time:  9131.583289861679\n"
     ]
    },
    {
     "data": {
      "application/vnd.jupyter.widget-view+json": {
       "model_id": "7e25e39757c54b08b331a0bb7386faff",
       "version_major": 2,
       "version_minor": 0
      },
      "text/plain": [
       "HBox(children=(HTML(value='*********Evaluation mode*******'), FloatProgress(value=0.0, max=10.0), HTML(value='…"
      ]
     },
     "metadata": {},
     "output_type": "display_data"
    },
    {
     "name": "stdout",
     "output_type": "stream",
     "text": [
      "\n",
      "Epoch [56/100], Eval Loss: 51.4404\n"
     ]
    },
    {
     "data": {
      "application/vnd.jupyter.widget-view+json": {
       "model_id": "c20bc03f5b6349b6b8f467b8faab7dd5",
       "version_major": 2,
       "version_minor": 0
      },
      "text/plain": [
       "HBox(children=(HTML(value='*********Train mode*******'), FloatProgress(value=0.0, max=489.0), HTML(value='')))"
      ]
     },
     "metadata": {},
     "output_type": "display_data"
    },
    {
     "name": "stdout",
     "output_type": "stream",
     "text": [
      "\n",
      "Epoch [57/100], Train Loss: 40.7150\n",
      "Train Time:  9291.163340091705\n"
     ]
    },
    {
     "data": {
      "application/vnd.jupyter.widget-view+json": {
       "model_id": "db5707d9b9d34973b16631e2a419da85",
       "version_major": 2,
       "version_minor": 0
      },
      "text/plain": [
       "HBox(children=(HTML(value='*********Evaluation mode*******'), FloatProgress(value=0.0, max=10.0), HTML(value='…"
      ]
     },
     "metadata": {},
     "output_type": "display_data"
    },
    {
     "name": "stdout",
     "output_type": "stream",
     "text": [
      "\n",
      "Epoch [57/100], Eval Loss: 49.5611\n"
     ]
    },
    {
     "data": {
      "application/vnd.jupyter.widget-view+json": {
       "model_id": "438866424860448bb1db558f3828cde6",
       "version_major": 2,
       "version_minor": 0
      },
      "text/plain": [
       "HBox(children=(HTML(value='*********Train mode*******'), FloatProgress(value=0.0, max=489.0), HTML(value='')))"
      ]
     },
     "metadata": {},
     "output_type": "display_data"
    },
    {
     "name": "stdout",
     "output_type": "stream",
     "text": [
      "\n",
      "Epoch [58/100], Train Loss: 39.6880\n",
      "Train Time:  9450.501389741898\n"
     ]
    },
    {
     "data": {
      "application/vnd.jupyter.widget-view+json": {
       "model_id": "2625f2c8fd09400094de4ccdfe1a2d39",
       "version_major": 2,
       "version_minor": 0
      },
      "text/plain": [
       "HBox(children=(HTML(value='*********Evaluation mode*******'), FloatProgress(value=0.0, max=10.0), HTML(value='…"
      ]
     },
     "metadata": {},
     "output_type": "display_data"
    },
    {
     "name": "stdout",
     "output_type": "stream",
     "text": [
      "\n",
      "Epoch [58/100], Eval Loss: 45.5149\n"
     ]
    },
    {
     "data": {
      "application/vnd.jupyter.widget-view+json": {
       "model_id": "24fb4229c23d45d8935f474dd29bdbb7",
       "version_major": 2,
       "version_minor": 0
      },
      "text/plain": [
       "HBox(children=(HTML(value='*********Train mode*******'), FloatProgress(value=0.0, max=489.0), HTML(value='')))"
      ]
     },
     "metadata": {},
     "output_type": "display_data"
    },
    {
     "name": "stdout",
     "output_type": "stream",
     "text": [
      "\n",
      "Epoch [59/100], Train Loss: 38.6563\n",
      "Train Time:  9609.94296836853\n"
     ]
    },
    {
     "data": {
      "application/vnd.jupyter.widget-view+json": {
       "model_id": "24b4298b00344b65a7c6987dc1fb4752",
       "version_major": 2,
       "version_minor": 0
      },
      "text/plain": [
       "HBox(children=(HTML(value='*********Evaluation mode*******'), FloatProgress(value=0.0, max=10.0), HTML(value='…"
      ]
     },
     "metadata": {},
     "output_type": "display_data"
    },
    {
     "name": "stdout",
     "output_type": "stream",
     "text": [
      "\n",
      "Epoch [59/100], Eval Loss: 37.6190\n",
      "Best Model saved......\n"
     ]
    },
    {
     "data": {
      "application/vnd.jupyter.widget-view+json": {
       "model_id": "f164bb8bfbce4ca08035f0f4912d5ec5",
       "version_major": 2,
       "version_minor": 0
      },
      "text/plain": [
       "HBox(children=(HTML(value='*********Train mode*******'), FloatProgress(value=0.0, max=489.0), HTML(value='')))"
      ]
     },
     "metadata": {},
     "output_type": "display_data"
    },
    {
     "name": "stdout",
     "output_type": "stream",
     "text": [
      "\n",
      "Epoch [60/100], Train Loss: 37.7743\n",
      "Train Time:  9777.816239118576\n"
     ]
    },
    {
     "data": {
      "application/vnd.jupyter.widget-view+json": {
       "model_id": "535feb2c8b6b4523b3ca9b819ed2254c",
       "version_major": 2,
       "version_minor": 0
      },
      "text/plain": [
       "HBox(children=(HTML(value='*********Evaluation mode*******'), FloatProgress(value=0.0, max=10.0), HTML(value='…"
      ]
     },
     "metadata": {},
     "output_type": "display_data"
    },
    {
     "name": "stdout",
     "output_type": "stream",
     "text": [
      "\n",
      "Epoch [60/100], Eval Loss: 33.3374\n",
      "Best Model saved......\n"
     ]
    },
    {
     "data": {
      "application/vnd.jupyter.widget-view+json": {
       "model_id": "3809cf643b7a4a62a827312489ff2a50",
       "version_major": 2,
       "version_minor": 0
      },
      "text/plain": [
       "HBox(children=(HTML(value='*********Train mode*******'), FloatProgress(value=0.0, max=489.0), HTML(value='')))"
      ]
     },
     "metadata": {},
     "output_type": "display_data"
    },
    {
     "name": "stdout",
     "output_type": "stream",
     "text": [
      "\n",
      "Epoch [61/100], Train Loss: 35.9168\n",
      "Train Time:  9945.130328178406\n"
     ]
    },
    {
     "data": {
      "application/vnd.jupyter.widget-view+json": {
       "model_id": "81d70981d21945ce8455a00e4e4c846a",
       "version_major": 2,
       "version_minor": 0
      },
      "text/plain": [
       "HBox(children=(HTML(value='*********Evaluation mode*******'), FloatProgress(value=0.0, max=10.0), HTML(value='…"
      ]
     },
     "metadata": {},
     "output_type": "display_data"
    },
    {
     "name": "stdout",
     "output_type": "stream",
     "text": [
      "\n",
      "Epoch [61/100], Eval Loss: 33.7807\n"
     ]
    },
    {
     "data": {
      "application/vnd.jupyter.widget-view+json": {
       "model_id": "4a4171e511e5440cb23527d84ae623e8",
       "version_major": 2,
       "version_minor": 0
      },
      "text/plain": [
       "HBox(children=(HTML(value='*********Train mode*******'), FloatProgress(value=0.0, max=489.0), HTML(value='')))"
      ]
     },
     "metadata": {},
     "output_type": "display_data"
    },
    {
     "name": "stdout",
     "output_type": "stream",
     "text": [
      "\n",
      "Epoch [62/100], Train Loss: 35.3466\n",
      "Train Time:  10104.557594537735\n"
     ]
    },
    {
     "data": {
      "application/vnd.jupyter.widget-view+json": {
       "model_id": "9e68648980174acbae1da55399d98c27",
       "version_major": 2,
       "version_minor": 0
      },
      "text/plain": [
       "HBox(children=(HTML(value='*********Evaluation mode*******'), FloatProgress(value=0.0, max=10.0), HTML(value='…"
      ]
     },
     "metadata": {},
     "output_type": "display_data"
    },
    {
     "name": "stdout",
     "output_type": "stream",
     "text": [
      "\n",
      "Epoch [62/100], Eval Loss: 42.5816\n"
     ]
    },
    {
     "data": {
      "application/vnd.jupyter.widget-view+json": {
       "model_id": "8486fd3cf55b4e2eb7af9d07db8bd005",
       "version_major": 2,
       "version_minor": 0
      },
      "text/plain": [
       "HBox(children=(HTML(value='*********Train mode*******'), FloatProgress(value=0.0, max=489.0), HTML(value='')))"
      ]
     },
     "metadata": {},
     "output_type": "display_data"
    },
    {
     "name": "stdout",
     "output_type": "stream",
     "text": [
      "\n",
      "Epoch [63/100], Train Loss: 34.9912\n",
      "Train Time:  10264.032024860382\n"
     ]
    },
    {
     "data": {
      "application/vnd.jupyter.widget-view+json": {
       "model_id": "814717cc78c447e6b2a7c796d28b7835",
       "version_major": 2,
       "version_minor": 0
      },
      "text/plain": [
       "HBox(children=(HTML(value='*********Evaluation mode*******'), FloatProgress(value=0.0, max=10.0), HTML(value='…"
      ]
     },
     "metadata": {},
     "output_type": "display_data"
    },
    {
     "name": "stdout",
     "output_type": "stream",
     "text": [
      "\n",
      "Epoch [63/100], Eval Loss: 33.4462\n"
     ]
    },
    {
     "data": {
      "application/vnd.jupyter.widget-view+json": {
       "model_id": "1e0731890e494115b6335d1b2cc28a9a",
       "version_major": 2,
       "version_minor": 0
      },
      "text/plain": [
       "HBox(children=(HTML(value='*********Train mode*******'), FloatProgress(value=0.0, max=489.0), HTML(value='')))"
      ]
     },
     "metadata": {},
     "output_type": "display_data"
    },
    {
     "name": "stdout",
     "output_type": "stream",
     "text": [
      "\n",
      "Epoch [64/100], Train Loss: 33.0442\n",
      "Train Time:  10423.344970941544\n"
     ]
    },
    {
     "data": {
      "application/vnd.jupyter.widget-view+json": {
       "model_id": "540218e0a1da4982917815dfe0511b2a",
       "version_major": 2,
       "version_minor": 0
      },
      "text/plain": [
       "HBox(children=(HTML(value='*********Evaluation mode*******'), FloatProgress(value=0.0, max=10.0), HTML(value='…"
      ]
     },
     "metadata": {},
     "output_type": "display_data"
    },
    {
     "name": "stdout",
     "output_type": "stream",
     "text": [
      "\n",
      "Epoch [64/100], Eval Loss: 29.6259\n",
      "Best Model saved......\n"
     ]
    },
    {
     "data": {
      "application/vnd.jupyter.widget-view+json": {
       "model_id": "7ca0d5c7076044b9a8ea1f915dfc9fb5",
       "version_major": 2,
       "version_minor": 0
      },
      "text/plain": [
       "HBox(children=(HTML(value='*********Train mode*******'), FloatProgress(value=0.0, max=489.0), HTML(value='')))"
      ]
     },
     "metadata": {},
     "output_type": "display_data"
    },
    {
     "name": "stdout",
     "output_type": "stream",
     "text": [
      "\n",
      "Epoch [65/100], Train Loss: 31.3958\n",
      "Train Time:  10591.167267084122\n"
     ]
    },
    {
     "data": {
      "application/vnd.jupyter.widget-view+json": {
       "model_id": "0ca50e0d326f4346869c539a2c0c99ea",
       "version_major": 2,
       "version_minor": 0
      },
      "text/plain": [
       "HBox(children=(HTML(value='*********Evaluation mode*******'), FloatProgress(value=0.0, max=10.0), HTML(value='…"
      ]
     },
     "metadata": {},
     "output_type": "display_data"
    },
    {
     "name": "stdout",
     "output_type": "stream",
     "text": [
      "\n",
      "Epoch [65/100], Eval Loss: 34.2524\n"
     ]
    },
    {
     "data": {
      "application/vnd.jupyter.widget-view+json": {
       "model_id": "f1f39c3ddef647e9aa808b8536a958ca",
       "version_major": 2,
       "version_minor": 0
      },
      "text/plain": [
       "HBox(children=(HTML(value='*********Train mode*******'), FloatProgress(value=0.0, max=489.0), HTML(value='')))"
      ]
     },
     "metadata": {},
     "output_type": "display_data"
    },
    {
     "name": "stdout",
     "output_type": "stream",
     "text": [
      "\n",
      "Epoch [66/100], Train Loss: 30.8494\n",
      "Train Time:  10749.323815345764\n"
     ]
    },
    {
     "data": {
      "application/vnd.jupyter.widget-view+json": {
       "model_id": "4ee5e704aae740bba7f132c3ad5abdff",
       "version_major": 2,
       "version_minor": 0
      },
      "text/plain": [
       "HBox(children=(HTML(value='*********Evaluation mode*******'), FloatProgress(value=0.0, max=10.0), HTML(value='…"
      ]
     },
     "metadata": {},
     "output_type": "display_data"
    },
    {
     "name": "stdout",
     "output_type": "stream",
     "text": [
      "\n",
      "Epoch [66/100], Eval Loss: 29.5885\n",
      "Best Model saved......\n"
     ]
    },
    {
     "data": {
      "application/vnd.jupyter.widget-view+json": {
       "model_id": "c8c8da07debf406097c8882cc311a599",
       "version_major": 2,
       "version_minor": 0
      },
      "text/plain": [
       "HBox(children=(HTML(value='*********Train mode*******'), FloatProgress(value=0.0, max=489.0), HTML(value='')))"
      ]
     },
     "metadata": {},
     "output_type": "display_data"
    },
    {
     "name": "stdout",
     "output_type": "stream",
     "text": [
      "\n",
      "Epoch [67/100], Train Loss: 29.0483\n",
      "Train Time:  10917.731618404388\n"
     ]
    },
    {
     "data": {
      "application/vnd.jupyter.widget-view+json": {
       "model_id": "c31a7cd63b3248c89b833048912987b7",
       "version_major": 2,
       "version_minor": 0
      },
      "text/plain": [
       "HBox(children=(HTML(value='*********Evaluation mode*******'), FloatProgress(value=0.0, max=10.0), HTML(value='…"
      ]
     },
     "metadata": {},
     "output_type": "display_data"
    },
    {
     "name": "stdout",
     "output_type": "stream",
     "text": [
      "\n",
      "Epoch [67/100], Eval Loss: 29.4440\n",
      "Best Model saved......\n"
     ]
    },
    {
     "data": {
      "application/vnd.jupyter.widget-view+json": {
       "model_id": "4ae8313c0a714b4bbfd3391ec74e47c7",
       "version_major": 2,
       "version_minor": 0
      },
      "text/plain": [
       "HBox(children=(HTML(value='*********Train mode*******'), FloatProgress(value=0.0, max=489.0), HTML(value='')))"
      ]
     },
     "metadata": {},
     "output_type": "display_data"
    },
    {
     "name": "stdout",
     "output_type": "stream",
     "text": [
      "\n",
      "Epoch [68/100], Train Loss: 29.3478\n",
      "Train Time:  11085.741520166397\n"
     ]
    },
    {
     "data": {
      "application/vnd.jupyter.widget-view+json": {
       "model_id": "a51636fd2b0440eabeac912a94a0b5d5",
       "version_major": 2,
       "version_minor": 0
      },
      "text/plain": [
       "HBox(children=(HTML(value='*********Evaluation mode*******'), FloatProgress(value=0.0, max=10.0), HTML(value='…"
      ]
     },
     "metadata": {},
     "output_type": "display_data"
    },
    {
     "name": "stdout",
     "output_type": "stream",
     "text": [
      "\n",
      "Epoch [68/100], Eval Loss: 24.7751\n",
      "Best Model saved......\n"
     ]
    },
    {
     "data": {
      "application/vnd.jupyter.widget-view+json": {
       "model_id": "dc3c2cbb640e4ffcaef5b30abcb978cc",
       "version_major": 2,
       "version_minor": 0
      },
      "text/plain": [
       "HBox(children=(HTML(value='*********Train mode*******'), FloatProgress(value=0.0, max=489.0), HTML(value='')))"
      ]
     },
     "metadata": {},
     "output_type": "display_data"
    },
    {
     "name": "stdout",
     "output_type": "stream",
     "text": [
      "\n",
      "Epoch [69/100], Train Loss: 27.6163\n",
      "Train Time:  11253.935913801193\n"
     ]
    },
    {
     "data": {
      "application/vnd.jupyter.widget-view+json": {
       "model_id": "6e9419f508de47ba817b8361728ebaf2",
       "version_major": 2,
       "version_minor": 0
      },
      "text/plain": [
       "HBox(children=(HTML(value='*********Evaluation mode*******'), FloatProgress(value=0.0, max=10.0), HTML(value='…"
      ]
     },
     "metadata": {},
     "output_type": "display_data"
    },
    {
     "name": "stdout",
     "output_type": "stream",
     "text": [
      "\n",
      "Epoch [69/100], Eval Loss: 26.8009\n"
     ]
    },
    {
     "data": {
      "application/vnd.jupyter.widget-view+json": {
       "model_id": "fef51c0380764277ba5280799a57a575",
       "version_major": 2,
       "version_minor": 0
      },
      "text/plain": [
       "HBox(children=(HTML(value='*********Train mode*******'), FloatProgress(value=0.0, max=489.0), HTML(value='')))"
      ]
     },
     "metadata": {},
     "output_type": "display_data"
    },
    {
     "name": "stdout",
     "output_type": "stream",
     "text": [
      "\n",
      "Epoch [70/100], Train Loss: 26.6799\n",
      "Train Time:  11413.742462873459\n"
     ]
    },
    {
     "data": {
      "application/vnd.jupyter.widget-view+json": {
       "model_id": "4cea1e0ad5f24dedbd259c9ac6fb723f",
       "version_major": 2,
       "version_minor": 0
      },
      "text/plain": [
       "HBox(children=(HTML(value='*********Evaluation mode*******'), FloatProgress(value=0.0, max=10.0), HTML(value='…"
      ]
     },
     "metadata": {},
     "output_type": "display_data"
    },
    {
     "name": "stdout",
     "output_type": "stream",
     "text": [
      "\n",
      "Epoch [70/100], Eval Loss: 25.1108\n"
     ]
    },
    {
     "data": {
      "application/vnd.jupyter.widget-view+json": {
       "model_id": "0716a381c8d44b95b49b3e94056e1ec1",
       "version_major": 2,
       "version_minor": 0
      },
      "text/plain": [
       "HBox(children=(HTML(value='*********Train mode*******'), FloatProgress(value=0.0, max=489.0), HTML(value='')))"
      ]
     },
     "metadata": {},
     "output_type": "display_data"
    },
    {
     "name": "stdout",
     "output_type": "stream",
     "text": [
      "\n",
      "Epoch [71/100], Train Loss: 25.2682\n",
      "Train Time:  11573.54428768158\n"
     ]
    },
    {
     "data": {
      "application/vnd.jupyter.widget-view+json": {
       "model_id": "e166992e7c8b4b4981c2068c8a328db2",
       "version_major": 2,
       "version_minor": 0
      },
      "text/plain": [
       "HBox(children=(HTML(value='*********Evaluation mode*******'), FloatProgress(value=0.0, max=10.0), HTML(value='…"
      ]
     },
     "metadata": {},
     "output_type": "display_data"
    },
    {
     "name": "stdout",
     "output_type": "stream",
     "text": [
      "\n",
      "Epoch [71/100], Eval Loss: 24.9819\n"
     ]
    },
    {
     "data": {
      "application/vnd.jupyter.widget-view+json": {
       "model_id": "d936e25fd97047fb8b0370b5eca5fd1b",
       "version_major": 2,
       "version_minor": 0
      },
      "text/plain": [
       "HBox(children=(HTML(value='*********Train mode*******'), FloatProgress(value=0.0, max=489.0), HTML(value='')))"
      ]
     },
     "metadata": {},
     "output_type": "display_data"
    },
    {
     "name": "stdout",
     "output_type": "stream",
     "text": [
      "\n",
      "Epoch [72/100], Train Loss: 25.3697\n",
      "Train Time:  11732.961198568344\n"
     ]
    },
    {
     "data": {
      "application/vnd.jupyter.widget-view+json": {
       "model_id": "64bd4048b31e492b8b900df9cace2b50",
       "version_major": 2,
       "version_minor": 0
      },
      "text/plain": [
       "HBox(children=(HTML(value='*********Evaluation mode*******'), FloatProgress(value=0.0, max=10.0), HTML(value='…"
      ]
     },
     "metadata": {},
     "output_type": "display_data"
    },
    {
     "name": "stdout",
     "output_type": "stream",
     "text": [
      "\n",
      "Epoch [72/100], Eval Loss: 24.3864\n",
      "Best Model saved......\n"
     ]
    },
    {
     "data": {
      "application/vnd.jupyter.widget-view+json": {
       "model_id": "0dd306ee2a744e08b1090036c6c21e21",
       "version_major": 2,
       "version_minor": 0
      },
      "text/plain": [
       "HBox(children=(HTML(value='*********Train mode*******'), FloatProgress(value=0.0, max=489.0), HTML(value='')))"
      ]
     },
     "metadata": {},
     "output_type": "display_data"
    },
    {
     "name": "stdout",
     "output_type": "stream",
     "text": [
      "\n",
      "Epoch [73/100], Train Loss: 24.1619\n",
      "Train Time:  11900.183934926987\n"
     ]
    },
    {
     "data": {
      "application/vnd.jupyter.widget-view+json": {
       "model_id": "57c56813163c42e38d9487da09936f94",
       "version_major": 2,
       "version_minor": 0
      },
      "text/plain": [
       "HBox(children=(HTML(value='*********Evaluation mode*******'), FloatProgress(value=0.0, max=10.0), HTML(value='…"
      ]
     },
     "metadata": {},
     "output_type": "display_data"
    },
    {
     "name": "stdout",
     "output_type": "stream",
     "text": [
      "\n",
      "Epoch [73/100], Eval Loss: 34.2680\n"
     ]
    },
    {
     "data": {
      "application/vnd.jupyter.widget-view+json": {
       "model_id": "bbd82794c801497996f1c7d53331e35e",
       "version_major": 2,
       "version_minor": 0
      },
      "text/plain": [
       "HBox(children=(HTML(value='*********Train mode*******'), FloatProgress(value=0.0, max=489.0), HTML(value='')))"
      ]
     },
     "metadata": {},
     "output_type": "display_data"
    },
    {
     "name": "stdout",
     "output_type": "stream",
     "text": [
      "\n",
      "Epoch [74/100], Train Loss: 24.1790\n",
      "Train Time:  12060.14557814598\n"
     ]
    },
    {
     "data": {
      "application/vnd.jupyter.widget-view+json": {
       "model_id": "cb7dd6df7f1e4aedb2b53c70e096638c",
       "version_major": 2,
       "version_minor": 0
      },
      "text/plain": [
       "HBox(children=(HTML(value='*********Evaluation mode*******'), FloatProgress(value=0.0, max=10.0), HTML(value='…"
      ]
     },
     "metadata": {},
     "output_type": "display_data"
    },
    {
     "name": "stdout",
     "output_type": "stream",
     "text": [
      "\n",
      "Epoch [74/100], Eval Loss: 23.0456\n",
      "Best Model saved......\n"
     ]
    },
    {
     "data": {
      "application/vnd.jupyter.widget-view+json": {
       "model_id": "4193be7bc14b4f38a4ace3fd7d6c07bd",
       "version_major": 2,
       "version_minor": 0
      },
      "text/plain": [
       "HBox(children=(HTML(value='*********Train mode*******'), FloatProgress(value=0.0, max=489.0), HTML(value='')))"
      ]
     },
     "metadata": {},
     "output_type": "display_data"
    },
    {
     "name": "stdout",
     "output_type": "stream",
     "text": [
      "\n",
      "Epoch [75/100], Train Loss: 22.2689\n",
      "Train Time:  12227.029729604721\n"
     ]
    },
    {
     "data": {
      "application/vnd.jupyter.widget-view+json": {
       "model_id": "0049adece56e471da7534fbd38c77089",
       "version_major": 2,
       "version_minor": 0
      },
      "text/plain": [
       "HBox(children=(HTML(value='*********Evaluation mode*******'), FloatProgress(value=0.0, max=10.0), HTML(value='…"
      ]
     },
     "metadata": {},
     "output_type": "display_data"
    },
    {
     "name": "stdout",
     "output_type": "stream",
     "text": [
      "\n",
      "Epoch [75/100], Eval Loss: 20.8935\n",
      "Best Model saved......\n"
     ]
    },
    {
     "data": {
      "application/vnd.jupyter.widget-view+json": {
       "model_id": "196780597fe14f548e6f9b3e8b3b711e",
       "version_major": 2,
       "version_minor": 0
      },
      "text/plain": [
       "HBox(children=(HTML(value='*********Train mode*******'), FloatProgress(value=0.0, max=489.0), HTML(value='')))"
      ]
     },
     "metadata": {},
     "output_type": "display_data"
    },
    {
     "name": "stdout",
     "output_type": "stream",
     "text": [
      "\n",
      "Epoch [76/100], Train Loss: 22.0323\n",
      "Train Time:  12393.743817090988\n"
     ]
    },
    {
     "data": {
      "application/vnd.jupyter.widget-view+json": {
       "model_id": "ec25c1b775244e1f8c0151a56c797be3",
       "version_major": 2,
       "version_minor": 0
      },
      "text/plain": [
       "HBox(children=(HTML(value='*********Evaluation mode*******'), FloatProgress(value=0.0, max=10.0), HTML(value='…"
      ]
     },
     "metadata": {},
     "output_type": "display_data"
    },
    {
     "name": "stdout",
     "output_type": "stream",
     "text": [
      "\n",
      "Epoch [76/100], Eval Loss: 22.9485\n"
     ]
    },
    {
     "data": {
      "application/vnd.jupyter.widget-view+json": {
       "model_id": "7459c03e6e40406eabbbf42db2d51087",
       "version_major": 2,
       "version_minor": 0
      },
      "text/plain": [
       "HBox(children=(HTML(value='*********Train mode*******'), FloatProgress(value=0.0, max=489.0), HTML(value='')))"
      ]
     },
     "metadata": {},
     "output_type": "display_data"
    },
    {
     "name": "stdout",
     "output_type": "stream",
     "text": [
      "\n",
      "Epoch [77/100], Train Loss: 19.7593\n",
      "Train Time:  12549.55252456665\n"
     ]
    },
    {
     "data": {
      "application/vnd.jupyter.widget-view+json": {
       "model_id": "6fcefacf67af4e15a3f98cc7be153c27",
       "version_major": 2,
       "version_minor": 0
      },
      "text/plain": [
       "HBox(children=(HTML(value='*********Evaluation mode*******'), FloatProgress(value=0.0, max=10.0), HTML(value='…"
      ]
     },
     "metadata": {},
     "output_type": "display_data"
    },
    {
     "name": "stdout",
     "output_type": "stream",
     "text": [
      "\n",
      "Epoch [77/100], Eval Loss: 23.3397\n"
     ]
    },
    {
     "data": {
      "application/vnd.jupyter.widget-view+json": {
       "model_id": "dd09df0aec864e4d99a34a05b72137b3",
       "version_major": 2,
       "version_minor": 0
      },
      "text/plain": [
       "HBox(children=(HTML(value='*********Train mode*******'), FloatProgress(value=0.0, max=489.0), HTML(value='')))"
      ]
     },
     "metadata": {},
     "output_type": "display_data"
    },
    {
     "name": "stdout",
     "output_type": "stream",
     "text": [
      "\n",
      "Epoch [78/100], Train Loss: 19.9447\n",
      "Train Time:  12711.169349908829\n"
     ]
    },
    {
     "data": {
      "application/vnd.jupyter.widget-view+json": {
       "model_id": "ebd292ec63c84e80ab545180438862c2",
       "version_major": 2,
       "version_minor": 0
      },
      "text/plain": [
       "HBox(children=(HTML(value='*********Evaluation mode*******'), FloatProgress(value=0.0, max=10.0), HTML(value='…"
      ]
     },
     "metadata": {},
     "output_type": "display_data"
    },
    {
     "name": "stdout",
     "output_type": "stream",
     "text": [
      "\n",
      "Epoch [78/100], Eval Loss: 19.9391\n",
      "Best Model saved......\n"
     ]
    },
    {
     "data": {
      "application/vnd.jupyter.widget-view+json": {
       "model_id": "b4f89d238ba2456794590ca57df92dac",
       "version_major": 2,
       "version_minor": 0
      },
      "text/plain": [
       "HBox(children=(HTML(value='*********Train mode*******'), FloatProgress(value=0.0, max=489.0), HTML(value='')))"
      ]
     },
     "metadata": {},
     "output_type": "display_data"
    },
    {
     "name": "stdout",
     "output_type": "stream",
     "text": [
      "\n",
      "Epoch [79/100], Train Loss: 18.9642\n",
      "Train Time:  12879.894357681274\n"
     ]
    },
    {
     "data": {
      "application/vnd.jupyter.widget-view+json": {
       "model_id": "4f94df82c53c4e37892c5e07a487534d",
       "version_major": 2,
       "version_minor": 0
      },
      "text/plain": [
       "HBox(children=(HTML(value='*********Evaluation mode*******'), FloatProgress(value=0.0, max=10.0), HTML(value='…"
      ]
     },
     "metadata": {},
     "output_type": "display_data"
    },
    {
     "name": "stdout",
     "output_type": "stream",
     "text": [
      "\n",
      "Epoch [79/100], Eval Loss: 18.6912\n",
      "Best Model saved......\n"
     ]
    },
    {
     "data": {
      "application/vnd.jupyter.widget-view+json": {
       "model_id": "b1756ac227d647868e025342c8ef7e90",
       "version_major": 2,
       "version_minor": 0
      },
      "text/plain": [
       "HBox(children=(HTML(value='*********Train mode*******'), FloatProgress(value=0.0, max=489.0), HTML(value='')))"
      ]
     },
     "metadata": {},
     "output_type": "display_data"
    },
    {
     "name": "stdout",
     "output_type": "stream",
     "text": [
      "\n",
      "Epoch [80/100], Train Loss: 18.1350\n",
      "Train Time:  13047.996597766876\n"
     ]
    },
    {
     "data": {
      "application/vnd.jupyter.widget-view+json": {
       "model_id": "ff0342de41974bfca1ee225c558e13b9",
       "version_major": 2,
       "version_minor": 0
      },
      "text/plain": [
       "HBox(children=(HTML(value='*********Evaluation mode*******'), FloatProgress(value=0.0, max=10.0), HTML(value='…"
      ]
     },
     "metadata": {},
     "output_type": "display_data"
    },
    {
     "name": "stdout",
     "output_type": "stream",
     "text": [
      "\n",
      "Epoch [80/100], Eval Loss: 18.2963\n",
      "Best Model saved......\n"
     ]
    },
    {
     "data": {
      "application/vnd.jupyter.widget-view+json": {
       "model_id": "29e22a13496b45a79b958f26bcf92ae4",
       "version_major": 2,
       "version_minor": 0
      },
      "text/plain": [
       "HBox(children=(HTML(value='*********Train mode*******'), FloatProgress(value=0.0, max=489.0), HTML(value='')))"
      ]
     },
     "metadata": {},
     "output_type": "display_data"
    },
    {
     "name": "stdout",
     "output_type": "stream",
     "text": [
      "\n",
      "Epoch [81/100], Train Loss: 18.0868\n",
      "Train Time:  13216.375481843948\n"
     ]
    },
    {
     "data": {
      "application/vnd.jupyter.widget-view+json": {
       "model_id": "a1d5b896586b49149b545236368fc90a",
       "version_major": 2,
       "version_minor": 0
      },
      "text/plain": [
       "HBox(children=(HTML(value='*********Evaluation mode*******'), FloatProgress(value=0.0, max=10.0), HTML(value='…"
      ]
     },
     "metadata": {},
     "output_type": "display_data"
    },
    {
     "name": "stdout",
     "output_type": "stream",
     "text": [
      "\n",
      "Epoch [81/100], Eval Loss: 18.4454\n"
     ]
    },
    {
     "data": {
      "application/vnd.jupyter.widget-view+json": {
       "model_id": "400ee87bbd8e4f5a9eb0e4ffa42fe76a",
       "version_major": 2,
       "version_minor": 0
      },
      "text/plain": [
       "HBox(children=(HTML(value='*********Train mode*******'), FloatProgress(value=0.0, max=489.0), HTML(value='')))"
      ]
     },
     "metadata": {},
     "output_type": "display_data"
    },
    {
     "name": "stdout",
     "output_type": "stream",
     "text": [
      "\n",
      "Epoch [82/100], Train Loss: 17.2419\n",
      "Train Time:  13375.060973882675\n"
     ]
    },
    {
     "data": {
      "application/vnd.jupyter.widget-view+json": {
       "model_id": "263761784b694fc09998bc7c1b44e66a",
       "version_major": 2,
       "version_minor": 0
      },
      "text/plain": [
       "HBox(children=(HTML(value='*********Evaluation mode*******'), FloatProgress(value=0.0, max=10.0), HTML(value='…"
      ]
     },
     "metadata": {},
     "output_type": "display_data"
    },
    {
     "name": "stdout",
     "output_type": "stream",
     "text": [
      "\n",
      "Epoch [82/100], Eval Loss: 17.5588\n",
      "Best Model saved......\n"
     ]
    },
    {
     "data": {
      "application/vnd.jupyter.widget-view+json": {
       "model_id": "3e1f2a221dde40ab8b8c50ec7261b43e",
       "version_major": 2,
       "version_minor": 0
      },
      "text/plain": [
       "HBox(children=(HTML(value='*********Train mode*******'), FloatProgress(value=0.0, max=489.0), HTML(value='')))"
      ]
     },
     "metadata": {},
     "output_type": "display_data"
    },
    {
     "name": "stdout",
     "output_type": "stream",
     "text": [
      "\n",
      "Epoch [83/100], Train Loss: 16.0925\n",
      "Train Time:  13542.565606355667\n"
     ]
    },
    {
     "data": {
      "application/vnd.jupyter.widget-view+json": {
       "model_id": "3b2fef0577c44d3b8092e45d85a79485",
       "version_major": 2,
       "version_minor": 0
      },
      "text/plain": [
       "HBox(children=(HTML(value='*********Evaluation mode*******'), FloatProgress(value=0.0, max=10.0), HTML(value='…"
      ]
     },
     "metadata": {},
     "output_type": "display_data"
    },
    {
     "name": "stdout",
     "output_type": "stream",
     "text": [
      "\n",
      "Epoch [83/100], Eval Loss: 15.8760\n",
      "Best Model saved......\n"
     ]
    },
    {
     "data": {
      "application/vnd.jupyter.widget-view+json": {
       "model_id": "38f1049387d54394995c67761395e0cb",
       "version_major": 2,
       "version_minor": 0
      },
      "text/plain": [
       "HBox(children=(HTML(value='*********Train mode*******'), FloatProgress(value=0.0, max=489.0), HTML(value='')))"
      ]
     },
     "metadata": {},
     "output_type": "display_data"
    },
    {
     "name": "stdout",
     "output_type": "stream",
     "text": [
      "\n",
      "Epoch [84/100], Train Loss: 16.3638\n",
      "Train Time:  13709.899668693542\n"
     ]
    },
    {
     "data": {
      "application/vnd.jupyter.widget-view+json": {
       "model_id": "3a02230b3e6e4a109473e4bf6f96acec",
       "version_major": 2,
       "version_minor": 0
      },
      "text/plain": [
       "HBox(children=(HTML(value='*********Evaluation mode*******'), FloatProgress(value=0.0, max=10.0), HTML(value='…"
      ]
     },
     "metadata": {},
     "output_type": "display_data"
    },
    {
     "name": "stdout",
     "output_type": "stream",
     "text": [
      "\n",
      "Epoch [84/100], Eval Loss: 18.2823\n"
     ]
    },
    {
     "data": {
      "application/vnd.jupyter.widget-view+json": {
       "model_id": "10a25ceca0164be18c9ffd6d86256d72",
       "version_major": 2,
       "version_minor": 0
      },
      "text/plain": [
       "HBox(children=(HTML(value='*********Train mode*******'), FloatProgress(value=0.0, max=489.0), HTML(value='')))"
      ]
     },
     "metadata": {},
     "output_type": "display_data"
    },
    {
     "name": "stdout",
     "output_type": "stream",
     "text": [
      "\n",
      "Epoch [85/100], Train Loss: 15.0355\n",
      "Train Time:  13868.809794425964\n"
     ]
    },
    {
     "data": {
      "application/vnd.jupyter.widget-view+json": {
       "model_id": "9a6bbb6279694dfa9cb27ac383ab6096",
       "version_major": 2,
       "version_minor": 0
      },
      "text/plain": [
       "HBox(children=(HTML(value='*********Evaluation mode*******'), FloatProgress(value=0.0, max=10.0), HTML(value='…"
      ]
     },
     "metadata": {},
     "output_type": "display_data"
    },
    {
     "name": "stdout",
     "output_type": "stream",
     "text": [
      "\n",
      "Epoch [85/100], Eval Loss: 14.5940\n",
      "Best Model saved......\n"
     ]
    },
    {
     "data": {
      "application/vnd.jupyter.widget-view+json": {
       "model_id": "ca9944260a6d400e89a39647bbc380af",
       "version_major": 2,
       "version_minor": 0
      },
      "text/plain": [
       "HBox(children=(HTML(value='*********Train mode*******'), FloatProgress(value=0.0, max=489.0), HTML(value='')))"
      ]
     },
     "metadata": {},
     "output_type": "display_data"
    },
    {
     "name": "stdout",
     "output_type": "stream",
     "text": [
      "\n",
      "Epoch [86/100], Train Loss: 14.9186\n",
      "Train Time:  14035.194461107254\n"
     ]
    },
    {
     "data": {
      "application/vnd.jupyter.widget-view+json": {
       "model_id": "4756db49594d408688536465fa28bd67",
       "version_major": 2,
       "version_minor": 0
      },
      "text/plain": [
       "HBox(children=(HTML(value='*********Evaluation mode*******'), FloatProgress(value=0.0, max=10.0), HTML(value='…"
      ]
     },
     "metadata": {},
     "output_type": "display_data"
    },
    {
     "name": "stdout",
     "output_type": "stream",
     "text": [
      "\n",
      "Epoch [86/100], Eval Loss: 14.1908\n",
      "Best Model saved......\n"
     ]
    },
    {
     "data": {
      "application/vnd.jupyter.widget-view+json": {
       "model_id": "b0b104c450aa464faab5dda95de6c32e",
       "version_major": 2,
       "version_minor": 0
      },
      "text/plain": [
       "HBox(children=(HTML(value='*********Train mode*******'), FloatProgress(value=0.0, max=489.0), HTML(value='')))"
      ]
     },
     "metadata": {},
     "output_type": "display_data"
    },
    {
     "name": "stdout",
     "output_type": "stream",
     "text": [
      "\n",
      "Epoch [87/100], Train Loss: 14.3404\n",
      "Train Time:  14201.087032318115\n"
     ]
    },
    {
     "data": {
      "application/vnd.jupyter.widget-view+json": {
       "model_id": "8c6eca3e86ea408ab5581cb5f459f42a",
       "version_major": 2,
       "version_minor": 0
      },
      "text/plain": [
       "HBox(children=(HTML(value='*********Evaluation mode*******'), FloatProgress(value=0.0, max=10.0), HTML(value='…"
      ]
     },
     "metadata": {},
     "output_type": "display_data"
    },
    {
     "name": "stdout",
     "output_type": "stream",
     "text": [
      "\n",
      "Epoch [87/100], Eval Loss: 14.0147\n",
      "Best Model saved......\n"
     ]
    },
    {
     "data": {
      "application/vnd.jupyter.widget-view+json": {
       "model_id": "b24608d4b6c94661af4c851d95168378",
       "version_major": 2,
       "version_minor": 0
      },
      "text/plain": [
       "HBox(children=(HTML(value='*********Train mode*******'), FloatProgress(value=0.0, max=489.0), HTML(value='')))"
      ]
     },
     "metadata": {},
     "output_type": "display_data"
    },
    {
     "name": "stdout",
     "output_type": "stream",
     "text": [
      "\n",
      "Epoch [88/100], Train Loss: 13.8513\n",
      "Train Time:  14366.91536951065\n"
     ]
    },
    {
     "data": {
      "application/vnd.jupyter.widget-view+json": {
       "model_id": "41ac7594de0942628018b49777e87f6d",
       "version_major": 2,
       "version_minor": 0
      },
      "text/plain": [
       "HBox(children=(HTML(value='*********Evaluation mode*******'), FloatProgress(value=0.0, max=10.0), HTML(value='…"
      ]
     },
     "metadata": {},
     "output_type": "display_data"
    },
    {
     "name": "stdout",
     "output_type": "stream",
     "text": [
      "\n",
      "Epoch [88/100], Eval Loss: 13.8116\n",
      "Best Model saved......\n"
     ]
    },
    {
     "data": {
      "application/vnd.jupyter.widget-view+json": {
       "model_id": "f28115ec05ab47b9955c786f10f3507b",
       "version_major": 2,
       "version_minor": 0
      },
      "text/plain": [
       "HBox(children=(HTML(value='*********Train mode*******'), FloatProgress(value=0.0, max=489.0), HTML(value='')))"
      ]
     },
     "metadata": {},
     "output_type": "display_data"
    },
    {
     "name": "stdout",
     "output_type": "stream",
     "text": [
      "\n",
      "Epoch [89/100], Train Loss: 13.6339\n",
      "Train Time:  14533.585801839828\n"
     ]
    },
    {
     "data": {
      "application/vnd.jupyter.widget-view+json": {
       "model_id": "01074e83b238498d83e02d7c69ba7cc8",
       "version_major": 2,
       "version_minor": 0
      },
      "text/plain": [
       "HBox(children=(HTML(value='*********Evaluation mode*******'), FloatProgress(value=0.0, max=10.0), HTML(value='…"
      ]
     },
     "metadata": {},
     "output_type": "display_data"
    },
    {
     "name": "stdout",
     "output_type": "stream",
     "text": [
      "\n",
      "Epoch [89/100], Eval Loss: 15.1990\n"
     ]
    },
    {
     "data": {
      "application/vnd.jupyter.widget-view+json": {
       "model_id": "bc43421aaa3541d88d73b035d2d0876b",
       "version_major": 2,
       "version_minor": 0
      },
      "text/plain": [
       "HBox(children=(HTML(value='*********Train mode*******'), FloatProgress(value=0.0, max=489.0), HTML(value='')))"
      ]
     },
     "metadata": {},
     "output_type": "display_data"
    },
    {
     "name": "stdout",
     "output_type": "stream",
     "text": [
      "\n",
      "Epoch [90/100], Train Loss: 13.4178\n",
      "Train Time:  14692.718717575073\n"
     ]
    },
    {
     "data": {
      "application/vnd.jupyter.widget-view+json": {
       "model_id": "95651af5afc24ac9a97a084953ce69b7",
       "version_major": 2,
       "version_minor": 0
      },
      "text/plain": [
       "HBox(children=(HTML(value='*********Evaluation mode*******'), FloatProgress(value=0.0, max=10.0), HTML(value='…"
      ]
     },
     "metadata": {},
     "output_type": "display_data"
    },
    {
     "name": "stdout",
     "output_type": "stream",
     "text": [
      "\n",
      "Epoch [90/100], Eval Loss: 13.4095\n",
      "Best Model saved......\n"
     ]
    },
    {
     "data": {
      "application/vnd.jupyter.widget-view+json": {
       "model_id": "ee20ee5a5d2a4dc0b5bc9f334a6794bf",
       "version_major": 2,
       "version_minor": 0
      },
      "text/plain": [
       "HBox(children=(HTML(value='*********Train mode*******'), FloatProgress(value=0.0, max=489.0), HTML(value='')))"
      ]
     },
     "metadata": {},
     "output_type": "display_data"
    },
    {
     "name": "stdout",
     "output_type": "stream",
     "text": [
      "\n",
      "Epoch [91/100], Train Loss: 13.0102\n",
      "Train Time:  14859.344899892807\n"
     ]
    },
    {
     "data": {
      "application/vnd.jupyter.widget-view+json": {
       "model_id": "718549940ec042d1ab5035204bdde38a",
       "version_major": 2,
       "version_minor": 0
      },
      "text/plain": [
       "HBox(children=(HTML(value='*********Evaluation mode*******'), FloatProgress(value=0.0, max=10.0), HTML(value='…"
      ]
     },
     "metadata": {},
     "output_type": "display_data"
    },
    {
     "name": "stdout",
     "output_type": "stream",
     "text": [
      "\n",
      "Epoch [91/100], Eval Loss: 13.0751\n",
      "Best Model saved......\n"
     ]
    },
    {
     "data": {
      "application/vnd.jupyter.widget-view+json": {
       "model_id": "7f35f1b8d7b44cfc93dd36152b91b29f",
       "version_major": 2,
       "version_minor": 0
      },
      "text/plain": [
       "HBox(children=(HTML(value='*********Train mode*******'), FloatProgress(value=0.0, max=489.0), HTML(value='')))"
      ]
     },
     "metadata": {},
     "output_type": "display_data"
    },
    {
     "name": "stdout",
     "output_type": "stream",
     "text": [
      "\n",
      "Epoch [92/100], Train Loss: 12.7554\n",
      "Train Time:  15025.740517377853\n"
     ]
    },
    {
     "data": {
      "application/vnd.jupyter.widget-view+json": {
       "model_id": "b3b44ae04f834001bcc666ccfd7512ff",
       "version_major": 2,
       "version_minor": 0
      },
      "text/plain": [
       "HBox(children=(HTML(value='*********Evaluation mode*******'), FloatProgress(value=0.0, max=10.0), HTML(value='…"
      ]
     },
     "metadata": {},
     "output_type": "display_data"
    },
    {
     "name": "stdout",
     "output_type": "stream",
     "text": [
      "\n",
      "Epoch [92/100], Eval Loss: 13.6933\n"
     ]
    },
    {
     "data": {
      "application/vnd.jupyter.widget-view+json": {
       "model_id": "3571d19192524382b5a9cbd18c390cbf",
       "version_major": 2,
       "version_minor": 0
      },
      "text/plain": [
       "HBox(children=(HTML(value='*********Train mode*******'), FloatProgress(value=0.0, max=489.0), HTML(value='')))"
      ]
     },
     "metadata": {},
     "output_type": "display_data"
    },
    {
     "name": "stdout",
     "output_type": "stream",
     "text": [
      "\n",
      "Epoch [93/100], Train Loss: 12.5916\n",
      "Train Time:  15184.788001298904\n"
     ]
    },
    {
     "data": {
      "application/vnd.jupyter.widget-view+json": {
       "model_id": "c1f062dd5fd547519711db70b9851075",
       "version_major": 2,
       "version_minor": 0
      },
      "text/plain": [
       "HBox(children=(HTML(value='*********Evaluation mode*******'), FloatProgress(value=0.0, max=10.0), HTML(value='…"
      ]
     },
     "metadata": {},
     "output_type": "display_data"
    },
    {
     "name": "stdout",
     "output_type": "stream",
     "text": [
      "\n",
      "Epoch [93/100], Eval Loss: 13.0795\n"
     ]
    },
    {
     "data": {
      "application/vnd.jupyter.widget-view+json": {
       "model_id": "c2359c125c8b4ca5b54706431067e896",
       "version_major": 2,
       "version_minor": 0
      },
      "text/plain": [
       "HBox(children=(HTML(value='*********Train mode*******'), FloatProgress(value=0.0, max=489.0), HTML(value='')))"
      ]
     },
     "metadata": {},
     "output_type": "display_data"
    },
    {
     "name": "stdout",
     "output_type": "stream",
     "text": [
      "\n",
      "Epoch [94/100], Train Loss: 12.3983\n",
      "Train Time:  15343.538972854614\n"
     ]
    },
    {
     "data": {
      "application/vnd.jupyter.widget-view+json": {
       "model_id": "d14ef2342c52447c989efe65e5f83014",
       "version_major": 2,
       "version_minor": 0
      },
      "text/plain": [
       "HBox(children=(HTML(value='*********Evaluation mode*******'), FloatProgress(value=0.0, max=10.0), HTML(value='…"
      ]
     },
     "metadata": {},
     "output_type": "display_data"
    },
    {
     "name": "stdout",
     "output_type": "stream",
     "text": [
      "\n",
      "Epoch [94/100], Eval Loss: 12.5809\n",
      "Best Model saved......\n"
     ]
    },
    {
     "data": {
      "application/vnd.jupyter.widget-view+json": {
       "model_id": "52ebb599aa1f48ffbae2a9205410d1e4",
       "version_major": 2,
       "version_minor": 0
      },
      "text/plain": [
       "HBox(children=(HTML(value='*********Train mode*******'), FloatProgress(value=0.0, max=489.0), HTML(value='')))"
      ]
     },
     "metadata": {},
     "output_type": "display_data"
    },
    {
     "name": "stdout",
     "output_type": "stream",
     "text": [
      "\n",
      "Epoch [95/100], Train Loss: 12.2583\n",
      "Train Time:  15509.516787052155\n"
     ]
    },
    {
     "data": {
      "application/vnd.jupyter.widget-view+json": {
       "model_id": "c190718d409b406ea1a2f6a88c23b309",
       "version_major": 2,
       "version_minor": 0
      },
      "text/plain": [
       "HBox(children=(HTML(value='*********Evaluation mode*******'), FloatProgress(value=0.0, max=10.0), HTML(value='…"
      ]
     },
     "metadata": {},
     "output_type": "display_data"
    },
    {
     "name": "stdout",
     "output_type": "stream",
     "text": [
      "\n",
      "Epoch [95/100], Eval Loss: 12.4682\n",
      "Best Model saved......\n"
     ]
    },
    {
     "data": {
      "application/vnd.jupyter.widget-view+json": {
       "model_id": "edc8a31f86af4a488145e7f4fb102cd1",
       "version_major": 2,
       "version_minor": 0
      },
      "text/plain": [
       "HBox(children=(HTML(value='*********Train mode*******'), FloatProgress(value=0.0, max=489.0), HTML(value='')))"
      ]
     },
     "metadata": {},
     "output_type": "display_data"
    },
    {
     "name": "stdout",
     "output_type": "stream",
     "text": [
      "\n",
      "Epoch [96/100], Train Loss: 12.1657\n",
      "Train Time:  15675.674407720566\n"
     ]
    },
    {
     "data": {
      "application/vnd.jupyter.widget-view+json": {
       "model_id": "978e3e60db244dcea6e71867c7f3418a",
       "version_major": 2,
       "version_minor": 0
      },
      "text/plain": [
       "HBox(children=(HTML(value='*********Evaluation mode*******'), FloatProgress(value=0.0, max=10.0), HTML(value='…"
      ]
     },
     "metadata": {},
     "output_type": "display_data"
    },
    {
     "name": "stdout",
     "output_type": "stream",
     "text": [
      "\n",
      "Epoch [96/100], Eval Loss: 12.3904\n",
      "Best Model saved......\n"
     ]
    },
    {
     "data": {
      "application/vnd.jupyter.widget-view+json": {
       "model_id": "8db25492093f47c28dd9dac8c79b288e",
       "version_major": 2,
       "version_minor": 0
      },
      "text/plain": [
       "HBox(children=(HTML(value='*********Train mode*******'), FloatProgress(value=0.0, max=489.0), HTML(value='')))"
      ]
     },
     "metadata": {},
     "output_type": "display_data"
    },
    {
     "name": "stdout",
     "output_type": "stream",
     "text": [
      "\n",
      "Epoch [97/100], Train Loss: 12.0865\n",
      "Train Time:  15842.58221578598\n"
     ]
    },
    {
     "data": {
      "application/vnd.jupyter.widget-view+json": {
       "model_id": "42605586b560477c81086e5029c84ed0",
       "version_major": 2,
       "version_minor": 0
      },
      "text/plain": [
       "HBox(children=(HTML(value='*********Evaluation mode*******'), FloatProgress(value=0.0, max=10.0), HTML(value='…"
      ]
     },
     "metadata": {},
     "output_type": "display_data"
    },
    {
     "name": "stdout",
     "output_type": "stream",
     "text": [
      "\n",
      "Epoch [97/100], Eval Loss: 12.3344\n",
      "Best Model saved......\n"
     ]
    },
    {
     "data": {
      "application/vnd.jupyter.widget-view+json": {
       "model_id": "9cb28c1ecf614e8584d2888e13696f43",
       "version_major": 2,
       "version_minor": 0
      },
      "text/plain": [
       "HBox(children=(HTML(value='*********Train mode*******'), FloatProgress(value=0.0, max=489.0), HTML(value='')))"
      ]
     },
     "metadata": {},
     "output_type": "display_data"
    },
    {
     "name": "stdout",
     "output_type": "stream",
     "text": [
      "\n",
      "Epoch [98/100], Train Loss: 12.0394\n",
      "Train Time:  16009.297627210617\n"
     ]
    },
    {
     "data": {
      "application/vnd.jupyter.widget-view+json": {
       "model_id": "f5b9447f9323470282b62742e3f3fc73",
       "version_major": 2,
       "version_minor": 0
      },
      "text/plain": [
       "HBox(children=(HTML(value='*********Evaluation mode*******'), FloatProgress(value=0.0, max=10.0), HTML(value='…"
      ]
     },
     "metadata": {},
     "output_type": "display_data"
    },
    {
     "name": "stdout",
     "output_type": "stream",
     "text": [
      "\n",
      "Epoch [98/100], Eval Loss: 12.3121\n",
      "Best Model saved......\n"
     ]
    },
    {
     "data": {
      "application/vnd.jupyter.widget-view+json": {
       "model_id": "c3a44fba064c4b38a50f41d01a08591b",
       "version_major": 2,
       "version_minor": 0
      },
      "text/plain": [
       "HBox(children=(HTML(value='*********Train mode*******'), FloatProgress(value=0.0, max=489.0), HTML(value='')))"
      ]
     },
     "metadata": {},
     "output_type": "display_data"
    },
    {
     "name": "stdout",
     "output_type": "stream",
     "text": [
      "\n",
      "Epoch [99/100], Train Loss: 12.0100\n",
      "Train Time:  16176.129212379456\n"
     ]
    },
    {
     "data": {
      "application/vnd.jupyter.widget-view+json": {
       "model_id": "1aa3e55c0617428b99b9b7fa113c81ee",
       "version_major": 2,
       "version_minor": 0
      },
      "text/plain": [
       "HBox(children=(HTML(value='*********Evaluation mode*******'), FloatProgress(value=0.0, max=10.0), HTML(value='…"
      ]
     },
     "metadata": {},
     "output_type": "display_data"
    },
    {
     "name": "stdout",
     "output_type": "stream",
     "text": [
      "\n",
      "Epoch [99/100], Eval Loss: 12.2937\n",
      "Best Model saved......\n"
     ]
    },
    {
     "data": {
      "application/vnd.jupyter.widget-view+json": {
       "model_id": "8a7c7b76282c4aebba86370fb42356e6",
       "version_major": 2,
       "version_minor": 0
      },
      "text/plain": [
       "HBox(children=(HTML(value='*********Train mode*******'), FloatProgress(value=0.0, max=489.0), HTML(value='')))"
      ]
     },
     "metadata": {},
     "output_type": "display_data"
    },
    {
     "name": "stdout",
     "output_type": "stream",
     "text": [
      "\n",
      "Epoch [100/100], Train Loss: 11.9959\n",
      "Train Time:  16345.647074222565\n"
     ]
    },
    {
     "data": {
      "application/vnd.jupyter.widget-view+json": {
       "model_id": "6be7c3b5640b4d5caf5068a8e5a2a699",
       "version_major": 2,
       "version_minor": 0
      },
      "text/plain": [
       "HBox(children=(HTML(value='*********Evaluation mode*******'), FloatProgress(value=0.0, max=10.0), HTML(value='…"
      ]
     },
     "metadata": {},
     "output_type": "display_data"
    },
    {
     "name": "stdout",
     "output_type": "stream",
     "text": [
      "\n",
      "Epoch [100/100], Eval Loss: 12.2891\n",
      "Best Model saved......\n"
     ]
    }
   ],
   "source": [
    "\"\"\"\n",
    "모델 학습\n",
    "\"\"\"\n",
    "\n",
    "total_step = len(train_loader) * epochs\n",
    "print(f\"Total step is....{total_step}\") # 모델이 학습하는 전체 step 계산.\n",
    "\n",
    "# 옵티마이저와 스케줄러의 파라미터들을 정의.\n",
    "\n",
    "no_decay = [\"bias\", \"LayerNorm.weight\"] # decay하지 않을 영역 지정.\n",
    "optimizer_grouped_parameters = [\n",
    "    {\n",
    "        \"params\": [p for n, p in model.named_parameters() if not any(nd in n for nd in no_decay)],\n",
    "        \"weight_decay\": 0.0,\n",
    "    },\n",
    "    {\"params\": [p for n, p in model.named_parameters() if any(nd in n for nd in no_decay)], \"weight_decay\": 0.0},\n",
    "]\n",
    "optimizer = AdamW(optimizer_grouped_parameters, lr=lr, eps=adam_epsilon)\n",
    "scheduler = get_cosine_with_hard_restarts_schedule_with_warmup(\n",
    "    optimizer, num_warmup_steps=warmup_step, num_training_steps=total_step\n",
    ")\n",
    "\n",
    "# train loss와 val loss, thick_loss 지정.\n",
    "total_loss = 0.0\n",
    "total_val_loss = 0.0\n",
    "total_thick_loss=0.0\n",
    "total_level_loss=0.0\n",
    "# 모델 이름을 위해서 변수 만듦.\n",
    "version = time.localtime()[3:5]\n",
    "curr_lr = lr\n",
    "\n",
    "n_val_loss = 10000000. # 가장 낮은 validation loss를 저장하기 위해서 변수 설정.\n",
    "train_loss_epoch=[]\n",
    "thick_loss_epoch=[]\n",
    "level_loss_epoch=[]\n",
    "val_loss_epoch=[]\n",
    "\n",
    "start = time.time() #학습시간\n",
    "for epoch in range(epochs):\n",
    "    total_loss = 0 \n",
    "    total_val_loss = 0\n",
    "    total_thik_loss=0\n",
    "    total_level_loss=0\n",
    "    for i, data in enumerate(tqdm(train_loader, desc='*********Train mode*******')):  # train 데이터를 부르고 학습.\n",
    "        # forward pass\n",
    "        pred = model(data['X'].float().to(device))\n",
    "        loss = loss_fn(pred, data['Y'].float().to(device))\n",
    "        \n",
    "        # backward pass\n",
    "        optimizer.zero_grad() # optimizer 객체 사용해서 학습 가능한 가중치 변수에 대한 모든 변화도를 0으로 만듦\n",
    "        loss.backward() \n",
    "        optimizer.step() # update optimizer params\n",
    "        scheduler.step() # update scheduler params\n",
    "        \n",
    "        total_loss += loss.item()\n",
    "        \n",
    "    train_loss = total_loss / len(train_loader)\n",
    "    train_loss_epoch.append(train_loss)\n",
    "    print (\"Epoch [{}/{}], Train Loss: {:.4f}\".format(epoch+1, epochs, train_loss))\n",
    "    print('Train Time: ',time.time()-start)\n",
    "\n",
    "    # evaluation\n",
    "    # validation 데이터를 부르고 epoch 마다 학습된 모델을 부르고 평가.\n",
    "    model.eval()\n",
    "    with torch.no_grad():\n",
    "        for i, data in enumerate(tqdm(val_loader, desc='*********Evaluation mode*******')):\n",
    "            pred = model(data['X'].float().to(device))\n",
    "            loss_val = loss_fn(pred, data['Y'].float().to(device))\n",
    "#             loss_thick=loss_fn(pred[:,0],data['Y'].float().to(device)[:,0])\n",
    "#             loss_level=loss_fn(pred[:,1],data['Y'].float().to(device)[:,1])\n",
    "            #print(pred[:,:])\n",
    "            #print(data['Y'].float().to(device))\n",
    "            total_val_loss += loss_val.item()\n",
    "#             total_thick_loss = loss_thick.item()\n",
    "#             total_level_loss = loss_level.item()\n",
    "    val_loss = total_val_loss / len(val_loader)\n",
    "#     thick_loss = total_thick_loss / len(val_loader)\n",
    "#     level_loss = total_level_loss/len(val_loader)\n",
    "    val_loss_epoch.append(val_loss)\n",
    "#     thick_loss_epoch.append(thick_loss)\n",
    "#     level_loss_epoch.append(level_loss)\n",
    "    print (\"Epoch [{}/{}], Eval Loss: {:.4f}\".format(epoch+1, epochs, val_loss))\n",
    "    \n",
    "    # best model을 저장.\n",
    "    if val_loss < n_val_loss:\n",
    "        n_val_loss = val_loss\n",
    "        torch.save(model.state_dict(), f'test_percent_unit_{version}_{lr}_{epochs}_MAE.pth')\n",
    "        print(\"Best Model saved......\")"
   ]
  },
  {
   "cell_type": "code",
   "execution_count": 32,
   "metadata": {},
   "outputs": [],
   "source": [
    "loss_array=np.array(thick_loss_epoch)\n",
    "loss_array2=np.array(val_loss_epoch)\n",
    "loss_array3=np.array(level_loss_epoch)\n",
    "loss_array4=np.array(train_loss_epoch)\n",
    "thick_loss_data=pd.DataFrame(loss_array)\n",
    "val_loss_data=pd.DataFrame(loss_array2)\n",
    "level_loss_data=pd.DataFrame(loss_array3)\n",
    "train_loss_data=pd.DataFrame(loss_array4)\n",
    "thick_loss_data.to_csv(f'MAE_thick_same_layer_percent_unit_dropout=0.1_loss_lr={lr}_epoch={epochs}_level.csv', index='epochs')#level을 동일하게 놔두면 평균 1nm까지 오차가 줄어든다.\n",
    "val_loss_data.to_csv(f'MAE_val_same_layer_percent_unit_dropout=0.1_loss_lr={lr}_epoch={epochs}_level.csv', index='epochs')\n",
    "level_loss_data.to_csv(f'MAE_level_same_layer_percent_unit_dropout=0.1_loss_lr={lr}_epoch={epochs}_level.csv', index='epochs')\n",
    "train_loss_data.to_csv(f'MAE_train_same_layer_percent_unit_dropout=0.1_loss_lr={lr}_epoch={epochs}_level.csv', index='epochs')"
   ]
  },
  {
   "cell_type": "code",
   "execution_count": 33,
   "metadata": {},
   "outputs": [
    {
     "data": {
      "text/html": [
       "<div>\n",
       "<style scoped>\n",
       "    .dataframe tbody tr th:only-of-type {\n",
       "        vertical-align: middle;\n",
       "    }\n",
       "\n",
       "    .dataframe tbody tr th {\n",
       "        vertical-align: top;\n",
       "    }\n",
       "\n",
       "    .dataframe thead th {\n",
       "        text-align: right;\n",
       "    }\n",
       "</style>\n",
       "<table border=\"1\" class=\"dataframe\">\n",
       "  <thead>\n",
       "    <tr style=\"text-align: right;\">\n",
       "      <th></th>\n",
       "      <th>0</th>\n",
       "    </tr>\n",
       "  </thead>\n",
       "  <tbody>\n",
       "    <tr>\n",
       "      <th>95</th>\n",
       "      <td>0.000645</td>\n",
       "    </tr>\n",
       "    <tr>\n",
       "      <th>96</th>\n",
       "      <td>0.000633</td>\n",
       "    </tr>\n",
       "    <tr>\n",
       "      <th>97</th>\n",
       "      <td>0.000628</td>\n",
       "    </tr>\n",
       "    <tr>\n",
       "      <th>98</th>\n",
       "      <td>0.000626</td>\n",
       "    </tr>\n",
       "    <tr>\n",
       "      <th>99</th>\n",
       "      <td>0.000625</td>\n",
       "    </tr>\n",
       "  </tbody>\n",
       "</table>\n",
       "</div>"
      ],
      "text/plain": [
       "           0\n",
       "95  0.000645\n",
       "96  0.000633\n",
       "97  0.000628\n",
       "98  0.000626\n",
       "99  0.000625"
      ]
     },
     "execution_count": 33,
     "metadata": {},
     "output_type": "execute_result"
    }
   ],
   "source": [
    "thick_loss_data.tail()"
   ]
  },
  {
   "cell_type": "code",
   "execution_count": 13,
   "metadata": {},
   "outputs": [
    {
     "data": {
      "text/html": [
       "<div>\n",
       "<style scoped>\n",
       "    .dataframe tbody tr th:only-of-type {\n",
       "        vertical-align: middle;\n",
       "    }\n",
       "\n",
       "    .dataframe tbody tr th {\n",
       "        vertical-align: top;\n",
       "    }\n",
       "\n",
       "    .dataframe thead th {\n",
       "        text-align: right;\n",
       "    }\n",
       "</style>\n",
       "<table border=\"1\" class=\"dataframe\">\n",
       "  <thead>\n",
       "    <tr style=\"text-align: right;\">\n",
       "      <th></th>\n",
       "      <th>0</th>\n",
       "    </tr>\n",
       "  </thead>\n",
       "  <tbody>\n",
       "    <tr>\n",
       "      <th>95</th>\n",
       "      <td>0.000416</td>\n",
       "    </tr>\n",
       "    <tr>\n",
       "      <th>96</th>\n",
       "      <td>0.000406</td>\n",
       "    </tr>\n",
       "    <tr>\n",
       "      <th>97</th>\n",
       "      <td>0.000394</td>\n",
       "    </tr>\n",
       "    <tr>\n",
       "      <th>98</th>\n",
       "      <td>0.000396</td>\n",
       "    </tr>\n",
       "    <tr>\n",
       "      <th>99</th>\n",
       "      <td>0.000392</td>\n",
       "    </tr>\n",
       "  </tbody>\n",
       "</table>\n",
       "</div>"
      ],
      "text/plain": [
       "           0\n",
       "95  0.000416\n",
       "96  0.000406\n",
       "97  0.000394\n",
       "98  0.000396\n",
       "99  0.000392"
      ]
     },
     "execution_count": 13,
     "metadata": {},
     "output_type": "execute_result"
    }
   ],
   "source": [
    "level_loss_data.tail()"
   ]
  },
  {
   "cell_type": "code",
   "execution_count": 18,
   "metadata": {},
   "outputs": [
    {
     "data": {
      "text/html": [
       "<div>\n",
       "<style scoped>\n",
       "    .dataframe tbody tr th:only-of-type {\n",
       "        vertical-align: middle;\n",
       "    }\n",
       "\n",
       "    .dataframe tbody tr th {\n",
       "        vertical-align: top;\n",
       "    }\n",
       "\n",
       "    .dataframe thead th {\n",
       "        text-align: right;\n",
       "    }\n",
       "</style>\n",
       "<table border=\"1\" class=\"dataframe\">\n",
       "  <thead>\n",
       "    <tr style=\"text-align: right;\">\n",
       "      <th></th>\n",
       "      <th>Unnamed: 0</th>\n",
       "      <th>1000</th>\n",
       "      <th>1050</th>\n",
       "      <th>1100</th>\n",
       "      <th>1150</th>\n",
       "      <th>1200</th>\n",
       "      <th>1250</th>\n",
       "      <th>1300</th>\n",
       "      <th>1350</th>\n",
       "      <th>1400</th>\n",
       "      <th>...</th>\n",
       "      <th>7550</th>\n",
       "      <th>7600</th>\n",
       "      <th>7650</th>\n",
       "      <th>7700</th>\n",
       "      <th>7750</th>\n",
       "      <th>7800</th>\n",
       "      <th>7850</th>\n",
       "      <th>7900</th>\n",
       "      <th>7950</th>\n",
       "      <th>8000</th>\n",
       "    </tr>\n",
       "  </thead>\n",
       "  <tbody>\n",
       "    <tr>\n",
       "      <th>0</th>\n",
       "      <td>0</td>\n",
       "      <td>0.43274</td>\n",
       "      <td>0.56493</td>\n",
       "      <td>0.67806</td>\n",
       "      <td>0.52101</td>\n",
       "      <td>0.48143</td>\n",
       "      <td>0.42936</td>\n",
       "      <td>0.47108</td>\n",
       "      <td>0.46866</td>\n",
       "      <td>0.45821</td>\n",
       "      <td>...</td>\n",
       "      <td>0.10975</td>\n",
       "      <td>0.11241</td>\n",
       "      <td>0.11412</td>\n",
       "      <td>0.11640</td>\n",
       "      <td>0.11821</td>\n",
       "      <td>0.12053</td>\n",
       "      <td>0.12286</td>\n",
       "      <td>0.12482</td>\n",
       "      <td>0.12722</td>\n",
       "      <td>0.12928</td>\n",
       "    </tr>\n",
       "    <tr>\n",
       "      <th>1</th>\n",
       "      <td>1</td>\n",
       "      <td>0.43904</td>\n",
       "      <td>0.56862</td>\n",
       "      <td>0.69203</td>\n",
       "      <td>0.53002</td>\n",
       "      <td>0.48344</td>\n",
       "      <td>0.43182</td>\n",
       "      <td>0.47971</td>\n",
       "      <td>0.47661</td>\n",
       "      <td>0.47004</td>\n",
       "      <td>...</td>\n",
       "      <td>0.11587</td>\n",
       "      <td>0.11831</td>\n",
       "      <td>0.12015</td>\n",
       "      <td>0.12254</td>\n",
       "      <td>0.12504</td>\n",
       "      <td>0.12752</td>\n",
       "      <td>0.12969</td>\n",
       "      <td>0.13195</td>\n",
       "      <td>0.13482</td>\n",
       "      <td>0.13703</td>\n",
       "    </tr>\n",
       "    <tr>\n",
       "      <th>2</th>\n",
       "      <td>2</td>\n",
       "      <td>0.44766</td>\n",
       "      <td>0.57542</td>\n",
       "      <td>0.68836</td>\n",
       "      <td>0.53012</td>\n",
       "      <td>0.48931</td>\n",
       "      <td>0.44098</td>\n",
       "      <td>0.48630</td>\n",
       "      <td>0.48413</td>\n",
       "      <td>0.47552</td>\n",
       "      <td>...</td>\n",
       "      <td>0.10345</td>\n",
       "      <td>0.10554</td>\n",
       "      <td>0.10711</td>\n",
       "      <td>0.10924</td>\n",
       "      <td>0.11136</td>\n",
       "      <td>0.11369</td>\n",
       "      <td>0.11561</td>\n",
       "      <td>0.11785</td>\n",
       "      <td>0.11992</td>\n",
       "      <td>0.12265</td>\n",
       "    </tr>\n",
       "    <tr>\n",
       "      <th>3</th>\n",
       "      <td>3</td>\n",
       "      <td>0.44381</td>\n",
       "      <td>0.57365</td>\n",
       "      <td>0.68132</td>\n",
       "      <td>0.52431</td>\n",
       "      <td>0.48528</td>\n",
       "      <td>0.43649</td>\n",
       "      <td>0.47964</td>\n",
       "      <td>0.47662</td>\n",
       "      <td>0.47057</td>\n",
       "      <td>...</td>\n",
       "      <td>0.09973</td>\n",
       "      <td>0.10198</td>\n",
       "      <td>0.10312</td>\n",
       "      <td>0.10493</td>\n",
       "      <td>0.10714</td>\n",
       "      <td>0.10924</td>\n",
       "      <td>0.11082</td>\n",
       "      <td>0.11260</td>\n",
       "      <td>0.11502</td>\n",
       "      <td>0.11727</td>\n",
       "    </tr>\n",
       "    <tr>\n",
       "      <th>4</th>\n",
       "      <td>4</td>\n",
       "      <td>0.45495</td>\n",
       "      <td>0.58398</td>\n",
       "      <td>0.69344</td>\n",
       "      <td>0.53566</td>\n",
       "      <td>0.49572</td>\n",
       "      <td>0.44718</td>\n",
       "      <td>0.49124</td>\n",
       "      <td>0.48895</td>\n",
       "      <td>0.48152</td>\n",
       "      <td>...</td>\n",
       "      <td>0.10558</td>\n",
       "      <td>0.10739</td>\n",
       "      <td>0.10925</td>\n",
       "      <td>0.11054</td>\n",
       "      <td>0.11234</td>\n",
       "      <td>0.11425</td>\n",
       "      <td>0.11613</td>\n",
       "      <td>0.11763</td>\n",
       "      <td>0.11949</td>\n",
       "      <td>0.12158</td>\n",
       "    </tr>\n",
       "    <tr>\n",
       "      <th>5</th>\n",
       "      <td>5</td>\n",
       "      <td>0.44943</td>\n",
       "      <td>0.58195</td>\n",
       "      <td>0.69813</td>\n",
       "      <td>0.53616</td>\n",
       "      <td>0.49443</td>\n",
       "      <td>0.44360</td>\n",
       "      <td>0.48862</td>\n",
       "      <td>0.48603</td>\n",
       "      <td>0.47711</td>\n",
       "      <td>...</td>\n",
       "      <td>0.10776</td>\n",
       "      <td>0.10986</td>\n",
       "      <td>0.11194</td>\n",
       "      <td>0.11422</td>\n",
       "      <td>0.11629</td>\n",
       "      <td>0.11880</td>\n",
       "      <td>0.12101</td>\n",
       "      <td>0.12293</td>\n",
       "      <td>0.12548</td>\n",
       "      <td>0.12778</td>\n",
       "    </tr>\n",
       "  </tbody>\n",
       "</table>\n",
       "<p>6 rows × 142 columns</p>\n",
       "</div>"
      ],
      "text/plain": [
       "   Unnamed: 0     1000     1050     1100     1150     1200     1250     1300  \\\n",
       "0           0  0.43274  0.56493  0.67806  0.52101  0.48143  0.42936  0.47108   \n",
       "1           1  0.43904  0.56862  0.69203  0.53002  0.48344  0.43182  0.47971   \n",
       "2           2  0.44766  0.57542  0.68836  0.53012  0.48931  0.44098  0.48630   \n",
       "3           3  0.44381  0.57365  0.68132  0.52431  0.48528  0.43649  0.47964   \n",
       "4           4  0.45495  0.58398  0.69344  0.53566  0.49572  0.44718  0.49124   \n",
       "5           5  0.44943  0.58195  0.69813  0.53616  0.49443  0.44360  0.48862   \n",
       "\n",
       "      1350     1400  ...     7550     7600     7650     7700     7750  \\\n",
       "0  0.46866  0.45821  ...  0.10975  0.11241  0.11412  0.11640  0.11821   \n",
       "1  0.47661  0.47004  ...  0.11587  0.11831  0.12015  0.12254  0.12504   \n",
       "2  0.48413  0.47552  ...  0.10345  0.10554  0.10711  0.10924  0.11136   \n",
       "3  0.47662  0.47057  ...  0.09973  0.10198  0.10312  0.10493  0.10714   \n",
       "4  0.48895  0.48152  ...  0.10558  0.10739  0.10925  0.11054  0.11234   \n",
       "5  0.48603  0.47711  ...  0.10776  0.10986  0.11194  0.11422  0.11629   \n",
       "\n",
       "      7800     7850     7900     7950     8000  \n",
       "0  0.12053  0.12286  0.12482  0.12722  0.12928  \n",
       "1  0.12752  0.12969  0.13195  0.13482  0.13703  \n",
       "2  0.11369  0.11561  0.11785  0.11992  0.12265  \n",
       "3  0.10924  0.11082  0.11260  0.11502  0.11727  \n",
       "4  0.11425  0.11613  0.11763  0.11949  0.12158  \n",
       "5  0.11880  0.12101  0.12293  0.12548  0.12778  \n",
       "\n",
       "[6 rows x 142 columns]"
      ]
     },
     "execution_count": 18,
     "metadata": {},
     "output_type": "execute_result"
    }
   ],
   "source": [
    "test_file='R_test_para.xlsx'\n",
    "test=pd.read_excel(test_file)\n",
    "test"
   ]
  },
  {
   "cell_type": "code",
   "execution_count": 41,
   "metadata": {},
   "outputs": [],
   "source": [
    "\"\"\"\n",
    "모델 테스트\n",
    "\"\"\"\n",
    "\n",
    "test_model = skipConnectionModel()\n",
    "\n",
    "# test 파일 경로 및 test 데이터 로드\n",
    "path_test = 'R_test_para.xlsx'\n",
    "#path_test='val_same_layer_level.csv'\n",
    "class TestDataset(Dataset):\n",
    "    def __init__(self, path_test):\n",
    "        super(TestDataset, self).__init__()\n",
    "        test = pd.read_excel(path_test)\n",
    "        self.test_X = test.iloc[:,1:]\n",
    "        self.tmp_x = self.test_X.values\n",
    "    \n",
    "    def __len__(self):\n",
    "        return len(self.test_X)\n",
    "\n",
    "    def __getitem__(self, idx):\n",
    "        return torch.from_numpy(self.tmp_x)[idx]\n",
    "    \n",
    "test_data = TestDataset(path_test)\n",
    "test_loader = DataLoader(test_data, batch_size=6,pin_memory=True, num_workers=0)"
   ]
  },
  {
   "cell_type": "code",
   "execution_count": 42,
   "metadata": {},
   "outputs": [
    {
     "name": "stdout",
     "output_type": "stream",
     "text": [
      "Test Time :  0.0\n"
     ]
    }
   ],
   "source": [
    "# 모델에 학습된 가중치를 업로드.\n",
    "weights = torch.load(f'test_percent_unit_{version}_{lr}_{epochs}_MAE.pth', map_location='cuda:0')\n",
    "test_model.load_state_dict(weights)\n",
    "test_model = test_model.to(device)\n",
    "test_model.eval()\n",
    "test_time=time.time()\n",
    "with torch.no_grad():\n",
    "    for data in test_loader:\n",
    "        data = data.to(device)\n",
    "        outputs = test_model(data.float())\n",
    "    print('Test Time : ',time.time()-test_time)\n",
    "pred_test = outputs"
   ]
  },
  {
   "cell_type": "code",
   "execution_count": 43,
   "metadata": {},
   "outputs": [],
   "source": [
    "#test_layer=[[str(i) for i in np.arange(1000,8100,100).tolist()],[str(i) for i in np.arange(1000,8100,100).tolist()],['layer(nm)','level(%)']]\n",
    "test_layer=['e_inf','w01','wp1','gamma1','w02','wp2','gamma2','thickness(nm)','level']\n",
    "# test_layer=list(chain(*test_layer))"
   ]
  },
  {
   "cell_type": "code",
   "execution_count": 44,
   "metadata": {},
   "outputs": [],
   "source": [
    "sub=pred_test.cpu().numpy()\n",
    "sub=pd.DataFrame(data=sub, columns=test_layer)\n",
    "sub.to_csv('result_same_layer_para.csv',index='id')"
   ]
  },
  {
   "cell_type": "code",
   "execution_count": 45,
   "metadata": {},
   "outputs": [
    {
     "data": {
      "text/html": [
       "<div>\n",
       "<style scoped>\n",
       "    .dataframe tbody tr th:only-of-type {\n",
       "        vertical-align: middle;\n",
       "    }\n",
       "\n",
       "    .dataframe tbody tr th {\n",
       "        vertical-align: top;\n",
       "    }\n",
       "\n",
       "    .dataframe thead th {\n",
       "        text-align: right;\n",
       "    }\n",
       "</style>\n",
       "<table border=\"1\" class=\"dataframe\">\n",
       "  <thead>\n",
       "    <tr style=\"text-align: right;\">\n",
       "      <th></th>\n",
       "      <th>e_inf</th>\n",
       "      <th>w01</th>\n",
       "      <th>wp1</th>\n",
       "      <th>gamma1</th>\n",
       "      <th>w02</th>\n",
       "      <th>wp2</th>\n",
       "      <th>gamma2</th>\n",
       "      <th>thickness(nm)</th>\n",
       "      <th>level</th>\n",
       "    </tr>\n",
       "  </thead>\n",
       "  <tbody>\n",
       "    <tr>\n",
       "      <th>0</th>\n",
       "      <td>2.125754</td>\n",
       "      <td>1542.597900</td>\n",
       "      <td>282.905182</td>\n",
       "      <td>6.644070</td>\n",
       "      <td>1018.140625</td>\n",
       "      <td>915.304993</td>\n",
       "      <td>14.726528</td>\n",
       "      <td>282.176300</td>\n",
       "      <td>-0.229972</td>\n",
       "    </tr>\n",
       "    <tr>\n",
       "      <th>1</th>\n",
       "      <td>2.131060</td>\n",
       "      <td>1490.769653</td>\n",
       "      <td>98.949913</td>\n",
       "      <td>19.234056</td>\n",
       "      <td>1083.732544</td>\n",
       "      <td>933.583740</td>\n",
       "      <td>11.568529</td>\n",
       "      <td>278.520538</td>\n",
       "      <td>0.736899</td>\n",
       "    </tr>\n",
       "    <tr>\n",
       "      <th>2</th>\n",
       "      <td>2.215939</td>\n",
       "      <td>1390.298584</td>\n",
       "      <td>49.324501</td>\n",
       "      <td>21.253540</td>\n",
       "      <td>1099.122681</td>\n",
       "      <td>933.841431</td>\n",
       "      <td>10.632383</td>\n",
       "      <td>261.401703</td>\n",
       "      <td>3.393048</td>\n",
       "    </tr>\n",
       "    <tr>\n",
       "      <th>3</th>\n",
       "      <td>2.191334</td>\n",
       "      <td>1840.561035</td>\n",
       "      <td>99.566002</td>\n",
       "      <td>14.809834</td>\n",
       "      <td>1090.087402</td>\n",
       "      <td>958.431946</td>\n",
       "      <td>13.148516</td>\n",
       "      <td>261.583954</td>\n",
       "      <td>1.228789</td>\n",
       "    </tr>\n",
       "    <tr>\n",
       "      <th>4</th>\n",
       "      <td>2.183171</td>\n",
       "      <td>1346.465820</td>\n",
       "      <td>38.456215</td>\n",
       "      <td>24.346054</td>\n",
       "      <td>1087.763550</td>\n",
       "      <td>927.077515</td>\n",
       "      <td>11.410627</td>\n",
       "      <td>258.700958</td>\n",
       "      <td>3.577882</td>\n",
       "    </tr>\n",
       "    <tr>\n",
       "      <th>5</th>\n",
       "      <td>2.232140</td>\n",
       "      <td>1346.126709</td>\n",
       "      <td>80.203743</td>\n",
       "      <td>21.461794</td>\n",
       "      <td>1083.693848</td>\n",
       "      <td>923.444092</td>\n",
       "      <td>11.206762</td>\n",
       "      <td>264.795990</td>\n",
       "      <td>3.159704</td>\n",
       "    </tr>\n",
       "  </tbody>\n",
       "</table>\n",
       "</div>"
      ],
      "text/plain": [
       "      e_inf          w01         wp1     gamma1          w02         wp2  \\\n",
       "0  2.125754  1542.597900  282.905182   6.644070  1018.140625  915.304993   \n",
       "1  2.131060  1490.769653   98.949913  19.234056  1083.732544  933.583740   \n",
       "2  2.215939  1390.298584   49.324501  21.253540  1099.122681  933.841431   \n",
       "3  2.191334  1840.561035   99.566002  14.809834  1090.087402  958.431946   \n",
       "4  2.183171  1346.465820   38.456215  24.346054  1087.763550  927.077515   \n",
       "5  2.232140  1346.126709   80.203743  21.461794  1083.693848  923.444092   \n",
       "\n",
       "      gamma2  thickness(nm)     level  \n",
       "0  14.726528     282.176300 -0.229972  \n",
       "1  11.568529     278.520538  0.736899  \n",
       "2  10.632383     261.401703  3.393048  \n",
       "3  13.148516     261.583954  1.228789  \n",
       "4  11.410627     258.700958  3.577882  \n",
       "5  11.206762     264.795990  3.159704  "
      ]
     },
     "execution_count": 45,
     "metadata": {},
     "output_type": "execute_result"
    }
   ],
   "source": [
    "sub"
   ]
  },
  {
   "cell_type": "code",
   "execution_count": 22,
   "metadata": {},
   "outputs": [],
   "source": [
    "for i in range(len(sub)):\n",
    "    sub.iloc[i,1]=sub.iloc[i,1]/1000\n",
    "sub.to_csv('result_same_layer_30pt.csv',index=None)"
   ]
  },
  {
   "cell_type": "code",
   "execution_count": 23,
   "metadata": {},
   "outputs": [
    {
     "data": {
      "text/html": [
       "<div>\n",
       "<style scoped>\n",
       "    .dataframe tbody tr th:only-of-type {\n",
       "        vertical-align: middle;\n",
       "    }\n",
       "\n",
       "    .dataframe tbody tr th {\n",
       "        vertical-align: top;\n",
       "    }\n",
       "\n",
       "    .dataframe thead th {\n",
       "        text-align: right;\n",
       "    }\n",
       "</style>\n",
       "<table border=\"1\" class=\"dataframe\">\n",
       "  <thead>\n",
       "    <tr style=\"text-align: right;\">\n",
       "      <th></th>\n",
       "      <th>thick(nm)</th>\n",
       "      <th>level</th>\n",
       "    </tr>\n",
       "  </thead>\n",
       "  <tbody>\n",
       "    <tr>\n",
       "      <th>0</th>\n",
       "      <td>311.410736</td>\n",
       "      <td>0.007116</td>\n",
       "    </tr>\n",
       "    <tr>\n",
       "      <th>1</th>\n",
       "      <td>311.686951</td>\n",
       "      <td>0.007404</td>\n",
       "    </tr>\n",
       "    <tr>\n",
       "      <th>2</th>\n",
       "      <td>311.945740</td>\n",
       "      <td>0.007302</td>\n",
       "    </tr>\n",
       "    <tr>\n",
       "      <th>3</th>\n",
       "      <td>312.254181</td>\n",
       "      <td>0.007216</td>\n",
       "    </tr>\n",
       "    <tr>\n",
       "      <th>4</th>\n",
       "      <td>312.426849</td>\n",
       "      <td>0.007593</td>\n",
       "    </tr>\n",
       "    <tr>\n",
       "      <th>5</th>\n",
       "      <td>312.680786</td>\n",
       "      <td>0.007542</td>\n",
       "    </tr>\n",
       "    <tr>\n",
       "      <th>6</th>\n",
       "      <td>312.777466</td>\n",
       "      <td>0.008309</td>\n",
       "    </tr>\n",
       "    <tr>\n",
       "      <th>7</th>\n",
       "      <td>313.088501</td>\n",
       "      <td>0.008370</td>\n",
       "    </tr>\n",
       "    <tr>\n",
       "      <th>8</th>\n",
       "      <td>313.330872</td>\n",
       "      <td>0.008596</td>\n",
       "    </tr>\n",
       "    <tr>\n",
       "      <th>9</th>\n",
       "      <td>313.388611</td>\n",
       "      <td>0.009028</td>\n",
       "    </tr>\n",
       "    <tr>\n",
       "      <th>10</th>\n",
       "      <td>313.848969</td>\n",
       "      <td>0.008962</td>\n",
       "    </tr>\n",
       "    <tr>\n",
       "      <th>11</th>\n",
       "      <td>314.057831</td>\n",
       "      <td>0.009610</td>\n",
       "    </tr>\n",
       "    <tr>\n",
       "      <th>12</th>\n",
       "      <td>314.365723</td>\n",
       "      <td>0.009807</td>\n",
       "    </tr>\n",
       "    <tr>\n",
       "      <th>13</th>\n",
       "      <td>314.747284</td>\n",
       "      <td>0.009823</td>\n",
       "    </tr>\n",
       "    <tr>\n",
       "      <th>14</th>\n",
       "      <td>314.904205</td>\n",
       "      <td>0.009508</td>\n",
       "    </tr>\n",
       "    <tr>\n",
       "      <th>15</th>\n",
       "      <td>315.186066</td>\n",
       "      <td>0.009561</td>\n",
       "    </tr>\n",
       "    <tr>\n",
       "      <th>16</th>\n",
       "      <td>315.363678</td>\n",
       "      <td>0.010496</td>\n",
       "    </tr>\n",
       "    <tr>\n",
       "      <th>17</th>\n",
       "      <td>315.930908</td>\n",
       "      <td>0.009832</td>\n",
       "    </tr>\n",
       "    <tr>\n",
       "      <th>18</th>\n",
       "      <td>316.264740</td>\n",
       "      <td>0.010590</td>\n",
       "    </tr>\n",
       "    <tr>\n",
       "      <th>19</th>\n",
       "      <td>316.520355</td>\n",
       "      <td>0.010935</td>\n",
       "    </tr>\n",
       "    <tr>\n",
       "      <th>20</th>\n",
       "      <td>316.805237</td>\n",
       "      <td>0.010946</td>\n",
       "    </tr>\n",
       "    <tr>\n",
       "      <th>21</th>\n",
       "      <td>316.849579</td>\n",
       "      <td>0.011587</td>\n",
       "    </tr>\n",
       "    <tr>\n",
       "      <th>22</th>\n",
       "      <td>317.326569</td>\n",
       "      <td>0.011026</td>\n",
       "    </tr>\n",
       "    <tr>\n",
       "      <th>23</th>\n",
       "      <td>317.534210</td>\n",
       "      <td>0.012057</td>\n",
       "    </tr>\n",
       "    <tr>\n",
       "      <th>24</th>\n",
       "      <td>317.813385</td>\n",
       "      <td>0.012589</td>\n",
       "    </tr>\n",
       "    <tr>\n",
       "      <th>25</th>\n",
       "      <td>318.099152</td>\n",
       "      <td>0.012973</td>\n",
       "    </tr>\n",
       "    <tr>\n",
       "      <th>26</th>\n",
       "      <td>318.689331</td>\n",
       "      <td>0.011023</td>\n",
       "    </tr>\n",
       "    <tr>\n",
       "      <th>27</th>\n",
       "      <td>318.494904</td>\n",
       "      <td>0.012788</td>\n",
       "    </tr>\n",
       "    <tr>\n",
       "      <th>28</th>\n",
       "      <td>319.067902</td>\n",
       "      <td>0.012109</td>\n",
       "    </tr>\n",
       "    <tr>\n",
       "      <th>29</th>\n",
       "      <td>319.211090</td>\n",
       "      <td>0.012856</td>\n",
       "    </tr>\n",
       "  </tbody>\n",
       "</table>\n",
       "</div>"
      ],
      "text/plain": [
       "     thick(nm)     level\n",
       "0   311.410736  0.007116\n",
       "1   311.686951  0.007404\n",
       "2   311.945740  0.007302\n",
       "3   312.254181  0.007216\n",
       "4   312.426849  0.007593\n",
       "5   312.680786  0.007542\n",
       "6   312.777466  0.008309\n",
       "7   313.088501  0.008370\n",
       "8   313.330872  0.008596\n",
       "9   313.388611  0.009028\n",
       "10  313.848969  0.008962\n",
       "11  314.057831  0.009610\n",
       "12  314.365723  0.009807\n",
       "13  314.747284  0.009823\n",
       "14  314.904205  0.009508\n",
       "15  315.186066  0.009561\n",
       "16  315.363678  0.010496\n",
       "17  315.930908  0.009832\n",
       "18  316.264740  0.010590\n",
       "19  316.520355  0.010935\n",
       "20  316.805237  0.010946\n",
       "21  316.849579  0.011587\n",
       "22  317.326569  0.011026\n",
       "23  317.534210  0.012057\n",
       "24  317.813385  0.012589\n",
       "25  318.099152  0.012973\n",
       "26  318.689331  0.011023\n",
       "27  318.494904  0.012788\n",
       "28  319.067902  0.012109\n",
       "29  319.211090  0.012856"
      ]
     },
     "execution_count": 23,
     "metadata": {},
     "output_type": "execute_result"
    }
   ],
   "source": [
    "sub"
   ]
  },
  {
   "cell_type": "code",
   "execution_count": null,
   "metadata": {},
   "outputs": [],
   "source": [
    "#percent_unit: 최대 0"
   ]
  },
  {
   "cell_type": "code",
   "execution_count": 13,
   "metadata": {},
   "outputs": [],
   "source": [
    "\"\"\"\n",
    "모델 테스트\n",
    "\"\"\"\n",
    "\n",
    "test_model = skipConnectionModel()\n",
    "\n",
    "# test 파일 경로 및 test 데이터 로드\n",
    "path_test = 'test.csv'\n",
    "class TestDataset(Dataset):\n",
    "    def __init__(self, path_test):\n",
    "        super(TestDataset, self).__init__()\n",
    "        test = pd.read_csv(path_test)\n",
    "        self.test_X = test.iloc[:,1:]\n",
    "        self.tmp_x = self.test_X.values\n",
    "    \n",
    "    def __len__(self):\n",
    "        return len(self.test_X)\n",
    "\n",
    "    def __getitem__(self, idx):\n",
    "        return torch.from_numpy(self.tmp_x)[idx]\n",
    "    \n",
    "test_data = TestDataset(path_test)\n",
    "test_loader = DataLoader(test_data, batch_size=10000,  num_workers=0)\n",
    "\n",
    "# 모델에 학습된 가중치를 업로드.\n",
    "weights = torch.load(f'test_{version}_{lr}_{epochs}.pth', map_location='cuda:0')\n",
    "test_model.load_state_dict(weights)\n",
    "test_model = test_model.to(device)\n",
    "test_model.eval()\n",
    "\n",
    "with torch.no_grad():\n",
    "    for data in test_loader:\n",
    "        data = data.to(device)\n",
    "        outputs = test_model(data.float())\n",
    "pred_test = outputs\n",
    "\n",
    "sample_sub = pd.read_csv('sample_submission.csv', index_col=0)\n",
    "layers = ['layer_1','layer_2','layer_3','layer_4']\n",
    "submission = sample_sub.values + pred_test.cpu().numpy()\n",
    "\n",
    "submission = pd.DataFrame(data=submission,columns=layers)\n",
    "submission.to_csv(f'test_{version}_{lr}_{epochs}.csv', index_label='id')"
   ]
  },
  {
   "cell_type": "code",
   "execution_count": 14,
   "metadata": {},
   "outputs": [
    {
     "data": {
      "text/html": [
       "<div>\n",
       "<style scoped>\n",
       "    .dataframe tbody tr th:only-of-type {\n",
       "        vertical-align: middle;\n",
       "    }\n",
       "\n",
       "    .dataframe tbody tr th {\n",
       "        vertical-align: top;\n",
       "    }\n",
       "\n",
       "    .dataframe thead th {\n",
       "        text-align: right;\n",
       "    }\n",
       "</style>\n",
       "<table border=\"1\" class=\"dataframe\">\n",
       "  <thead>\n",
       "    <tr style=\"text-align: right;\">\n",
       "      <th></th>\n",
       "      <th>id</th>\n",
       "      <th>layer_1</th>\n",
       "      <th>layer_2</th>\n",
       "      <th>layer_3</th>\n",
       "      <th>layer_4</th>\n",
       "    </tr>\n",
       "  </thead>\n",
       "  <tbody>\n",
       "    <tr>\n",
       "      <th>0</th>\n",
       "      <td>0</td>\n",
       "      <td>255.066818</td>\n",
       "      <td>229.538574</td>\n",
       "      <td>131.793243</td>\n",
       "      <td>85.331375</td>\n",
       "    </tr>\n",
       "    <tr>\n",
       "      <th>1</th>\n",
       "      <td>1</td>\n",
       "      <td>158.440231</td>\n",
       "      <td>127.189491</td>\n",
       "      <td>235.908920</td>\n",
       "      <td>99.370300</td>\n",
       "    </tr>\n",
       "    <tr>\n",
       "      <th>2</th>\n",
       "      <td>2</td>\n",
       "      <td>148.246796</td>\n",
       "      <td>179.421295</td>\n",
       "      <td>273.704498</td>\n",
       "      <td>156.416672</td>\n",
       "    </tr>\n",
       "    <tr>\n",
       "      <th>3</th>\n",
       "      <td>3</td>\n",
       "      <td>91.224670</td>\n",
       "      <td>229.747925</td>\n",
       "      <td>188.885864</td>\n",
       "      <td>82.969620</td>\n",
       "    </tr>\n",
       "    <tr>\n",
       "      <th>4</th>\n",
       "      <td>4</td>\n",
       "      <td>273.475708</td>\n",
       "      <td>295.184357</td>\n",
       "      <td>244.910355</td>\n",
       "      <td>271.351715</td>\n",
       "    </tr>\n",
       "    <tr>\n",
       "      <th>5</th>\n",
       "      <td>5</td>\n",
       "      <td>99.921021</td>\n",
       "      <td>222.285248</td>\n",
       "      <td>270.671722</td>\n",
       "      <td>207.755157</td>\n",
       "    </tr>\n",
       "    <tr>\n",
       "      <th>6</th>\n",
       "      <td>6</td>\n",
       "      <td>147.663086</td>\n",
       "      <td>39.443428</td>\n",
       "      <td>135.538361</td>\n",
       "      <td>187.207535</td>\n",
       "    </tr>\n",
       "    <tr>\n",
       "      <th>7</th>\n",
       "      <td>7</td>\n",
       "      <td>274.795715</td>\n",
       "      <td>290.746735</td>\n",
       "      <td>148.076370</td>\n",
       "      <td>260.887665</td>\n",
       "    </tr>\n",
       "    <tr>\n",
       "      <th>8</th>\n",
       "      <td>8</td>\n",
       "      <td>85.273628</td>\n",
       "      <td>244.025543</td>\n",
       "      <td>170.481339</td>\n",
       "      <td>12.544601</td>\n",
       "    </tr>\n",
       "    <tr>\n",
       "      <th>9</th>\n",
       "      <td>9</td>\n",
       "      <td>218.571198</td>\n",
       "      <td>125.653633</td>\n",
       "      <td>249.992706</td>\n",
       "      <td>204.116394</td>\n",
       "    </tr>\n",
       "    <tr>\n",
       "      <th>10</th>\n",
       "      <td>10</td>\n",
       "      <td>10.246578</td>\n",
       "      <td>153.258667</td>\n",
       "      <td>261.607635</td>\n",
       "      <td>80.665375</td>\n",
       "    </tr>\n",
       "    <tr>\n",
       "      <th>11</th>\n",
       "      <td>11</td>\n",
       "      <td>104.083427</td>\n",
       "      <td>262.863495</td>\n",
       "      <td>65.085594</td>\n",
       "      <td>174.562363</td>\n",
       "    </tr>\n",
       "    <tr>\n",
       "      <th>12</th>\n",
       "      <td>12</td>\n",
       "      <td>79.548828</td>\n",
       "      <td>290.429077</td>\n",
       "      <td>242.839050</td>\n",
       "      <td>139.936371</td>\n",
       "    </tr>\n",
       "    <tr>\n",
       "      <th>13</th>\n",
       "      <td>13</td>\n",
       "      <td>32.430660</td>\n",
       "      <td>103.871643</td>\n",
       "      <td>156.604340</td>\n",
       "      <td>280.771332</td>\n",
       "    </tr>\n",
       "    <tr>\n",
       "      <th>14</th>\n",
       "      <td>14</td>\n",
       "      <td>40.999794</td>\n",
       "      <td>170.062134</td>\n",
       "      <td>214.620178</td>\n",
       "      <td>169.072250</td>\n",
       "    </tr>\n",
       "    <tr>\n",
       "      <th>15</th>\n",
       "      <td>15</td>\n",
       "      <td>246.054993</td>\n",
       "      <td>167.416840</td>\n",
       "      <td>289.376862</td>\n",
       "      <td>185.248215</td>\n",
       "    </tr>\n",
       "    <tr>\n",
       "      <th>16</th>\n",
       "      <td>16</td>\n",
       "      <td>180.893005</td>\n",
       "      <td>139.327332</td>\n",
       "      <td>183.401566</td>\n",
       "      <td>120.982574</td>\n",
       "    </tr>\n",
       "    <tr>\n",
       "      <th>17</th>\n",
       "      <td>17</td>\n",
       "      <td>177.487106</td>\n",
       "      <td>93.757477</td>\n",
       "      <td>65.489548</td>\n",
       "      <td>63.487495</td>\n",
       "    </tr>\n",
       "    <tr>\n",
       "      <th>18</th>\n",
       "      <td>18</td>\n",
       "      <td>187.488892</td>\n",
       "      <td>200.820801</td>\n",
       "      <td>147.308792</td>\n",
       "      <td>36.889294</td>\n",
       "    </tr>\n",
       "    <tr>\n",
       "      <th>19</th>\n",
       "      <td>19</td>\n",
       "      <td>229.802902</td>\n",
       "      <td>264.507935</td>\n",
       "      <td>277.436798</td>\n",
       "      <td>254.712326</td>\n",
       "    </tr>\n",
       "    <tr>\n",
       "      <th>20</th>\n",
       "      <td>20</td>\n",
       "      <td>270.618744</td>\n",
       "      <td>278.153442</td>\n",
       "      <td>166.864365</td>\n",
       "      <td>122.829941</td>\n",
       "    </tr>\n",
       "    <tr>\n",
       "      <th>21</th>\n",
       "      <td>21</td>\n",
       "      <td>214.370285</td>\n",
       "      <td>90.585663</td>\n",
       "      <td>245.684769</td>\n",
       "      <td>255.963028</td>\n",
       "    </tr>\n",
       "    <tr>\n",
       "      <th>22</th>\n",
       "      <td>22</td>\n",
       "      <td>269.253540</td>\n",
       "      <td>181.084610</td>\n",
       "      <td>285.426910</td>\n",
       "      <td>178.506180</td>\n",
       "    </tr>\n",
       "    <tr>\n",
       "      <th>23</th>\n",
       "      <td>23</td>\n",
       "      <td>140.708084</td>\n",
       "      <td>200.751587</td>\n",
       "      <td>299.875824</td>\n",
       "      <td>275.646332</td>\n",
       "    </tr>\n",
       "    <tr>\n",
       "      <th>24</th>\n",
       "      <td>24</td>\n",
       "      <td>240.112442</td>\n",
       "      <td>33.899727</td>\n",
       "      <td>187.875687</td>\n",
       "      <td>150.961548</td>\n",
       "    </tr>\n",
       "    <tr>\n",
       "      <th>25</th>\n",
       "      <td>25</td>\n",
       "      <td>192.337112</td>\n",
       "      <td>255.673019</td>\n",
       "      <td>80.398651</td>\n",
       "      <td>221.525864</td>\n",
       "    </tr>\n",
       "    <tr>\n",
       "      <th>26</th>\n",
       "      <td>26</td>\n",
       "      <td>44.304611</td>\n",
       "      <td>72.866035</td>\n",
       "      <td>240.726044</td>\n",
       "      <td>106.763809</td>\n",
       "    </tr>\n",
       "    <tr>\n",
       "      <th>27</th>\n",
       "      <td>27</td>\n",
       "      <td>246.752411</td>\n",
       "      <td>39.350563</td>\n",
       "      <td>51.225128</td>\n",
       "      <td>213.464325</td>\n",
       "    </tr>\n",
       "    <tr>\n",
       "      <th>28</th>\n",
       "      <td>28</td>\n",
       "      <td>22.564018</td>\n",
       "      <td>176.791626</td>\n",
       "      <td>274.281219</td>\n",
       "      <td>164.879532</td>\n",
       "    </tr>\n",
       "    <tr>\n",
       "      <th>29</th>\n",
       "      <td>29</td>\n",
       "      <td>207.430130</td>\n",
       "      <td>18.305458</td>\n",
       "      <td>193.187103</td>\n",
       "      <td>186.390610</td>\n",
       "    </tr>\n",
       "    <tr>\n",
       "      <th>...</th>\n",
       "      <td>...</td>\n",
       "      <td>...</td>\n",
       "      <td>...</td>\n",
       "      <td>...</td>\n",
       "      <td>...</td>\n",
       "    </tr>\n",
       "    <tr>\n",
       "      <th>9970</th>\n",
       "      <td>9970</td>\n",
       "      <td>67.453918</td>\n",
       "      <td>296.466980</td>\n",
       "      <td>284.345001</td>\n",
       "      <td>39.606533</td>\n",
       "    </tr>\n",
       "    <tr>\n",
       "      <th>9971</th>\n",
       "      <td>9971</td>\n",
       "      <td>125.173225</td>\n",
       "      <td>28.377304</td>\n",
       "      <td>111.315598</td>\n",
       "      <td>163.385727</td>\n",
       "    </tr>\n",
       "    <tr>\n",
       "      <th>9972</th>\n",
       "      <td>9972</td>\n",
       "      <td>223.064560</td>\n",
       "      <td>165.391907</td>\n",
       "      <td>221.357178</td>\n",
       "      <td>199.288681</td>\n",
       "    </tr>\n",
       "    <tr>\n",
       "      <th>9973</th>\n",
       "      <td>9973</td>\n",
       "      <td>186.648636</td>\n",
       "      <td>289.500397</td>\n",
       "      <td>134.944107</td>\n",
       "      <td>266.802551</td>\n",
       "    </tr>\n",
       "    <tr>\n",
       "      <th>9974</th>\n",
       "      <td>9974</td>\n",
       "      <td>9.829683</td>\n",
       "      <td>11.694461</td>\n",
       "      <td>70.427734</td>\n",
       "      <td>90.381790</td>\n",
       "    </tr>\n",
       "    <tr>\n",
       "      <th>9975</th>\n",
       "      <td>9975</td>\n",
       "      <td>232.889191</td>\n",
       "      <td>234.038025</td>\n",
       "      <td>87.730087</td>\n",
       "      <td>64.168243</td>\n",
       "    </tr>\n",
       "    <tr>\n",
       "      <th>9976</th>\n",
       "      <td>9976</td>\n",
       "      <td>141.375046</td>\n",
       "      <td>31.557547</td>\n",
       "      <td>252.155624</td>\n",
       "      <td>284.982208</td>\n",
       "    </tr>\n",
       "    <tr>\n",
       "      <th>9977</th>\n",
       "      <td>9977</td>\n",
       "      <td>185.009842</td>\n",
       "      <td>78.008026</td>\n",
       "      <td>64.675026</td>\n",
       "      <td>174.979324</td>\n",
       "    </tr>\n",
       "    <tr>\n",
       "      <th>9978</th>\n",
       "      <td>9978</td>\n",
       "      <td>101.951912</td>\n",
       "      <td>40.688492</td>\n",
       "      <td>75.642357</td>\n",
       "      <td>205.939682</td>\n",
       "    </tr>\n",
       "    <tr>\n",
       "      <th>9979</th>\n",
       "      <td>9979</td>\n",
       "      <td>119.242310</td>\n",
       "      <td>242.267059</td>\n",
       "      <td>154.244141</td>\n",
       "      <td>291.605072</td>\n",
       "    </tr>\n",
       "    <tr>\n",
       "      <th>9980</th>\n",
       "      <td>9980</td>\n",
       "      <td>75.515396</td>\n",
       "      <td>73.759483</td>\n",
       "      <td>90.564560</td>\n",
       "      <td>43.013538</td>\n",
       "    </tr>\n",
       "    <tr>\n",
       "      <th>9981</th>\n",
       "      <td>9981</td>\n",
       "      <td>185.761139</td>\n",
       "      <td>175.951630</td>\n",
       "      <td>193.185654</td>\n",
       "      <td>288.866028</td>\n",
       "    </tr>\n",
       "    <tr>\n",
       "      <th>9982</th>\n",
       "      <td>9982</td>\n",
       "      <td>63.141300</td>\n",
       "      <td>286.228302</td>\n",
       "      <td>138.060684</td>\n",
       "      <td>215.225357</td>\n",
       "    </tr>\n",
       "    <tr>\n",
       "      <th>9983</th>\n",
       "      <td>9983</td>\n",
       "      <td>116.315384</td>\n",
       "      <td>141.607529</td>\n",
       "      <td>175.696732</td>\n",
       "      <td>83.611130</td>\n",
       "    </tr>\n",
       "    <tr>\n",
       "      <th>9984</th>\n",
       "      <td>9984</td>\n",
       "      <td>266.706604</td>\n",
       "      <td>182.502045</td>\n",
       "      <td>143.782394</td>\n",
       "      <td>142.785950</td>\n",
       "    </tr>\n",
       "    <tr>\n",
       "      <th>9985</th>\n",
       "      <td>9985</td>\n",
       "      <td>206.600006</td>\n",
       "      <td>49.381989</td>\n",
       "      <td>173.334763</td>\n",
       "      <td>205.175323</td>\n",
       "    </tr>\n",
       "    <tr>\n",
       "      <th>9986</th>\n",
       "      <td>9986</td>\n",
       "      <td>106.482376</td>\n",
       "      <td>227.466858</td>\n",
       "      <td>94.445534</td>\n",
       "      <td>146.461060</td>\n",
       "    </tr>\n",
       "    <tr>\n",
       "      <th>9987</th>\n",
       "      <td>9987</td>\n",
       "      <td>117.620224</td>\n",
       "      <td>117.965103</td>\n",
       "      <td>85.943161</td>\n",
       "      <td>90.636658</td>\n",
       "    </tr>\n",
       "    <tr>\n",
       "      <th>9988</th>\n",
       "      <td>9988</td>\n",
       "      <td>279.876221</td>\n",
       "      <td>234.397202</td>\n",
       "      <td>189.121780</td>\n",
       "      <td>108.049782</td>\n",
       "    </tr>\n",
       "    <tr>\n",
       "      <th>9989</th>\n",
       "      <td>9989</td>\n",
       "      <td>253.083633</td>\n",
       "      <td>116.923203</td>\n",
       "      <td>71.488983</td>\n",
       "      <td>210.499802</td>\n",
       "    </tr>\n",
       "    <tr>\n",
       "      <th>9990</th>\n",
       "      <td>9990</td>\n",
       "      <td>64.481148</td>\n",
       "      <td>146.211700</td>\n",
       "      <td>269.107147</td>\n",
       "      <td>75.567070</td>\n",
       "    </tr>\n",
       "    <tr>\n",
       "      <th>9991</th>\n",
       "      <td>9991</td>\n",
       "      <td>144.709549</td>\n",
       "      <td>184.531631</td>\n",
       "      <td>283.541992</td>\n",
       "      <td>26.302544</td>\n",
       "    </tr>\n",
       "    <tr>\n",
       "      <th>9992</th>\n",
       "      <td>9992</td>\n",
       "      <td>160.727554</td>\n",
       "      <td>96.174744</td>\n",
       "      <td>22.619621</td>\n",
       "      <td>88.579727</td>\n",
       "    </tr>\n",
       "    <tr>\n",
       "      <th>9993</th>\n",
       "      <td>9993</td>\n",
       "      <td>251.438446</td>\n",
       "      <td>290.891052</td>\n",
       "      <td>140.929962</td>\n",
       "      <td>51.534943</td>\n",
       "    </tr>\n",
       "    <tr>\n",
       "      <th>9994</th>\n",
       "      <td>9994</td>\n",
       "      <td>248.767899</td>\n",
       "      <td>73.977173</td>\n",
       "      <td>226.232208</td>\n",
       "      <td>190.626038</td>\n",
       "    </tr>\n",
       "    <tr>\n",
       "      <th>9995</th>\n",
       "      <td>9995</td>\n",
       "      <td>113.204819</td>\n",
       "      <td>95.991005</td>\n",
       "      <td>84.614960</td>\n",
       "      <td>54.369507</td>\n",
       "    </tr>\n",
       "    <tr>\n",
       "      <th>9996</th>\n",
       "      <td>9996</td>\n",
       "      <td>79.555023</td>\n",
       "      <td>259.038177</td>\n",
       "      <td>126.002769</td>\n",
       "      <td>102.222153</td>\n",
       "    </tr>\n",
       "    <tr>\n",
       "      <th>9997</th>\n",
       "      <td>9997</td>\n",
       "      <td>48.615543</td>\n",
       "      <td>255.375122</td>\n",
       "      <td>264.237640</td>\n",
       "      <td>28.985151</td>\n",
       "    </tr>\n",
       "    <tr>\n",
       "      <th>9998</th>\n",
       "      <td>9998</td>\n",
       "      <td>29.994120</td>\n",
       "      <td>22.834362</td>\n",
       "      <td>146.726624</td>\n",
       "      <td>78.332611</td>\n",
       "    </tr>\n",
       "    <tr>\n",
       "      <th>9999</th>\n",
       "      <td>9999</td>\n",
       "      <td>147.663422</td>\n",
       "      <td>18.130106</td>\n",
       "      <td>16.824621</td>\n",
       "      <td>82.148972</td>\n",
       "    </tr>\n",
       "  </tbody>\n",
       "</table>\n",
       "<p>10000 rows × 5 columns</p>\n",
       "</div>"
      ],
      "text/plain": [
       "        id     layer_1     layer_2     layer_3     layer_4\n",
       "0        0  255.066818  229.538574  131.793243   85.331375\n",
       "1        1  158.440231  127.189491  235.908920   99.370300\n",
       "2        2  148.246796  179.421295  273.704498  156.416672\n",
       "3        3   91.224670  229.747925  188.885864   82.969620\n",
       "4        4  273.475708  295.184357  244.910355  271.351715\n",
       "5        5   99.921021  222.285248  270.671722  207.755157\n",
       "6        6  147.663086   39.443428  135.538361  187.207535\n",
       "7        7  274.795715  290.746735  148.076370  260.887665\n",
       "8        8   85.273628  244.025543  170.481339   12.544601\n",
       "9        9  218.571198  125.653633  249.992706  204.116394\n",
       "10      10   10.246578  153.258667  261.607635   80.665375\n",
       "11      11  104.083427  262.863495   65.085594  174.562363\n",
       "12      12   79.548828  290.429077  242.839050  139.936371\n",
       "13      13   32.430660  103.871643  156.604340  280.771332\n",
       "14      14   40.999794  170.062134  214.620178  169.072250\n",
       "15      15  246.054993  167.416840  289.376862  185.248215\n",
       "16      16  180.893005  139.327332  183.401566  120.982574\n",
       "17      17  177.487106   93.757477   65.489548   63.487495\n",
       "18      18  187.488892  200.820801  147.308792   36.889294\n",
       "19      19  229.802902  264.507935  277.436798  254.712326\n",
       "20      20  270.618744  278.153442  166.864365  122.829941\n",
       "21      21  214.370285   90.585663  245.684769  255.963028\n",
       "22      22  269.253540  181.084610  285.426910  178.506180\n",
       "23      23  140.708084  200.751587  299.875824  275.646332\n",
       "24      24  240.112442   33.899727  187.875687  150.961548\n",
       "25      25  192.337112  255.673019   80.398651  221.525864\n",
       "26      26   44.304611   72.866035  240.726044  106.763809\n",
       "27      27  246.752411   39.350563   51.225128  213.464325\n",
       "28      28   22.564018  176.791626  274.281219  164.879532\n",
       "29      29  207.430130   18.305458  193.187103  186.390610\n",
       "...    ...         ...         ...         ...         ...\n",
       "9970  9970   67.453918  296.466980  284.345001   39.606533\n",
       "9971  9971  125.173225   28.377304  111.315598  163.385727\n",
       "9972  9972  223.064560  165.391907  221.357178  199.288681\n",
       "9973  9973  186.648636  289.500397  134.944107  266.802551\n",
       "9974  9974    9.829683   11.694461   70.427734   90.381790\n",
       "9975  9975  232.889191  234.038025   87.730087   64.168243\n",
       "9976  9976  141.375046   31.557547  252.155624  284.982208\n",
       "9977  9977  185.009842   78.008026   64.675026  174.979324\n",
       "9978  9978  101.951912   40.688492   75.642357  205.939682\n",
       "9979  9979  119.242310  242.267059  154.244141  291.605072\n",
       "9980  9980   75.515396   73.759483   90.564560   43.013538\n",
       "9981  9981  185.761139  175.951630  193.185654  288.866028\n",
       "9982  9982   63.141300  286.228302  138.060684  215.225357\n",
       "9983  9983  116.315384  141.607529  175.696732   83.611130\n",
       "9984  9984  266.706604  182.502045  143.782394  142.785950\n",
       "9985  9985  206.600006   49.381989  173.334763  205.175323\n",
       "9986  9986  106.482376  227.466858   94.445534  146.461060\n",
       "9987  9987  117.620224  117.965103   85.943161   90.636658\n",
       "9988  9988  279.876221  234.397202  189.121780  108.049782\n",
       "9989  9989  253.083633  116.923203   71.488983  210.499802\n",
       "9990  9990   64.481148  146.211700  269.107147   75.567070\n",
       "9991  9991  144.709549  184.531631  283.541992   26.302544\n",
       "9992  9992  160.727554   96.174744   22.619621   88.579727\n",
       "9993  9993  251.438446  290.891052  140.929962   51.534943\n",
       "9994  9994  248.767899   73.977173  226.232208  190.626038\n",
       "9995  9995  113.204819   95.991005   84.614960   54.369507\n",
       "9996  9996   79.555023  259.038177  126.002769  102.222153\n",
       "9997  9997   48.615543  255.375122  264.237640   28.985151\n",
       "9998  9998   29.994120   22.834362  146.726624   78.332611\n",
       "9999  9999  147.663422   18.130106   16.824621   82.148972\n",
       "\n",
       "[10000 rows x 5 columns]"
      ]
     },
     "execution_count": 14,
     "metadata": {},
     "output_type": "execute_result"
    }
   ],
   "source": [
    "a=pd.read_csv('test_(4, 43)_0.001_100.csv')S\n",
    "a"
   ]
  },
  {
   "cell_type": "code",
   "execution_count": null,
   "metadata": {},
   "outputs": [],
   "source": []
  }
 ],
 "metadata": {
  "kernelspec": {
   "display_name": "Python 3",
   "language": "python",
   "name": "python3"
  },
  "language_info": {
   "codemirror_mode": {
    "name": "ipython",
    "version": 3
   },
   "file_extension": ".py",
   "mimetype": "text/x-python",
   "name": "python",
   "nbconvert_exporter": "python",
   "pygments_lexer": "ipython3",
   "version": "3.6.5"
  }
 },
 "nbformat": 4,
 "nbformat_minor": 4
}
